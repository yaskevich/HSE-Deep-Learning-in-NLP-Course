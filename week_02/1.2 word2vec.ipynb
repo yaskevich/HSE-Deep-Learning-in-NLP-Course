{
 "cells": [
  {
   "cell_type": "code",
   "execution_count": 1,
   "metadata": {},
   "outputs": [],
   "source": [
    "import json\n",
    "import random\n",
    "from tqdm import tqdm\n",
    "import numpy as np\n",
    "\n",
    "from matplotlib import pyplot as plt\n",
    "from sklearn.decomposition import TruncatedSVD\n",
    "from sklearn.manifold import TSNE\n",
    "\n",
    "import torch\n",
    "\n",
    "from pylab import rcParams\n",
    "rcParams['figure.figsize'] = 15, 15"
   ]
  },
  {
   "cell_type": "markdown",
   "metadata": {},
   "source": [
    "# Что делать?\n",
    "Где есть пометка # CODE писать код\n",
    "\n",
    "[Полезный туториал](http://jalammar.github.io/illustrated-word2vec/)"
   ]
  },
  {
   "cell_type": "markdown",
   "metadata": {},
   "source": [
    "# Загружаем данные\n",
    "Они уже обработанные и токенизированные. Процесс можно посмотреть в тетрадке 1.1 Processing corpus"
   ]
  },
  {
   "cell_type": "code",
   "execution_count": 2,
   "metadata": {},
   "outputs": [],
   "source": [
    "with open('data/processed_corpus.json',encoding=\"utf-8\") as f:\n",
    "    corpus = json.load(f)"
   ]
  },
  {
   "cell_type": "code",
   "execution_count": 3,
   "metadata": {},
   "outputs": [
    {
     "data": {
      "text/plain": [
       "100000"
      ]
     },
     "execution_count": 3,
     "metadata": {},
     "output_type": "execute_result"
    }
   ],
   "source": [
    "len(corpus)"
   ]
  },
  {
   "cell_type": "code",
   "execution_count": 4,
   "metadata": {},
   "outputs": [
    {
     "name": "stdout",
     "output_type": "stream",
     "text": [
      "пытаться реализовать свой человек гораздо низка цена возложить обязанность доплачивать разница\n",
      "никакой переговоры снижение ставка адекватный уровень привести успех\n",
      "офис тверская ямский благополучно провести операция это последний платёж\n",
      "паспорт проверить несколько человек машинка позвонить служба безопасность действительно это хотеть снять\n",
      "сожаление последний год мнение банка измениться отрицательный сторона\n"
     ]
    }
   ],
   "source": [
    "for text in corpus[:5]:\n",
    "    print(' '.join(text))"
   ]
  },
  {
   "cell_type": "markdown",
   "metadata": {},
   "source": [
    "# CBOW"
   ]
  },
  {
   "cell_type": "code",
   "execution_count": 5,
   "metadata": {},
   "outputs": [],
   "source": [
    "sample_text = corpus[1]"
   ]
  },
  {
   "cell_type": "code",
   "execution_count": 6,
   "metadata": {},
   "outputs": [
    {
     "data": {
      "text/plain": [
       "'никакой переговоры снижение ставка адекватный уровень привести успех'"
      ]
     },
     "execution_count": 6,
     "metadata": {},
     "output_type": "execute_result"
    }
   ],
   "source": [
    "' '.join(sample_text)"
   ]
  },
  {
   "cell_type": "markdown",
   "metadata": {},
   "source": [
    "# Реализуйте разделение предложения на примеры методом CBOW"
   ]
  },
  {
   "cell_type": "code",
   "execution_count": 7,
   "metadata": {},
   "outputs": [],
   "source": [
    "def cbow_split(tokens, window, pad_token='PAD'):\n",
    "    \n",
    "    splits = []\n",
    "    window+=1\n",
    "    \n",
    "    last = len(tokens) - 1\n",
    "    for i, word in enumerate(tokens):        \n",
    "        left_context = []\n",
    "        right_context = []\n",
    "        for x in range(1, window):\n",
    "            left = i - x\n",
    "            right = i + x\n",
    "            left_context.insert(0, pad_token if left < 0 else tokens[left])             \n",
    "            right_context.append(pad_token if right > last else tokens[right])                \n",
    "        splits.append([left_context, word, right_context])\n",
    "        \n",
    "    return splits"
   ]
  },
  {
   "cell_type": "code",
   "execution_count": 8,
   "metadata": {},
   "outputs": [
    {
     "name": "stdout",
     "output_type": "stream",
     "text": [
      "[[['PAD', 'PAD'], 'никакой', ['переговоры', 'снижение']], [['PAD', 'никакой'], 'переговоры', ['снижение', 'ставка']], [['никакой', 'переговоры'], 'снижение', ['ставка', 'адекватный']], [['переговоры', 'снижение'], 'ставка', ['адекватный', 'уровень']], [['снижение', 'ставка'], 'адекватный', ['уровень', 'привести']], [['ставка', 'адекватный'], 'уровень', ['привести', 'успех']], [['адекватный', 'уровень'], 'привести', ['успех', 'PAD']], [['уровень', 'привести'], 'успех', ['PAD', 'PAD']]]\n"
     ]
    }
   ],
   "source": [
    "splits = cbow_split(sample_text, window=2)\n",
    "print(splits)"
   ]
  },
  {
   "cell_type": "code",
   "execution_count": 9,
   "metadata": {},
   "outputs": [
    {
     "data": {
      "text/plain": [
       "['никакой',\n",
       " 'переговоры',\n",
       " 'снижение',\n",
       " 'ставка',\n",
       " 'адекватный',\n",
       " 'уровень',\n",
       " 'привести',\n",
       " 'успех']"
      ]
     },
     "execution_count": 9,
     "metadata": {},
     "output_type": "execute_result"
    }
   ],
   "source": [
    "sample_text"
   ]
  },
  {
   "cell_type": "code",
   "execution_count": 10,
   "metadata": {},
   "outputs": [
    {
     "name": "stdout",
     "output_type": "stream",
     "text": [
      "Левый контекст: ['PAD', 'PAD']\n",
      "Центральное слово: никакой\n",
      "Правый контекст: ['переговоры', 'снижение']\n",
      "\n",
      "Левый контекст: ['PAD', 'никакой']\n",
      "Центральное слово: переговоры\n",
      "Правый контекст: ['снижение', 'ставка']\n",
      "\n",
      "Левый контекст: ['никакой', 'переговоры']\n",
      "Центральное слово: снижение\n",
      "Правый контекст: ['ставка', 'адекватный']\n",
      "\n",
      "Левый контекст: ['переговоры', 'снижение']\n",
      "Центральное слово: ставка\n",
      "Правый контекст: ['адекватный', 'уровень']\n",
      "\n",
      "Левый контекст: ['снижение', 'ставка']\n",
      "Центральное слово: адекватный\n",
      "Правый контекст: ['уровень', 'привести']\n",
      "\n",
      "Левый контекст: ['ставка', 'адекватный']\n",
      "Центральное слово: уровень\n",
      "Правый контекст: ['привести', 'успех']\n",
      "\n",
      "Левый контекст: ['адекватный', 'уровень']\n",
      "Центральное слово: привести\n",
      "Правый контекст: ['успех', 'PAD']\n",
      "\n",
      "Левый контекст: ['уровень', 'привести']\n",
      "Центральное слово: успех\n",
      "Правый контекст: ['PAD', 'PAD']\n",
      "\n"
     ]
    }
   ],
   "source": [
    "for sample in splits:\n",
    "    print('Левый контекст:', sample[0])\n",
    "    print('Центральное слово:', sample[1])\n",
    "    print('Правый контекст:', sample[2], end='\\n\\n')"
   ]
  },
  {
   "cell_type": "code",
   "execution_count": 11,
   "metadata": {},
   "outputs": [
    {
     "data": {
      "text/plain": [
       "[[['PAD', 'PAD'], 'никакой', ['переговоры', 'снижение']],\n",
       " [['PAD', 'никакой'], 'переговоры', ['снижение', 'ставка']],\n",
       " [['никакой', 'переговоры'], 'снижение', ['ставка', 'адекватный']],\n",
       " [['переговоры', 'снижение'], 'ставка', ['адекватный', 'уровень']],\n",
       " [['снижение', 'ставка'], 'адекватный', ['уровень', 'привести']],\n",
       " [['ставка', 'адекватный'], 'уровень', ['привести', 'успех']],\n",
       " [['адекватный', 'уровень'], 'привести', ['успех', 'PAD']],\n",
       " [['уровень', 'привести'], 'успех', ['PAD', 'PAD']]]"
      ]
     },
     "execution_count": 11,
     "metadata": {},
     "output_type": "execute_result"
    }
   ],
   "source": [
    "splits"
   ]
  },
  {
   "cell_type": "markdown",
   "metadata": {},
   "source": [
    "# Expected\n",
    "\n",
    "```python\n",
    "[(['PAD', 'PAD'], 'вопрос', ['почему', 'например']),\n",
    " (['PAD', 'вопрос'], 'почему', ['например', 'китайский']),\n",
    " (['вопрос', 'почему'], 'например', ['китайский', 'японский']),\n",
    " (['почему', 'например'], 'китайский', ['японский', 'UNK']),\n",
    " (['например', 'китайский'], 'японский', ['UNK', 'PAD']),\n",
    " (['китайский', 'японский'], 'UNK', ['PAD', 'PAD'])]\n",
    "```"
   ]
  },
  {
   "cell_type": "code",
   "execution_count": 12,
   "metadata": {},
   "outputs": [
    {
     "data": {
      "text/plain": [
       "[[['PAD', 'PAD', 'PAD'], 'никакой', ['переговоры', 'снижение', 'ставка']],\n",
       " [['PAD', 'PAD', 'никакой'],\n",
       "  'переговоры',\n",
       "  ['снижение', 'ставка', 'адекватный']],\n",
       " [['PAD', 'никакой', 'переговоры'],\n",
       "  'снижение',\n",
       "  ['ставка', 'адекватный', 'уровень']],\n",
       " [['никакой', 'переговоры', 'снижение'],\n",
       "  'ставка',\n",
       "  ['адекватный', 'уровень', 'привести']],\n",
       " [['переговоры', 'снижение', 'ставка'],\n",
       "  'адекватный',\n",
       "  ['уровень', 'привести', 'успех']],\n",
       " [['снижение', 'ставка', 'адекватный'],\n",
       "  'уровень',\n",
       "  ['привести', 'успех', 'PAD']],\n",
       " [['ставка', 'адекватный', 'уровень'], 'привести', ['успех', 'PAD', 'PAD']],\n",
       " [['адекватный', 'уровень', 'привести'], 'успех', ['PAD', 'PAD', 'PAD']]]"
      ]
     },
     "execution_count": 12,
     "metadata": {},
     "output_type": "execute_result"
    }
   ],
   "source": [
    "cbow_split(sample_text, window=3)"
   ]
  },
  {
   "cell_type": "markdown",
   "metadata": {},
   "source": [
    "# Expected\n",
    "\n",
    "```python\n",
    "[(['PAD', 'PAD', 'PAD'], 'вопрос', ['почему', 'например', 'китайский']),\n",
    " (['PAD', 'PAD', 'вопрос'], 'почему', ['например', 'китайский', 'японский']),\n",
    " (['PAD', 'вопрос', 'почему'], 'например', ['китайский', 'японский', 'UNK']),\n",
    " (['вопрос', 'почему', 'например'], 'китайский', ['японский', 'UNK', 'PAD']),\n",
    " (['почему', 'например', 'китайский'], 'японский', ['UNK', 'PAD', 'PAD']),\n",
    " (['например', 'китайский', 'японский'], 'UNK', ['PAD', 'PAD', 'PAD'])]\n",
    "```"
   ]
  },
  {
   "cell_type": "markdown",
   "metadata": {},
   "source": [
    "# Skipgram"
   ]
  },
  {
   "cell_type": "code",
   "execution_count": 13,
   "metadata": {},
   "outputs": [
    {
     "data": {
      "text/plain": [
       "'никакой переговоры снижение ставка адекватный уровень привести успех'"
      ]
     },
     "execution_count": 13,
     "metadata": {},
     "output_type": "execute_result"
    }
   ],
   "source": [
    "' '.join(sample_text)"
   ]
  },
  {
   "cell_type": "markdown",
   "metadata": {},
   "source": [
    "# Реализуйте разделение предложения на примеры методом Skipgram"
   ]
  },
  {
   "cell_type": "code",
   "execution_count": 14,
   "metadata": {},
   "outputs": [
    {
     "data": {
      "text/plain": [
       "['никакой',\n",
       " 'переговоры',\n",
       " 'снижение',\n",
       " 'ставка',\n",
       " 'адекватный',\n",
       " 'уровень',\n",
       " 'привести',\n",
       " 'успех']"
      ]
     },
     "execution_count": 14,
     "metadata": {},
     "output_type": "execute_result"
    }
   ],
   "source": [
    "sample_text"
   ]
  },
  {
   "cell_type": "code",
   "execution_count": 15,
   "metadata": {},
   "outputs": [],
   "source": [
    "def skipgram_split(tokens, window):\n",
    "    \n",
    "    splits = []\n",
    "        \n",
    "    window+=1\n",
    "    \n",
    "    last = len(tokens) - 1\n",
    "    for i, word in enumerate(tokens):                 \n",
    "        for x in range(1, window):\n",
    "            left = i - x\n",
    "            right = i + x\n",
    "            if left > 0:            \n",
    "                splits.append([word, tokens[left]])\n",
    "            if right < last:\n",
    "                splits.append([word, tokens[right]])\n",
    "            \n",
    "    return splits"
   ]
  },
  {
   "cell_type": "code",
   "execution_count": 16,
   "metadata": {},
   "outputs": [],
   "source": [
    "splits = skipgram_split(sample_text, window=2)"
   ]
  },
  {
   "cell_type": "code",
   "execution_count": 17,
   "metadata": {},
   "outputs": [
    {
     "name": "stdout",
     "output_type": "stream",
     "text": [
      "Контекст: никакой\n",
      "Центральное слово: переговоры\n",
      "\n",
      "Контекст: никакой\n",
      "Центральное слово: снижение\n",
      "\n",
      "Контекст: переговоры\n",
      "Центральное слово: снижение\n",
      "\n",
      "Контекст: переговоры\n",
      "Центральное слово: ставка\n",
      "\n",
      "Контекст: снижение\n",
      "Центральное слово: переговоры\n",
      "\n",
      "Контекст: снижение\n",
      "Центральное слово: ставка\n",
      "\n",
      "Контекст: снижение\n",
      "Центральное слово: адекватный\n",
      "\n",
      "Контекст: ставка\n",
      "Центральное слово: снижение\n",
      "\n",
      "Контекст: ставка\n",
      "Центральное слово: адекватный\n",
      "\n",
      "Контекст: ставка\n",
      "Центральное слово: переговоры\n",
      "\n",
      "Контекст: ставка\n",
      "Центральное слово: уровень\n",
      "\n",
      "Контекст: адекватный\n",
      "Центральное слово: ставка\n",
      "\n",
      "Контекст: адекватный\n",
      "Центральное слово: уровень\n",
      "\n",
      "Контекст: адекватный\n",
      "Центральное слово: снижение\n",
      "\n",
      "Контекст: адекватный\n",
      "Центральное слово: привести\n",
      "\n",
      "Контекст: уровень\n",
      "Центральное слово: адекватный\n",
      "\n",
      "Контекст: уровень\n",
      "Центральное слово: привести\n",
      "\n",
      "Контекст: уровень\n",
      "Центральное слово: ставка\n",
      "\n",
      "Контекст: привести\n",
      "Центральное слово: уровень\n",
      "\n",
      "Контекст: привести\n",
      "Центральное слово: адекватный\n",
      "\n",
      "Контекст: успех\n",
      "Центральное слово: привести\n",
      "\n",
      "Контекст: успех\n",
      "Центральное слово: уровень\n",
      "\n"
     ]
    }
   ],
   "source": [
    "for sample in splits:\n",
    "    print('Контекст:', sample[0])\n",
    "    print('Центральное слово:', sample[1], end='\\n\\n')"
   ]
  },
  {
   "cell_type": "code",
   "execution_count": 18,
   "metadata": {},
   "outputs": [
    {
     "name": "stdout",
     "output_type": "stream",
     "text": [
      "Контекст: никакой\n",
      "Центральное слово: переговоры\n",
      "\n",
      "Контекст: никакой\n",
      "Центральное слово: снижение\n",
      "\n",
      "Контекст: переговоры\n",
      "Центральное слово: снижение\n",
      "\n",
      "Контекст: переговоры\n",
      "Центральное слово: ставка\n",
      "\n",
      "Контекст: снижение\n",
      "Центральное слово: переговоры\n",
      "\n",
      "Контекст: снижение\n",
      "Центральное слово: ставка\n",
      "\n",
      "Контекст: снижение\n",
      "Центральное слово: адекватный\n",
      "\n",
      "Контекст: ставка\n",
      "Центральное слово: снижение\n",
      "\n",
      "Контекст: ставка\n",
      "Центральное слово: адекватный\n",
      "\n",
      "Контекст: ставка\n",
      "Центральное слово: переговоры\n",
      "\n",
      "Контекст: ставка\n",
      "Центральное слово: уровень\n",
      "\n",
      "Контекст: адекватный\n",
      "Центральное слово: ставка\n",
      "\n",
      "Контекст: адекватный\n",
      "Центральное слово: уровень\n",
      "\n",
      "Контекст: адекватный\n",
      "Центральное слово: снижение\n",
      "\n",
      "Контекст: адекватный\n",
      "Центральное слово: привести\n",
      "\n",
      "Контекст: уровень\n",
      "Центральное слово: адекватный\n",
      "\n",
      "Контекст: уровень\n",
      "Центральное слово: привести\n",
      "\n",
      "Контекст: уровень\n",
      "Центральное слово: ставка\n",
      "\n",
      "Контекст: привести\n",
      "Центральное слово: уровень\n",
      "\n",
      "Контекст: привести\n",
      "Центральное слово: адекватный\n",
      "\n",
      "Контекст: успех\n",
      "Центральное слово: привести\n",
      "\n",
      "Контекст: успех\n",
      "Центральное слово: уровень\n",
      "\n"
     ]
    }
   ],
   "source": [
    "for sample in splits:\n",
    "    print('Контекст:', sample[0])\n",
    "    print('Центральное слово:', sample[1], end='\\n\\n')"
   ]
  },
  {
   "cell_type": "code",
   "execution_count": 19,
   "metadata": {},
   "outputs": [
    {
     "data": {
      "text/plain": [
       "[['никакой', 'переговоры'],\n",
       " ['никакой', 'снижение'],\n",
       " ['переговоры', 'снижение'],\n",
       " ['переговоры', 'ставка'],\n",
       " ['снижение', 'переговоры'],\n",
       " ['снижение', 'ставка'],\n",
       " ['снижение', 'адекватный'],\n",
       " ['ставка', 'снижение'],\n",
       " ['ставка', 'адекватный'],\n",
       " ['ставка', 'переговоры'],\n",
       " ['ставка', 'уровень'],\n",
       " ['адекватный', 'ставка'],\n",
       " ['адекватный', 'уровень'],\n",
       " ['адекватный', 'снижение'],\n",
       " ['адекватный', 'привести'],\n",
       " ['уровень', 'адекватный'],\n",
       " ['уровень', 'привести'],\n",
       " ['уровень', 'ставка'],\n",
       " ['привести', 'уровень'],\n",
       " ['привести', 'адекватный'],\n",
       " ['успех', 'привести'],\n",
       " ['успех', 'уровень']]"
      ]
     },
     "execution_count": 19,
     "metadata": {},
     "output_type": "execute_result"
    }
   ],
   "source": [
    "skipgram_split(sample_text, window=2)"
   ]
  },
  {
   "cell_type": "markdown",
   "metadata": {},
   "source": [
    "# Expected\n",
    "\n",
    "```python\n",
    "[('почему', 'вопрос'),\n",
    " ('например', 'вопрос'),\n",
    " ('вопрос', 'почему'),\n",
    " ('например', 'почему'),\n",
    " ('китайский', 'почему'),\n",
    " ('вопрос', 'например'),\n",
    " ('почему', 'например'),\n",
    " ('китайский', 'например'),\n",
    " ('японский', 'например'),\n",
    " ('почему', 'китайский'),\n",
    " ('например', 'китайский'),\n",
    " ('японский', 'китайский'),\n",
    " ('UNK', 'китайский'),\n",
    " ('например', 'японский'),\n",
    " ('китайский', 'японский'),\n",
    " ('UNK', 'японский'),\n",
    " ('китайский', 'UNK'),\n",
    " ('японский', 'UNK')]\n",
    "```"
   ]
  },
  {
   "cell_type": "code",
   "execution_count": 20,
   "metadata": {},
   "outputs": [
    {
     "data": {
      "text/plain": [
       "[['никакой', 'переговоры'],\n",
       " ['никакой', 'снижение'],\n",
       " ['никакой', 'ставка'],\n",
       " ['переговоры', 'снижение'],\n",
       " ['переговоры', 'ставка'],\n",
       " ['переговоры', 'адекватный'],\n",
       " ['снижение', 'переговоры'],\n",
       " ['снижение', 'ставка'],\n",
       " ['снижение', 'адекватный'],\n",
       " ['снижение', 'уровень'],\n",
       " ['ставка', 'снижение'],\n",
       " ['ставка', 'адекватный'],\n",
       " ['ставка', 'переговоры'],\n",
       " ['ставка', 'уровень'],\n",
       " ['ставка', 'привести'],\n",
       " ['адекватный', 'ставка'],\n",
       " ['адекватный', 'уровень'],\n",
       " ['адекватный', 'снижение'],\n",
       " ['адекватный', 'привести'],\n",
       " ['адекватный', 'переговоры'],\n",
       " ['уровень', 'адекватный'],\n",
       " ['уровень', 'привести'],\n",
       " ['уровень', 'ставка'],\n",
       " ['уровень', 'снижение'],\n",
       " ['привести', 'уровень'],\n",
       " ['привести', 'адекватный'],\n",
       " ['привести', 'ставка'],\n",
       " ['успех', 'привести'],\n",
       " ['успех', 'уровень'],\n",
       " ['успех', 'адекватный']]"
      ]
     },
     "execution_count": 20,
     "metadata": {},
     "output_type": "execute_result"
    }
   ],
   "source": [
    "skipgram_split(sample_text, window=3)"
   ]
  },
  {
   "cell_type": "markdown",
   "metadata": {},
   "source": [
    "# Expected\n",
    "\n",
    "```python\n",
    "[('почему', 'вопрос'),\n",
    " ('например', 'вопрос'),\n",
    " ('китайский', 'вопрос'),\n",
    " ('вопрос', 'почему'),\n",
    " ('например', 'почему'),\n",
    " ('китайский', 'почему'),\n",
    " ('японский', 'почему'),\n",
    " ('вопрос', 'например'),\n",
    " ('почему', 'например'),\n",
    " ('китайский', 'например'),\n",
    " ('японский', 'например'),\n",
    " ('UNK', 'например'),\n",
    " ('вопрос', 'китайский'),\n",
    " ('почему', 'китайский'),\n",
    " ('например', 'китайский'),\n",
    " ('японский', 'китайский'),\n",
    " ('UNK', 'китайский'),\n",
    " ('почему', 'японский'),\n",
    " ('например', 'японский'),\n",
    " ('китайский', 'японский'),\n",
    " ('UNK', 'японский'),\n",
    " ('например', 'UNK'),\n",
    " ('китайский', 'UNK'),\n",
    " ('японский', 'UNK')]\n",
    "```"
   ]
  },
  {
   "cell_type": "code",
   "execution_count": 21,
   "metadata": {},
   "outputs": [],
   "source": [
    "word2index = {}\n",
    "\n",
    "for text in corpus:\n",
    "    for token in text:\n",
    "        if token not in word2index:\n",
    "            word2index[token] = len(word2index)"
   ]
  },
  {
   "cell_type": "code",
   "execution_count": 22,
   "metadata": {},
   "outputs": [],
   "source": [
    "# for x, y in word2index.items():\n",
    "#     print(x, y)"
   ]
  },
  {
   "cell_type": "code",
   "execution_count": 23,
   "metadata": {},
   "outputs": [
    {
     "data": {
      "text/plain": [
       "13115"
      ]
     },
     "execution_count": 23,
     "metadata": {},
     "output_type": "execute_result"
    }
   ],
   "source": [
    "len(word2index)"
   ]
  },
  {
   "cell_type": "code",
   "execution_count": 24,
   "metadata": {},
   "outputs": [
    {
     "data": {
      "text/plain": [
       "54"
      ]
     },
     "execution_count": 24,
     "metadata": {},
     "output_type": "execute_result"
    }
   ],
   "source": [
    "word2index['UNK']"
   ]
  },
  {
   "cell_type": "code",
   "execution_count": 25,
   "metadata": {},
   "outputs": [
    {
     "data": {
      "text/plain": [
       "[794, 1666, 54]"
      ]
     },
     "execution_count": 25,
     "metadata": {},
     "output_type": "execute_result"
    }
   ],
   "source": [
    "[word2index[tok] if tok in word2index else word2index['UNK'] for tok in 'мама мыть рама'.split()]"
   ]
  },
  {
   "cell_type": "markdown",
   "metadata": {},
   "source": [
    "# Torch Dataset\n",
    "В торче есть очень удобная читалка данных"
   ]
  },
  {
   "cell_type": "code",
   "execution_count": 26,
   "metadata": {},
   "outputs": [],
   "source": [
    "from torch.utils.data import Dataset, DataLoader"
   ]
  },
  {
   "cell_type": "code",
   "execution_count": 27,
   "metadata": {},
   "outputs": [],
   "source": [
    "# игрушечный датасет\n",
    "# 121535 примера, 4 фичи, 3 класса\n",
    "some_data_x = np.random.rand(121535, 4)\n",
    "some_data_y = np.random.randint(3, size=(121535,))"
   ]
  },
  {
   "cell_type": "code",
   "execution_count": 28,
   "metadata": {},
   "outputs": [
    {
     "data": {
      "text/plain": [
       "array([[0.80977671, 0.77066475, 0.92476134, 0.47085537],\n",
       "       [0.40090137, 0.44687768, 0.06388089, 0.8145848 ],\n",
       "       [0.90599718, 0.83045259, 0.34619412, 0.56373319],\n",
       "       [0.15726881, 0.7518913 , 0.29952456, 0.04253021],\n",
       "       [0.94786486, 0.84724041, 0.27208087, 0.57787854],\n",
       "       [0.15153354, 0.25446286, 0.24585971, 0.49883223],\n",
       "       [0.45310714, 0.49452822, 0.14217574, 0.85842374],\n",
       "       [0.66825901, 0.23961578, 0.77254557, 0.98306616],\n",
       "       [0.66826801, 0.08158746, 0.36103022, 0.79699975],\n",
       "       [0.82804305, 0.15253947, 0.66743598, 0.5803532 ]])"
      ]
     },
     "execution_count": 28,
     "metadata": {},
     "output_type": "execute_result"
    }
   ],
   "source": [
    "# соверешенно игрушечный, просто цифры\n",
    "some_data_x[:10]"
   ]
  },
  {
   "cell_type": "code",
   "execution_count": 29,
   "metadata": {},
   "outputs": [
    {
     "data": {
      "text/plain": [
       "array([2, 0, 0, ..., 0, 0, 1])"
      ]
     },
     "execution_count": 29,
     "metadata": {},
     "output_type": "execute_result"
    }
   ],
   "source": [
    "some_data_y"
   ]
  },
  {
   "cell_type": "code",
   "execution_count": 30,
   "metadata": {},
   "outputs": [],
   "source": [
    "class ToyDataset(Dataset):\n",
    "    \n",
    "    def __init__(self, data_x, data_y):\n",
    "        \n",
    "        super().__init__()\n",
    "        \n",
    "        self.data_x = data_x\n",
    "        self.data_y = data_y\n",
    "        \n",
    "    def __len__(self):\n",
    "        \n",
    "        # Нужно обязательно определить эту функцию\n",
    "        # Должна возвращать размер датасета\n",
    "        \n",
    "        return len(self.data_x)\n",
    "    \n",
    "    def __getitem__(self, idx):\n",
    "        \n",
    "        # Еще нужно определить этот метод\n",
    "        # То есть как мы будем доставать наши данные по индексу\n",
    "        \n",
    "        return self.data_x[idx], self.data_y[idx]"
   ]
  },
  {
   "cell_type": "code",
   "execution_count": 31,
   "metadata": {},
   "outputs": [],
   "source": [
    "some_dataset = ToyDataset(some_data_x, some_data_y)"
   ]
  },
  {
   "cell_type": "code",
   "execution_count": 32,
   "metadata": {},
   "outputs": [
    {
     "data": {
      "text/plain": [
       "((array([0.15153354, 0.25446286, 0.24585971, 0.49883223]), 2),\n",
       " (array([0.476599  , 0.24260453, 0.3990134 , 0.09784495]), 1))"
      ]
     },
     "execution_count": 32,
     "metadata": {},
     "output_type": "execute_result"
    }
   ],
   "source": [
    "some_dataset[5], some_dataset[467]"
   ]
  },
  {
   "cell_type": "code",
   "execution_count": 33,
   "metadata": {},
   "outputs": [],
   "source": [
    "some_loader = DataLoader(some_dataset, batch_size=16)"
   ]
  },
  {
   "cell_type": "code",
   "execution_count": 34,
   "metadata": {},
   "outputs": [
    {
     "data": {
      "text/plain": [
       "(16, tensor([[0.8098, 0.7707, 0.9248, 0.4709],\n",
       "         [0.4009, 0.4469, 0.0639, 0.8146],\n",
       "         [0.9060, 0.8305, 0.3462, 0.5637],\n",
       "         [0.1573, 0.7519, 0.2995, 0.0425],\n",
       "         [0.9479, 0.8472, 0.2721, 0.5779],\n",
       "         [0.1515, 0.2545, 0.2459, 0.4988],\n",
       "         [0.4531, 0.4945, 0.1422, 0.8584],\n",
       "         [0.6683, 0.2396, 0.7725, 0.9831],\n",
       "         [0.6683, 0.0816, 0.3610, 0.7970],\n",
       "         [0.8280, 0.1525, 0.6674, 0.5804],\n",
       "         [0.8913, 0.8069, 0.4342, 0.6978],\n",
       "         [0.8670, 0.4676, 0.4188, 0.8472],\n",
       "         [0.6538, 0.3527, 0.9353, 0.2663],\n",
       "         [0.6468, 0.6994, 0.3325, 0.9031],\n",
       "         [0.3518, 0.4764, 0.5470, 0.8812],\n",
       "         [0.1693, 0.0083, 0.1573, 0.3352]], dtype=torch.float64))"
      ]
     },
     "execution_count": 34,
     "metadata": {},
     "output_type": "execute_result"
    }
   ],
   "source": [
    "for x, y in some_loader:\n",
    "    break\n",
    "    \n",
    "len(x), x"
   ]
  },
  {
   "cell_type": "code",
   "execution_count": 35,
   "metadata": {},
   "outputs": [
    {
     "data": {
      "text/plain": [
       "15"
      ]
     },
     "execution_count": 35,
     "metadata": {},
     "output_type": "execute_result"
    }
   ],
   "source": [
    "for x, y in some_loader:\n",
    "    pass\n",
    "\n",
    "len(x)"
   ]
  },
  {
   "cell_type": "code",
   "execution_count": 36,
   "metadata": {},
   "outputs": [
    {
     "data": {
      "text/plain": [
       "15"
      ]
     },
     "execution_count": 36,
     "metadata": {},
     "output_type": "execute_result"
    }
   ],
   "source": [
    "# почему 13?\n",
    "# потому что количество наших данных нацело не делится на 16\n",
    "# и поэтому последний батч меньше 16-ти\n",
    "len(some_dataset) % 16"
   ]
  },
  {
   "cell_type": "markdown",
   "metadata": {},
   "source": [
    "# А зачем?"
   ]
  },
  {
   "cell_type": "code",
   "execution_count": 37,
   "metadata": {},
   "outputs": [],
   "source": [
    "class ToyDataset(Dataset):\n",
    "    \n",
    "    def __init__(self, data_x, data_y):\n",
    "        \n",
    "        super().__init__()\n",
    "        \n",
    "        self.data_x = data_x\n",
    "        self.data_y = data_y\n",
    "        \n",
    "    def __len__(self):\n",
    "        \n",
    "        # Нужно обязательно определить эту функцию\n",
    "        # Должна возвращать размер датасета\n",
    "        \n",
    "        return len(self.data_x)\n",
    "    \n",
    "    @staticmethod\n",
    "    def add_pow_features(x, n=2):\n",
    "        \n",
    "        return np.concatenate([x, x ** n]) \n",
    "    \n",
    "    @staticmethod\n",
    "    def add_log_features(x):\n",
    "        \n",
    "        return np.concatenate([x, np.log(x)]) \n",
    "    \n",
    "    def __getitem__(self, idx):\n",
    "        \n",
    "        # Еще нужно определить этот метод\n",
    "        # То есть как мы будем доставать наши данные по индексу\n",
    "        \n",
    "        x = self.data_x[idx]\n",
    "        \n",
    "        # внутри датасета мы можем делать все что угодно с нашими данными\n",
    "        # например выше определим функции, которые добавляют степенные фичи\n",
    "        x = self.add_pow_features(x, n=2)\n",
    "        x = self.add_pow_features(x, n=3)\n",
    "        # и еще возьмем логарифмические фичи\n",
    "        x = self.add_log_features(x)\n",
    "        \n",
    "        y = self.data_y[idx]\n",
    "        \n",
    "        return x, y"
   ]
  },
  {
   "cell_type": "code",
   "execution_count": 38,
   "metadata": {},
   "outputs": [],
   "source": [
    "toy_dataset = ToyDataset(some_data_x, some_data_y)"
   ]
  },
  {
   "cell_type": "code",
   "execution_count": 39,
   "metadata": {},
   "outputs": [],
   "source": [
    "toy_loader = DataLoader(dataset=toy_dataset, batch_size=128)"
   ]
  },
  {
   "cell_type": "code",
   "execution_count": 40,
   "metadata": {},
   "outputs": [],
   "source": [
    "for x, y in toy_loader:\n",
    "    break"
   ]
  },
  {
   "cell_type": "code",
   "execution_count": 41,
   "metadata": {},
   "outputs": [
    {
     "data": {
      "text/plain": [
       "torch.Size([128, 32])"
      ]
     },
     "execution_count": 41,
     "metadata": {},
     "output_type": "execute_result"
    }
   ],
   "source": [
    "x.shape"
   ]
  },
  {
   "cell_type": "code",
   "execution_count": 42,
   "metadata": {},
   "outputs": [
    {
     "data": {
      "text/plain": [
       "tensor([[  0.8098,   0.7707,   0.9248,  ...,  -1.5630,  -0.4693,  -4.5192],\n",
       "        [  0.4009,   0.4469,   0.0639,  ...,  -4.8328, -16.5044,  -1.2305],\n",
       "        [  0.9060,   0.8305,   0.3462,  ...,  -1.1147,  -6.3645,  -3.4390],\n",
       "        ...,\n",
       "        [  0.4155,   0.1297,   0.4861,  ..., -12.2536,  -4.3281,  -0.4807],\n",
       "        [  0.6562,   0.4834,   0.7178,  ...,  -4.3619,  -1.9895, -17.6333],\n",
       "        [  0.1936,   0.5430,   0.5879,  ...,  -3.6640,  -3.1874,  -4.4416]],\n",
       "       dtype=torch.float64)"
      ]
     },
     "execution_count": 42,
     "metadata": {},
     "output_type": "execute_result"
    }
   ],
   "source": [
    "# заметим, что мы сразу получаем торчовый формат данных\n",
    "x"
   ]
  },
  {
   "cell_type": "code",
   "execution_count": 43,
   "metadata": {},
   "outputs": [
    {
     "data": {
      "text/plain": [
       "tensor([2, 0, 0, 0, 1, 2, 1, 1, 1, 1, 2, 0, 0, 0, 0, 0, 0, 0, 2, 2, 2, 2, 1, 2,\n",
       "        0, 0, 1, 2, 0, 1, 1, 1, 2, 0, 1, 2, 1, 2, 0, 2, 1, 0, 1, 1, 2, 0, 1, 0,\n",
       "        1, 2, 0, 2, 1, 1, 2, 1, 2, 0, 1, 2, 0, 1, 1, 1, 2, 0, 1, 0, 2, 1, 1, 2,\n",
       "        0, 0, 1, 2, 2, 1, 2, 1, 2, 1, 1, 2, 1, 1, 1, 2, 2, 2, 2, 2, 1, 2, 2, 1,\n",
       "        2, 0, 2, 1, 2, 2, 0, 0, 1, 2, 0, 2, 2, 0, 1, 2, 2, 2, 2, 1, 2, 1, 1, 2,\n",
       "        2, 1, 1, 0, 0, 0, 1, 1], dtype=torch.int32)"
      ]
     },
     "execution_count": 43,
     "metadata": {},
     "output_type": "execute_result"
    }
   ],
   "source": [
    "y"
   ]
  },
  {
   "cell_type": "markdown",
   "metadata": {},
   "source": [
    "# Если вы ничего здесь не понимаете, то вернитесь в конец первой домашки, там все объясняется"
   ]
  },
  {
   "cell_type": "code",
   "execution_count": 44,
   "metadata": {},
   "outputs": [],
   "source": [
    "model = torch.nn.Sequential(torch.nn.Linear(32, 16),\n",
    "                            torch.nn.ReLU(),\n",
    "                            torch.nn.Linear(16, 8),\n",
    "                            torch.nn.ReLU(),\n",
    "                            torch.nn.Linear(8, 3))\n",
    "\n",
    "criterion = torch.nn.CrossEntropyLoss()"
   ]
  },
  {
   "cell_type": "code",
   "execution_count": 45,
   "metadata": {},
   "outputs": [
    {
     "data": {
      "text/plain": [
       "1.168760061264038"
      ]
     },
     "execution_count": 45,
     "metadata": {},
     "output_type": "execute_result"
    }
   ],
   "source": [
    "with torch.no_grad():\n",
    "\n",
    "    prediction = model(x.float())\n",
    "\n",
    "    loss = criterion(prediction, y.long())\n",
    "    \n",
    "loss.item()"
   ]
  },
  {
   "cell_type": "markdown",
   "metadata": {},
   "source": [
    "# Боевые датасеты"
   ]
  },
  {
   "cell_type": "code",
   "execution_count": 46,
   "metadata": {},
   "outputs": [],
   "source": [
    "class CBOWDataset(Dataset):\n",
    "\n",
    "    def __init__(self,\n",
    "                 corpus,\n",
    "                 word2index,\n",
    "                 window=2,\n",
    "                 unk_token='UNK',\n",
    "                 pad_token='PAD',\n",
    "                 collect_verbose=True):\n",
    "\n",
    "        self.corpus = corpus\n",
    "        self.word2index = word2index\n",
    "        self.index2word = {value: key for key, value in self.word2index.items()}\n",
    "        self.window = window\n",
    "\n",
    "        self.unk_token = unk_token\n",
    "        self.unk_index = self.word2index[self.unk_token]\n",
    "\n",
    "        self.pad_token = pad_token\n",
    "        self.pad_index = len(self.word2index)\n",
    "\n",
    "        self.collect_verbose = collect_verbose\n",
    "\n",
    "        self.data = []\n",
    "\n",
    "        self.collect_data()\n",
    "\n",
    "    def __len__(self):\n",
    "\n",
    "        return len(self.data)\n",
    "\n",
    "    def _split_function(self, tokenized_text):\n",
    "\n",
    "        splits = []\n",
    "\n",
    "        for n in range(len(tokenized_text)):\n",
    "            left_context = tokenized_text[np.maximum(n - self.window, 0):n]\n",
    "            left_context = ([self.pad_index] * (self.window - len(left_context))) + left_context\n",
    "\n",
    "            central_word = tokenized_text[n]\n",
    "\n",
    "            right_context = tokenized_text[n + 1:n + self.window + 1]\n",
    "            right_context = right_context + ([self.pad_index] * (self.window - len(right_context)))\n",
    "\n",
    "            splits.append((left_context + right_context, central_word))\n",
    "\n",
    "        return splits\n",
    "\n",
    "    def indexing(self, tokenized_text):\n",
    "\n",
    "        return [self.word2index[token] if token in self.word2index else self.unk_index for token in tokenized_text]\n",
    "\n",
    "    def collect_data(self):\n",
    "\n",
    "        corpus = tqdm(self.corpus, disable=not self.collect_verbose)\n",
    "\n",
    "        for tokenized_text in corpus:\n",
    "            indexed_text = self.indexing(tokenized_text)\n",
    "            cbow_examples = self._split_function(indexed_text)\n",
    "\n",
    "            self.data.extend(cbow_examples)\n",
    "\n",
    "    def __getitem__(self, idx):\n",
    "\n",
    "        context, central_word = self.data[idx]\n",
    "\n",
    "        context = torch.Tensor(context).long()\n",
    "\n",
    "        return context, central_word"
   ]
  },
  {
   "cell_type": "markdown",
   "metadata": {},
   "source": [
    "# Мы будем учить модель Skipgram\n",
    "Реализуйте читалку данных"
   ]
  },
  {
   "cell_type": "code",
   "execution_count": 47,
   "metadata": {},
   "outputs": [],
   "source": [
    "class SkipgramDataset(Dataset):\n",
    "\n",
    "    def __init__(self,\n",
    "                 corpus,\n",
    "                 word2index,\n",
    "                 window=2,\n",
    "                 unk_token='UNK',\n",
    "                 collect_verbose=True):\n",
    "\n",
    "        self.corpus = corpus\n",
    "        self.word2index = word2index\n",
    "        self.index2word = {value: key for key, value in self.word2index.items()}\n",
    "        self.window = window\n",
    "\n",
    "        self.unk_token = unk_token\n",
    "        self.unk_index = self.word2index[self.unk_token]\n",
    "\n",
    "        self.collect_verbose = collect_verbose        \n",
    "\n",
    "        self.data = []\n",
    "\n",
    "        self.collect_data()\n",
    "                \n",
    "    def __len__(self):\n",
    "\n",
    "        return len(self.data)\n",
    "\n",
    "    def _split_function(self, tokenized_text):\n",
    "        \n",
    "        # CODE\n",
    "        \n",
    "        # вставить здесь функцию, которую вы писали раньше\n",
    "\n",
    "        splits = skipgram_split(tokenized_text, window=self.window)\n",
    "\n",
    "        return splits\n",
    "\n",
    "    def indexing(self, tokenized_text):\n",
    "\n",
    "        return [self.word2index[token] if token in self.word2index else self.unk_index for token in tokenized_text]\n",
    "\n",
    "    def collect_data(self):\n",
    "\n",
    "        corpus = tqdm(self.corpus, disable=not self.collect_verbose)\n",
    "\n",
    "        for tokenized_text in corpus:\n",
    "            indexed_text = self.indexing(tokenized_text)\n",
    "            skipgram_examples = self._split_function(indexed_text)\n",
    "            self.data.extend(skipgram_examples)\n",
    "\n",
    "    def __getitem__(self, idx):\n",
    "        \n",
    "        # CODE        \n",
    "        \n",
    "#         print(self.data[idx], idx, \"of\", len(self.data))\n",
    "\n",
    "        context, central_word = self.data[idx]\n",
    "        \n",
    "#         context = torch.Tensor(context).long()\n",
    "\n",
    "        return context, central_word"
   ]
  },
  {
   "cell_type": "code",
   "execution_count": 48,
   "metadata": {
    "scrolled": true
   },
   "outputs": [
    {
     "name": "stderr",
     "output_type": "stream",
     "text": [
      "100%|███████████████████████████████████████████████████████████████████████| 100000/100000 [00:04<00:00, 21042.57it/s]\n"
     ]
    }
   ],
   "source": [
    "dataset = SkipgramDataset(corpus, word2index)"
   ]
  },
  {
   "cell_type": "code",
   "execution_count": 49,
   "metadata": {},
   "outputs": [],
   "source": [
    "BATCH_SIZE = 512"
   ]
  },
  {
   "cell_type": "code",
   "execution_count": 50,
   "metadata": {},
   "outputs": [],
   "source": [
    "dataset_loader = DataLoader(dataset, shuffle=True, batch_size=BATCH_SIZE)"
   ]
  },
  {
   "cell_type": "code",
   "execution_count": 51,
   "metadata": {},
   "outputs": [
    {
     "name": "stdout",
     "output_type": "stream",
     "text": [
      "tensor([  244,   819,    60,    66,   840,   320,   132,    61,     3,   770,\n",
      "          269,  1043,    63,  9323,   402,   668,   323,  2300,   402,   730,\n",
      "         7510,   279,    54,    19,   813,   659,  4283,   561,    61,   644,\n",
      "           61,   403,    54,    34,   650,  1340,    62,  1061,   772,  7031,\n",
      "          199,   974,   415,  1281,  5857,  3345,   151,  2282,    66,   286,\n",
      "          305,   860,   622,   806,   402,   748,   836,    53,  1099,   237,\n",
      "          124,  1033,    46,   861,   151,     2,   230,    11,  7230,  3303,\n",
      "          946,   441,   299,   131,   440,    41,    53,   674,  1167,   987,\n",
      "         2237,  1126,  2126,   320,    41,    88,    87,    37,  1166,   265,\n",
      "           60,   242,    82,   853,   915,    38,   230,   197,    53,    87,\n",
      "          143,   272,    54,  3004,  2277,   927,  1054,  1082,    67,    60,\n",
      "           19,  2605,   919,  5239,  2789,  4469,   439,   345,   696,   889,\n",
      "         1698,   555,   203,   250,   796,  2727,   309,  1330,  2252,    53,\n",
      "          865,   935,   668,  3446,  1162,   516,   406,   572,   119,  3302,\n",
      "          262,   356,   941,    94,    25,   631,   784,  2246,  4754,    88,\n",
      "            3,  3512,   516,  1012,   218,   207,    19,   471,  5286,  1887,\n",
      "          533,    79,  2153,   890,   168,  2750,    41,   318,    26,   203,\n",
      "           96,   400,   282,   619,  4379,    79,    41,   622,  1029,   352,\n",
      "         2804,  1780,   403,    25,   679,    67,  3411,  1453,  4585,    25,\n",
      "          121,  2170,   750,   462,    61,  1223,   280,    41,  1698,   203,\n",
      "           25,   126,  3786,   492,   178,    60,  2826,  4697,  6047,    67,\n",
      "         1085,  1023,   209,   257,   197,   363,    60,  1289,  1230,    64,\n",
      "           39,  1252,   325,   282,  1702,  1283,   281,   170,    61,    46,\n",
      "         2241,  1851,   147,    97,    61,  6374,   981,    54,  1216,  1408,\n",
      "         4361,   242,   642,    46,   399,    41,   601,    61,   709,  4933,\n",
      "          117,   259,   836,   108,    29,  4371,  1392,   186,  1784,   317,\n",
      "          337,    64,    79,  4969,   671,   203,  2883,   689,  1252,  1282,\n",
      "         1593,    37,  3888,   128,    53,   628,    36,   242,  1681,   462,\n",
      "         3852,   975,  3169,  1390,    95,   153,   720,   707,  1262,   119,\n",
      "           67,    67,   109,   259,  1829,   451,   193,   279,  1054,    61,\n",
      "         1002,   838,   516,   464,    39,  2170,   545,  2025,  1856,  1801,\n",
      "         7370,  2655,  1752,   221,   141,  3524,   168,    76,    54,  1082,\n",
      "          718,  1061,   533,   175,    61,   886,   360,  1996,  3136,   723,\n",
      "           25,  1164,  1488,   242,    97,    96,    11,  5035,    41,    88,\n",
      "          674,   116,   187,  2808,   106,  1242,    61,   486,    77,  7067,\n",
      "          237,    53,    56,    88,  3689,   207,   339,   273,   330,   365,\n",
      "         6796,   687,   877,    97,   241,    67,    41,    32,   112,  2400,\n",
      "          175,    32,  4088,   572,   131,   216,   742,  6922,    61,    79,\n",
      "          713,  1716,   178,   170,   128,  3266,   160,    64,    64,    61,\n",
      "          514,   131,   509,    33,   175,    54,  3379,    61,  3180,   736,\n",
      "          526,   647,    53,    53,  1581,   131,   148,  1625,    19,   196,\n",
      "         1460,    61,  2031,   288,  2049,  7050,   415,   300,    67,  1188,\n",
      "           27,   197,  1068,  5687,    79,   619,   298,    39,     2,    61,\n",
      "         1391,   218,  1353,   194,   266,   166,   594,    68,    25,  1167,\n",
      "           60,  1458,   724,   325,    44,   402,   527,  1126,  2031,   464,\n",
      "         1191,  1696,  2956,   294,  2265,  7803,    88,  4971,   291,   367,\n",
      "          298,  2275,   670, 11253,    61,   441,   300,    88,   128,    38,\n",
      "          752,    97,  1082,     2,  1124,    51,   250,  1252,    67,   203,\n",
      "         2609,   908,   128,   618,  1476,   331,   994,    61,    61,   538,\n",
      "         9699,   840,  1666,   278,  3024,   946,  6938,    46,  4099,   701,\n",
      "         3998,  4516,  5484,    66,   345,  9730,  3342,   175,   399,  1235,\n",
      "          450,   207]) tensor([   41,  2486,  5408,  1420,  2235,    39,   911,   112,  1300,   218,\n",
      "          702,   215,   920,   110,    19,   325,   240,    79,  1528,    39,\n",
      "         2773,    61,   210,  1298,  1460,   132,   486,  4207,   347,  3474,\n",
      "         1237,   125,  1252,    33,  3091,  1163,   920,   478,   237,    77,\n",
      "         1251,   854,   530,   827,   166,   370,   170,   147,  1372,   287,\n",
      "          485,    61,    79,  6042,    46,   262,    61,    67,  1226,   219,\n",
      "         1320,   203,   279,    97,  2939,    86,   373,   128,  2855,  3813,\n",
      "           41,    82,    54,    61,  3473,    25,  5932,   236,    61, 11724,\n",
      "          170,   948,   696,   325,   577,    87,   122,   132,  7809,   587,\n",
      "         4945,  1344,  3927,   128,   194,   215,  1997,  6648,  3050,  2400,\n",
      "         1320,   951,    61,  4130,   696,  5657,    41,    55,    66,   414,\n",
      "          140,     0,    25,   561,    52,   833,   288,   331,   522,  1686,\n",
      "         2131,   128,   273,  2061,   147,    28,  1420,  5540,    82,    54,\n",
      "           60,   999,  1300, 11214,    25,    36,    30,   140,  2939,   571,\n",
      "         1360,    88,  1516,  9407,   860,   861,  2766,   752,  4783,  2613,\n",
      "          738,  5149,   700,   280,  1029,    61,   388,   418,  1833,  1476,\n",
      "          662,    24,   644,   241,   128,    46,   232,    67,    39,    61,\n",
      "           41,  1166,  1198,   645,   223,   555,   319,  1356,   644,  3215,\n",
      "          425,  3414,   398,  1399,   492,   453,   138,  4134,   516,    53,\n",
      "          122,  4714,  1024,   938,   467,  1235,  6322,   742,    39, 10790,\n",
      "         1003,    23,   515, 10259,  1666,   920,   672,  9620,  1572,  9034,\n",
      "         1644,  1569,   210,   131,    17,  1690,    54,   505,  1440,    60,\n",
      "           61,   793,   861,   203,   684,    25,   305,  2300,  3314,  1970,\n",
      "          242,  1202,    61,    54,  2674,    66,     0,   581,   486,  2300,\n",
      "          765,    61,  7882,   485,    54,   840,    41,    25,   197,    88,\n",
      "         1073,    60,    61,  2543,   871,  1180,   895,  1029,  3405,   287,\n",
      "          313,   701,   218,  9934,   254,   530,   824,   113,   763,   106,\n",
      "         2237,    67,  1573,  2154,   948,   629,    37,   215,  1925,   594,\n",
      "         2139,   112,  3831,   622,   166,  4272,  1068,  4497,  1635,  1177,\n",
      "         1763,  3474,  1255,  1688,   928,   464,  1029,   265,   822,  5109,\n",
      "          385,    66,  4683,  4352,  1610,   305,    61,   271,    68,   273,\n",
      "         9524,   246,   908,    54,   128,    67, 12535,   128,  1237,   128,\n",
      "           39,    25,   912,    32,   108,    61,  1740,  2170,   500,   722,\n",
      "         2443,    95,  1040,   628,  1054,   241,  1024,    90,   197,  1174,\n",
      "         3473,   197,    41,   643,   186,  3452,  1531,  7297,  1812,  1367,\n",
      "          572,  1268,   300,   279,    41,  1087,    19,   241,  1175,  2300,\n",
      "          597,  5840,  1302,   762,    46,  5506,  1530,   994,    67,   658,\n",
      "         2344,   571,   161,    39,    53,   242,    53,   439,   215,  2523,\n",
      "         2303,   133,   125,    32,   113,   922,   885,  3534,  3160,     2,\n",
      "         3878,  4851,  1754,  1177,    19,   644,  1596,   594,  3123,   819,\n",
      "         5985,    61,   128,   586,  3197,   417,   108,    25,  8658,    53,\n",
      "          412,   725,   131,  1932,   250,  1130,     6,  1130,  4291,  4988,\n",
      "          147,    61,    29,    67,   668,   254,   197,  4450,   175,   199,\n",
      "           54,  2641,   237,   441,  1368,   422,  1546,    61,   403,   515,\n",
      "          674,   403,   127,   994,   288,  1180,   127,    61,   834,  1794,\n",
      "          567,  1624,  5430,   631,    39,    54,   518,  1979,   415,  3141,\n",
      "          819,    54,   701,   190,   717,   104,   326,  3303,    61,   871,\n",
      "         4151,   277,   128,   441,   337,   912,     2,  1386,  4969,   278,\n",
      "         3758,    63,   128,   739,   827,   988,   362,    62,   242,   265,\n",
      "         1615,  8944,   363,   486,   154,  3119,  8918,   287,   141,    61,\n",
      "          352,  1729,  4935,  1741,  1533,  2953,  1220,  2303,   850,    67,\n",
      "          403,   938])\n"
     ]
    }
   ],
   "source": [
    "for x, y in dataset_loader:\n",
    "    print(x,y)\n",
    "    break"
   ]
  },
  {
   "cell_type": "code",
   "execution_count": 52,
   "metadata": {},
   "outputs": [
    {
     "data": {
      "text/plain": [
       "tensor([244, 819,  60,  66, 840])"
      ]
     },
     "execution_count": 52,
     "metadata": {},
     "output_type": "execute_result"
    }
   ],
   "source": [
    "x[:5]"
   ]
  },
  {
   "cell_type": "code",
   "execution_count": 53,
   "metadata": {},
   "outputs": [
    {
     "data": {
      "text/plain": [
       "tensor([  41, 2486, 5408, 1420, 2235])"
      ]
     },
     "execution_count": 53,
     "metadata": {},
     "output_type": "execute_result"
    }
   ],
   "source": [
    "y[:5]"
   ]
  },
  {
   "cell_type": "code",
   "execution_count": 54,
   "metadata": {},
   "outputs": [
    {
     "data": {
      "text/plain": [
       "(torch.Size([512]), torch.Size([512]))"
      ]
     },
     "execution_count": 54,
     "metadata": {},
     "output_type": "execute_result"
    }
   ],
   "source": [
    "x.shape, y.shape"
   ]
  },
  {
   "cell_type": "code",
   "execution_count": 55,
   "metadata": {},
   "outputs": [],
   "source": [
    "class CBOW(torch.nn.Module):\n",
    "    \n",
    "    def __init__(self, vocab_size, embedding_dim, pad_index):\n",
    "        \n",
    "        super().__init__()\n",
    "        \n",
    "        if pad_index > 0:\n",
    "            vocab_size += 1\n",
    "        \n",
    "        self.in_embedding = torch.nn.Embedding(num_embeddings=vocab_size, \n",
    "                                               embedding_dim=embedding_dim,\n",
    "                                               padding_idx=pad_index)\n",
    "        \n",
    "        self.out_embedding = torch.nn.Linear(in_features=embedding_dim,\n",
    "                                             out_features=vocab_size, bias=False)\n",
    "        \n",
    "    def forward(self, x):\n",
    "        \n",
    "        x = self.in_embedding(x).sum(dim=-2)\n",
    "        x = self.out_embedding(x)\n",
    "        \n",
    "        return x"
   ]
  },
  {
   "cell_type": "markdown",
   "metadata": {},
   "source": [
    "# Мы будем учить модель Skipgram\n",
    "Реализуйте ее"
   ]
  },
  {
   "cell_type": "code",
   "execution_count": 56,
   "metadata": {},
   "outputs": [],
   "source": [
    "# CODE\n",
    "class SkipGram(torch.nn.Module):\n",
    "    def __init__(self, vocab_size, embedding_dim):\n",
    "        \n",
    "        super().__init__()\n",
    "        \n",
    "        self.in_embedding = torch.nn.Embedding(num_embeddings=vocab_size, embedding_dim=embedding_dim)        \n",
    "        self.out_embedding = torch.nn.Linear(in_features=embedding_dim, out_features=vocab_size, bias=False)\n",
    "        \n",
    "    def forward(self, x):\n",
    "        \n",
    "        x = self.in_embedding(x).sum(dim=-2)\n",
    "        x = self.out_embedding(x)\n",
    "        \n",
    "        return x"
   ]
  },
  {
   "cell_type": "code",
   "execution_count": 57,
   "metadata": {},
   "outputs": [],
   "source": [
    "# размерность эмбеддинга\n",
    "# маленькая, чтобы мы могли недолго поучить ворд2век и увидеть результаты\n",
    "EMBEDDING_DIM = 20"
   ]
  },
  {
   "cell_type": "code",
   "execution_count": 58,
   "metadata": {},
   "outputs": [],
   "source": [
    "model = SkipGram(vocab_size=len(word2index), embedding_dim=EMBEDDING_DIM)"
   ]
  },
  {
   "cell_type": "code",
   "execution_count": 59,
   "metadata": {},
   "outputs": [
    {
     "data": {
      "text/plain": [
       "torch.Size([13115])"
      ]
     },
     "execution_count": 59,
     "metadata": {},
     "output_type": "execute_result"
    }
   ],
   "source": [
    "with torch.no_grad():\n",
    "    pred = model(x)\n",
    "\n",
    "pred.shape"
   ]
  },
  {
   "cell_type": "code",
   "execution_count": 60,
   "metadata": {},
   "outputs": [],
   "source": [
    "# optimizer = torch.optim.Adam(params=model.parameters(), lr=0.0001)\n",
    "optimizer = torch.optim.Adam(params=model.parameters(), lr=0.01)\n",
    "\n",
    "# aka loss function\n",
    "criterion = torch.nn.CrossEntropyLoss()"
   ]
  },
  {
   "cell_type": "markdown",
   "metadata": {},
   "source": [
    "# Допишите обучалку"
   ]
  },
  {
   "cell_type": "code",
   "execution_count": 61,
   "metadata": {},
   "outputs": [
    {
     "name": "stderr",
     "output_type": "stream",
     "text": [
      "Epoch 1: 100%|██████████████████████████████████████████████████| 2582078/2582078 [34:07<00:00, 1260.89it/s, loss=6.89]\n",
      "Epoch 2:  63%|███████████████████████████████▎                  | 1619968/2582078 [24:04<14:17, 1121.54it/s, loss=6.84]\n"
     ]
    }
   ],
   "source": [
    "# epochs = 3\n",
    "epochs = 5\n",
    "\n",
    "losses = []\n",
    "\n",
    "for n_epoch in range(epochs):\n",
    "\n",
    "    try:\n",
    "\n",
    "        progress_bar = tqdm(total=len(dataset_loader.dataset), desc='Epoch {}'.format(n_epoch + 1))\n",
    "\n",
    "        for x, y in dataset_loader:\n",
    "\n",
    "            # CODE\n",
    "            x = x.view(x.shape[0], -1)\n",
    "       \n",
    "            optimizer.zero_grad()\n",
    "        \n",
    "            pred = model(x)\n",
    "        \n",
    "            loss = criterion(pred, y.long())\n",
    "            \n",
    "            loss.backward()\n",
    "        \n",
    "            optimizer.step()\n",
    "            \n",
    "            # CODE\n",
    "            \n",
    "            losses.append(loss.item())\n",
    "            \n",
    "            progress_bar.set_postfix(loss=np.mean(losses[-100:]))\n",
    "\n",
    "            progress_bar.update(x.shape[0])\n",
    "\n",
    "        progress_bar.close()\n",
    "\n",
    "    except KeyboardInterrupt:\n",
    "\n",
    "        progress_bar.close()\n",
    "        break"
   ]
  },
  {
   "cell_type": "code",
   "execution_count": 62,
   "metadata": {},
   "outputs": [
    {
     "data": {
      "text/plain": [
       "[<matplotlib.lines.Line2D at 0x2e66f780>]"
      ]
     },
     "execution_count": 62,
     "metadata": {},
     "output_type": "execute_result"
    },
    {
     "data": {
      "image/png": "[encoded data removed]",
      "text/plain": [
       "<Figure size 432x288 with 1 Axes>"
      ]
     },
     "metadata": {
      "needs_background": "light"
     },
     "output_type": "display_data"
    }
   ],
   "source": [
    "plt.title('SkipGram Training Process')\n",
    "plt.xlabel('Itearations')\n",
    "plt.ylabel('Loss')\n",
    "plt.grid()\n",
    "plt.plot(losses)"
   ]
  },
  {
   "cell_type": "code",
   "execution_count": 63,
   "metadata": {},
   "outputs": [],
   "source": [
    "# проверка, что хоть что-то выучилось\n",
    "assert np.mean(losses[-1000:]) < 7.5"
   ]
  },
  {
   "cell_type": "code",
   "execution_count": 64,
   "metadata": {},
   "outputs": [],
   "source": [
    "embedding_matrix = model.in_embedding.weight.detach()"
   ]
  },
  {
   "cell_type": "code",
   "execution_count": 65,
   "metadata": {},
   "outputs": [],
   "source": [
    "def cos_sim(embedding_matrix, token2id, word1, word2):\n",
    "    \n",
    "    i1 = token2id[word1]\n",
    "    i2 = token2id[word2]\n",
    "    \n",
    "    v1, v2 = embedding_matrix[i1], embedding_matrix[i2]\n",
    "    \n",
    "    v1_n = v1.div(v1.norm(keepdim=True))\n",
    "    v2_n = v2.div(v2.norm(keepdim=True))\n",
    "    \n",
    "    similarity = torch.dot(v1_n, v2_n).item()\n",
    "    \n",
    "    return similarity"
   ]
  },
  {
   "cell_type": "markdown",
   "metadata": {},
   "source": [
    "# Косинусная близость\n",
    "От 0 до 1, где 0 - вектора абсолютно разные, где 1 - идентичные."
   ]
  },
  {
   "cell_type": "code",
   "execution_count": 66,
   "metadata": {},
   "outputs": [
    {
     "data": {
      "text/plain": [
       "0.8462210893630981"
      ]
     },
     "execution_count": 66,
     "metadata": {},
     "output_type": "execute_result"
    }
   ],
   "source": [
    "cos_sim(embedding_matrix, word2index, 'день', 'месяц')"
   ]
  },
  {
   "cell_type": "code",
   "execution_count": 67,
   "metadata": {},
   "outputs": [
    {
     "data": {
      "text/plain": [
       "0.631118893623352"
      ]
     },
     "execution_count": 67,
     "metadata": {},
     "output_type": "execute_result"
    }
   ],
   "source": [
    "cos_sim(embedding_matrix, word2index, 'минута', 'месяц')"
   ]
  },
  {
   "cell_type": "code",
   "execution_count": 68,
   "metadata": {},
   "outputs": [
    {
     "data": {
      "text/plain": [
       "0.9146569967269897"
      ]
     },
     "execution_count": 68,
     "metadata": {},
     "output_type": "execute_result"
    }
   ],
   "source": [
    "cos_sim(embedding_matrix, word2index, 'сотрудник', 'сотрудница')"
   ]
  },
  {
   "cell_type": "code",
   "execution_count": 69,
   "metadata": {},
   "outputs": [
    {
     "data": {
      "text/plain": [
       "0.45749640464782715"
      ]
     },
     "execution_count": 69,
     "metadata": {},
     "output_type": "execute_result"
    }
   ],
   "source": [
    "cos_sim(embedding_matrix, word2index, 'вклад', 'перевод')"
   ]
  },
  {
   "cell_type": "code",
   "execution_count": 70,
   "metadata": {},
   "outputs": [
    {
     "data": {
      "text/plain": [
       "'Косинусная близость слова \"день\" к случайному выбраному слову \"затрудниться\" равна 0.083'"
      ]
     },
     "execution_count": 70,
     "metadata": {},
     "output_type": "execute_result"
    }
   ],
   "source": [
    "random_word = random.choice(list(word2index.keys()))\n",
    "sim = cos_sim(embedding_matrix, word2index, 'день', random_word)\n",
    "'Косинусная близость слова \"день\" к случайному выбраному слову \"{}\" равна {:.3f}'.format(random_word, sim)"
   ]
  },
  {
   "cell_type": "code",
   "execution_count": 71,
   "metadata": {},
   "outputs": [],
   "source": [
    "freq = {}\n",
    "\n",
    "for text in corpus:\n",
    "    for token in text:\n",
    "        if token in freq:\n",
    "            freq[token] += 1\n",
    "        else:\n",
    "            freq[token] = 1"
   ]
  },
  {
   "cell_type": "code",
   "execution_count": 72,
   "metadata": {},
   "outputs": [],
   "source": [
    "sorted_freq = [(k, freq[k]) for k in sorted(freq, key=freq.get, reverse=True)]\n",
    "top_sorted_freq = sorted_freq[0:200]"
   ]
  },
  {
   "cell_type": "code",
   "execution_count": 73,
   "metadata": {},
   "outputs": [
    {
     "name": "stdout",
     "output_type": "stream",
     "text": [
      "[t-SNE] Computing 91 nearest neighbors...\n",
      "[t-SNE] Indexed 13115 samples in 0.050s...\n",
      "[t-SNE] Computed neighbors for 13115 samples in 15.635s...\n",
      "[t-SNE] Computed conditional probabilities for sample 1000 / 13115\n",
      "[t-SNE] Computed conditional probabilities for sample 2000 / 13115\n",
      "[t-SNE] Computed conditional probabilities for sample 3000 / 13115\n",
      "[t-SNE] Computed conditional probabilities for sample 4000 / 13115\n",
      "[t-SNE] Computed conditional probabilities for sample 5000 / 13115\n",
      "[t-SNE] Computed conditional probabilities for sample 6000 / 13115\n",
      "[t-SNE] Computed conditional probabilities for sample 7000 / 13115\n",
      "[t-SNE] Computed conditional probabilities for sample 8000 / 13115\n",
      "[t-SNE] Computed conditional probabilities for sample 9000 / 13115\n",
      "[t-SNE] Computed conditional probabilities for sample 10000 / 13115\n",
      "[t-SNE] Computed conditional probabilities for sample 11000 / 13115\n",
      "[t-SNE] Computed conditional probabilities for sample 12000 / 13115\n",
      "[t-SNE] Computed conditional probabilities for sample 13000 / 13115\n",
      "[t-SNE] Computed conditional probabilities for sample 13115 / 13115\n",
      "[t-SNE] Mean sigma: 0.922901\n",
      "[t-SNE] Computed conditional probabilities in 1.149s\n",
      "[t-SNE] Iteration 50: error = 97.1264877, gradient norm = 0.0000008 (50 iterations in 21.313s)\n",
      "[t-SNE] Iteration 100: error = 97.1274109, gradient norm = 0.0000000 (50 iterations in 7.726s)\n",
      "[t-SNE] Iteration 100: gradient norm 0.000000. Finished.\n",
      "[t-SNE] KL divergence after 100 iterations with early exaggeration: 97.127411\n",
      "[t-SNE] Iteration 150: error = 5.5969758, gradient norm = 0.0000442 (50 iterations in 10.679s)\n",
      "[t-SNE] Iteration 200: error = 4.8533568, gradient norm = 0.0017953 (50 iterations in 29.238s)\n",
      "[t-SNE] Iteration 250: error = 4.5545955, gradient norm = 0.0005423 (50 iterations in 30.417s)\n",
      "[t-SNE] Iteration 300: error = 4.4303002, gradient norm = 0.0003325 (50 iterations in 21.150s)\n",
      "[t-SNE] Iteration 350: error = 4.3507090, gradient norm = 0.0002259 (50 iterations in 20.894s)\n",
      "[t-SNE] Iteration 400: error = 4.2933435, gradient norm = 0.0001674 (50 iterations in 15.539s)\n",
      "[t-SNE] Iteration 450: error = 4.2485418, gradient norm = 0.0001313 (50 iterations in 13.939s)\n",
      "[t-SNE] Iteration 500: error = 4.2127528, gradient norm = 0.0001058 (50 iterations in 19.957s)\n",
      "[t-SNE] Iteration 550: error = 4.1833539, gradient norm = 0.0000905 (50 iterations in 16.469s)\n",
      "[t-SNE] Iteration 600: error = 4.1589618, gradient norm = 0.0000772 (50 iterations in 18.570s)\n",
      "[t-SNE] Iteration 650: error = 4.1384635, gradient norm = 0.0000666 (50 iterations in 14.260s)\n",
      "[t-SNE] Iteration 700: error = 4.1210957, gradient norm = 0.0000594 (50 iterations in 17.667s)\n",
      "[t-SNE] Iteration 750: error = 4.1065717, gradient norm = 0.0000531 (50 iterations in 20.074s)\n",
      "[t-SNE] Iteration 800: error = 4.0937910, gradient norm = 0.0000475 (50 iterations in 15.646s)\n",
      "[t-SNE] Iteration 850: error = 4.0827270, gradient norm = 0.0000438 (50 iterations in 12.746s)\n",
      "[t-SNE] Iteration 900: error = 4.0732284, gradient norm = 0.0000419 (50 iterations in 12.781s)\n",
      "[t-SNE] Iteration 950: error = 4.0650010, gradient norm = 0.0000404 (50 iterations in 20.256s)\n",
      "[t-SNE] Iteration 1000: error = 4.0579834, gradient norm = 0.0000365 (50 iterations in 12.803s)\n",
      "[t-SNE] KL divergence after 1000 iterations: 4.057983\n"
     ]
    }
   ],
   "source": [
    "tsne = TSNE(n_components=2, init='pca', random_state=42, verbose=2)\n",
    "reduced = tsne.fit_transform(embedding_matrix)"
   ]
  },
  {
   "cell_type": "code",
   "execution_count": 74,
   "metadata": {},
   "outputs": [],
   "source": [
    "top_words = [a for a,_ in top_sorted_freq]"
   ]
  },
  {
   "cell_type": "code",
   "execution_count": 75,
   "metadata": {},
   "outputs": [],
   "source": [
    "inds = [word2index[word] for word in top_words]\n",
    "x_coords = [coords[0] for coords in reduced[inds]]\n",
    "y_coords = [coords[1] for coords in reduced[inds]]"
   ]
  },
  {
   "cell_type": "code",
   "execution_count": 76,
   "metadata": {},
   "outputs": [
    {
     "data": {
      "image/png": "[encoded data removed]",
      "text/plain": [
       "<Figure size 432x288 with 1 Axes>"
      ]
     },
     "metadata": {
      "needs_background": "light"
     },
     "output_type": "display_data"
    }
   ],
   "source": [
    "for (x, y, word) in zip(x_coords, y_coords, top_words):\n",
    "    plt.scatter(x, y, marker='.', color='blue')\n",
    "    plt.text(x+0.01, y+0.01, word, fontsize=9)\n",
    "plt.show()"
   ]
  },
  {
   "cell_type": "code",
   "execution_count": null,
   "metadata": {},
   "outputs": [],
   "source": []
  }
 ],
 "metadata": {
  "kernelspec": {
   "display_name": "Python 3",
   "language": "python",
   "name": "python3"
  },
  "language_info": {
   "codemirror_mode": {
    "name": "ipython",
    "version": 3
   },
   "file_extension": ".py",
   "mimetype": "text/x-python",
   "name": "python",
   "nbconvert_exporter": "python",
   "pygments_lexer": "ipython3",
   "version": "3.7.3"
  }
 },
 "nbformat": 4,
 "nbformat_minor": 2
}

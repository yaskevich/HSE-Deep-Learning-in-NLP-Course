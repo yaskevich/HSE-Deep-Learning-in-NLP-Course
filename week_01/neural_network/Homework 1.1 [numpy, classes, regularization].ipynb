{
 "cells": [
  {
   "cell_type": "code",
   "execution_count": 1,
   "metadata": {},
   "outputs": [],
   "source": [
    "import numpy as np\n",
    "\n",
    "from sklearn.metrics import classification_report\n",
    "\n",
    "import torch\n",
    "from torch.utils.data import DataLoader\n",
    "from torchvision.datasets import MNIST\n",
    "from torchvision import transforms\n",
    "\n",
    "import matplotlib.pyplot as plt\n",
    "\n",
    "from tqdm import tqdm\n",
    "\n",
    "from sklearn.metrics import accuracy_score\n",
    "\n",
    "import time"
   ]
  },
  {
   "cell_type": "markdown",
   "metadata": {},
   "source": [
    "# Это домашка на 5 баллов\n",
    "## Остальные 5 баллов за домашку будут на word2vec (следующее занятие)"
   ]
  },
  {
   "cell_type": "markdown",
   "metadata": {},
   "source": [
    "# Датасет\n",
    "Мы его просто загрузим и здесь пока будет какая-то торчовая магия, которую мы разберем на следующем занятии"
   ]
  },
  {
   "cell_type": "markdown",
   "metadata": {},
   "source": [
    "### Не стоит пока об этом задумываться, это просто нормализация для картинок"
   ]
  },
  {
   "cell_type": "code",
   "execution_count": 2,
   "metadata": {},
   "outputs": [],
   "source": [
    "transform = transforms.Compose([\n",
    "    transforms.ToTensor(),\n",
    "    transforms.Normalize((0.1307,), (0.3081,))\n",
    "])"
   ]
  },
  {
   "cell_type": "markdown",
   "metadata": {},
   "source": [
    "## Загружаем датасет"
   ]
  },
  {
   "cell_type": "code",
   "execution_count": 3,
   "metadata": {},
   "outputs": [],
   "source": [
    "train_dataset = MNIST('.', train=True, download=True, transform=transform)\n",
    "test_dataset = MNIST('.', train=False, transform=transform)"
   ]
  },
  {
   "cell_type": "markdown",
   "metadata": {},
   "source": [
    "## Переводим его в два класса"
   ]
  },
  {
   "cell_type": "code",
   "execution_count": 4,
   "metadata": {},
   "outputs": [],
   "source": [
    "train_dataset.data = train_dataset.data[(train_dataset.targets == 3) | (train_dataset.targets == 7)]\n",
    "train_dataset.targets = train_dataset.targets[(train_dataset.targets == 3) | (train_dataset.targets == 7)]\n",
    "\n",
    "test_dataset.data = test_dataset.data[(test_dataset.targets == 3) | (test_dataset.targets == 7)]\n",
    "test_dataset.targets = test_dataset.targets[(test_dataset.targets == 3) | (test_dataset.targets == 7)]\n",
    "\n",
    "train_dataset.targets = (train_dataset.targets == 7).long()\n",
    "test_dataset.targets = (test_dataset.targets == 7).long()"
   ]
  },
  {
   "cell_type": "markdown",
   "metadata": {},
   "source": [
    "## Оборачиваем в итератор данных"
   ]
  },
  {
   "cell_type": "code",
   "execution_count": 5,
   "metadata": {},
   "outputs": [],
   "source": [
    "train_loader = DataLoader(train_dataset, batch_size=128, shuffle=True)\n",
    "test_loader = DataLoader(test_dataset, batch_size=128, shuffle=False)"
   ]
  },
  {
   "cell_type": "markdown",
   "metadata": {},
   "source": [
    "## Порисуем данные"
   ]
  },
  {
   "cell_type": "code",
   "execution_count": 6,
   "metadata": {},
   "outputs": [
    {
     "data": {
      "image/png": "[encoded data removed]",
      "text/plain": [
       "<Figure size 432x504 with 25 Axes>"
      ]
     },
     "metadata": {
      "needs_background": "light"
     },
     "output_type": "display_data"
    }
   ],
   "source": [
    "X, y = next(iter(train_loader))\n",
    "X = X.numpy()\n",
    "y = y.numpy()\n",
    "\n",
    "plt.figure(figsize=(6, 7))\n",
    "for i in range(25):\n",
    "    plt.subplot(5, 5, i+1)\n",
    "    plt.imshow(X[i].reshape(28, 28), cmap=plt.cm.Greys_r)\n",
    "    plt.title(y[i])\n",
    "    plt.axis('off')"
   ]
  },
  {
   "cell_type": "markdown",
   "metadata": {},
   "source": [
    "# Пояснения\n",
    "### классу 0 соответствует цифра 3\n",
    "### классу 1 соответствует цифра 7\n",
    "#### Выбрал эти цифры, потому что на них хуже всего метрики"
   ]
  },
  {
   "cell_type": "markdown",
   "metadata": {},
   "source": [
    "# Итерация по датасету\n",
    "# А вот сюда стоит обратить внимание"
   ]
  },
  {
   "cell_type": "code",
   "execution_count": 7,
   "metadata": {},
   "outputs": [],
   "source": [
    "for x, y in train_loader:\n",
    "    break"
   ]
  },
  {
   "cell_type": "markdown",
   "metadata": {},
   "source": [
    "## Размерность x\n",
    "- 128 - размер батча\n",
    "- 1 - количество каналов, у нас чернобелые картинки, поэтому канал 1\n",
    "- 28 - количество пикселей в длину\n",
    "- 28 - количество пикселей в ширину"
   ]
  },
  {
   "cell_type": "code",
   "execution_count": 8,
   "metadata": {},
   "outputs": [
    {
     "data": {
      "text/plain": [
       "torch.Size([128, 1, 28, 28])"
      ]
     },
     "execution_count": 8,
     "metadata": {},
     "output_type": "execute_result"
    }
   ],
   "source": [
    "x.shape"
   ]
  },
  {
   "cell_type": "code",
   "execution_count": 9,
   "metadata": {},
   "outputs": [
    {
     "data": {
      "text/plain": [
       "tensor([[[[-0.4242, -0.4242, -0.4242,  ..., -0.4242, -0.4242, -0.4242],\n",
       "          [-0.4242, -0.4242, -0.4242,  ..., -0.4242, -0.4242, -0.4242],\n",
       "          [-0.4242, -0.4242, -0.4242,  ..., -0.4242, -0.4242, -0.4242],\n",
       "          ...,\n",
       "          [-0.4242, -0.4242, -0.4242,  ..., -0.4242, -0.4242, -0.4242],\n",
       "          [-0.4242, -0.4242, -0.4242,  ..., -0.4242, -0.4242, -0.4242],\n",
       "          [-0.4242, -0.4242, -0.4242,  ..., -0.4242, -0.4242, -0.4242]]],\n",
       "\n",
       "\n",
       "        [[[-0.4242, -0.4242, -0.4242,  ..., -0.4242, -0.4242, -0.4242],\n",
       "          [-0.4242, -0.4242, -0.4242,  ..., -0.4242, -0.4242, -0.4242],\n",
       "          [-0.4242, -0.4242, -0.4242,  ..., -0.4242, -0.4242, -0.4242],\n",
       "          ...,\n",
       "          [-0.4242, -0.4242, -0.4242,  ..., -0.4242, -0.4242, -0.4242],\n",
       "          [-0.4242, -0.4242, -0.4242,  ..., -0.4242, -0.4242, -0.4242],\n",
       "          [-0.4242, -0.4242, -0.4242,  ..., -0.4242, -0.4242, -0.4242]]],\n",
       "\n",
       "\n",
       "        [[[-0.4242, -0.4242, -0.4242,  ..., -0.4242, -0.4242, -0.4242],\n",
       "          [-0.4242, -0.4242, -0.4242,  ..., -0.4242, -0.4242, -0.4242],\n",
       "          [-0.4242, -0.4242, -0.4242,  ..., -0.4242, -0.4242, -0.4242],\n",
       "          ...,\n",
       "          [-0.4242, -0.4242, -0.4242,  ..., -0.4242, -0.4242, -0.4242],\n",
       "          [-0.4242, -0.4242, -0.4242,  ..., -0.4242, -0.4242, -0.4242],\n",
       "          [-0.4242, -0.4242, -0.4242,  ..., -0.4242, -0.4242, -0.4242]]],\n",
       "\n",
       "\n",
       "        ...,\n",
       "\n",
       "\n",
       "        [[[-0.4242, -0.4242, -0.4242,  ..., -0.4242, -0.4242, -0.4242],\n",
       "          [-0.4242, -0.4242, -0.4242,  ..., -0.4242, -0.4242, -0.4242],\n",
       "          [-0.4242, -0.4242, -0.4242,  ..., -0.4242, -0.4242, -0.4242],\n",
       "          ...,\n",
       "          [-0.4242, -0.4242, -0.4242,  ..., -0.4242, -0.4242, -0.4242],\n",
       "          [-0.4242, -0.4242, -0.4242,  ..., -0.4242, -0.4242, -0.4242],\n",
       "          [-0.4242, -0.4242, -0.4242,  ..., -0.4242, -0.4242, -0.4242]]],\n",
       "\n",
       "\n",
       "        [[[-0.4242, -0.4242, -0.4242,  ..., -0.4242, -0.4242, -0.4242],\n",
       "          [-0.4242, -0.4242, -0.4242,  ..., -0.4242, -0.4242, -0.4242],\n",
       "          [-0.4242, -0.4242, -0.4242,  ..., -0.4242, -0.4242, -0.4242],\n",
       "          ...,\n",
       "          [-0.4242, -0.4242, -0.4242,  ..., -0.4242, -0.4242, -0.4242],\n",
       "          [-0.4242, -0.4242, -0.4242,  ..., -0.4242, -0.4242, -0.4242],\n",
       "          [-0.4242, -0.4242, -0.4242,  ..., -0.4242, -0.4242, -0.4242]]],\n",
       "\n",
       "\n",
       "        [[[-0.4242, -0.4242, -0.4242,  ..., -0.4242, -0.4242, -0.4242],\n",
       "          [-0.4242, -0.4242, -0.4242,  ..., -0.4242, -0.4242, -0.4242],\n",
       "          [-0.4242, -0.4242, -0.4242,  ..., -0.4242, -0.4242, -0.4242],\n",
       "          ...,\n",
       "          [-0.4242, -0.4242, -0.4242,  ..., -0.4242, -0.4242, -0.4242],\n",
       "          [-0.4242, -0.4242, -0.4242,  ..., -0.4242, -0.4242, -0.4242],\n",
       "          [-0.4242, -0.4242, -0.4242,  ..., -0.4242, -0.4242, -0.4242]]]])"
      ]
     },
     "execution_count": 9,
     "metadata": {},
     "output_type": "execute_result"
    }
   ],
   "source": [
    "x"
   ]
  },
  {
   "cell_type": "markdown",
   "metadata": {},
   "source": [
    "## Просто выпрямим нашу матрицу в один вектор\n",
    "### Для нашей игрушечной задачи для поучиться будет достаточно"
   ]
  },
  {
   "cell_type": "code",
   "execution_count": 10,
   "metadata": {},
   "outputs": [
    {
     "data": {
      "text/plain": [
       "(128, 784)"
      ]
     },
     "execution_count": 10,
     "metadata": {},
     "output_type": "execute_result"
    }
   ],
   "source": [
    "x.view(x.shape[0], -1).numpy().shape"
   ]
  },
  {
   "cell_type": "code",
   "execution_count": 11,
   "metadata": {},
   "outputs": [],
   "source": [
    "for x, y in train_loader:\n",
    "    x = x.view(x.shape[0], -1).numpy()\n",
    "    y = y.numpy()\n",
    "    break"
   ]
  },
  {
   "cell_type": "code",
   "execution_count": 12,
   "metadata": {},
   "outputs": [
    {
     "data": {
      "text/plain": [
       "array([[-0.42421296, -0.42421296, -0.42421296, ..., -0.42421296,\n",
       "        -0.42421296, -0.42421296],\n",
       "       [-0.42421296, -0.42421296, -0.42421296, ..., -0.42421296,\n",
       "        -0.42421296, -0.42421296],\n",
       "       [-0.42421296, -0.42421296, -0.42421296, ..., -0.42421296,\n",
       "        -0.42421296, -0.42421296],\n",
       "       ...,\n",
       "       [-0.42421296, -0.42421296, -0.42421296, ..., -0.42421296,\n",
       "        -0.42421296, -0.42421296],\n",
       "       [-0.42421296, -0.42421296, -0.42421296, ..., -0.42421296,\n",
       "        -0.42421296, -0.42421296],\n",
       "       [-0.42421296, -0.42421296, -0.42421296, ..., -0.42421296,\n",
       "        -0.42421296, -0.42421296]], dtype=float32)"
      ]
     },
     "execution_count": 12,
     "metadata": {},
     "output_type": "execute_result"
    }
   ],
   "source": [
    "x"
   ]
  },
  {
   "cell_type": "markdown",
   "metadata": {},
   "source": [
    "### Размерность\n",
    "- количество примеров в батче\n",
    "- количество фичей"
   ]
  },
  {
   "cell_type": "code",
   "execution_count": 13,
   "metadata": {},
   "outputs": [
    {
     "data": {
      "text/plain": [
       "(128, 784)"
      ]
     },
     "execution_count": 13,
     "metadata": {},
     "output_type": "execute_result"
    }
   ],
   "source": [
    "x.shape"
   ]
  },
  {
   "cell_type": "markdown",
   "metadata": {},
   "source": [
    "# Наши бинарные таргеты"
   ]
  },
  {
   "cell_type": "code",
   "execution_count": 14,
   "metadata": {},
   "outputs": [
    {
     "data": {
      "text/plain": [
       "array([0, 0, 1, 0, 0, 1, 0, 0, 0, 1, 1, 0, 0, 1, 0, 1, 0, 1, 1, 0, 0, 0,\n",
       "       1, 0, 0, 1, 0, 0, 0, 1, 1, 0, 1, 0, 0, 0, 0, 1, 0, 0, 0, 1, 1, 0,\n",
       "       0, 1, 1, 1, 1, 1, 1, 1, 1, 1, 1, 1, 0, 1, 0, 0, 0, 1, 0, 0, 0, 1,\n",
       "       1, 0, 0, 1, 0, 1, 1, 0, 1, 1, 1, 0, 1, 0, 1, 0, 0, 1, 1, 1, 0, 0,\n",
       "       0, 0, 0, 1, 1, 0, 0, 1, 0, 1, 1, 1, 0, 1, 1, 0, 0, 1, 0, 1, 0, 1,\n",
       "       1, 0, 0, 1, 1, 1, 1, 1, 0, 1, 1, 1, 1, 0, 1, 1, 1, 0], dtype=int64)"
      ]
     },
     "execution_count": 14,
     "metadata": {},
     "output_type": "execute_result"
    }
   ],
   "source": [
    "y"
   ]
  },
  {
   "cell_type": "code",
   "execution_count": 15,
   "metadata": {},
   "outputs": [],
   "source": [
    "# давайте ее исправим"
   ]
  },
  {
   "cell_type": "code",
   "execution_count": 16,
   "metadata": {},
   "outputs": [],
   "source": [
    "y = np.expand_dims(y, 1)"
   ]
  },
  {
   "cell_type": "code",
   "execution_count": 17,
   "metadata": {},
   "outputs": [
    {
     "data": {
      "text/plain": [
       "array([[0],\n",
       "       [0],\n",
       "       [1],\n",
       "       [0],\n",
       "       [0],\n",
       "       [1],\n",
       "       [0],\n",
       "       [0],\n",
       "       [0],\n",
       "       [1],\n",
       "       [1],\n",
       "       [0],\n",
       "       [0],\n",
       "       [1],\n",
       "       [0],\n",
       "       [1],\n",
       "       [0],\n",
       "       [1],\n",
       "       [1],\n",
       "       [0],\n",
       "       [0],\n",
       "       [0],\n",
       "       [1],\n",
       "       [0],\n",
       "       [0],\n",
       "       [1],\n",
       "       [0],\n",
       "       [0],\n",
       "       [0],\n",
       "       [1],\n",
       "       [1],\n",
       "       [0],\n",
       "       [1],\n",
       "       [0],\n",
       "       [0],\n",
       "       [0],\n",
       "       [0],\n",
       "       [1],\n",
       "       [0],\n",
       "       [0],\n",
       "       [0],\n",
       "       [1],\n",
       "       [1],\n",
       "       [0],\n",
       "       [0],\n",
       "       [1],\n",
       "       [1],\n",
       "       [1],\n",
       "       [1],\n",
       "       [1],\n",
       "       [1],\n",
       "       [1],\n",
       "       [1],\n",
       "       [1],\n",
       "       [1],\n",
       "       [1],\n",
       "       [0],\n",
       "       [1],\n",
       "       [0],\n",
       "       [0],\n",
       "       [0],\n",
       "       [1],\n",
       "       [0],\n",
       "       [0],\n",
       "       [0],\n",
       "       [1],\n",
       "       [1],\n",
       "       [0],\n",
       "       [0],\n",
       "       [1],\n",
       "       [0],\n",
       "       [1],\n",
       "       [1],\n",
       "       [0],\n",
       "       [1],\n",
       "       [1],\n",
       "       [1],\n",
       "       [0],\n",
       "       [1],\n",
       "       [0],\n",
       "       [1],\n",
       "       [0],\n",
       "       [0],\n",
       "       [1],\n",
       "       [1],\n",
       "       [1],\n",
       "       [0],\n",
       "       [0],\n",
       "       [0],\n",
       "       [0],\n",
       "       [0],\n",
       "       [1],\n",
       "       [1],\n",
       "       [0],\n",
       "       [0],\n",
       "       [1],\n",
       "       [0],\n",
       "       [1],\n",
       "       [1],\n",
       "       [1],\n",
       "       [0],\n",
       "       [1],\n",
       "       [1],\n",
       "       [0],\n",
       "       [0],\n",
       "       [1],\n",
       "       [0],\n",
       "       [1],\n",
       "       [0],\n",
       "       [1],\n",
       "       [1],\n",
       "       [0],\n",
       "       [0],\n",
       "       [1],\n",
       "       [1],\n",
       "       [1],\n",
       "       [1],\n",
       "       [1],\n",
       "       [0],\n",
       "       [1],\n",
       "       [1],\n",
       "       [1],\n",
       "       [1],\n",
       "       [0],\n",
       "       [1],\n",
       "       [1],\n",
       "       [1],\n",
       "       [0]], dtype=int64)"
      ]
     },
     "execution_count": 17,
     "metadata": {},
     "output_type": "execute_result"
    }
   ],
   "source": [
    "y"
   ]
  },
  {
   "cell_type": "code",
   "execution_count": 18,
   "metadata": {},
   "outputs": [
    {
     "data": {
      "text/plain": [
       "array([[-0.        , -0.        , -0.        , ..., -0.        ,\n",
       "        -0.        , -0.        ],\n",
       "       [-0.        , -0.        , -0.        , ..., -0.        ,\n",
       "        -0.        , -0.        ],\n",
       "       [-0.42421296, -0.42421296, -0.42421296, ..., -0.42421296,\n",
       "        -0.42421296, -0.42421296],\n",
       "       ...,\n",
       "       [-0.42421296, -0.42421296, -0.42421296, ..., -0.42421296,\n",
       "        -0.42421296, -0.42421296],\n",
       "       [-0.42421296, -0.42421296, -0.42421296, ..., -0.42421296,\n",
       "        -0.42421296, -0.42421296],\n",
       "       [-0.        , -0.        , -0.        , ..., -0.        ,\n",
       "        -0.        , -0.        ]])"
      ]
     },
     "execution_count": 18,
     "metadata": {},
     "output_type": "execute_result"
    }
   ],
   "source": [
    "x * y"
   ]
  },
  {
   "cell_type": "code",
   "execution_count": 19,
   "metadata": {},
   "outputs": [],
   "source": [
    "# исправили"
   ]
  },
  {
   "cell_type": "markdown",
   "metadata": {},
   "source": [
    "# Итерация по эпохам"
   ]
  },
  {
   "cell_type": "code",
   "execution_count": 20,
   "metadata": {},
   "outputs": [
    {
     "name": "stdout",
     "output_type": "stream",
     "text": [
      "Эпоха - 1, прошли - 100.00 % датасета\n",
      "Эпоха - 2, прошли - 100.00 % датасета\n",
      "Эпоха - 3, прошли - 100.00 % датасета\n"
     ]
    }
   ],
   "source": [
    "epochs = 3\n",
    "\n",
    "for n_epoch in range(epochs):\n",
    "    \n",
    "    dataset_passed_samples = 0\n",
    "    \n",
    "    for x, y in train_loader:\n",
    "        \n",
    "        # вот здесь мы могли бы как-то манипулировать с данными, например, учить, но пока этого делать не будет\n",
    "        \n",
    "        time.sleep(0.05)\n",
    "        \n",
    "        dataset_passed_samples += x.shape[0]\n",
    "        \n",
    "        dataset_passed_percent = dataset_passed_samples * 100 / train_loader.dataset.data.shape[0]\n",
    "        \n",
    "        print(f'Эпоха - {n_epoch + 1}, прошли - {dataset_passed_percent:.2f} % датасета', end='\\r')\n",
    "        \n",
    "    print('\\r')"
   ]
  },
  {
   "cell_type": "markdown",
   "metadata": {},
   "source": [
    "# Давайте поучим пока не очень красиво нашу 2-х слойную нейронку"
   ]
  },
  {
   "cell_type": "markdown",
   "metadata": {},
   "source": [
    "## 3 балла"
   ]
  },
  {
   "cell_type": "markdown",
   "metadata": {},
   "source": [
    "### Шаги:\n",
    "0. Задайте обучаемые параметры (TIP: np.random.rand) и скорость обучения для градиентного спуска.\n",
    "1. Линейная трансформация через первый слой\n",
    "1. Применение какой-нибудь нелийной функции активации\n",
    "1. Линейная трансформация через второй слой\n",
    "1. Примените какую-нибудь функцию, которая хорошая для бинарной классификации, чтобы перейти к вероятностям классов\n",
    "1. Рассчитайте функцию потерь (бинарная кросс энтропия), не забудьте усреднить по батчу\n",
    "1. Возьмите производные от функции потерь к каждому обучаемому параметру [видео про производные](https://youtu.be/tZ0yCzWfbZc)\n",
    "1. Обновите веса w1, b1, w2, b2 с помощью градиентного спуска\n",
    "1. Сохраняйте значения функции потерь и нарисуйте ее график"
   ]
  },
  {
   "cell_type": "markdown",
   "metadata": {},
   "source": [
    "- TIP: количество входных фичей - 784 (28 пикселей * 28 пикселей)\n",
    "- TIP: в шаге 0 домножьте w1, w2 на 0.01, а b1, b2 инициализируйте нулями\n",
    "- TIP: в backward функции потерь по предсказаниям вашей модели нужно разделить еще на количество примеров в батче\n",
    "- TIP: каждый следующий градиент рассчитывайте умножая на предыдущий\n",
    "\n",
    "## Если вам сложно, сделайте сначала для одного слоя"
   ]
  },
  {
   "cell_type": "code",
   "execution_count": 124,
   "metadata": {},
   "outputs": [
    {
     "name": "stdout",
     "output_type": "stream",
     "text": [
      "Epoch: 1\n"
     ]
    }
   ],
   "source": [
    "### КОД СЮДА ###\n",
    "\n",
    "learning_rate = 0.001\n",
    "epochs = 1\n",
    "rglrz = 0.01\n",
    "\n",
    "\n",
    "def sigmoid(s):\n",
    "    return 1/(1+np.exp(-s))\n",
    "\n",
    "def bce(a, b):    \n",
    "    return np.sum(-b * np.log(a) - (1 - b) * np.log(1 - a))/b.shape[0]\n",
    "\n",
    "in_features = 784\n",
    "out_features = 32\n",
    "\n",
    "w1 = np.random.rand(in_features, out_features) * 0.01\n",
    "b1 = np.zeros(out_features)\n",
    "w2 = np.random.rand(out_features, 1) * 0.01\n",
    "b2 = np.zeros(out_features)\n",
    "\n",
    "losses = []\n",
    "\n",
    "for n_epoch in range(epochs):\n",
    "    \n",
    "    print(f'Epoch: {n_epoch + 1}')\n",
    "    \n",
    "    for x, y in train_loader:        \n",
    "        x = x.view(x.shape[0], -1).numpy()\n",
    "        m = x.shape[0]\n",
    "        mm = x.shape[1]\n",
    "        \n",
    "        y = np.expand_dims(y.numpy(), 1)\n",
    "    \n",
    "        ### КОД СЮДА ###        \n",
    "        # forward\n",
    "        z1 = x.dot(w1) + b1        \n",
    "        a1 = sigmoid(z1)       \n",
    "        z2 = a1.dot(w2) + b2 \n",
    "        a2 = sigmoid(z2)\n",
    "          \n",
    "        # рассчет bce\n",
    "        xntr = bce(a2, y)\n",
    "       \n",
    "        # backward       \n",
    "#       d_loss/d_pred - градиент функции потерь по pred - (BATCH_SIZE, 1)\n",
    "        d_loss_d_pred = -(y/a2 - ((1 - y)/(1-a2)))\n",
    "#       d_pred/dz2 - градиент сигмоиды по z2 - (BATCH_SIZE, 1)\n",
    "\n",
    "        d_pred_dz2 = d_loss_d_pred * (sigmoid(z2)*(1-sigmoid(z2)))\n",
    "#       dz2/da1 - градиент линейного преобразования по a1 - (BATCH_SIZE, INNER_FEATURES)\n",
    "        dz2_da1 = d_pred_dz2.dot(w2)\n",
    "#       dz2/dw2 - градиент линейного преобразования по w2 - (INNER_FEATURES, 1)\n",
    "        dz2_dw2 = dz2_da1.T.dot(a1)\n",
    "#       dz2/db2 - градиент линейного преобразования по b2 - (1,)\n",
    "        dz2_db2 = dz2_da1 * np.ones(b2.shape)\n",
    "#       da1/dz1 - градиент нелинейной функции по z1 - (BATCH_SIZE, INNER_FEATURES)\n",
    "        da1_dz1 = dz2_da1 *  sigmoid(z1)*(1-sigmoid(z1))\n",
    "#       dz1/dw1 - градиент линейного преобразования по w1 - (IN_FEATURES, INNER_FEATURES)\n",
    "        dz1_dw1 = da1_dz1.T.dot(x)\n",
    "#       dz1/db1 - градиент линейного преобразования по b1 - (INNER_FEATURES,)\n",
    "        dz1_db1 = da1_dz1 * np.ones(b1.shape)\n",
    "      \n",
    "    \n",
    "#       dw1 = a1.T.dot(da1)/in_features\n",
    "#       dw2 = a2.T.dot(da2)/out_features\n",
    "        \n",
    "        # gradient descent, with regularization\n",
    "        w1 -= learning_rate * dz1_dw1.T + (rglrz/mm) * w1\n",
    "        w2 -= learning_rate * dz2_dw2.T + (rglrz/mm) * w2\n",
    "        \n",
    "        b1 -= learning_rate * np.sum(dz2_db2, axis=0)\n",
    "        b2 -= learning_rate * np.sum(dz1_db1, axis=0)\n",
    "        \n",
    "#       b2 = np.sum(da1)/m\n",
    "#       b1 = np.sum(da2)/m                \n",
    "        \n",
    "        losses.append(xntr/x.shape[0])\n",
    "        \n",
    "        "
   ]
  },
  {
   "cell_type": "markdown",
   "metadata": {},
   "source": [
    "## Подсказки по размерностям\n",
    "\n",
    "### Forward\n",
    "\n",
    "- z1 - первое линейное преобразование - (BATCH_SIZE, INNER_FEATURES)\n",
    "- a1 - Применение нелинейности - (BATCH_SIZE, INNER_FEATURES)\n",
    "- z2 - второе нелинейное преобразование - (BATCH_SIZE, 1)\n",
    "- pred - сигмоида - (BATCH_SIZE, 1)\n",
    "- loss - функция потерь - скаляр\n",
    "\n",
    "### Backward\n",
    "\n",
    "- d_loss/d_pred - градиент функции потерь по pred - (BATCH_SIZE, 1)\n",
    "- d_pred/dz2 - градиент сигмоиды по z2 - (BATCH_SIZE, 1)\n",
    "- dz2/da1 - градиент линейного преобразования по a1 - (BATCH_SIZE, INNER_FEATURES)\n",
    "- dz2/dw2 - градиент линейного преобразования по w2 - (INNER_FEATURES, 1)\n",
    "- dz2/db2 - градиент линейного преобразования по b2 - (1,)\n",
    "- da1/dz1 - градиент нелинейной функции по z1 - (BATCH_SIZE, INNER_FEATURES)\n",
    "- dz1/dw1 - градиент линейного преобразования по w1 - (IN_FEATURES, INNER_FEATURES)\n",
    "- dz1/db1 - градиент линейного преобразования по b1 - (INNER_FEATURES,)"
   ]
  },
  {
   "cell_type": "markdown",
   "metadata": {},
   "source": [
    "# Значение функции потерь на уровне 0.1 это уже выше 90% точности"
   ]
  },
  {
   "cell_type": "code",
   "execution_count": 125,
   "metadata": {},
   "outputs": [
    {
     "data": {
      "image/png": "[encoded data removed]",
      "text/plain": [
       "<Figure size 1008x864 with 1 Axes>"
      ]
     },
     "metadata": {
      "needs_background": "light"
     },
     "output_type": "display_data"
    }
   ],
   "source": [
    "plt.figure(figsize=(14, 12))\n",
    "plt.plot(losses)\n",
    "plt.grid()\n",
    "plt.title('Training process')\n",
    "plt.xlabel('Iterations')\n",
    "plt.ylabel('Loss function');"
   ]
  },
  {
   "cell_type": "markdown",
   "metadata": {},
   "source": [
    "# По крутому"
   ]
  },
  {
   "cell_type": "markdown",
   "metadata": {},
   "source": [
    "## 2 балла"
   ]
  },
  {
   "cell_type": "markdown",
   "metadata": {},
   "source": [
    "# Импортируем нашу библиотеку\n",
    "\n",
    "## Реализуйте такие слои:\n",
    "- Linear - линейная трансформация (не забудьте, что у нас там как раз есть обучаемые параметры)\n",
    "- ReLU\n",
    "- BCELoss - Binary Cross Entropy\n",
    "\n",
    "\n",
    "## Вы можете реализовать как здесь, так и в файла layers\n",
    "\n",
    "- TIP: np.expand_dims(y, 1) для BCE, так как BCE на вход принимает просто вектор размерностью (батч сайз, )\n",
    "\n",
    "## Также внутри layers есть код для Negative Log-Likelihood (сразу с софтмаксом)"
   ]
  },
  {
   "cell_type": "code",
   "execution_count": 23,
   "metadata": {},
   "outputs": [],
   "source": [
    "from our_library import layers, wrapper, tools"
   ]
  },
  {
   "cell_type": "markdown",
   "metadata": {},
   "source": [
    "# Пример, который мы разбирали в [видео про производные](https://youtu.be/tZ0yCzWfbZc)"
   ]
  },
  {
   "cell_type": "code",
   "execution_count": 24,
   "metadata": {},
   "outputs": [],
   "source": [
    "class Sigmoid:\n",
    "\n",
    "    def __init__(self):\n",
    "\n",
    "        self._sigmoid_result = None\n",
    "\n",
    "    def forward(self, x):\n",
    "\n",
    "        self._sigmoid_result = 1 / (1 + np.exp(-x))\n",
    "\n",
    "        return self._sigmoid_result\n",
    "\n",
    "    def backward(self, grad):\n",
    "        \"\"\"\n",
    "        :grad: градиент от предыдущего слоя\n",
    "        :return: градиент для следующего слоя\n",
    "        \"\"\"\n",
    "\n",
    "        new_grad = self._sigmoid_result * (1 - self._sigmoid_result) * grad\n",
    "\n",
    "        return new_grad\n",
    "\n",
    "    def step(self, learning_step):\n",
    "\n",
    "        pass"
   ]
  },
  {
   "cell_type": "markdown",
   "metadata": {},
   "source": [
    "# Пример работы тестов"
   ]
  },
  {
   "cell_type": "code",
   "execution_count": 25,
   "metadata": {},
   "outputs": [],
   "source": [
    "x = np.array([[0.91551091, 0.15073826, 0.77137556, 0.59352491],\n",
    "              [0.81126142, 0.1194849 , 0.29651178, 0.19066982]])"
   ]
  },
  {
   "cell_type": "code",
   "execution_count": 26,
   "metadata": {},
   "outputs": [],
   "source": [
    "sigmoid_layer = Sigmoid()"
   ]
  },
  {
   "cell_type": "code",
   "execution_count": 27,
   "metadata": {},
   "outputs": [],
   "source": [
    "forward_result = sigmoid_layer.forward(x)"
   ]
  },
  {
   "cell_type": "code",
   "execution_count": 28,
   "metadata": {},
   "outputs": [],
   "source": [
    "correct_forward_result = np.array([[0.71412654, 0.53761337, 0.68381838, 0.64417351],\n",
    "                                   [0.69237824, 0.52983574, 0.57358957, 0.54752357]])"
   ]
  },
  {
   "cell_type": "code",
   "execution_count": 29,
   "metadata": {},
   "outputs": [
    {
     "data": {
      "text/plain": [
       "-3.8713787731126104e-10"
      ]
     },
     "execution_count": 29,
     "metadata": {},
     "output_type": "execute_result"
    }
   ],
   "source": [
    "# Must be close to zero\n",
    "# -3.8713787731126104e-10\n",
    "(correct_forward_result - forward_result).sum()"
   ]
  },
  {
   "cell_type": "code",
   "execution_count": 30,
   "metadata": {},
   "outputs": [],
   "source": [
    "backward_result = sigmoid_layer.backward(np.ones_like(x))"
   ]
  },
  {
   "cell_type": "code",
   "execution_count": 31,
   "metadata": {},
   "outputs": [],
   "source": [
    "correct_backward_result = np.array([[0.20414982, 0.24858523, 0.2162108 , 0.229214  ],\n",
    "                                    [0.21299061, 0.24910983, 0.24458457, 0.24774151]])"
   ]
  },
  {
   "cell_type": "code",
   "execution_count": 32,
   "metadata": {},
   "outputs": [
    {
     "data": {
      "text/plain": [
       "-1.7161740806237447e-08"
      ]
     },
     "execution_count": 32,
     "metadata": {},
     "output_type": "execute_result"
    }
   ],
   "source": [
    "# Must be close to zero\n",
    "# -1.7161740806237447e-08\n",
    "(correct_backward_result - backward_result).sum()"
   ]
  },
  {
   "cell_type": "markdown",
   "metadata": {},
   "source": [
    "## Заготовка"
   ]
  },
  {
   "cell_type": "code",
   "execution_count": 33,
   "metadata": {},
   "outputs": [],
   "source": [
    "class ReLU:\n",
    "\n",
    "    def __init__(self):\n",
    "        self.x = None\n",
    "        pass\n",
    "\n",
    "    def forward(self, x):\n",
    "        self.x = x\n",
    "        return np.maximum(x, 0, x)\n",
    "\n",
    "    def backward(self, grad):       \n",
    "        grad[self.x <= 0] = 0\n",
    "#       (grad > 0) * 1\n",
    "#       np.greater(grad, 0).astype(int)\n",
    "        return grad\n",
    "\n",
    "    def step(self, learning_rate):\n",
    "        pass"
   ]
  },
  {
   "cell_type": "code",
   "execution_count": 34,
   "metadata": {},
   "outputs": [],
   "source": [
    "class Linear:\n",
    "\n",
    "    def __init__(self, in_features, out_features):\n",
    "        \n",
    "        # инициализируем веса\n",
    "        self.weight = np.random.rand(in_features, out_features) * 0.01\n",
    "        self.bias = np.zeros(out_features)\n",
    "        \n",
    "        # сохраняем градиент для весов\n",
    "        self._grad_weight = None\n",
    "        self._grad_bias = None\n",
    "        \n",
    "        self.x = None\n",
    "\n",
    "    def forward(self, x):\n",
    "        self.x  = x\n",
    "        return x.dot(self.weight) + self.bias\n",
    "\n",
    "    def backward(self, grad):       \n",
    "        \n",
    "        new_grad = grad.dot(self.weight.T)                \n",
    "\n",
    "        self._grad_weight = np.dot(self.x.T, grad)                \n",
    "        \n",
    "        self._grad_bias = grad.mean(axis=0) * self.x.shape[0]\n",
    "        \n",
    "        return new_grad\n",
    "\n",
    "    def step(self, learning_rate):\n",
    "        self.weight -= learning_rate * self._grad_weight\n",
    "        self.bias -= learning_rate * np.sum(self._grad_bias, axis=0)                \n",
    "        pass"
   ]
  },
  {
   "cell_type": "markdown",
   "metadata": {},
   "source": [
    "# Linear test"
   ]
  },
  {
   "cell_type": "code",
   "execution_count": 35,
   "metadata": {},
   "outputs": [],
   "source": [
    "linear = Linear(in_features=4, out_features=3)"
   ]
  },
  {
   "cell_type": "code",
   "execution_count": 36,
   "metadata": {},
   "outputs": [],
   "source": [
    "# так как внутри слоя мы объвяляем наши веса рандомно (домножая на 0.01), то давайте присвоим им для теста конкретные значения\n",
    "\n",
    "linear.weight = np.array([[0.00879391, 0.0075844 , 0.00430709],\n",
    "                          [0.00884834, 0.00921104, 0.00044317],\n",
    "                          [0.00011441, 0.00822498, 0.00122346],\n",
    "                          [0.00338301, 0.0001627 , 0.00711473]])\n",
    "\n",
    "linear.bias = np.array([0., 0., 0.])"
   ]
  },
  {
   "cell_type": "code",
   "execution_count": 37,
   "metadata": {},
   "outputs": [],
   "source": [
    "correct_forward_result = np.array([[0.01148086, 0.01477317, 0.00917651],\n",
    "                                   [0.00887036, 0.00972334, 0.00526646]])"
   ]
  },
  {
   "cell_type": "code",
   "execution_count": 38,
   "metadata": {},
   "outputs": [],
   "source": [
    "forward = linear.forward(x)"
   ]
  },
  {
   "cell_type": "code",
   "execution_count": 39,
   "metadata": {},
   "outputs": [
    {
     "data": {
      "text/plain": [
       "-1.2008401937754765e-09"
      ]
     },
     "execution_count": 39,
     "metadata": {},
     "output_type": "execute_result"
    }
   ],
   "source": [
    "# Must be close to zero\n",
    "# -1.2008401972449234e-09\n",
    "(correct_forward_result - forward).sum()"
   ]
  },
  {
   "cell_type": "code",
   "execution_count": 40,
   "metadata": {},
   "outputs": [],
   "source": [
    "previous_grad = np.array([[0.01595814, 0.85148336, 0.9980065 ],\n",
    "                          [0.73044998, 0.18287682, 0.41246361]])"
   ]
  },
  {
   "cell_type": "code",
   "execution_count": 41,
   "metadata": {},
   "outputs": [],
   "source": [
    "correct_backward_result = np.array([[0.01089683, 0.00842654, 0.00822628, 0.00729307],\n",
    "                                    [0.00958704, 0.00833055, 0.00209236, 0.00543544]])"
   ]
  },
  {
   "cell_type": "code",
   "execution_count": 42,
   "metadata": {},
   "outputs": [],
   "source": [
    "backward = linear.backward(previous_grad)"
   ]
  },
  {
   "cell_type": "code",
   "execution_count": 43,
   "metadata": {},
   "outputs": [
    {
     "data": {
      "text/plain": [
       "4.6104884974911e-09"
      ]
     },
     "execution_count": 43,
     "metadata": {},
     "output_type": "execute_result"
    }
   ],
   "source": [
    "# Must be close to zero\n",
    "# 4.610488500960547e-09\n",
    "(correct_backward_result - backward).sum()"
   ]
  },
  {
   "cell_type": "code",
   "execution_count": 44,
   "metadata": {},
   "outputs": [],
   "source": [
    "correct_grad_weight = np.array([[0.60719574, 0.92790321, 1.24830165],\n",
    "                                [0.08968325, 0.15020214, 0.19972094],\n",
    "                                [0.22889674, 0.71103859, 0.89213814],\n",
    "                                [0.14874632, 0.54024567, 0.67098608]])"
   ]
  },
  {
   "cell_type": "code",
   "execution_count": 45,
   "metadata": {},
   "outputs": [
    {
     "data": {
      "text/plain": [
       "2.0459672428474462e-09"
      ]
     },
     "execution_count": 45,
     "metadata": {},
     "output_type": "execute_result"
    }
   ],
   "source": [
    "# Must be close to zero\n",
    "# 2.0459672428474462e-09\n",
    "(linear._grad_weight - correct_grad_weight).sum()"
   ]
  },
  {
   "cell_type": "code",
   "execution_count": 46,
   "metadata": {},
   "outputs": [],
   "source": [
    "correct_grad_bias = np.array([0.74640812, 1.03436018, 1.41047011])"
   ]
  },
  {
   "cell_type": "code",
   "execution_count": 47,
   "metadata": {},
   "outputs": [
    {
     "data": {
      "text/plain": [
       "-2.220446049250313e-16"
      ]
     },
     "execution_count": 47,
     "metadata": {},
     "output_type": "execute_result"
    }
   ],
   "source": [
    "# Must be close to zero\n",
    "# -2.220446049250313e-16\n",
    "(linear._grad_bias - correct_grad_bias).sum()"
   ]
  },
  {
   "cell_type": "markdown",
   "metadata": {},
   "source": [
    "# ReLU test"
   ]
  },
  {
   "cell_type": "code",
   "execution_count": 48,
   "metadata": {},
   "outputs": [],
   "source": [
    "relu = ReLU()"
   ]
  },
  {
   "cell_type": "code",
   "execution_count": 49,
   "metadata": {},
   "outputs": [],
   "source": [
    "x = np.array([[ 0.86811233, -0.23718669, -0.18401917, -0.37591633],\n",
    "              [-0.40626018,  0.37746975, -0.46929233,  0.79067681]])"
   ]
  },
  {
   "cell_type": "code",
   "execution_count": 50,
   "metadata": {},
   "outputs": [],
   "source": [
    "forward = relu.forward(x)"
   ]
  },
  {
   "cell_type": "code",
   "execution_count": 51,
   "metadata": {},
   "outputs": [
    {
     "data": {
      "text/plain": [
       "array([[0.86811233, 0.        , 0.        , 0.        ],\n",
       "       [0.        , 0.37746975, 0.        , 0.79067681]])"
      ]
     },
     "execution_count": 51,
     "metadata": {},
     "output_type": "execute_result"
    }
   ],
   "source": [
    "forward"
   ]
  },
  {
   "cell_type": "code",
   "execution_count": 52,
   "metadata": {},
   "outputs": [],
   "source": [
    "correct_forward_result = np.array([[0.86811233, 0.        , 0.        , 0.        ],\n",
    "                                   [0.        , 0.37746975, 0.        , 0.79067681]])"
   ]
  },
  {
   "cell_type": "code",
   "execution_count": 53,
   "metadata": {},
   "outputs": [
    {
     "data": {
      "text/plain": [
       "0.0"
      ]
     },
     "execution_count": 53,
     "metadata": {},
     "output_type": "execute_result"
    }
   ],
   "source": [
    "# Must be close to zero\n",
    "# 0.0\n",
    "(forward - correct_forward_result).sum()"
   ]
  },
  {
   "cell_type": "code",
   "execution_count": 54,
   "metadata": {},
   "outputs": [],
   "source": [
    "previous_grad = np.array([[0.22436157, 0.61897707, 0.67895832, 0.72428618],\n",
    "                          [0.71231319, 0.87345215, 0.91129578, 0.90625846]])"
   ]
  },
  {
   "cell_type": "code",
   "execution_count": 55,
   "metadata": {},
   "outputs": [],
   "source": [
    "correct_backward_result = np.array([[0.22436157, 0.        , 0.        , 0.        ],\n",
    "                                    [0.        , 0.87345215, 0.        , 0.90625846]])"
   ]
  },
  {
   "cell_type": "code",
   "execution_count": 56,
   "metadata": {},
   "outputs": [],
   "source": [
    "backward = relu.backward(previous_grad)"
   ]
  },
  {
   "cell_type": "code",
   "execution_count": 57,
   "metadata": {},
   "outputs": [
    {
     "data": {
      "text/plain": [
       "array([[0.22436157, 0.        , 0.        , 0.        ],\n",
       "       [0.        , 0.87345215, 0.        , 0.90625846]])"
      ]
     },
     "execution_count": 57,
     "metadata": {},
     "output_type": "execute_result"
    }
   ],
   "source": [
    "backward"
   ]
  },
  {
   "cell_type": "code",
   "execution_count": 58,
   "metadata": {},
   "outputs": [
    {
     "data": {
      "text/plain": [
       "0.0"
      ]
     },
     "execution_count": 58,
     "metadata": {},
     "output_type": "execute_result"
    }
   ],
   "source": [
    "# Must be close to zero\n",
    "# 0.0\n",
    "(correct_backward_result - backward).sum()"
   ]
  },
  {
   "cell_type": "markdown",
   "metadata": {},
   "source": [
    "# BCE test"
   ]
  },
  {
   "cell_type": "markdown",
   "metadata": {},
   "source": [
    "### Не забудьте добавить np.expand_dims(y, 1) в forward"
   ]
  },
  {
   "cell_type": "code",
   "execution_count": 59,
   "metadata": {},
   "outputs": [],
   "source": [
    "class BCELoss:\n",
    "\n",
    "    def __init__(self):        \n",
    "        self.x = None\n",
    "        self.y = None\n",
    "        pass\n",
    "\n",
    "    def forward(self, x, y):\n",
    "        y = np.expand_dims(y, 1)\n",
    "        self.x = x\n",
    "        self.y = y\n",
    "        return bce(x,y)\n",
    "\n",
    "    def backward(self):        \n",
    "        return -(self.y/self.x - ((1 - self.y)/(1-self.x)))/y.shape[0]\n",
    "\n",
    "    def step(self, learning_rate):\n",
    "        pass"
   ]
  },
  {
   "cell_type": "code",
   "execution_count": 60,
   "metadata": {},
   "outputs": [],
   "source": [
    "loss = BCELoss()"
   ]
  },
  {
   "cell_type": "code",
   "execution_count": 61,
   "metadata": {},
   "outputs": [],
   "source": [
    "x = np.array([[0.76242307],\n",
    "              [0.0908412 ],\n",
    "              [0.60176646],\n",
    "              [0.09606798]])\n",
    "\n",
    "y = np.array([1, 0, 1, 0])"
   ]
  },
  {
   "cell_type": "code",
   "execution_count": 62,
   "metadata": {},
   "outputs": [],
   "source": [
    "forward = loss.forward(x, y)"
   ]
  },
  {
   "cell_type": "code",
   "execution_count": 63,
   "metadata": {},
   "outputs": [],
   "source": [
    "correct_forward_result = 0.24384403491500606"
   ]
  },
  {
   "cell_type": "code",
   "execution_count": 64,
   "metadata": {},
   "outputs": [
    {
     "data": {
      "text/plain": [
       "0.0"
      ]
     },
     "execution_count": 64,
     "metadata": {},
     "output_type": "execute_result"
    }
   ],
   "source": [
    "# Must be close to zero\n",
    "# 0.0\n",
    "(forward - correct_forward_result).sum()"
   ]
  },
  {
   "cell_type": "code",
   "execution_count": 65,
   "metadata": {},
   "outputs": [],
   "source": [
    "backward = loss.backward()"
   ]
  },
  {
   "cell_type": "code",
   "execution_count": 66,
   "metadata": {},
   "outputs": [
    {
     "data": {
      "text/plain": [
       "array([[-0.32790194],\n",
       "       [ 0.27497946],\n",
       "       [-0.41544356],\n",
       "       [ 0.27656947]])"
      ]
     },
     "execution_count": 66,
     "metadata": {},
     "output_type": "execute_result"
    }
   ],
   "source": [
    "backward"
   ]
  },
  {
   "cell_type": "code",
   "execution_count": 67,
   "metadata": {},
   "outputs": [],
   "source": [
    "correct_backward_result = np.array([[-0.32790194],\n",
    "                                    [ 0.27497946],\n",
    "                                    [-0.41544356],\n",
    "                                    [ 0.27656947]])"
   ]
  },
  {
   "cell_type": "code",
   "execution_count": 68,
   "metadata": {},
   "outputs": [
    {
     "data": {
      "text/plain": [
       "1.051905440530021e-08"
      ]
     },
     "execution_count": 68,
     "metadata": {},
     "output_type": "execute_result"
    }
   ],
   "source": [
    "# Must be close to zero\n",
    "# 1.051905440530021e-08\n",
    "(backward - correct_backward_result).sum()"
   ]
  },
  {
   "cell_type": "markdown",
   "metadata": {},
   "source": [
    "## Реализуйте обертку над слоями - нейронную сеть\n",
    "- TIP 1: modules - это список слоев, которые вы сделали выше. Порядок важен\n",
    "- TIP 2: циклы это круто\n",
    "- TIP 3: forward идет в одну сторону по слоям, а backward в другую\n",
    "- TIP 4: В backward функции потерь мы не передаем предыдущий градиент, потому что это начало backward\n",
    "- TIP 5: forward и backward ничего не должны отдавать\n",
    "- TIP 6: в step нужно пройтись по всем слоям и обновить веса"
   ]
  },
  {
   "cell_type": "code",
   "execution_count": 69,
   "metadata": {},
   "outputs": [],
   "source": [
    "class NeuralNetwork:\n",
    "\n",
    "    def __init__(self, modules):        \n",
    "        # список слоев\n",
    "        self.modules  = modules\n",
    "        self.out = None\n",
    "\n",
    "    def forward(self, x):\n",
    "        for m in self.modules:\n",
    "            x = m.forward(x)\n",
    "        self.out  = x\n",
    "        return x\n",
    "\n",
    "    def backward(self, grad):\n",
    "        \"\"\"\n",
    "        :grad: градиент от функции потерь\n",
    "        :return: возвращать ничего не потребуется\n",
    "        \"\"\"\n",
    "        for m in self.modules[::-1]:\n",
    "            grad = m.backward(grad)              \n",
    "        pass\n",
    "\n",
    "    def step(self, learning_rate):\n",
    "        for m in self.modules:\n",
    "            m.step(learning_rate) \n",
    "        pass"
   ]
  },
  {
   "cell_type": "markdown",
   "metadata": {},
   "source": [
    "## Реализуйте обертку над моделью"
   ]
  },
  {
   "cell_type": "code",
   "execution_count": 70,
   "metadata": {},
   "outputs": [],
   "source": [
    "class MNISTWrapper(wrapper.Wrapper):\n",
    "\n",
    "    def __init__(self, model, loss, learning_rate=0.001, multi_class=False):\n",
    "\n",
    "        # передаем параметры, чтобы отработал __init__ от наследуемого класса\n",
    "        # можно было бы сделать через **kwargs, но сделал так для наглядности и чтобы были подсказки в юпитере\n",
    "\n",
    "        super().__init__(model=model, loss=loss, learning_rate=learning_rate, multi_class=multi_class)\n",
    "\n",
    "    def train_batch(self, x, y):\n",
    "        \"\"\"\n",
    "        Нужно реализовать одну итерацию обучения модели:\n",
    "        1. Рассчет forward\n",
    "        2. Рассчет функции потерь\n",
    "        3. Рассчет backward от функции потерь\n",
    "        4. Рассчет backward по модели, передавая туда значение градиента по функции потерь\n",
    "        5. Обновление весов с помощью step\n",
    "        :param x: входные данные np.array with shape (batch_size, n_features)\n",
    "        :param y: предсказания np.array with shape (batch_size, n_classes)\n",
    "        :return:\n",
    "        loss_batch - значение функции потерь, просто скаляр\n",
    "        prediction - матрица предсказаний вашей модели\n",
    "\n",
    "        напомню важные штуки, которые знает наш класс:\n",
    "        self.model\n",
    "        self.loss\n",
    "        self.learning_rate\n",
    "        \"\"\"\n",
    "        prediction = self.model.forward(x)        \n",
    "        loss_batch = self.loss.forward(prediction, y)\n",
    "        grad = self.loss.backward()\n",
    "        self.model.backward(grad)\n",
    "        self.model.step(learning_rate)\n",
    "        return loss_batch, prediction\n",
    "        \n",
    "\n",
    "    def predict_batch(self, x):\n",
    "        \"\"\"\n",
    "        Предсказание (aka inference) вашей модели:\n",
    "        1. Рассчет forward\n",
    "        :param x: входные данные np.array with shape (batch_size, n_features)\n",
    "        :return: prediction - матрица предсказаний вашей модели\n",
    "        \"\"\"\n",
    "        \n",
    "        # Больше ничего делать не нужно\n",
    "        # Все уже сделано\n",
    "        \n",
    "        return self.model.forward(x)"
   ]
  },
  {
   "cell_type": "code",
   "execution_count": 71,
   "metadata": {},
   "outputs": [],
   "source": [
    "# задайте гиперпараметры\n",
    "learning_rate = 0.0001\n",
    "epochs = 3\n",
    "\n",
    "# задайте слои в свою нейронную сеть, например, 3 слоя\n",
    "# neural_network = layers.NeuralNetwork([Linear(in_features=4, out_features=3), ReLU()])\n",
    "neural_network = NeuralNetwork(\\\n",
    "                [Linear(in_features=784, out_features=256), ReLU(), Linear(in_features=256, out_features=1), Sigmoid()])\n",
    "\n",
    "# loss = layers.BCELoss()\n",
    "loss = BCELoss()"
   ]
  },
  {
   "cell_type": "code",
   "execution_count": 72,
   "metadata": {},
   "outputs": [],
   "source": [
    "classifier = MNISTWrapper(model=neural_network,\n",
    "                          loss=loss,\n",
    "                          learning_rate=learning_rate)"
   ]
  },
  {
   "cell_type": "markdown",
   "metadata": {},
   "source": [
    "## Раскомментируйте и запустите"
   ]
  },
  {
   "cell_type": "code",
   "execution_count": 73,
   "metadata": {},
   "outputs": [
    {
     "data": {
      "application/vnd.jupyter.widget-view+json": {
       "model_id": "02c50004b58740999bc204ee5d7f61d3",
       "version_major": 2,
       "version_minor": 0
      },
      "text/plain": [
       "HBox(children=(IntProgress(value=0, description='Epoch 1', max=12396, style=ProgressStyle(description_width='i…"
      ]
     },
     "metadata": {},
     "output_type": "display_data"
    },
    {
     "name": "stdout",
     "output_type": "stream",
     "text": [
      "\n"
     ]
    },
    {
     "data": {
      "application/vnd.jupyter.widget-view+json": {
       "model_id": "11867254b7814aa0b8a5a73f484d007e",
       "version_major": 2,
       "version_minor": 0
      },
      "text/plain": [
       "HBox(children=(IntProgress(value=0, description='Epoch 2', max=12396, style=ProgressStyle(description_width='i…"
      ]
     },
     "metadata": {},
     "output_type": "display_data"
    },
    {
     "name": "stdout",
     "output_type": "stream",
     "text": [
      "\n"
     ]
    },
    {
     "data": {
      "application/vnd.jupyter.widget-view+json": {
       "model_id": "e23d718f624448febba3a1d54680ebb3",
       "version_major": 2,
       "version_minor": 0
      },
      "text/plain": [
       "HBox(children=(IntProgress(value=0, description='Epoch 3', max=12396, style=ProgressStyle(description_width='i…"
      ]
     },
     "metadata": {},
     "output_type": "display_data"
    },
    {
     "name": "stdout",
     "output_type": "stream",
     "text": [
      "\n"
     ]
    }
   ],
   "source": [
    "classifier.train(train_loader, test_loader, epochs=epochs)"
   ]
  },
  {
   "cell_type": "code",
   "execution_count": 74,
   "metadata": {},
   "outputs": [
    {
     "data": {
      "image/png": "[encoded data removed]",
      "text/plain": [
       "<Figure size 1152x864 with 2 Axes>"
      ]
     },
     "metadata": {
      "needs_background": "light"
     },
     "output_type": "display_data"
    }
   ],
   "source": [
    "classifier.plot()"
   ]
  },
  {
   "cell_type": "markdown",
   "metadata": {},
   "source": [
    "# Немного торча"
   ]
  },
  {
   "cell_type": "code",
   "execution_count": 75,
   "metadata": {},
   "outputs": [],
   "source": [
    "import torch"
   ]
  },
  {
   "cell_type": "markdown",
   "metadata": {},
   "source": [
    "### Мы можем определить нашу модель как последовательность уже существующих слоев, как в керасе"
   ]
  },
  {
   "cell_type": "code",
   "execution_count": 76,
   "metadata": {},
   "outputs": [
    {
     "data": {
      "text/plain": [
       "Sequential(\n",
       "  (linear_1): Linear(in_features=784, out_features=256, bias=True)\n",
       "  (relu): ReLU()\n",
       "  (linear_2): Linear(in_features=256, out_features=1, bias=True)\n",
       "  (sigmoid): Sigmoid()\n",
       ")"
      ]
     },
     "execution_count": 76,
     "metadata": {},
     "output_type": "execute_result"
    }
   ],
   "source": [
    "model = torch.nn.Sequential()\n",
    "\n",
    "model.add_module(name='linear_1', module=torch.nn.Linear(in_features=784, out_features=256))\n",
    "model.add_module(name='relu', module=torch.nn.ReLU())\n",
    "model.add_module(name='linear_2', module=torch.nn.Linear(in_features=256, out_features=1))\n",
    "model.add_module(name='sigmoid', module=torch.nn.Sigmoid())\n",
    "\n",
    "model"
   ]
  },
  {
   "cell_type": "markdown",
   "metadata": {},
   "source": [
    "### Либо так"
   ]
  },
  {
   "cell_type": "code",
   "execution_count": 77,
   "metadata": {},
   "outputs": [
    {
     "data": {
      "text/plain": [
       "Sequential(\n",
       "  (0): Linear(in_features=784, out_features=256, bias=True)\n",
       "  (1): ReLU()\n",
       "  (2): Linear(in_features=256, out_features=1, bias=True)\n",
       "  (3): Sigmoid()\n",
       ")"
      ]
     },
     "execution_count": 77,
     "metadata": {},
     "output_type": "execute_result"
    }
   ],
   "source": [
    "model = torch.nn.Sequential(\n",
    "    torch.nn.Linear(in_features=784, out_features=256),\n",
    "    torch.nn.ReLU(),\n",
    "    torch.nn.Linear(in_features=256, out_features=1),\n",
    "    torch.nn.Sigmoid()\n",
    ")\n",
    "\n",
    "model"
   ]
  },
  {
   "cell_type": "markdown",
   "metadata": {},
   "source": [
    "## А вот для чего нужно было писать в домашке классы\n",
    "## Для определения своих моделей/слоев/чего вам захочется нам нужно сделать такую структуру"
   ]
  },
  {
   "cell_type": "code",
   "execution_count": 78,
   "metadata": {},
   "outputs": [],
   "source": [
    "# наследуемся от класса torch.nn.Module\n",
    "class MLP(torch.nn.Module):\n",
    "    \n",
    "    # определяем метод __init__\n",
    "    # он нужен для того, чтобы мы могли определить нужные нам слои, веса, сохраняемые операции\n",
    "    # \n",
    "    # передаем ссылку на самого себя первым параметром\n",
    "    # \n",
    "    # определяем любые другие передаваемые аргументы\n",
    "    # могут быть чем угодно: числа, словари, другие слои, другие модели и вообще все что угодно\n",
    "    # \n",
    "    def __init__(self, in_features, inner_features, out_features):\n",
    "        \n",
    "        # Главная задача этого метода - возможность использования в классе потомке, методов класса-родителя\n",
    "        # Вызываем __init__ родителя - torch.nn.Module\n",
    "        super().__init__()\n",
    "        \n",
    "        # определяем слои и все что захотим сохранять/использовать\n",
    "        self.linear_1 = torch.nn.Linear(in_features=in_features, out_features=inner_features)\n",
    "        self.non_linear_function = torch.nn.ReLU()\n",
    "        self.linear_2 = torch.nn.Linear(in_features=inner_features, out_features=out_features)\n",
    "        self.sigmoid = torch.nn.Sigmoid()\n",
    "        \n",
    "    # нам нужно обязательно реализовать метод forward\n",
    "    # это то, что нашей модели нужно делать, как оперировать с входными данными, как рассчитывать\n",
    "    # метод backward нам не нужно реализовывать, потому что в торче есть автоматическое дифференцирование\n",
    "    # главное, чтобы наши операции были дифференцируемы\n",
    "    # некоторые подробности можете узнать здесь:\n",
    "    # https://pytorch.org/tutorials/beginner/blitz/autograd_tutorial.html#sphx-glr-beginner-blitz-autograd-tutorial-py\n",
    "    # также список доступных дифференцируемых операций можете посмотреть здесь:\n",
    "    # https://pytorch.org/docs/stable/tensors.html\n",
    "    def forward(self, x):\n",
    "        \n",
    "        # наша привычная схема\n",
    "        x = self.linear_1(x)\n",
    "        x = self.non_linear_function(x)\n",
    "        x = self.linear_2(x)\n",
    "        x = self.sigmoid(x)\n",
    "        \n",
    "        return x\n",
    "    \n",
    "    # мы также можем реализовать любые другие полезные нам методы внутри класса"
   ]
  },
  {
   "cell_type": "code",
   "execution_count": 79,
   "metadata": {},
   "outputs": [],
   "source": [
    "# определяем нашу модель\n",
    "model = MLP(in_features=784, inner_features=256, out_features=1)"
   ]
  },
  {
   "cell_type": "code",
   "execution_count": 80,
   "metadata": {
    "scrolled": true
   },
   "outputs": [
    {
     "data": {
      "text/plain": [
       "MLP(\n",
       "  (linear_1): Linear(in_features=784, out_features=256, bias=True)\n",
       "  (non_linear_function): ReLU()\n",
       "  (linear_2): Linear(in_features=256, out_features=1, bias=True)\n",
       "  (sigmoid): Sigmoid()\n",
       ")"
      ]
     },
     "execution_count": 80,
     "metadata": {},
     "output_type": "execute_result"
    }
   ],
   "source": [
    "model"
   ]
  },
  {
   "cell_type": "code",
   "execution_count": 81,
   "metadata": {},
   "outputs": [
    {
     "data": {
      "text/plain": [
       "torch.Size([256, 784])"
      ]
     },
     "execution_count": 81,
     "metadata": {},
     "output_type": "execute_result"
    }
   ],
   "source": [
    "# можем посмотреть веса\n",
    "model.linear_1.weight.shape"
   ]
  },
  {
   "cell_type": "code",
   "execution_count": 82,
   "metadata": {},
   "outputs": [],
   "source": [
    "# еще нам нужно задать функцию потерь \n",
    "criterion = torch.nn.BCELoss()"
   ]
  },
  {
   "cell_type": "code",
   "execution_count": 83,
   "metadata": {},
   "outputs": [],
   "source": [
    "# и оптимизатор, куда нужно передать параметры модели\n",
    "# параметры модели можно взять методом класса .parameters()\n",
    "optimizer = torch.optim.SGD(params=model.parameters(), lr=0.01)"
   ]
  },
  {
   "cell_type": "code",
   "execution_count": 84,
   "metadata": {},
   "outputs": [
    {
     "data": {
      "text/plain": [
       "[Parameter containing:\n",
       " tensor([[-0.0155, -0.0274, -0.0343,  ..., -0.0218, -0.0153,  0.0137],\n",
       "         [-0.0237,  0.0116, -0.0013,  ..., -0.0073, -0.0228,  0.0103],\n",
       "         [ 0.0173,  0.0055, -0.0211,  ..., -0.0176, -0.0229, -0.0200],\n",
       "         ...,\n",
       "         [ 0.0293,  0.0118,  0.0061,  ...,  0.0070,  0.0184, -0.0234],\n",
       "         [-0.0165,  0.0059,  0.0055,  ...,  0.0010, -0.0060, -0.0141],\n",
       "         [ 0.0059,  0.0059,  0.0141,  ..., -0.0046, -0.0211,  0.0059]],\n",
       "        requires_grad=True), Parameter containing:\n",
       " tensor([-0.0291,  0.0342, -0.0251, -0.0161, -0.0046, -0.0184, -0.0019,  0.0225,\n",
       "          0.0138,  0.0326,  0.0073,  0.0136,  0.0351,  0.0354, -0.0087, -0.0149,\n",
       "         -0.0118,  0.0201, -0.0216,  0.0117, -0.0235, -0.0345, -0.0303,  0.0186,\n",
       "         -0.0320,  0.0047, -0.0081,  0.0279, -0.0353, -0.0348,  0.0006,  0.0071,\n",
       "          0.0301, -0.0067,  0.0121, -0.0127, -0.0183,  0.0146, -0.0299, -0.0271,\n",
       "         -0.0035,  0.0047,  0.0267,  0.0327,  0.0157,  0.0289,  0.0140, -0.0204,\n",
       "          0.0310,  0.0089, -0.0268, -0.0120,  0.0202,  0.0071,  0.0122,  0.0286,\n",
       "          0.0242,  0.0181, -0.0178, -0.0110, -0.0037,  0.0175,  0.0175,  0.0092,\n",
       "         -0.0066,  0.0237, -0.0166,  0.0187, -0.0092, -0.0290,  0.0098,  0.0103,\n",
       "         -0.0194,  0.0253, -0.0247,  0.0213, -0.0018,  0.0008,  0.0279,  0.0197,\n",
       "         -0.0100,  0.0173, -0.0320, -0.0313, -0.0073, -0.0287, -0.0281,  0.0146,\n",
       "          0.0093, -0.0154, -0.0279, -0.0155, -0.0312, -0.0112,  0.0109,  0.0157,\n",
       "          0.0323,  0.0245,  0.0083, -0.0206, -0.0245, -0.0295, -0.0153,  0.0245,\n",
       "          0.0088, -0.0068, -0.0084, -0.0176,  0.0354, -0.0086, -0.0225, -0.0105,\n",
       "         -0.0280, -0.0116, -0.0204, -0.0321, -0.0217,  0.0046, -0.0324, -0.0065,\n",
       "          0.0351, -0.0102, -0.0250,  0.0321,  0.0357, -0.0195,  0.0037, -0.0118,\n",
       "         -0.0304,  0.0169, -0.0028, -0.0265, -0.0258,  0.0079, -0.0342,  0.0314,\n",
       "          0.0031, -0.0039, -0.0046,  0.0129, -0.0139,  0.0218,  0.0262, -0.0093,\n",
       "         -0.0214, -0.0326,  0.0266, -0.0222,  0.0064, -0.0337,  0.0005,  0.0198,\n",
       "          0.0261,  0.0329, -0.0323, -0.0245, -0.0221, -0.0307, -0.0240,  0.0301,\n",
       "          0.0087,  0.0322, -0.0316, -0.0311,  0.0323, -0.0276,  0.0135, -0.0308,\n",
       "         -0.0278, -0.0046, -0.0163, -0.0122,  0.0181, -0.0056,  0.0295, -0.0356,\n",
       "         -0.0084, -0.0111, -0.0128, -0.0042, -0.0353,  0.0092,  0.0274, -0.0309,\n",
       "         -0.0245,  0.0127,  0.0094,  0.0268,  0.0119,  0.0158,  0.0007,  0.0282,\n",
       "          0.0188, -0.0269,  0.0090, -0.0293, -0.0256, -0.0098,  0.0065, -0.0231,\n",
       "          0.0318, -0.0080, -0.0014, -0.0008, -0.0085, -0.0256,  0.0280,  0.0196,\n",
       "         -0.0170,  0.0015,  0.0157, -0.0041,  0.0260, -0.0179, -0.0047,  0.0029,\n",
       "          0.0317, -0.0086, -0.0144,  0.0301,  0.0159, -0.0314, -0.0079, -0.0009,\n",
       "          0.0324, -0.0292, -0.0236,  0.0333,  0.0028, -0.0019,  0.0166, -0.0249,\n",
       "          0.0336, -0.0056,  0.0284, -0.0033, -0.0058,  0.0243,  0.0056, -0.0106,\n",
       "         -0.0101,  0.0076,  0.0164,  0.0338, -0.0098, -0.0136,  0.0116,  0.0312,\n",
       "         -0.0113, -0.0288, -0.0153,  0.0306,  0.0307,  0.0136,  0.0061, -0.0237],\n",
       "        requires_grad=True), Parameter containing:\n",
       " tensor([[-0.0491,  0.0100,  0.0258,  0.0125,  0.0392,  0.0202, -0.0607, -0.0615,\n",
       "           0.0624,  0.0257,  0.0338, -0.0532, -0.0405, -0.0211, -0.0464,  0.0026,\n",
       "          -0.0499, -0.0012, -0.0255, -0.0212,  0.0100,  0.0041, -0.0301,  0.0008,\n",
       "          -0.0174, -0.0290,  0.0617,  0.0198,  0.0547, -0.0515,  0.0070, -0.0605,\n",
       "          -0.0457,  0.0599, -0.0548, -0.0153,  0.0598,  0.0247,  0.0258, -0.0302,\n",
       "          -0.0033,  0.0073,  0.0605, -0.0334,  0.0577, -0.0287,  0.0056, -0.0530,\n",
       "           0.0341, -0.0480, -0.0562,  0.0418, -0.0088, -0.0548,  0.0016, -0.0496,\n",
       "           0.0394,  0.0152, -0.0011, -0.0248, -0.0196,  0.0235, -0.0459, -0.0027,\n",
       "           0.0096,  0.0268,  0.0525, -0.0183, -0.0453,  0.0194,  0.0599,  0.0117,\n",
       "          -0.0622, -0.0548, -0.0146, -0.0474, -0.0282,  0.0216, -0.0098, -0.0436,\n",
       "          -0.0383,  0.0209, -0.0449, -0.0306, -0.0189,  0.0329, -0.0536, -0.0003,\n",
       "           0.0202,  0.0512, -0.0373, -0.0074, -0.0141,  0.0445,  0.0037,  0.0476,\n",
       "          -0.0119, -0.0154, -0.0167, -0.0266, -0.0278,  0.0435,  0.0325,  0.0522,\n",
       "          -0.0258,  0.0612, -0.0227,  0.0258,  0.0511,  0.0495, -0.0480,  0.0048,\n",
       "          -0.0186, -0.0003, -0.0525, -0.0382,  0.0427, -0.0407, -0.0032,  0.0496,\n",
       "           0.0292, -0.0509, -0.0097,  0.0618, -0.0028,  0.0109,  0.0425, -0.0383,\n",
       "          -0.0469,  0.0022, -0.0049, -0.0367,  0.0101, -0.0299, -0.0434,  0.0347,\n",
       "           0.0200,  0.0017, -0.0036, -0.0611, -0.0119, -0.0335, -0.0179, -0.0326,\n",
       "           0.0210, -0.0494, -0.0286, -0.0480,  0.0434,  0.0613, -0.0122,  0.0137,\n",
       "           0.0353, -0.0008, -0.0138, -0.0475, -0.0294,  0.0276,  0.0155,  0.0309,\n",
       "           0.0054,  0.0368, -0.0406, -0.0299, -0.0598,  0.0449, -0.0510,  0.0180,\n",
       "           0.0021,  0.0009,  0.0229,  0.0242,  0.0285, -0.0381, -0.0537,  0.0405,\n",
       "          -0.0393,  0.0106,  0.0557,  0.0108,  0.0214,  0.0142,  0.0374,  0.0525,\n",
       "          -0.0218,  0.0138, -0.0040,  0.0571, -0.0274,  0.0467,  0.0622, -0.0558,\n",
       "          -0.0114, -0.0127,  0.0069,  0.0448, -0.0063,  0.0452, -0.0430,  0.0232,\n",
       "          -0.0547, -0.0078, -0.0514, -0.0403,  0.0340, -0.0500, -0.0618, -0.0332,\n",
       "          -0.0412,  0.0064,  0.0529,  0.0448, -0.0200, -0.0210,  0.0489, -0.0099,\n",
       "           0.0346, -0.0583,  0.0205,  0.0511, -0.0341,  0.0578,  0.0516,  0.0075,\n",
       "           0.0156, -0.0163,  0.0499, -0.0337, -0.0156,  0.0375,  0.0057, -0.0474,\n",
       "           0.0153,  0.0045, -0.0599, -0.0357, -0.0037,  0.0044,  0.0580,  0.0409,\n",
       "           0.0077,  0.0083,  0.0431,  0.0465,  0.0569, -0.0463, -0.0591,  0.0413,\n",
       "          -0.0376, -0.0188, -0.0560,  0.0480, -0.0105, -0.0247,  0.0091, -0.0004]],\n",
       "        requires_grad=True), Parameter containing:\n",
       " tensor([0.0200], requires_grad=True)]"
      ]
     },
     "execution_count": 84,
     "metadata": {},
     "output_type": "execute_result"
    }
   ],
   "source": [
    "# можем посмотреть на параметры нашей модели\n",
    "params = list(model.parameters())\n",
    "params"
   ]
  },
  {
   "cell_type": "markdown",
   "metadata": {},
   "source": [
    "# Обучим нашу модель"
   ]
  },
  {
   "cell_type": "code",
   "execution_count": 85,
   "metadata": {},
   "outputs": [],
   "source": [
    "# давайте сохранять значения нашей функции потерь каждую итерацию обучения\n",
    "losses = []\n",
    "\n",
    "# эта штука все еще отдает нам батчи данных\n",
    "# мы поговорим про нее позже\n",
    "for x, y in train_loader:\n",
    "\n",
    "    x = x.view(x.shape[0], -1)\n",
    "    y = y.unsqueeze(1).float()\n",
    "    \n",
    "    # обновим наши градиенты\n",
    "    # будем делать это каждую итерацию обучения\n",
    "    # потому что торч сохраняет в себе все градиенты пока не удалите таким образом рассчитанные градиенты\n",
    "    # \n",
    "    # НЕОБЯЗАТЕЛЬНЫЕ ДЕТАЛИ\n",
    "    # функция сохранения градиентов нужна для аккамуляции градиентов\n",
    "    # например, когда нам не хватает памяти на большой батч\n",
    "    # мы можем несколько раз прогнать forward на разных батчах\n",
    "    # наши градиенты будут сохраняться\n",
    "    # и только потом обновить через несколько итераций forward обновить наши веса\n",
    "    # таким образом у нас получается больше батч\n",
    "    # \n",
    "    optimizer.zero_grad()\n",
    "    \n",
    "    # \n",
    "    # предсказание нашей модели\n",
    "    # здесь торч сам сохраняет необходимую информацию\n",
    "    # чтобы понять эту логику у нас как раз и была часть домашки про собственные классы\n",
    "    # \n",
    "    # торч строит динамический граф вычислений\n",
    "    # то есть строит граф по тем операциям, которые вы определили в методе forward\n",
    "    # \n",
    "    # то есть торч понимает, что вы сначала применили линейное преобразование\n",
    "    # знает, где лежат веса для этого линейного преобразования\n",
    "    # знает, что вы затем применили релу\n",
    "    # затем опять линейное преобразование\n",
    "    # затем сигмоиду\n",
    "    # и вот таким образом торч выстроил граф\n",
    "    # который нужен будет для backpropogation\n",
    "    # \n",
    "    pred = model(x)\n",
    "    \n",
    "    # \n",
    "    # рассчитываем функцию потерь, добавляя в наш граф вычислений этот узел\n",
    "    # \n",
    "    loss = criterion(pred, y.float())\n",
    "    \n",
    "    # \n",
    "    # вызываем метод backward() от нашей функции потерь (это крайний узел нашего графа вычислений)\n",
    "    # этот метод проходит от конца графа в начало, вычисляя необходимые градиенты\n",
    "    # передаем градиенты на следующие узлы\n",
    "    # для весов сохраняет\n",
    "    # \n",
    "    # то есть это почти то же самое, что мы делали в домашке с классами\n",
    "    # \n",
    "    loss.backward()\n",
    "    \n",
    "    # \n",
    "    # теперь мы знаем необходимые градиенты и можем обновить веса с помощью градиентного спуска\n",
    "    # \n",
    "    optimizer.step()\n",
    "    \n",
    "    # \n",
    "    # сохраним текущее значение функции потерь, чтобы потом могли посмотреть на график\n",
    "    # очень важный момент: нам нужно отсоединить значение нашей фунции потерь от графа вычислений\n",
    "    # чтобы граф не строился дальше на каждой итерации обучения\n",
    "    # так мы рано или поздно переполним память\n",
    "    # поэтому вызываем этот метод\n",
    "    # работает для скаляров\n",
    "    # \n",
    "    # для тензоров работает метод .tolist()\n",
    "    # \n",
    "    current_loss_value = loss.item()\n",
    "    losses.append(loss.item())"
   ]
  },
  {
   "cell_type": "code",
   "execution_count": 86,
   "metadata": {},
   "outputs": [],
   "source": [
    "# Одна эпоха прошла"
   ]
  },
  {
   "cell_type": "code",
   "execution_count": 87,
   "metadata": {},
   "outputs": [
    {
     "data": {
      "image/png": "[encoded data removed]",
      "text/plain": [
       "<Figure size 1008x864 with 1 Axes>"
      ]
     },
     "metadata": {
      "needs_background": "light"
     },
     "output_type": "display_data"
    }
   ],
   "source": [
    "plt.figure(figsize=(14, 12))\n",
    "plt.plot(losses)\n",
    "plt.grid()\n",
    "plt.title('Training process')\n",
    "plt.xlabel('Iterations')\n",
    "plt.ylabel('Loss function');"
   ]
  },
  {
   "cell_type": "markdown",
   "metadata": {},
   "source": [
    "# Теперь мы можем что-то предсказать"
   ]
  },
  {
   "cell_type": "code",
   "execution_count": 88,
   "metadata": {},
   "outputs": [],
   "source": [
    "for x, y in test_loader:\n",
    "\n",
    "    x = x.view(x.shape[0], -1)\n",
    "    y = y.unsqueeze(1).float()\n",
    "    \n",
    "    # чтобы не ходить по всему тестовому датасету, прекратим ходить после первой итерации\n",
    "    break"
   ]
  },
  {
   "cell_type": "code",
   "execution_count": 89,
   "metadata": {},
   "outputs": [
    {
     "data": {
      "text/plain": [
       "torch.Size([128, 784])"
      ]
     },
     "execution_count": 89,
     "metadata": {},
     "output_type": "execute_result"
    }
   ],
   "source": [
    "x.shape"
   ]
  },
  {
   "cell_type": "code",
   "execution_count": 90,
   "metadata": {},
   "outputs": [
    {
     "data": {
      "text/plain": [
       "torch.Size([128, 1])"
      ]
     },
     "execution_count": 90,
     "metadata": {},
     "output_type": "execute_result"
    }
   ],
   "source": [
    "y.shape"
   ]
  },
  {
   "cell_type": "code",
   "execution_count": 91,
   "metadata": {},
   "outputs": [
    {
     "data": {
      "text/plain": [
       "MLP(\n",
       "  (linear_1): Linear(in_features=784, out_features=256, bias=True)\n",
       "  (non_linear_function): ReLU()\n",
       "  (linear_2): Linear(in_features=256, out_features=1, bias=True)\n",
       "  (sigmoid): Sigmoid()\n",
       ")"
      ]
     },
     "execution_count": 91,
     "metadata": {},
     "output_type": "execute_result"
    }
   ],
   "source": [
    "# переходим в режим предсказания\n",
    "# \n",
    "# позже в курсе мы разберем зачем конкретно это нужно\n",
    "# \n",
    "# для искушенного нетерпеливого читателя: дропаут больше не дропаутит, батч норм больше не нормирует каждый батч\n",
    "# а использует накопленную статистику при обучении и тд\n",
    "# \n",
    "model.eval()"
   ]
  },
  {
   "cell_type": "code",
   "execution_count": 92,
   "metadata": {},
   "outputs": [],
   "source": [
    "# этот контект позволяет не сохранять необходимую информацию для рассчета градиентов\n",
    "with torch.no_grad():\n",
    "\n",
    "    pred = model(x)"
   ]
  },
  {
   "cell_type": "code",
   "execution_count": 93,
   "metadata": {},
   "outputs": [
    {
     "data": {
      "text/plain": [
       "torch.Size([128, 1])"
      ]
     },
     "execution_count": 93,
     "metadata": {},
     "output_type": "execute_result"
    }
   ],
   "source": [
    "pred.shape"
   ]
  },
  {
   "cell_type": "code",
   "execution_count": 94,
   "metadata": {},
   "outputs": [],
   "source": [
    "# избавимся от единичной размерности\n",
    "pred = pred.squeeze()\n",
    "y = y.squeeze()"
   ]
  },
  {
   "cell_type": "code",
   "execution_count": 95,
   "metadata": {},
   "outputs": [
    {
     "data": {
      "text/plain": [
       "torch.Size([128])"
      ]
     },
     "execution_count": 95,
     "metadata": {},
     "output_type": "execute_result"
    }
   ],
   "source": [
    "pred.shape"
   ]
  },
  {
   "cell_type": "code",
   "execution_count": 96,
   "metadata": {},
   "outputs": [],
   "source": [
    "# таким образом из торчовых тензоров мы можем сделать нумпаевские массивы\n",
    "pred = pred.numpy()\n",
    "y = y.numpy()"
   ]
  },
  {
   "cell_type": "code",
   "execution_count": 97,
   "metadata": {},
   "outputs": [
    {
     "data": {
      "text/plain": [
       "array([1., 1., 0., 1., 0., 0., 1., 1., 1., 0., 0., 1., 0., 1., 0., 1., 1.,\n",
       "       0., 1., 1., 1., 1., 0., 0., 0., 1., 1., 0., 1., 1., 1., 1., 1., 0.,\n",
       "       1., 0., 1., 0., 1., 0., 0., 0., 0., 0., 1., 1., 1., 0., 0., 1., 1.,\n",
       "       0., 1., 1., 1., 1., 0., 1., 1., 1., 0., 0., 0., 0., 1., 0., 0., 1.,\n",
       "       0., 0., 1., 0., 1., 0., 0., 1., 0., 0., 1., 1., 1., 1., 0., 1., 0.,\n",
       "       0., 0., 0., 0., 0., 1., 1., 0., 1., 0., 0., 0., 1., 0., 1., 0., 0.,\n",
       "       0., 0., 0., 1., 1., 1., 1., 0., 0., 0., 0., 0., 0., 1., 1., 0., 0.,\n",
       "       1., 0., 1., 1., 0., 1., 0., 0., 1.], dtype=float32)"
      ]
     },
     "execution_count": 97,
     "metadata": {},
     "output_type": "execute_result"
    }
   ],
   "source": [
    "y"
   ]
  },
  {
   "cell_type": "code",
   "execution_count": 98,
   "metadata": {},
   "outputs": [
    {
     "data": {
      "text/plain": [
       "numpy.ndarray"
      ]
     },
     "execution_count": 98,
     "metadata": {},
     "output_type": "execute_result"
    }
   ],
   "source": [
    "type(y)"
   ]
  },
  {
   "cell_type": "code",
   "execution_count": 99,
   "metadata": {},
   "outputs": [],
   "source": [
    "# бинаризируем наши предсказания\n",
    "pred[pred > 0.5] = 1\n",
    "pred[pred <= 0.5] = 0"
   ]
  },
  {
   "cell_type": "code",
   "execution_count": 100,
   "metadata": {},
   "outputs": [
    {
     "data": {
      "text/plain": [
       "0.96875"
      ]
     },
     "execution_count": 100,
     "metadata": {},
     "output_type": "execute_result"
    }
   ],
   "source": [
    "# посчитаем метрику на батче\n",
    "accuracy_score(y, pred)"
   ]
  },
  {
   "cell_type": "code",
   "execution_count": 101,
   "metadata": {},
   "outputs": [],
   "source": [
    "# заново определим нашу модель и выучимся несколько эпох\n",
    "# будут уже новые параметры\n",
    "model = MLP(in_features=784, inner_features=256, out_features=1)\n",
    "\n",
    "criterion = torch.nn.BCELoss()\n",
    "# мы позже поговорим про этот оптимизационный алгоритм\n",
    "optimizer = torch.optim.Adam(params=model.parameters())"
   ]
  },
  {
   "cell_type": "markdown",
   "metadata": {},
   "source": [
    "# Типичный цикл обучения с кучей сохранений лоссов"
   ]
  },
  {
   "cell_type": "code",
   "execution_count": 102,
   "metadata": {},
   "outputs": [
    {
     "name": "stderr",
     "output_type": "stream",
     "text": [
      "Epoch 1: 100%|██████████████████████████████████████████████| 12396/12396 [00:07<00:00, 1550.38it/s, train_loss=0.0687]\n"
     ]
    },
    {
     "name": "stdout",
     "output_type": "stream",
     "text": [
      "Losses: train - 0.069, test = 0.046\n",
      "Test: accuracy - 0.986\n"
     ]
    },
    {
     "name": "stderr",
     "output_type": "stream",
     "text": [
      "Epoch 2: 100%|██████████████████████████████████████████████| 12396/12396 [00:09<00:00, 1343.95it/s, train_loss=0.0273]\n"
     ]
    },
    {
     "name": "stdout",
     "output_type": "stream",
     "text": [
      "Losses: train - 0.027, test = 0.031\n",
      "Test: accuracy - 0.989\n"
     ]
    },
    {
     "name": "stderr",
     "output_type": "stream",
     "text": [
      "Epoch 3: 100%|██████████████████████████████████████████████| 12396/12396 [00:08<00:00, 1418.55it/s, train_loss=0.0176]\n"
     ]
    },
    {
     "name": "stdout",
     "output_type": "stream",
     "text": [
      "Losses: train - 0.017, test = 0.022\n",
      "Test: accuracy - 0.991\n"
     ]
    },
    {
     "name": "stderr",
     "output_type": "stream",
     "text": [
      "Epoch 4: 100%|██████████████████████████████████████████████| 12396/12396 [00:06<00:00, 1772.02it/s, train_loss=0.0103]\n"
     ]
    },
    {
     "name": "stdout",
     "output_type": "stream",
     "text": [
      "Losses: train - 0.010, test = 0.025\n",
      "Test: accuracy - 0.992\n",
      "Early stopping\n"
     ]
    }
   ],
   "source": [
    "epochs = 10\n",
    "losses = []\n",
    "# нужно для early stopping, то есть трекать лучший лосс на валидации\n",
    "best_test_loss = 10.\n",
    "\n",
    "for n_epoch in range(epochs):\n",
    "    \n",
    "    train_losses = []\n",
    "    test_losses = []\n",
    "    test_preds = []\n",
    "    test_targets = []\n",
    "    \n",
    "    progress_bar = tqdm(total=len(train_loader.dataset), desc='Epoch {}'.format(n_epoch + 1))\n",
    "    \n",
    "    for x, y in train_loader:\n",
    "        \n",
    "        x = x.view(x.shape[0], -1)\n",
    "        y = y.unsqueeze(1).float()\n",
    "        \n",
    "        optimizer.zero_grad()\n",
    "        \n",
    "        pred = model(x)\n",
    "        \n",
    "        loss = criterion(pred, y.float())\n",
    "        \n",
    "        loss.backward()\n",
    "        \n",
    "        optimizer.step()\n",
    "        \n",
    "        train_losses.append(loss.item())\n",
    "        losses.append(loss.item())\n",
    "        \n",
    "        progress_bar.set_postfix(train_loss = np.mean(losses[-100:]))\n",
    "\n",
    "        progress_bar.update(x.shape[0])\n",
    "        \n",
    "    progress_bar.close()\n",
    "    \n",
    "    for x, y in test_loader:\n",
    "        \n",
    "        x = x.view(x.shape[0], -1)\n",
    "        y = y.unsqueeze(1).float()\n",
    "\n",
    "        with torch.no_grad():\n",
    "            \n",
    "            pred = model(x)\n",
    "            \n",
    "        test_preds.append(pred.numpy())\n",
    "        test_targets.append(y.numpy())\n",
    "\n",
    "        loss = criterion(pred, y)\n",
    "\n",
    "        test_losses.append(loss.item())\n",
    "        \n",
    "    mean_test_loss = np.mean(test_losses)\n",
    "        \n",
    "    print('Losses: train - {:.3f}, test = {:.3f}'.format(np.mean(train_losses), mean_test_loss))\n",
    "    \n",
    "    test_preds = np.concatenate(test_preds)\n",
    "    test_preds = test_preds.squeeze()\n",
    "    test_targets = np.concatenate(test_targets).squeeze()\n",
    "    \n",
    "    test_preds[test_preds > 0.5] = 1\n",
    "    test_preds[test_preds <= 0.5] = 0\n",
    "    \n",
    "    accurary = accuracy_score(test_targets, test_preds)\n",
    "\n",
    "    print('Test: accuracy - {:.3f}'.format(accurary))\n",
    "        \n",
    "    # как раз early stopping\n",
    "    # то есть: если наша функция потерь на валидационном датасете стала расти, то прекращаем обучение\n",
    "    # рост фунции потерь на валидационном датасете говорит о переобучении\n",
    "    # пожалуй, самый популярный метод валидации для нейронных сетей\n",
    "    if mean_test_loss < best_test_loss:\n",
    "        best_test_loss = mean_test_loss\n",
    "    else:\n",
    "        print('Early stopping')\n",
    "        break    "
   ]
  },
  {
   "cell_type": "code",
   "execution_count": 103,
   "metadata": {},
   "outputs": [
    {
     "data": {
      "image/png": "[encoded data removed]",
      "text/plain": [
       "<Figure size 1008x864 with 1 Axes>"
      ]
     },
     "metadata": {
      "needs_background": "light"
     },
     "output_type": "display_data"
    }
   ],
   "source": [
    "plt.figure(figsize=(14, 12))\n",
    "plt.plot(losses)\n",
    "plt.grid()\n",
    "plt.title('Training process')\n",
    "plt.xlabel('Iterations')\n",
    "plt.ylabel('Loss function');"
   ]
  },
  {
   "cell_type": "markdown",
   "metadata": {},
   "source": [
    "# One more deeper\n",
    "## Пойдем глубже раскрывать суть лего в глубоком обучении\n",
    "Атомарной частью торча является ```torch.nn.Parameter``` - обучаемый вес.  \n",
    "По сути это такой же тензор, но только мы говорим торчу, что мы хотим, чтобы торч сохранял градиент для этого веса, \n",
    "чтобы обновить его при градиентном шаге оптимизатора\n",
    "\n",
    "```torch.nn.Parameter(data=None, requires_grad=True)```  \n",
    "В дефолтном варианте для тензора мы не требуем сохранять градиент, но можем потребовать и тогда наш тензор станет обучаемым весом  \n",
    "```tensor(data, dtype=None, device=None, requires_grad=False)```"
   ]
  },
  {
   "cell_type": "code",
   "execution_count": 104,
   "metadata": {},
   "outputs": [
    {
     "data": {
      "text/plain": [
       "Parameter containing:\n",
       "tensor([0.3741, 0.6206, 0.9721, 0.3034, 0.1269, 0.9776, 0.6494, 0.2895, 0.3054,\n",
       "        0.9041, 0.9664, 0.8906, 0.8795, 0.9926, 0.8034, 0.5103, 0.8944, 0.9875,\n",
       "        0.1586, 0.0260, 0.8431, 0.2641, 0.7191, 0.9977, 0.7569, 0.3537, 0.6810,\n",
       "        0.3255, 0.6693, 0.2004, 0.1824, 0.2855, 0.5688, 0.8909, 0.1839, 0.6940,\n",
       "        0.6040, 0.3326, 0.3058, 0.3396, 0.8905, 0.1099, 0.9148, 0.0685, 0.5217,\n",
       "        0.9942, 0.5931, 0.1936, 0.2643, 0.1592], requires_grad=True)"
      ]
     },
     "execution_count": 104,
     "metadata": {},
     "output_type": "execute_result"
    }
   ],
   "source": [
    "parampampam = torch.nn.Parameter(torch.rand(50))\n",
    "parampampam"
   ]
  },
  {
   "cell_type": "code",
   "execution_count": 105,
   "metadata": {},
   "outputs": [],
   "source": [
    "x = torch.rand(32, 50)"
   ]
  },
  {
   "cell_type": "code",
   "execution_count": 106,
   "metadata": {},
   "outputs": [],
   "source": [
    "result = parampampam - x"
   ]
  },
  {
   "cell_type": "code",
   "execution_count": 107,
   "metadata": {},
   "outputs": [
    {
     "data": {
      "text/plain": [
       "tensor([[ 0.3479,  0.2746,  0.5417,  ..., -0.0890, -0.2688, -0.5078],\n",
       "        [-0.6201, -0.3489,  0.6000,  ..., -0.6631, -0.7256,  0.0169],\n",
       "        [-0.0906,  0.2812,  0.6790,  ..., -0.2697,  0.1187, -0.6789],\n",
       "        ...,\n",
       "        [ 0.3410, -0.3361,  0.1316,  ..., -0.0570, -0.3480,  0.1584],\n",
       "        [-0.5730,  0.6034,  0.8016,  ..., -0.5295, -0.6937, -0.6580],\n",
       "        [ 0.1279,  0.3547, -0.0271,  ...,  0.0183, -0.6446, -0.1178]],\n",
       "       grad_fn=<SubBackward0>)"
      ]
     },
     "execution_count": 107,
     "metadata": {},
     "output_type": "execute_result"
    }
   ],
   "source": [
    "result"
   ]
  },
  {
   "cell_type": "markdown",
   "metadata": {},
   "source": [
    "### Можно заметить, что у тензора result теперь есть атрибут grad_fn\n",
    "Это функция, по которой нужно рассчитывать градиент  \n",
    "И это говорит о том, что теперь у нас есть граф вычислений"
   ]
  },
  {
   "cell_type": "code",
   "execution_count": 108,
   "metadata": {},
   "outputs": [
    {
     "data": {
      "text/plain": [
       "<SubBackward0 at 0x12863a58>"
      ]
     },
     "execution_count": 108,
     "metadata": {},
     "output_type": "execute_result"
    }
   ],
   "source": [
    "result.grad_fn"
   ]
  },
  {
   "cell_type": "markdown",
   "metadata": {},
   "source": [
    "### И мы можем продолжать наш граф"
   ]
  },
  {
   "cell_type": "code",
   "execution_count": 109,
   "metadata": {},
   "outputs": [],
   "source": [
    "result_end = torch.sigmoid(result)"
   ]
  },
  {
   "cell_type": "code",
   "execution_count": 110,
   "metadata": {},
   "outputs": [
    {
     "data": {
      "text/plain": [
       "tensor([[0.5861, 0.5682, 0.6322,  ..., 0.4778, 0.4332, 0.3757],\n",
       "        [0.3498, 0.4137, 0.6457,  ..., 0.3401, 0.3262, 0.5042],\n",
       "        [0.4774, 0.5698, 0.6635,  ..., 0.4330, 0.5296, 0.3365],\n",
       "        ...,\n",
       "        [0.5844, 0.4167, 0.5328,  ..., 0.4857, 0.4139, 0.5395],\n",
       "        [0.3606, 0.6464, 0.6903,  ..., 0.3706, 0.3332, 0.3412],\n",
       "        [0.5319, 0.5878, 0.4932,  ..., 0.5046, 0.3442, 0.4706]],\n",
       "       grad_fn=<SigmoidBackward>)"
      ]
     },
     "execution_count": 110,
     "metadata": {},
     "output_type": "execute_result"
    }
   ],
   "source": [
    "result_end"
   ]
  },
  {
   "cell_type": "markdown",
   "metadata": {},
   "source": [
    "### Для примера того, когда у нас граф не строится\n",
    "Когда нам нечего оптимизировать!"
   ]
  },
  {
   "cell_type": "code",
   "execution_count": 111,
   "metadata": {},
   "outputs": [],
   "source": [
    "z = torch.rand(50)"
   ]
  },
  {
   "cell_type": "code",
   "execution_count": 112,
   "metadata": {},
   "outputs": [],
   "source": [
    "result_2 = torch.sigmoid(z - x)"
   ]
  },
  {
   "cell_type": "code",
   "execution_count": 113,
   "metadata": {},
   "outputs": [
    {
     "data": {
      "text/plain": [
       "tensor([[0.4976, 0.5324, 0.6022,  ..., 0.5879, 0.5475, 0.5006],\n",
       "        [0.2733, 0.3790, 0.6160,  ..., 0.4455, 0.4339, 0.6288],\n",
       "        [0.3898, 0.5341, 0.6345,  ..., 0.5435, 0.6407, 0.4579],\n",
       "        ...,\n",
       "        [0.4958, 0.3820, 0.5011,  ..., 0.5956, 0.5278, 0.6612],\n",
       "        [0.2828, 0.6127, 0.6625,  ..., 0.4787, 0.4417, 0.4631],\n",
       "        [0.4428, 0.5523, 0.4615,  ..., 0.6136, 0.4539, 0.5969]])"
      ]
     },
     "execution_count": 113,
     "metadata": {},
     "output_type": "execute_result"
    }
   ],
   "source": [
    "result_2"
   ]
  },
  {
   "cell_type": "code",
   "execution_count": 114,
   "metadata": {},
   "outputs": [
    {
     "name": "stdout",
     "output_type": "stream",
     "text": [
      "None\n"
     ]
    }
   ],
   "source": [
    "# нет ссылки на функцию, по которой можем рассчитать градиент\n",
    "print(result_2.grad_fn)"
   ]
  },
  {
   "cell_type": "markdown",
   "metadata": {},
   "source": [
    "# Обучаемые веса\n",
    "## Теперь мы знаем, что можем сами задавать веса\n",
    "Так давайте сделаем свой класс для линейного преобразования"
   ]
  },
  {
   "cell_type": "code",
   "execution_count": 115,
   "metadata": {},
   "outputs": [],
   "source": [
    "class MyLinear(torch.nn.Module):\n",
    "    \n",
    "    def __init__(self, in_features, out_features):\n",
    "        \n",
    "        super().__init__()\n",
    "        \n",
    "        # задаем матрицу весов и смещение\n",
    "        self.weight = torch.nn.Parameter(torch.rand(in_features, out_features) * 0.01)\n",
    "        self.bias = torch.nn.Parameter(torch.zeros(out_features))\n",
    "        \n",
    "    def forward(self, x):\n",
    "        \n",
    "        return torch.matmul(x, self.weight) + self.bias"
   ]
  },
  {
   "cell_type": "markdown",
   "metadata": {},
   "source": [
    "## Вот таким образом можно написать свои функции и то, как их дифференцировать\n",
    "На практике встречается супер редко"
   ]
  },
  {
   "cell_type": "code",
   "execution_count": 116,
   "metadata": {},
   "outputs": [],
   "source": [
    "class MyReLU(torch.autograd.Function):\n",
    "\n",
    "    @staticmethod\n",
    "    def forward(ctx, x):\n",
    "\n",
    "        ctx.save_for_backward(x)\n",
    "        \n",
    "        return x.clamp(min=0)\n",
    "\n",
    "    @staticmethod\n",
    "    def backward(ctx, grad_output):\n",
    "\n",
    "        x, = ctx.saved_tensors\n",
    "        grad_input = grad_output.clone()\n",
    "        grad_input[x < 0] = 0\n",
    "        \n",
    "        return grad_input"
   ]
  },
  {
   "cell_type": "code",
   "execution_count": 117,
   "metadata": {},
   "outputs": [],
   "source": [
    "class MLP(torch.nn.Module):\n",
    "    \n",
    "    def __init__(self, in_features, inner_features, out_features):\n",
    "        \n",
    "        super().__init__()\n",
    "        \n",
    "        # слои определяются также как обычно\n",
    "        self.linear_1 = MyLinear(in_features=in_features, out_features=inner_features)\n",
    "        # обратите внимание как определяется своя функция\n",
    "        self.non_linear = MyReLU.apply\n",
    "        self.linear_2 = MyLinear(in_features=inner_features, out_features=out_features)\n",
    "        # еще один момент:\n",
    "        # мы сознательно не определяем сигмоиду\n",
    "        # \n",
    "        # Почему?\n",
    "        # В торче для NLL и Binary Cross Entropy \n",
    "        # есть более оптимальные слои, которые используют некоторые оптимизационные трюки\n",
    "        # рассчитываются быстрее и стабильнее\n",
    "        # \n",
    "        \n",
    "    def forward(self, x):\n",
    "        \n",
    "        x = self.linear_1(x)\n",
    "        x = self.non_linear(x)\n",
    "        x = self.linear_2(x)\n",
    "        \n",
    "        return x"
   ]
  },
  {
   "cell_type": "code",
   "execution_count": 118,
   "metadata": {},
   "outputs": [],
   "source": [
    "model = MLP(784, 256, 1)"
   ]
  },
  {
   "cell_type": "code",
   "execution_count": 119,
   "metadata": {},
   "outputs": [
    {
     "data": {
      "text/plain": [
       "MLP(\n",
       "  (linear_1): MyLinear()\n",
       "  (linear_2): MyLinear()\n",
       ")"
      ]
     },
     "execution_count": 119,
     "metadata": {},
     "output_type": "execute_result"
    }
   ],
   "source": [
    "model"
   ]
  },
  {
   "cell_type": "code",
   "execution_count": 120,
   "metadata": {},
   "outputs": [],
   "source": [
    "# вот оптимизация для BCE \n",
    "# эта функция потерь объединяет в себе сигмоиду и BCE\n",
    "# и решает задачу более эффективно\n",
    "\n",
    "# \n",
    "# Для NLLLoss есть это CrossEntropy: https://pytorch.org/docs/stable/nn.html#crossentropyloss\n",
    "# \n",
    "# \n",
    "criterion = torch.nn.BCEWithLogitsLoss()\n",
    "optimizer = torch.optim.Adam(params=model.parameters())"
   ]
  },
  {
   "cell_type": "code",
   "execution_count": 121,
   "metadata": {},
   "outputs": [],
   "source": [
    "# определим функцию для сигмоиды, чтобы использовать при тестировании\n",
    "def sigmoid(x):\n",
    "    \n",
    "    return 1 / (1 + np.exp(-x))"
   ]
  },
  {
   "cell_type": "code",
   "execution_count": 122,
   "metadata": {},
   "outputs": [
    {
     "name": "stderr",
     "output_type": "stream",
     "text": [
      "Epoch 1: 100%|███████████████████████████████████████████████| 12396/12396 [00:07<00:00, 1660.23it/s, train_loss=0.205]\n"
     ]
    },
    {
     "name": "stdout",
     "output_type": "stream",
     "text": [
      "Losses: train - 0.205, test = 0.060\n",
      "Test: accuracy - 0.979\n"
     ]
    },
    {
     "name": "stderr",
     "output_type": "stream",
     "text": [
      "Epoch 2: 100%|██████████████████████████████████████████████| 12396/12396 [00:08<00:00, 1462.74it/s, train_loss=0.0429]\n"
     ]
    },
    {
     "name": "stdout",
     "output_type": "stream",
     "text": [
      "Losses: train - 0.042, test = 0.051\n",
      "Test: accuracy - 0.985\n"
     ]
    },
    {
     "name": "stderr",
     "output_type": "stream",
     "text": [
      "Epoch 3: 100%|██████████████████████████████████████████████| 12396/12396 [00:07<00:00, 1565.66it/s, train_loss=0.0319]\n"
     ]
    },
    {
     "name": "stdout",
     "output_type": "stream",
     "text": [
      "Losses: train - 0.032, test = 0.044\n",
      "Test: accuracy - 0.985\n"
     ]
    },
    {
     "name": "stderr",
     "output_type": "stream",
     "text": [
      "Epoch 4: 100%|██████████████████████████████████████████████| 12396/12396 [00:06<00:00, 1886.36it/s, train_loss=0.0247]\n"
     ]
    },
    {
     "name": "stdout",
     "output_type": "stream",
     "text": [
      "Losses: train - 0.025, test = 0.034\n",
      "Test: accuracy - 0.989\n"
     ]
    },
    {
     "name": "stderr",
     "output_type": "stream",
     "text": [
      "Epoch 5: 100%|██████████████████████████████████████████████| 12396/12396 [00:06<00:00, 1852.81it/s, train_loss=0.0179]\n"
     ]
    },
    {
     "name": "stdout",
     "output_type": "stream",
     "text": [
      "Losses: train - 0.018, test = 0.026\n",
      "Test: accuracy - 0.991\n"
     ]
    },
    {
     "name": "stderr",
     "output_type": "stream",
     "text": [
      "Epoch 6: 100%|███████████████████████████████████████████████| 12396/12396 [00:06<00:00, 1882.92it/s, train_loss=0.012]\n"
     ]
    },
    {
     "name": "stdout",
     "output_type": "stream",
     "text": [
      "Losses: train - 0.012, test = 0.021\n",
      "Test: accuracy - 0.992\n"
     ]
    },
    {
     "name": "stderr",
     "output_type": "stream",
     "text": [
      "Epoch 7: 100%|█████████████████████████████████████████████| 12396/12396 [00:06<00:00, 1836.61it/s, train_loss=0.00809]\n"
     ]
    },
    {
     "name": "stdout",
     "output_type": "stream",
     "text": [
      "Losses: train - 0.008, test = 0.023\n",
      "Test: accuracy - 0.992\n",
      "Early stopping\n"
     ]
    }
   ],
   "source": [
    "epochs = 10\n",
    "losses = []\n",
    "best_test_loss = 10.\n",
    "\n",
    "for n_epoch in range(epochs):\n",
    "    \n",
    "    train_losses = []\n",
    "    test_losses = []\n",
    "    test_preds = []\n",
    "    test_targets = []\n",
    "    \n",
    "    progress_bar = tqdm(total=len(train_loader.dataset), desc='Epoch {}'.format(n_epoch + 1))\n",
    "    \n",
    "    for x, y in train_loader:\n",
    "        \n",
    "        x = x.view(x.shape[0], -1)\n",
    "        y = y.unsqueeze(1).float()\n",
    "        \n",
    "        optimizer.zero_grad()\n",
    "        \n",
    "        pred = model(x)\n",
    "        \n",
    "        loss = criterion(pred, y.float())\n",
    "        \n",
    "        loss.backward()\n",
    "        \n",
    "        optimizer.step()\n",
    "        \n",
    "        train_losses.append(loss.item())\n",
    "        losses.append(loss.item())\n",
    "        \n",
    "        progress_bar.set_postfix(train_loss = np.mean(losses[-100:]))\n",
    "\n",
    "        progress_bar.update(x.shape[0])\n",
    "        \n",
    "    progress_bar.close()\n",
    "    \n",
    "    for x, y in test_loader:\n",
    "        \n",
    "        x = x.view(x.shape[0], -1)\n",
    "        y = y.unsqueeze(1).float()\n",
    "\n",
    "        with torch.no_grad():\n",
    "            \n",
    "            pred = model(x)\n",
    "            \n",
    "        test_preds.append(pred.numpy())\n",
    "        test_targets.append(y.numpy())\n",
    "\n",
    "        loss = criterion(pred, y)\n",
    "\n",
    "        test_losses.append(loss.item())\n",
    "        \n",
    "    print('Losses: train - {:.3f}, test = {:.3f}'.format(np.mean(train_losses), np.mean(test_losses)))\n",
    "    \n",
    "    test_preds = np.concatenate(test_preds)\n",
    "    # Применяем сигмоиду\n",
    "    test_preds = sigmoid(test_preds.squeeze())\n",
    "    test_targets = np.concatenate(test_targets).squeeze()\n",
    "    \n",
    "    test_preds[test_preds > 0.5] = 1\n",
    "    test_preds[test_preds <= 0.5] = 0\n",
    "    \n",
    "    accurary = accuracy_score(test_targets, test_preds)\n",
    "\n",
    "    print('Test: accuracy - {:.3f}'.format(accurary))\n",
    "        \n",
    "    if np.mean(test_losses) < best_test_loss:\n",
    "        best_test_loss = np.mean(test_losses)\n",
    "    else:\n",
    "        print('Early stopping')\n",
    "        break    "
   ]
  }
 ],
 "metadata": {
  "kernelspec": {
   "display_name": "Python 3",
   "language": "python",
   "name": "python3"
  },
  "language_info": {
   "codemirror_mode": {
    "name": "ipython",
    "version": 3
   },
   "file_extension": ".py",
   "mimetype": "text/x-python",
   "name": "python",
   "nbconvert_exporter": "python",
   "pygments_lexer": "ipython3",
   "version": "3.7.3"
  }
 },
 "nbformat": 4,
 "nbformat_minor": 2
}

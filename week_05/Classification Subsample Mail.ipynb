{
  "nbformat": 4,
  "nbformat_minor": 0,
  "metadata": {
    "accelerator": "GPU",
    "colab": {
      "name": "🐰 Classification.ipynb",
      "provenance": [],
      "collapsed_sections": []
    },
    "kernelspec": {
      "name": "python3",
      "display_name": "Python 3"
    },
    "language_info": {
      "codemirror_mode": {
        "name": "ipython",
        "version": 3
      },
      "file_extension": ".py",
      "mimetype": "text/x-python",
      "name": "python",
      "nbconvert_exporter": "python",
      "pygments_lexer": "ipython3",
      "version": "3.7.3"
    }
  },
  "cells": [
    {
      "cell_type": "code",
      "metadata": {
        "id": "3223NVDuVmGt",
        "colab_type": "code",
        "outputId": "18919b35-655b-441d-bcce-6d753b6643e6",
        "colab": {
          "base_uri": "https://localhost:8080/",
          "height": 35
        }
      },
      "source": [
        "print(\"start!\")\n",
        "HIDDEN_SIZE = 64\n",
        "BATCH_SIZE = 64 # 64\n",
        "LOG_ITERATIONS = 500\n",
        "EPOCHS_NUM = 40"
      ],
      "execution_count": 1,
      "outputs": [
        {
          "output_type": "stream",
          "text": [
            "start!\n"
          ],
          "name": "stdout"
        }
      ]
    },
    {
      "cell_type": "markdown",
      "metadata": {
        "id": "ORonekI2b2Uh",
        "colab_type": "text"
      },
      "source": [
        "## План\n",
        "1. Разбить датасет на трейн/тест или на трейн/валидация/тест, как вам больше нравится\n",
        "1. Сделать класс нейронки, вписать необходимые операции, базовая архитектура ниже\n",
        "1. Написать обучалку\n",
        "1. Добавить логирование\n",
        "    1. Сохранять лосс на каждой итерции обучения __0.25 балла__\n",
        "    1. Каждую эпоху сохранять лосс трейна и тест __0.25 балла__\n",
        "    1. Каждую эпоху рассчитывать метрики __0.25 балла__\n",
        "    1. Добавить прогресс бар, в котором показывается усредненный лосс последних 500-та итераций __0.25 балла__\n",
        "1. Добавить early stopping __0.5 балла__\n",
        "1. Отрисовать графики лосса, метрик, конфьюжин матрицу __0.5 балла__\n",
        "1. Улучшить результат. Например, можно добавить BatchNorm, Dropout, Residual, etc __1 балл__\n",
        "1. Сделать макро f1 больше 0.8 __1 балл__\n",
        "1. Написать какие действия к чему приводили (почему вы их делали и оправдались ли ожидания)\n",
        "\n",
        "## Базовая архитектура\n",
        "1. Предобученные эмбеддинги. Почитайте [здесь](https://pytorch.org/docs/stable/nn.html#embedding) (from_pretrained) как вставить свои эмбеддинги, выше мы читали матрицу эмбеддингов. __1 балл__\n",
        "1. Bidirectional LSTM. __1 балл__\n",
        "2. Несколько параллельных CNN с разными размерами окна и пулингами к ним. __2 балла__\n",
        "3. Конкатенация результатов CNN. __0 баллов__ (идет вместе с предыдущим пунктом)\n",
        "4. Предикт в количество классов. __0 баллов__ (ну все-таки предсказать классы нужно обязательно)\n",
        "\n",
        "__Дополнительные баллы:__\n",
        "- Написать GRU с нуля самому __1 балл__\n",
        "- Побить макро f1 0.84 __1 балл__\n",
        "- Переобучиться и снизить переобучение за счет трюков. Пояснение: показываете, что вот такая архитектура переобучается, а вот я добавил/а это и это, изменил/а это и это и переобучение ушло __1 балл__\n",
        "- Добавить селф аттеншин (написанный своими руками) __3 балла__\n",
        "- За мультихед селф аттеншин еще __1 балл__\n",
        "- Добавить [torch.nn.utils.rnn.pack_padded_sequence()](https://pytorch.org/docs/stable/nn.html#torch.nn.utils.rnn.pack_padded_sequence) и [torch.nn.utils.rnn.pack_sequence()](https://pytorch.org/docs/stable/nn.html#torch.nn.utils.rnn.pack_sequence) для LSTM. Инфа [здесь](#Еще-важный-момент-про-LSTM) __2 балла__\n",
        "- Добавить дропаут для входа LSTM (не просто стандартный пункт при инициализации LSTM) __1 балл__\n",
        "- Добавить шедуллеры __1 балл__\n",
        "- your madness\n",
        "\n",
        "### TIPs:\n",
        "- Если будете брать ```train_test_split```, не забудьте сделать ```reset_index```, чтобы по индексу корректно доставались таргеты из ```y_data```  \n",
        "- Необязательно делить датасет именно на 70 % и 30 %  \n",
        "- Пулинг можно делать без торчового слоя\n",
        "\n",
        "# РАЗМЕР ТЕСТА НЕ МЕНЬШЕ 10% ДАТАСЕТА\n",
        "# 10 БАЛЛОВ МАКСИМУМ"
      ]
    },
    {
      "cell_type": "code",
      "metadata": {
        "colab_type": "code",
        "id": "Y0fOWhqwW-AT",
        "outputId": "da575a0d-a7ab-4b6c-f768-2c12677e14fe",
        "colab": {
          "base_uri": "https://localhost:8080/",
          "height": 606
        }
      },
      "source": [
        "!pip install pandas\n",
        "!pip install torch\n",
        "!pip install nltk\n",
        "!pip install tqdm\n",
        "!pip install seaborn\n",
        "!pip install numpy\n",
        "!pip install sklearn\n",
        "!pip install pytorch-ignite\n"
      ],
      "execution_count": 2,
      "outputs": [
        {
          "output_type": "stream",
          "text": [
            "Requirement already satisfied: pandas in /usr/local/lib/python3.6/dist-packages (0.25.2)\n",
            "Requirement already satisfied: numpy>=1.13.3 in /usr/local/lib/python3.6/dist-packages (from pandas) (1.17.3)\n",
            "Requirement already satisfied: python-dateutil>=2.6.1 in /usr/local/lib/python3.6/dist-packages (from pandas) (2.6.1)\n",
            "Requirement already satisfied: pytz>=2017.2 in /usr/local/lib/python3.6/dist-packages (from pandas) (2018.9)\n",
            "Requirement already satisfied: six>=1.5 in /usr/local/lib/python3.6/dist-packages (from python-dateutil>=2.6.1->pandas) (1.12.0)\n",
            "Requirement already satisfied: torch in /usr/local/lib/python3.6/dist-packages (1.3.0+cu100)\n",
            "Requirement already satisfied: numpy in /usr/local/lib/python3.6/dist-packages (from torch) (1.17.3)\n",
            "Requirement already satisfied: nltk in /usr/local/lib/python3.6/dist-packages (3.2.5)\n",
            "Requirement already satisfied: six in /usr/local/lib/python3.6/dist-packages (from nltk) (1.12.0)\n",
            "Requirement already satisfied: tqdm in /usr/local/lib/python3.6/dist-packages (4.28.1)\n",
            "Requirement already satisfied: seaborn in /usr/local/lib/python3.6/dist-packages (0.9.0)\n",
            "Requirement already satisfied: pandas>=0.15.2 in /usr/local/lib/python3.6/dist-packages (from seaborn) (0.25.2)\n",
            "Requirement already satisfied: scipy>=0.14.0 in /usr/local/lib/python3.6/dist-packages (from seaborn) (1.3.1)\n",
            "Requirement already satisfied: matplotlib>=1.4.3 in /usr/local/lib/python3.6/dist-packages (from seaborn) (3.1.1)\n",
            "Requirement already satisfied: numpy>=1.9.3 in /usr/local/lib/python3.6/dist-packages (from seaborn) (1.17.3)\n",
            "Requirement already satisfied: pytz>=2017.2 in /usr/local/lib/python3.6/dist-packages (from pandas>=0.15.2->seaborn) (2018.9)\n",
            "Requirement already satisfied: python-dateutil>=2.6.1 in /usr/local/lib/python3.6/dist-packages (from pandas>=0.15.2->seaborn) (2.6.1)\n",
            "Requirement already satisfied: cycler>=0.10 in /usr/local/lib/python3.6/dist-packages (from matplotlib>=1.4.3->seaborn) (0.10.0)\n",
            "Requirement already satisfied: kiwisolver>=1.0.1 in /usr/local/lib/python3.6/dist-packages (from matplotlib>=1.4.3->seaborn) (1.1.0)\n",
            "Requirement already satisfied: pyparsing!=2.0.4,!=2.1.2,!=2.1.6,>=2.0.1 in /usr/local/lib/python3.6/dist-packages (from matplotlib>=1.4.3->seaborn) (2.4.2)\n",
            "Requirement already satisfied: six>=1.5 in /usr/local/lib/python3.6/dist-packages (from python-dateutil>=2.6.1->pandas>=0.15.2->seaborn) (1.12.0)\n",
            "Requirement already satisfied: setuptools in /usr/local/lib/python3.6/dist-packages (from kiwisolver>=1.0.1->matplotlib>=1.4.3->seaborn) (41.4.0)\n",
            "Requirement already satisfied: numpy in /usr/local/lib/python3.6/dist-packages (1.17.3)\n",
            "Requirement already satisfied: sklearn in /usr/local/lib/python3.6/dist-packages (0.0)\n",
            "Requirement already satisfied: scikit-learn in /usr/local/lib/python3.6/dist-packages (from sklearn) (0.21.3)\n",
            "Requirement already satisfied: scipy>=0.17.0 in /usr/local/lib/python3.6/dist-packages (from scikit-learn->sklearn) (1.3.1)\n",
            "Requirement already satisfied: joblib>=0.11 in /usr/local/lib/python3.6/dist-packages (from scikit-learn->sklearn) (0.14.0)\n",
            "Requirement already satisfied: numpy>=1.11.0 in /usr/local/lib/python3.6/dist-packages (from scikit-learn->sklearn) (1.17.3)\n",
            "Requirement already satisfied: pytorch-ignite in /usr/local/lib/python3.6/dist-packages (0.2.1)\n",
            "Requirement already satisfied: torch in /usr/local/lib/python3.6/dist-packages (from pytorch-ignite) (1.3.0+cu100)\n",
            "Requirement already satisfied: numpy in /usr/local/lib/python3.6/dist-packages (from torch->pytorch-ignite) (1.17.3)\n"
          ],
          "name": "stdout"
        }
      ]
    },
    {
      "cell_type": "code",
      "metadata": {
        "colab_type": "code",
        "id": "u3wugeOHW-AV",
        "outputId": "94381ebe-2cca-4aef-a6b2-7d4d607d50be",
        "colab": {
          "base_uri": "https://localhost:8080/",
          "height": 72
        }
      },
      "source": [
        "import nltk\n",
        "nltk.download('punkt')"
      ],
      "execution_count": 3,
      "outputs": [
        {
          "output_type": "stream",
          "text": [
            "[nltk_data] Downloading package punkt to /root/nltk_data...\n",
            "[nltk_data]   Package punkt is already up-to-date!\n"
          ],
          "name": "stdout"
        },
        {
          "output_type": "execute_result",
          "data": {
            "text/plain": [
              "True"
            ]
          },
          "metadata": {
            "tags": []
          },
          "execution_count": 3
        }
      ]
    },
    {
      "cell_type": "markdown",
      "metadata": {
        "colab_type": "text",
        "id": "m9XIrxSmW-AX"
      },
      "source": [
        "# Скачиваем данные"
      ]
    },
    {
      "cell_type": "code",
      "metadata": {
        "colab_type": "code",
        "id": "ep1FB3IBW-AY",
        "outputId": "7ed5c9ca-2801-41f9-9d6f-321d0aa35271",
        "colab": {
          "base_uri": "https://localhost:8080/",
          "height": 404
        }
      },
      "source": [
        "!wget https://github.com/BobaZooba/HSE-Deep-Learning-in-NLP-Course/blob/master/week_05/data/answers_subsample.csv?raw=true -O data.csv"
      ],
      "execution_count": 4,
      "outputs": [
        {
          "output_type": "stream",
          "text": [
            "--2019-10-24 23:05:52--  https://github.com/BobaZooba/HSE-Deep-Learning-in-NLP-Course/blob/master/week_05/data/answers_subsample.csv?raw=true\n",
            "Resolving github.com (github.com)... 140.82.118.4\n",
            "Connecting to github.com (github.com)|140.82.118.4|:443... connected.\n",
            "HTTP request sent, awaiting response... 302 Found\n",
            "Location: https://github.com/BobaZooba/HSE-Deep-Learning-in-NLP-Course/raw/master/week_05/data/answers_subsample.csv [following]\n",
            "--2019-10-24 23:05:52--  https://github.com/BobaZooba/HSE-Deep-Learning-in-NLP-Course/raw/master/week_05/data/answers_subsample.csv\n",
            "Reusing existing connection to github.com:443.\n",
            "HTTP request sent, awaiting response... 302 Found\n",
            "Location: https://raw.githubusercontent.com/BobaZooba/HSE-Deep-Learning-in-NLP-Course/master/week_05/data/answers_subsample.csv [following]\n",
            "--2019-10-24 23:05:53--  https://raw.githubusercontent.com/BobaZooba/HSE-Deep-Learning-in-NLP-Course/master/week_05/data/answers_subsample.csv\n",
            "Resolving raw.githubusercontent.com (raw.githubusercontent.com)... 151.101.0.133, 151.101.64.133, 151.101.128.133, ...\n",
            "Connecting to raw.githubusercontent.com (raw.githubusercontent.com)|151.101.0.133|:443... connected.\n",
            "HTTP request sent, awaiting response... 200 OK\n",
            "Length: 28717126 (27M) [text/plain]\n",
            "Saving to: ‘data.csv’\n",
            "\n",
            "data.csv            100%[===================>]  27.39M   153MB/s    in 0.2s    \n",
            "\n",
            "2019-10-24 23:05:54 (153 MB/s) - ‘data.csv’ saved [28717126/28717126]\n",
            "\n"
          ],
          "name": "stdout"
        }
      ]
    },
    {
      "cell_type": "code",
      "metadata": {
        "colab_type": "code",
        "id": "BWA7IClKW-Aa",
        "colab": {}
      },
      "source": [
        "# если ругается на то, что нет wget\n",
        "# !apt-get install wget"
      ],
      "execution_count": 0,
      "outputs": []
    },
    {
      "cell_type": "code",
      "metadata": {
        "colab_type": "code",
        "id": "qJpFTPpsW-Ac",
        "outputId": "adc2979a-00c7-477f-cb93-4ffe0079868e",
        "colab": {
          "base_uri": "https://localhost:8080/",
          "height": 90
        }
      },
      "source": [
        "!ls -l"
      ],
      "execution_count": 6,
      "outputs": [
        {
          "output_type": "stream",
          "text": [
            "total 4458144\n",
            "-rw-r--r-- 1 root root 4536408847 Jan 18  2019 cc.ru.300.vec\n",
            "-rw-r--r-- 1 root root   28717126 Oct 24 23:05 data.csv\n",
            "drwxr-xr-x 1 root root       4096 Oct 22 15:18 sample_data\n"
          ],
          "name": "stdout"
        }
      ]
    },
    {
      "cell_type": "code",
      "metadata": {
        "colab_type": "code",
        "id": "qmzaEwy9W-Ae",
        "colab": {}
      },
      "source": [
        "import pandas as pd"
      ],
      "execution_count": 0,
      "outputs": []
    },
    {
      "cell_type": "code",
      "metadata": {
        "colab_type": "code",
        "id": "BbDKxq4EW-Ag",
        "colab": {}
      },
      "source": [
        "data = pd.read_csv('data.csv').reset_index()"
      ],
      "execution_count": 0,
      "outputs": []
    },
    {
      "cell_type": "code",
      "metadata": {
        "colab_type": "code",
        "id": "hcAdsbS7W-Ai",
        "colab": {}
      },
      "source": [
        "# data"
      ],
      "execution_count": 0,
      "outputs": []
    },
    {
      "cell_type": "code",
      "metadata": {
        "id": "ehiZkvgsDqCy",
        "colab_type": "code",
        "colab": {}
      },
      "source": [
        "import re\n",
        "puncts  = str.maketrans('','',\":,?;\\\"!.«»()\\'\\*\\+\")\n",
        "def smileproc(b):\n",
        "  b = re.sub(r\"(?<=[А-ЯЁа-яё\\d])(?=\\))\", \" \", b)    \n",
        "\n",
        "  eyes, noses, mouths = r\":;8BX=\", r\"-~'^\", r\")(/\\|DP\"\n",
        "  patsmileys = \"[%s][%s]?[%s]\" % tuple(map(re.escape, [eyes, noses, mouths]))\n",
        "  j = re.findall(patsmileys, b)\n",
        "  patsmile = r\"\\s\\)+\"\n",
        "  h = re.findall(patsmile, b)\n",
        "  b = re.sub(r\"\\?\", \" СПРАШИВАТЬ \", b)\n",
        "  b = re.sub(r\"\\!\", \" ВАЖНО \", b)\n",
        "  if j:\n",
        "    b = re.sub(patsmileys, \" СМЕЯТЬСЯ \", b)\n",
        "    # print (j, b)\n",
        "  if h and b.count('(') == 0:\n",
        "    b = re.sub(patsmile, \" СМЕЯТЬСЯ \", b)\n",
        "    # print (h, b)\n",
        "  b = b.lower().translate(puncts).strip()      \n",
        "  b = re.sub(r'(?<=\\\\d)(?=\\\\w)|(?<=\\\\w)(?=\\\\d)', ' ', b)\n",
        "  return b"
      ],
      "execution_count": 0,
      "outputs": []
    },
    {
      "cell_type": "code",
      "metadata": {
        "id": "RQHzudlC7uRn",
        "colab_type": "code",
        "outputId": "c73ed735-68a7-4463-d825-c45d1531f851",
        "colab": {
          "base_uri": "https://localhost:8080/",
          "height": 54
        }
      },
      "source": [
        "%%time\n",
        "DATA_TEXTS = data.text.tolist()\n",
        "# for a, row in data.iterrows():  \n",
        "for a, b in enumerate(DATA_TEXTS):\n",
        "  # s = row[\"text\"]\n",
        "  s = b\n",
        "  # if a > 5000: break\n",
        "  # if a % 1000 == 0:\n",
        "  #   print(a)\n",
        "  res = smileproc(s)\n",
        "  # data.loc[a, \"text\"] = res\n",
        "  DATA_TEXTS[a] = res\n",
        "  # print(res)\n"
      ],
      "execution_count": 11,
      "outputs": [
        {
          "output_type": "stream",
          "text": [
            "CPU times: user 6.43 s, sys: 39.7 ms, total: 6.46 s\n",
            "Wall time: 6.49 s\n"
          ],
          "name": "stdout"
        }
      ]
    },
    {
      "cell_type": "code",
      "metadata": {
        "id": "Vm0lPTTy_zN_",
        "colab_type": "code",
        "colab": {}
      },
      "source": [
        "# for a, b in enumerate(data.text):\n",
        "#   if a > 500: break\n",
        "#   print(b)\n",
        "# for a, b in enumerate(tts):\n",
        "#   if a > 500: break\n",
        "#   print(b)"
      ],
      "execution_count": 0,
      "outputs": []
    },
    {
      "cell_type": "code",
      "metadata": {
        "colab_type": "code",
        "id": "90tXLjfsW-Aj",
        "outputId": "daddb9d8-2814-4019-8df6-7af3f6d706a0",
        "colab": {
          "base_uri": "https://localhost:8080/",
          "height": 127
        }
      },
      "source": [
        "data.category.value_counts() * 100 / data.shape[0]"
      ],
      "execution_count": 13,
      "outputs": [
        {
          "output_type": "execute_result",
          "data": {
            "text/plain": [
              "law         29.793211\n",
              "relax       22.016242\n",
              "business    19.309527\n",
              "food        18.367055\n",
              "love        10.513965\n",
              "Name: category, dtype: float64"
            ]
          },
          "metadata": {
            "tags": []
          },
          "execution_count": 13
        }
      ]
    },
    {
      "cell_type": "markdown",
      "metadata": {
        "colab_type": "text",
        "id": "gfHbifWIW-Al"
      },
      "source": [
        "# Предобученные эмбеддинги\n",
        "[Источник](https://fasttext.cc/docs/en/crawl-vectors.html)  \n",
        "Вы можете взять любые word2vec подобные эмббединги. Если вы хотите использовать elmo, bert, etc сначала попробуйте с word2vec подобными эмббедингами, а потом можете перейти к более сложным моделям.  \n",
        "Ниже мы сначала скачиваем, а потом распоковываем эмбеддинги."
      ]
    },
    {
      "cell_type": "code",
      "metadata": {
        "colab_type": "code",
        "id": "PVhCzM3LW-Al",
        "outputId": "9032688a-7484-4bcc-9945-63816c749793",
        "colab": {
          "base_uri": "https://localhost:8080/",
          "height": 256
        }
      },
      "source": [
        "!wget https://dl.fbaipublicfiles.com/fasttext/vectors-crawl/cc.ru.300.vec.gz\n",
        "!gzip -d cc.ru.300.vec.gz"
      ],
      "execution_count": 14,
      "outputs": [
        {
          "output_type": "stream",
          "text": [
            "--2019-10-24 23:06:06--  https://dl.fbaipublicfiles.com/fasttext/vectors-crawl/cc.ru.300.vec.gz\n",
            "Resolving dl.fbaipublicfiles.com (dl.fbaipublicfiles.com)... 104.20.6.166, 104.20.22.166, 2606:4700:10::6814:16a6, ...\n",
            "Connecting to dl.fbaipublicfiles.com (dl.fbaipublicfiles.com)|104.20.6.166|:443... connected.\n",
            "HTTP request sent, awaiting response... 200 OK\n",
            "Length: 1306357571 (1.2G) [binary/octet-stream]\n",
            "Saving to: ‘cc.ru.300.vec.gz’\n",
            "\n",
            "cc.ru.300.vec.gz    100%[===================>]   1.22G  13.9MB/s    in 91s     \n",
            "\n",
            "2019-10-24 23:07:38 (13.7 MB/s) - ‘cc.ru.300.vec.gz’ saved [1306357571/1306357571]\n",
            "\n",
            "gzip: cc.ru.300.vec already exists; do you wish to overwrite (y or n)? n\n",
            "\tnot overwritten\n"
          ],
          "name": "stdout"
        }
      ]
    },
    {
      "cell_type": "code",
      "metadata": {
        "colab_type": "code",
        "id": "eJcT1qPZW-An",
        "outputId": "ed99776a-b35b-4c0b-ed45-dcef1004c179",
        "colab": {
          "base_uri": "https://localhost:8080/",
          "height": 109
        }
      },
      "source": [
        "!ls -l"
      ],
      "execution_count": 15,
      "outputs": [
        {
          "output_type": "stream",
          "text": [
            "total 5733888\n",
            "-rw-r--r-- 1 root root 4536408847 Jan 18  2019 cc.ru.300.vec\n",
            "-rw-r--r-- 1 root root 1306357571 Jan 18  2019 cc.ru.300.vec.gz\n",
            "-rw-r--r-- 1 root root   28717126 Oct 24 23:05 data.csv\n",
            "drwxr-xr-x 1 root root       4096 Oct 22 15:18 sample_data\n"
          ],
          "name": "stdout"
        }
      ]
    },
    {
      "cell_type": "code",
      "metadata": {
        "colab_type": "code",
        "id": "M0lwyZUFW-Ap",
        "colab": {}
      },
      "source": [
        "from nltk.tokenize import word_tokenize, wordpunct_tokenize\n",
        "from tqdm import tqdm"
      ],
      "execution_count": 0,
      "outputs": []
    },
    {
      "cell_type": "code",
      "metadata": {
        "colab_type": "code",
        "id": "QQpX51Y4W-Aq",
        "colab": {}
      },
      "source": [
        "# потом можете добавить свою предобработку\n",
        "\n",
        "def process_text(text):    \n",
        "    words = wordpunct_tokenize(text.lower())\n",
        "    \n",
        "    return words"
      ],
      "execution_count": 0,
      "outputs": []
    },
    {
      "cell_type": "code",
      "metadata": {
        "colab_type": "code",
        "id": "HyI2erCDW-Ar",
        "outputId": "5467bd0d-61f2-432e-b378-070640c8a5ea",
        "colab": {
          "base_uri": "https://localhost:8080/",
          "height": 35
        }
      },
      "source": [
        "word2freq = {}\n",
        "lengths = []\n",
        "\n",
        "# for text in tqdm(data.text):\n",
        "for text in tqdm(DATA_TEXTS):\n",
        "    \n",
        "    words = process_text(text)\n",
        "    \n",
        "    lengths.append(len(words))\n",
        "    \n",
        "    for word in words:\n",
        "        \n",
        "        if word in word2freq:\n",
        "            word2freq[word] += 1\n",
        "        else:\n",
        "            word2freq[word] = 1"
      ],
      "execution_count": 18,
      "outputs": [
        {
          "output_type": "stream",
          "text": [
            "100%|██████████| 237779/237779 [00:02<00:00, 110401.09it/s]\n"
          ],
          "name": "stderr"
        }
      ]
    },
    {
      "cell_type": "code",
      "metadata": {
        "colab_type": "code",
        "id": "FGzDm0ptW-At",
        "colab": {}
      },
      "source": [
        "import seaborn as sns\n",
        "from matplotlib import pyplot as plt"
      ],
      "execution_count": 0,
      "outputs": []
    },
    {
      "cell_type": "code",
      "metadata": {
        "colab_type": "code",
        "id": "iZBR-aYDW-Av",
        "outputId": "8ca02d4a-246e-43fc-a6e7-6a814d2e963c",
        "colab": {
          "base_uri": "https://localhost:8080/",
          "height": 640
        }
      },
      "source": [
        "plt.figure(figsize=(16, 10))\n",
        "plt.title('Распределение длин слов в текстах')\n",
        "plt.xlabel('Длина предложения')\n",
        "plt.ylabel('Доля')\n",
        "sns.distplot(lengths)"
      ],
      "execution_count": 20,
      "outputs": [
        {
          "output_type": "execute_result",
          "data": {
            "text/plain": [
              "<matplotlib.axes._subplots.AxesSubplot at 0x7f9de430a7b8>"
            ]
          },
          "metadata": {
            "tags": []
          },
          "execution_count": 20
        },
        {
          "output_type": "display_data",
          "data": {
            "image/png": "[encoded data removed]",
            "text/plain": [
              "<Figure size 1152x720 with 1 Axes>"
            ]
          },
          "metadata": {
            "tags": []
          }
        }
      ]
    },
    {
      "cell_type": "code",
      "metadata": {
        "colab_type": "code",
        "id": "OBzmPqXIW-Aw",
        "outputId": "091f1019-0413-430f-cd1d-e42ac1d905e7",
        "colab": {
          "base_uri": "https://localhost:8080/",
          "height": 35
        }
      },
      "source": [
        "upper_threshold = 32\n",
        "lower_threshold = 3\n",
        "\n",
        "correct_percent = len([sent_len for sent_len in lengths \n",
        "                       if sent_len <= upper_threshold and sent_len >= lower_threshold]) * 100 / len(lengths)\n",
        "\n",
        "'{:.2f} % наших текстов входят в промежуток от {} до {} слов'.format(correct_percent, lower_threshold, upper_threshold)"
      ],
      "execution_count": 21,
      "outputs": [
        {
          "output_type": "execute_result",
          "data": {
            "text/plain": [
              "'99.63 % наших текстов входят в промежуток от 3 до 32 слов'"
            ]
          },
          "metadata": {
            "tags": []
          },
          "execution_count": 21
        }
      ]
    },
    {
      "cell_type": "code",
      "metadata": {
        "colab_type": "code",
        "id": "GbSer_0bW-Ay",
        "outputId": "6bd58169-5b7d-4a28-8197-5adcf915d2a5",
        "colab": {
          "base_uri": "https://localhost:8080/",
          "height": 35
        }
      },
      "source": [
        "len(word2freq)"
      ],
      "execution_count": 22,
      "outputs": [
        {
          "output_type": "execute_result",
          "data": {
            "text/plain": [
              "154153"
            ]
          },
          "metadata": {
            "tags": []
          },
          "execution_count": 22
        }
      ]
    },
    {
      "cell_type": "code",
      "metadata": {
        "colab_type": "code",
        "id": "szg6XD3EW-Az",
        "outputId": "6b4670db-cb7a-4ddf-bb45-d1e04e538a39",
        "colab": {
          "base_uri": "https://localhost:8080/",
          "height": 35
        }
      },
      "source": [
        "'{} слов, которые встречались 3 и менее раз'.format(len([word for word in word2freq if word2freq[word] <= 3]))"
      ],
      "execution_count": 23,
      "outputs": [
        {
          "output_type": "execute_result",
          "data": {
            "text/plain": [
              "'116650 слов, которые встречались 3 и менее раз'"
            ]
          },
          "metadata": {
            "tags": []
          },
          "execution_count": 23
        }
      ]
    },
    {
      "cell_type": "markdown",
      "metadata": {
        "colab_type": "text",
        "id": "bZbOg0FqW-A1"
      },
      "source": [
        "# Читаем файл с эмбеддингами\n",
        "### Этот файл с 300 числами для 2 000 000 слов и он может не влезть в память\n",
        "Поэтому прочитаем только те слова, которые мы знаем"
      ]
    },
    {
      "cell_type": "code",
      "metadata": {
        "colab_type": "code",
        "id": "T1Yx_qr-W-A2",
        "colab": {}
      },
      "source": [
        "import numpy as np"
      ],
      "execution_count": 0,
      "outputs": []
    },
    {
      "cell_type": "code",
      "metadata": {
        "colab_type": "code",
        "id": "BLEgfnaWW-A4",
        "outputId": "b2a89884-ed1b-41ac-d285-426fb9bc294b",
        "colab": {
          "base_uri": "https://localhost:8080/",
          "height": 35
        }
      },
      "source": [
        "word2index = {'PAD': 0}\n",
        "vectors = []\n",
        "    \n",
        "word2vec_file = open('cc.ru.300.vec')\n",
        "    \n",
        "n_words, embedding_dim = word2vec_file.readline().split()\n",
        "n_words, embedding_dim = int(n_words), int(embedding_dim)\n",
        "\n",
        "# Zero vector for PAD\n",
        "vectors.append(np.zeros((1, embedding_dim)))\n",
        "\n",
        "progress_bar = tqdm(desc='Read word2vec', total=n_words)\n",
        "\n",
        "while True:\n",
        "\n",
        "    line = word2vec_file.readline().strip()\n",
        "\n",
        "    if not line:\n",
        "        break\n",
        "        \n",
        "    current_parts = line.split()\n",
        "\n",
        "    current_word = ' '.join(current_parts[:-embedding_dim])\n",
        "\n",
        "    if current_word in word2freq:\n",
        "\n",
        "        word2index[current_word] = len(word2index)\n",
        "\n",
        "        current_vectors = current_parts[-embedding_dim:]\n",
        "        current_vectors = np.array(list(map(float, current_vectors)))\n",
        "        current_vectors = np.expand_dims(current_vectors, 0)\n",
        "\n",
        "        vectors.append(current_vectors)\n",
        "\n",
        "    progress_bar.update(1)\n",
        "\n",
        "progress_bar.close()\n",
        "\n",
        "word2vec_file.close()\n",
        "\n",
        "vectors = np.concatenate(vectors)"
      ],
      "execution_count": 25,
      "outputs": [
        {
          "output_type": "stream",
          "text": [
            "Read word2vec: 100%|██████████| 2000000/2000000 [01:07<00:00, 29669.71it/s]\n"
          ],
          "name": "stderr"
        }
      ]
    },
    {
      "cell_type": "code",
      "metadata": {
        "colab_type": "code",
        "id": "AYJMzgpnW-A7",
        "outputId": "1252e108-76d6-4f30-8af1-b063b0eaf040",
        "colab": {
          "base_uri": "https://localhost:8080/",
          "height": 35
        }
      },
      "source": [
        "len(word2index)"
      ],
      "execution_count": 26,
      "outputs": [
        {
          "output_type": "execute_result",
          "data": {
            "text/plain": [
              "117700"
            ]
          },
          "metadata": {
            "tags": []
          },
          "execution_count": 26
        }
      ]
    },
    {
      "cell_type": "code",
      "metadata": {
        "colab_type": "code",
        "id": "KE06fafiW-A8",
        "outputId": "8216bd38-abc9-4028-efdb-7d2f47724cb3",
        "colab": {
          "base_uri": "https://localhost:8080/",
          "height": 1000
        }
      },
      "source": [
        "unk_words = [word for word in word2freq if word not in word2index]\n",
        "unk_counts = [word2freq[word] for word in unk_words]\n",
        "n_unk = sum(unk_counts) * 100 / sum(list(word2freq.values()))\n",
        "\n",
        "sub_sample_unk_words = {word: word2freq[word] for word in unk_words}\n",
        "sorted_unk_words = list(sorted(sub_sample_unk_words, key=lambda x: sub_sample_unk_words[x], reverse=True))\n",
        "\n",
        "print('Мы не знаем {:.2f} % слов в датасете'.format(n_unk))\n",
        "print('Количество неизвестных слов {} из {}, то есть {:.2f} % уникальных слов в словаре'.format(\n",
        "    len(unk_words), len(word2freq), len(unk_words) * 100 / len(word2freq)))\n",
        "print('В среднем каждое встречается {:.2f} раз'.format(np.mean(unk_counts)))\n",
        "print()\n",
        "print('Топ 5 невошедших слов:')\n",
        "\n",
        "for i in range(50):\n",
        "    print(sorted_unk_words[i], 'с количеством вхождениий -', word2freq[sorted_unk_words[i]])"
      ],
      "execution_count": 27,
      "outputs": [
        {
          "output_type": "stream",
          "text": [
            "Мы не знаем 1.67 % слов в датасете\n",
            "Количество неизвестных слов 36454 из 154153, то есть 23.65 % уникальных слов в словаре\n",
            "В среднем каждое встречается 1.16 раз\n",
            "\n",
            "Топ 5 невошедших слов:\n",
            "дошик с количеством вхождениий - 43\n",
            "егрн с количеством вхождениий - 41\n",
            "слайм с количеством вхождениий - 39\n",
            "внп с количеством вхождениий - 37\n",
            "девчин с количеством вхождениий - 36\n",
            "♪♫ с количеством вхождениий - 31\n",
            "wwwyoutubecom с количеством вхождениий - 25\n",
            "hatsan с количеством вхождениий - 25\n",
            "%- с количеством вхождениий - 23\n",
            "-> с количеством вхождениий - 23\n",
            "сзв с количеством вхождениий - 19\n",
            "// с количеством вхождениий - 18\n",
            "комиссация с количеством вхождениий - 18\n",
            "vkcom с количеством вхождениий - 18\n",
            "кдн с количеством вхождениий - 17\n",
            "boozled с количеством вхождениий - 17\n",
            "фкз с количеством вхождениий - 16\n",
            "помогитее с количеством вхождениий - 15\n",
            "быстроденьги с количеством вхождениий - 15\n",
            "```` с количеством вхождениий - 15\n",
            "бсо с количеством вхождениий - 15\n",
            "алиекспресс с количеством вхождениий - 15\n",
            "` с количеством вхождениий - 14\n",
            "слаймов с количеством вхождениий - 14\n",
            "пятёрочке с количеством вхождениий - 14\n",
            ">> с количеством вхождениий - 14\n",
            "иис с количеством вхождениий - 14\n",
            "фомс с количеством вхождениий - 14\n",
            "моголь с количеством вхождениий - 14\n",
            "боруто с количеством вхождениий - 13\n",
            "---> с количеством вхождениий - 13\n",
            "снилса с количеством вхождениий - 13\n",
            "памагити с количеством вхождениий - 13\n",
            "тинькоф с количеством вхождениий - 13\n",
            "ролтона с количеством вхождениий - 12\n",
            "стальфонд с количеством вхождениий - 12\n",
            "плез с количеством вхождениий - 12\n",
            "консервируете с количеством вхождениий - 12\n",
            "укрф с количеством вхождениий - 12\n",
            "ивановы с количеством вхождениий - 12\n",
            "зозпп с количеством вхождениий - 12\n",
            "мираторг с количеством вхождениий - 12\n",
            "͡° с количеством вхождениий - 12\n",
            "слайма с количеством вхождениий - 11\n",
            ">>> с количеством вхождениий - 11\n",
            "алике с количеством вхождениий - 11\n",
            "/// с количеством вхождениий - 11\n",
            "бузлд с количеством вхождениий - 11\n",
            "о_о с количеством вхождениий - 10\n",
            "подскадите с количеством вхождениий - 10\n"
          ],
          "name": "stdout"
        }
      ]
    },
    {
      "cell_type": "markdown",
      "metadata": {
        "colab_type": "text",
        "id": "GFPNApUjW-A9"
      },
      "source": [
        "# Потеря 2.5 % слов в датасете\n",
        "Эта ситуация не то, чтобы сильно плохая, в учебных целях нормально, к тому же в среднем они редко встречаются. Вы можете поиграть с предобработкой, но советую не заигрываться. Оценивается другое."
      ]
    },
    {
      "cell_type": "code",
      "metadata": {
        "colab_type": "code",
        "id": "_fo1fB6JW-A-",
        "colab": {}
      },
      "source": [
        "import torch"
      ],
      "execution_count": 0,
      "outputs": []
    },
    {
      "cell_type": "markdown",
      "metadata": {
        "colab_type": "text",
        "id": "stBQ3yhqW-Bi"
      },
      "source": [
        "# Подготовим данные в DataLoader"
      ]
    },
    {
      "cell_type": "code",
      "metadata": {
        "colab_type": "code",
        "id": "vPX_m5M4W-Bi",
        "colab": {}
      },
      "source": [
        "from torch.utils.data import Dataset, DataLoader"
      ],
      "execution_count": 0,
      "outputs": []
    },
    {
      "cell_type": "code",
      "metadata": {
        "colab_type": "code",
        "id": "hV76BdN0W-Bj",
        "outputId": "4471a55c-bcf8-43a5-c425-10267f58b455",
        "colab": {
          "base_uri": "https://localhost:8080/",
          "height": 35
        }
      },
      "source": [
        "'UNK' in word2index"
      ],
      "execution_count": 30,
      "outputs": [
        {
          "output_type": "execute_result",
          "data": {
            "text/plain": [
              "False"
            ]
          },
          "metadata": {
            "tags": []
          },
          "execution_count": 30
        }
      ]
    },
    {
      "cell_type": "markdown",
      "metadata": {
        "colab_type": "text",
        "id": "1qv1mKAeW-Bl"
      },
      "source": [
        "# Замапим категории в индексы"
      ]
    },
    {
      "cell_type": "code",
      "metadata": {
        "colab_type": "code",
        "id": "iHeFzZe1W-Bl",
        "colab": {}
      },
      "source": [
        "cat_mapper = {cat: n for n, cat in enumerate(data.category.unique())}\n",
        "inv_cat_mapper =  {v: k for k, v in cat_mapper.items()}"
      ],
      "execution_count": 0,
      "outputs": []
    },
    {
      "cell_type": "code",
      "metadata": {
        "id": "fVolLkgo0Fpo",
        "colab_type": "code",
        "outputId": "b30c25d2-f580-44e4-cddc-02f97cd14cd2",
        "colab": {
          "base_uri": "https://localhost:8080/",
          "height": 35
        }
      },
      "source": [
        "inv_cat_mapper.keys()"
      ],
      "execution_count": 32,
      "outputs": [
        {
          "output_type": "execute_result",
          "data": {
            "text/plain": [
              "dict_keys([0, 1, 2, 3, 4])"
            ]
          },
          "metadata": {
            "tags": []
          },
          "execution_count": 32
        }
      ]
    },
    {
      "cell_type": "code",
      "metadata": {
        "colab_type": "code",
        "id": "X3x9QhXYW-Bn",
        "outputId": "3018c483-37f0-41db-c1f5-689106185dc9",
        "colab": {
          "base_uri": "https://localhost:8080/",
          "height": 35
        }
      },
      "source": [
        "cat_mapper"
      ],
      "execution_count": 33,
      "outputs": [
        {
          "output_type": "execute_result",
          "data": {
            "text/plain": [
              "{'business': 0, 'food': 4, 'law': 1, 'love': 2, 'relax': 3}"
            ]
          },
          "metadata": {
            "tags": []
          },
          "execution_count": 33
        }
      ]
    },
    {
      "cell_type": "code",
      "metadata": {
        "id": "iHpovIpDYBLd",
        "colab_type": "code",
        "outputId": "0aa8c4a5-3e4d-46b1-e6c9-13a34543371f",
        "colab": {
          "base_uri": "https://localhost:8080/",
          "height": 35
        }
      },
      "source": [
        "len(cat_mapper)"
      ],
      "execution_count": 34,
      "outputs": [
        {
          "output_type": "execute_result",
          "data": {
            "text/plain": [
              "5"
            ]
          },
          "metadata": {
            "tags": []
          },
          "execution_count": 34
        }
      ]
    },
    {
      "cell_type": "code",
      "metadata": {
        "colab_type": "code",
        "id": "ef--8SWbW-Bo",
        "colab": {}
      },
      "source": [
        "data_cats = data.category.map(cat_mapper)"
      ],
      "execution_count": 0,
      "outputs": []
    },
    {
      "cell_type": "code",
      "metadata": {
        "id": "XohXsnJxajd6",
        "colab_type": "code",
        "colab": {}
      },
      "source": [
        "from sklearn.model_selection import train_test_split\n",
        "x_train, x_test, y_train, y_test = train_test_split(DATA_TEXTS, data_cats.tolist(), test_size=0.2)"
      ],
      "execution_count": 0,
      "outputs": []
    },
    {
      "cell_type": "code",
      "metadata": {
        "id": "K2p2drn3oFpq",
        "colab_type": "code",
        "outputId": "06414998-1a45-4506-aea5-45a6bdaaff77",
        "colab": {
          "base_uri": "https://localhost:8080/",
          "height": 221
        }
      },
      "source": [
        "x_train[:10]"
      ],
      "execution_count": 37,
      "outputs": [
        {
          "output_type": "execute_result",
          "data": {
            "text/plain": [
              "['с чем можно пить белое полусладкое вино',\n",
              " 'помогите найти название индийского фильма важно',\n",
              " 'могу ли я получить паспорт в 16 спрашивать',\n",
              " 'какие у вас традиционные блюда на рождество спрашивать',\n",
              " 'элементарный выбор напитка',\n",
              " 'могут ли меня задержать спрашивать',\n",
              " 'где в чите можно найти хорошего наставника в кулинарии кулинария',\n",
              " 'подскажите пожалуйста как называется песня или исполнитель  трек довольно таки старый но клубный там чет поется маски',\n",
              " 'вода с бутылки налитая в кружку и выпитая оттуда приносит отвращение а если выпить с бутылки- очень даже вкусно спрашивать',\n",
              " 'как вы думаете спрашивать  что будет если']"
            ]
          },
          "metadata": {
            "tags": []
          },
          "execution_count": 37
        }
      ]
    },
    {
      "cell_type": "code",
      "metadata": {
        "id": "1NogOH2Pn_7D",
        "colab_type": "code",
        "outputId": "c80e3d1b-1bf5-4d33-b2ec-ae18e8fedce8",
        "colab": {
          "base_uri": "https://localhost:8080/",
          "height": 35
        }
      },
      "source": [
        "y_train[:10]\n"
      ],
      "execution_count": 38,
      "outputs": [
        {
          "output_type": "execute_result",
          "data": {
            "text/plain": [
              "[4, 3, 1, 4, 4, 1, 4, 3, 4, 4]"
            ]
          },
          "metadata": {
            "tags": []
          },
          "execution_count": 38
        }
      ]
    },
    {
      "cell_type": "markdown",
      "metadata": {
        "colab_type": "text",
        "id": "vc48ALg_W-Bp"
      },
      "source": [
        "# Читалка данных"
      ]
    },
    {
      "cell_type": "markdown",
      "metadata": {
        "id": "4UGDCLOHuAoP",
        "colab_type": "text"
      },
      "source": [
        "## Что происходит ниже\n",
        "1. Мы задаем x_data, y_data (таргеты), word2index (маппер из слова в индекс слова), sequence_length (максимальная длина последовательности, если больше, ограничить ею), pad_token (токен паддинга и задаем его индекс pad_index).\n",
        "1. Загружаем данные:\n",
        "    1. Проходимся по датасету\n",
        "    1. Предобрабатываем каждый текст в датасете\n",
        "    1. Индексируем его\n",
        "1. Когда нам нужно достать пример из датасета мы берем индексированный ```x``` и соответствующий этому индексу ```y```, наш ```x``` также паддим (или ограничиваем длину) и переводим в ```torch.Tensor(x).long()```. Для ```y``` этого делать не потребуется, в dataloader'е таргеты преобразуются в тензор сами.\n",
        "    \n",
        "## Что нужно сделать здесь\n",
        "1. Дописать индексатор текста\n",
        "1. Дописать паддинг текста\n",
        "1. __*Опционально:*__ добавить что-то в предобработку"
      ]
    },
    {
      "cell_type": "code",
      "metadata": {
        "id": "_G76uU8qHEUW",
        "colab_type": "code",
        "colab": {}
      },
      "source": [
        "from itertools import repeat"
      ],
      "execution_count": 0,
      "outputs": []
    },
    {
      "cell_type": "code",
      "metadata": {
        "colab_type": "code",
        "id": "ZkX8SC_sW-Bp",
        "colab": {}
      },
      "source": [
        "class WordData(Dataset):\n",
        "    \n",
        "    def __init__(self, x_data, y_data, word2index, sequence_length=32, pad_token='PAD', verbose=True):\n",
        "        \n",
        "        super().__init__()\n",
        "        \n",
        "        self.x_data = []\n",
        "        self.y_data = y_data\n",
        "        \n",
        "        self.word2index = word2index\n",
        "        self.sequence_length = sequence_length\n",
        "        \n",
        "        self.pad_token = pad_token\n",
        "        self.pad_index = self.word2index[self.pad_token]\n",
        "        \n",
        "        self.load(x_data, verbose=verbose)\n",
        "        \n",
        "    @staticmethod\n",
        "    def process_text(text):\n",
        "        \n",
        "        # Место для вашей предобработки        \n",
        "        # aftertext = text.lower().translate(puncts).strip()        \n",
        "        # words = wordpunct_tokenize(digisep(aftertext))\n",
        "\n",
        "        words = wordpunct_tokenize(text)\n",
        "\n",
        "        return words\n",
        "    \n",
        "    @classmethod\n",
        "    def pad():\n",
        "      return self.pad_index\n",
        "        \n",
        "    def load(self, data, verbose=True):\n",
        "        \n",
        "        data_iterator = tqdm(data, desc='Loading data', disable=not verbose, position=0)\n",
        "        \n",
        "        for text in data_iterator:\n",
        "            \n",
        "            words = self.process_text(text)\n",
        "            \n",
        "            indexed_words = self.indexing(words)\n",
        "            \n",
        "            self.x_data.append(indexed_words)\n",
        "    \n",
        "    def indexing(self, tokenized_text):\n",
        "\n",
        "        # здесь мы не используем токен UNK, потому что мы мы его специально не учили\n",
        "        # становится непонятно какой же эмбеддинг присвоить неизвестному слову,\n",
        "        # поэтому просто выбрасываем наши неизветсные слова        \n",
        "        ### CODE ###\n",
        "        return [self.word2index[token] for token in tokenized_text if token in self.word2index]\n",
        "        \n",
        "            \n",
        "    def padding(self, sequence):\n",
        "        \n",
        "        # Ограничить длину self.sequence_length\n",
        "        # если длина меньше максимально - западить\n",
        "        ### CODE ###        \n",
        "        delta = self.sequence_length - len(sequence)\n",
        "        return sequence + list(repeat(self.pad_index, delta)) \\\n",
        "        if delta > 0 else sequence[:self.sequence_length]\n",
        "\n",
        "    def __len__(self):\n",
        "        \n",
        "        return len(self.x_data)\n",
        "    \n",
        "    def __getitem__(self, idx):\n",
        "        \n",
        "        x = self.x_data[idx]\n",
        "        x = self.padding(x)\n",
        "        x = torch.Tensor(x).long()\n",
        "        \n",
        "        y = self.y_data[idx]\n",
        "        \n",
        "        return x, y"
      ],
      "execution_count": 0,
      "outputs": []
    },
    {
      "cell_type": "code",
      "metadata": {
        "colab_type": "code",
        "id": "AbKaEWUWW-Bq",
        "outputId": "f884df57-13e3-4ec1-a18d-5c718fc40fe6",
        "colab": {
          "base_uri": "https://localhost:8080/",
          "height": 54
        }
      },
      "source": [
        "dataset = WordData(x_train, y_train, word2index)\n",
        "datasettest = WordData(x_test, y_test, word2index)\n",
        "# dataset = WordData(data.text, data.category, word2index)\n"
      ],
      "execution_count": 41,
      "outputs": [
        {
          "output_type": "stream",
          "text": [
            "Loading data: 100%|██████████| 190223/190223 [00:02<00:00, 91435.17it/s]\n",
            "Loading data: 100%|██████████| 47556/47556 [00:00<00:00, 108567.31it/s]\n"
          ],
          "name": "stderr"
        }
      ]
    },
    {
      "cell_type": "code",
      "metadata": {
        "colab_type": "code",
        "id": "Lnc2nD8gW-Br",
        "colab": {}
      },
      "source": [
        "train_loader = DataLoader(dataset, batch_size=BATCH_SIZE, pin_memory=True)\n",
        "test_loader = DataLoader(datasettest, batch_size=BATCH_SIZE, pin_memory=True)"
      ],
      "execution_count": 0,
      "outputs": []
    },
    {
      "cell_type": "markdown",
      "metadata": {
        "colab_type": "text",
        "id": "Zy0dkkTIW-Bw"
      },
      "source": [
        "# Обучить нейронку"
      ]
    },
    {
      "cell_type": "code",
      "metadata": {
        "id": "Jl8nIqvzvuao",
        "colab_type": "code",
        "colab": {}
      },
      "source": [
        "import warnings\n",
        "warnings.filterwarnings('ignore')\n",
        "# warnings break progress bar"
      ],
      "execution_count": 0,
      "outputs": []
    },
    {
      "cell_type": "code",
      "metadata": {
        "id": "w1hA1_48uAoz",
        "colab_type": "code",
        "outputId": "06514eab-cf2a-4319-bf30-521339b47a19",
        "colab": {
          "base_uri": "https://localhost:8080/",
          "height": 35
        }
      },
      "source": [
        "import torch.nn as nn\n",
        "import torch.nn.functional as F\n",
        "\n",
        "class CoolNet(nn.Module):\n",
        "  \"\"\"\n",
        "  |￣￣￣￣￣￣￣￣￣￣￣|\n",
        "    I don't know\n",
        "    what I am doing,\n",
        "    but it is my neural\n",
        "    network\n",
        "  |＿＿＿＿＿＿＿＿＿＿＿|\n",
        "  (\\__/) ||\n",
        "  (•ㅅ•) ||\n",
        "  / 　 づ\n",
        "  \"\"\"\n",
        " \n",
        "  def __init__(self, vocab_size, hidden_dim, classes_quantity, emb_weights):\n",
        "    super().__init__()\n",
        "    self.embeddings = nn.Embedding.from_pretrained(torch.FloatTensor(emb_weights))\n",
        "    self.drop = nn.Dropout2d(0.25)    \n",
        "    embedding_length  = emb_weights.shape[1]\n",
        "    self.lstm = nn.LSTM(input_size=embedding_length,\\\n",
        "                        hidden_size=hidden_dim,\\\n",
        "                        bidirectional=True, batch_first=True)\n",
        "    self.linear = nn.Linear(hidden_dim*2, classes_quantity)    \n",
        " \n",
        "    pass\n",
        "\n",
        "\n",
        "\n",
        "  def forward(self, x):    \n",
        "    x = self.embeddings(x)\n",
        "    x = self.drop(x)    \n",
        "    x, _ =  self.lstm(x)\n",
        "\n",
        "    # seq_lengths, indexes = (x > 0).sum(1).sort(descending=True)    \n",
        "    # q = x[indexes]\n",
        "    # z = pack_padded_sequence(q, seq_lengths, batch_first=True)\n",
        "    # x, _ =  self.lstm(z)\n",
        "    # x = pad_packed_sequence(z, batch_first=True)\n",
        "    # x = x[:, -1, :]\n",
        "    ##############\n",
        "    # CUDA error #\n",
        "    ##############\n",
        "\n",
        "    x = x[:, -1, :]\n",
        "    x = self.drop(x)\n",
        "    x = self.linear(x)\n",
        "    return x\n",
        "\n",
        "\n",
        "\n",
        "model = CoolNet(vocab_size=len(word2index), hidden_dim = HIDDEN_SIZE,\\\n",
        "                classes_quantity = len(cat_mapper),\\\n",
        "                emb_weights = vectors)\n",
        "\n",
        "device = torch.device('cuda') if torch.cuda.is_available() else torch.device('cpu')\n",
        "# torch.cuda.empty_cache()\n",
        "print(\"CUDA RAM usage\", torch.cuda.max_memory_allocated(device))\n",
        "model.to(device)\n",
        "optimizer = torch.optim.Adam(params=model.parameters())\n",
        "# aka loss function\n",
        "criterion = torch.nn.CrossEntropyLoss()"
      ],
      "execution_count": 44,
      "outputs": [
        {
          "output_type": "stream",
          "text": [
            "CUDA RAM usage 0\n"
          ],
          "name": "stdout"
        }
      ]
    },
    {
      "cell_type": "code",
      "metadata": {
        "id": "AWMwFRiUdQOt",
        "colab_type": "code",
        "outputId": "3148491d-d0ea-42db-b636-0d5cf155f75a",
        "colab": {
          "base_uri": "https://localhost:8080/",
          "height": 1000
        }
      },
      "source": [
        "from ignite.engine import Engine, _prepare_batch, Events, create_supervised_evaluator\n",
        "from ignite.metrics import Loss, Accuracy, Precision, Recall, Loss, ConfusionMatrix, IoU\n",
        "from ignite.contrib.handlers import ProgressBar\n",
        "from ignite.handlers import EarlyStopping\n",
        "from torch.optim.lr_scheduler import ExponentialLR, CosineAnnealingWarmRestarts\n",
        "\n",
        "\n",
        "\n",
        "# lr_scheduler = ExponentialLR(optimizer, gamma=0.8)\n",
        "lr_scheduler = CosineAnnealingWarmRestarts(optimizer, T_0 = 2)\n",
        "\n",
        "def f1(precision, recall):\n",
        "  return (precision * recall * 2.0 / (precision + recall)).mean()\n",
        "\n",
        "log_interval = LOG_ITERATIONS\n",
        "epochs = EPOCHS_NUM\n",
        "\n",
        "metrics = {\n",
        "    'avg_loss': Loss(criterion),\n",
        "    'avg_accuracy': Accuracy(),\n",
        "    'avg_precision': Precision(average=True),\n",
        "    'avg_recall': Recall(average=True),\n",
        "    'prec': Precision(average=False),\n",
        "    'rec': Recall(average=False),\n",
        "    'nll': Loss(criterion),\n",
        "    'cm': ConfusionMatrix(num_classes=len(cat_mapper))\n",
        "}\n",
        "\n",
        "def process_function(engine, batch):\n",
        "    model.train()\n",
        "    optimizer.zero_grad()\n",
        "    x, y = _prepare_batch(batch, device=device)\n",
        "    y_pred = model(x)\n",
        "    loss = criterion(y_pred, y)\n",
        "    loss.backward()\n",
        "    optimizer.step()\n",
        "    return loss.item()\n",
        "\n",
        "def create_supervised_evaluator(model, metrics={}, device=None):\n",
        "    if device:\n",
        "        model.to(device)\n",
        "\n",
        "    def _inference(engine, batch):\n",
        "        model.eval()\n",
        "        with torch.no_grad():\n",
        "            x, y = _prepare_batch(batch, device=device)\n",
        "            y_pred = model(x)\n",
        "            return y_pred, y\n",
        "\n",
        "    engine = Engine(_inference)\n",
        "\n",
        "    for name, metric in metrics.items():\n",
        "        metric.attach(engine, name)\n",
        "\n",
        "    return engine    \n",
        "################################################################################\n",
        "print(\"Current device\", device)\n",
        "\n",
        "train_evaluator = create_supervised_evaluator(model, metrics=metrics, device=device)\n",
        "val_evaluator = create_supervised_evaluator(model, metrics=metrics, device=device)\n",
        "\n",
        "# trainer = Engine(process_function)\n",
        "\n",
        "from ignite.engine import create_supervised_trainer\n",
        "\n",
        "trainer = create_supervised_trainer(model, optimizer, criterion, device)\n",
        "\n",
        "training_history = {'accuracy':[],'loss':[], 'f1':[]}\n",
        "validation_history = {'accuracy':[],'loss':[], 'f1':[]}\n",
        "loss_history = []\n",
        "\n",
        "def score_function(engine):\n",
        "    # loss growth monitoring\n",
        "    # val_loss = engine.state.metrics['nll']\n",
        "    # return -val_loss\n",
        "    # f1\n",
        "    return f1(engine.state.metrics['prec'], engine.state.metrics['rec'])\n",
        "\n",
        "early_stopping = EarlyStopping(patience=10, score_function=score_function, trainer=trainer)\n",
        "\n",
        "val_evaluator.add_event_handler(Events.EPOCH_COMPLETED, early_stopping)\n",
        "\n",
        "pbar = ProgressBar()\n",
        "pbar.attach(trainer, output_transform=lambda x: {'loss': x})\n",
        "\n",
        "# cm = ConfusionMatrix(num_classes=5)\n",
        "# IoU(cm, ignore_index=0).attach(train_evaluator, 'IoU')\n",
        "\n",
        "@trainer.on(Events.EPOCH_STARTED)\n",
        "def update_lr_scheduler(engine):\n",
        "    lr_scheduler.step()\n",
        "    # Display learning rate:\n",
        "    if len(optimizer.param_groups) == 1:\n",
        "        lr = float(optimizer.param_groups[0]['lr'])\n",
        "        print(\"Learning rate: {}\".format(lr))\n",
        "    else:\n",
        "        for i, param_group in enumerate(optimizer.param_groups):\n",
        "            lr = float(param_group['lr'])\n",
        "            print(\"Learning rate (group {}): {}\".format(i, lr))\n",
        "\n",
        "\n",
        "@trainer.on(Events.ITERATION_COMPLETED)\n",
        "def log_training_loss(engine):\n",
        "    iteration = (engine.state.iteration - 1) % len(train_loader) + 1\n",
        "    loss_history.append(engine.state.output)\n",
        "    if iteration % log_interval == 0:\n",
        "        print(\"Epoch[{}] Iteration[{}/{}] Loss: {:.4f}\"\n",
        "              .format(engine.state.epoch, \n",
        "                         iteration, \n",
        "                         len(train_loader), \n",
        "                         engine.state.output))\n",
        "\n",
        "\n",
        "@trainer.on(Events.EPOCH_COMPLETED)\n",
        "def compute_and_display_offline_train_metrics(engine):\n",
        "    epoch = engine.state.epoch\n",
        "    print(\"Compute train metrics...\")\n",
        "    metrics = train_evaluator.run(train_loader).metrics\n",
        "    f1val = f1(metrics['prec'], metrics['rec'])\n",
        "    accuracy = metrics['avg_accuracy']\n",
        "    training_history['accuracy'].append(accuracy)\n",
        "    avgloss  = metrics['avg_loss']\n",
        "    training_history['loss'].append(avgloss)\n",
        "    training_history['f1'].append(f1)\n",
        "\n",
        "  \n",
        "    print(\"Training Results - Epoch: {}  Average Loss: {:.4f} | Accuracy: {:.4f} | Precision: {:.4f} | Recall: {:.4f}  | F1: {:.4f}\"\n",
        "          .format(engine.state.epoch, \n",
        "                      avgloss, \n",
        "                      metrics['avg_accuracy'], \n",
        "                      metrics['avg_precision'], \n",
        "                      metrics['avg_recall'],\n",
        "                      f1val\n",
        "                  ))\n",
        "\n",
        "@trainer.on(Events.EPOCH_COMPLETED)\n",
        "def compute_and_display_val_metrics(engine):\n",
        "    epoch = engine.state.epoch\n",
        "    print(\"Compute validation metrics...\")\n",
        "    metrics = val_evaluator.run(test_loader).metrics\n",
        "    f1val = f1(metrics['prec'], metrics['rec'])\n",
        "    accuracy = metrics['avg_accuracy']\n",
        "    validation_history['accuracy'].append(accuracy)    \n",
        "    avgloss  = metrics['avg_loss']\n",
        "    validation_history['loss'].append(avgloss)\n",
        "    validation_history['f1'].append(f1)    \n",
        "    print(\"Validation Results - Epoch: {}  Average Loss: {:.4f} | Accuracy: {:.4f} | Precision: {:.4f} | Recall: {:.4f} | F1: {:.4f}\"\n",
        "          .format(engine.state.epoch, \n",
        "                      metrics['avg_loss'], \n",
        "                      accuracy, \n",
        "                      metrics['avg_precision'], \n",
        "                      metrics['avg_recall'],\n",
        "                     f1val\n",
        "                  ))\n",
        "\n",
        "@trainer.on(Events.COMPLETED)\n",
        "def display_farewell(engine):\n",
        "  print(\"Compute final results...\")  \n",
        "  metrics = val_evaluator.run(test_loader).metrics   \n",
        "  print(\"Final F1 {0:.4f}\".format(f1(metrics['prec'], metrics['rec'])))\n",
        "  print(\"Learning process is completed.\")\n",
        "  \n",
        "  # metrics = train_evaluator.run(test_loader).metrics   \n",
        "  # print(metrics['IoU'])\n",
        "\n",
        "@trainer.on(Events.COMPLETED)\n",
        "def log_confusion_matrix(trainer):\n",
        "    # print(loss_history)\n",
        "\n",
        "    plt.plot(loss_history,label=\"Training Loss\")    \n",
        "    plt.xlabel('No. of Iterations')\n",
        "    plt.ylabel('Loss')\n",
        "    plt.legend(frameon=False)\n",
        "    # plt.set_ylim(ymin=0)\n",
        "    plt.show()\n",
        "\n",
        "    plt.plot(training_history['loss'],label=\"Training Loss\")\n",
        "    plt.plot(validation_history['loss'],label=\"Validation Loss\")\n",
        "    plt.xlabel('No. of Epochs')\n",
        "    plt.ylabel('Loss')\n",
        "    plt.legend(frameon=False)\n",
        "    # plt.set_ylim(ymin=0)\n",
        "    plt.show()\n",
        "\n",
        "  \n",
        "\n",
        "    plt.plot(training_history['accuracy'],label=\"Training Accuracy\")\n",
        "    plt.plot(validation_history['accuracy'],label=\"Validation Accuracy\")\n",
        "    plt.xlabel('No. of Epochs')\n",
        "    plt.ylabel('Accuracy')\n",
        "    plt.legend(frameon=False)\n",
        "    plt.show()\n",
        "\n",
        "    val_evaluator.run(test_loader)\n",
        "    metrics_state = val_evaluator.state.metrics\n",
        "    cm = metrics_state['cm']\n",
        "\n",
        "    cm = cm.numpy()\n",
        "    cm = cm.astype(int)    \n",
        "    classes = list(inv_cat_mapper.values())    \n",
        "    fig, ax = plt.subplots(figsize=(10,10))  \n",
        "    ax= plt.subplot()\n",
        "    sns.heatmap(cm, annot=True, ax = ax,fmt=\"d\")\n",
        "    # labels, title and ticks\n",
        "    ax.set_xlabel('Predicted labels')\n",
        "    ax.set_ylabel('True labels') \n",
        "    ax.set_title('Confusion Matrix') \n",
        "    ax.xaxis.set_ticklabels(classes,rotation=90)\n",
        "    ax.yaxis.set_ticklabels(classes,rotation=0)  \n",
        "\n",
        "try:\n",
        "  output = trainer.run(train_loader, max_epochs=epochs)\n",
        "except KeyboardInterrupt:\n",
        "  print(\"Interrupted, exit.\")\n",
        "\n",
        "\n"
      ],
      "execution_count": 45,
      "outputs": [
        {
          "output_type": "stream",
          "text": [
            "Current device cuda\n",
            "Learning rate: 0.0005\n"
          ],
          "name": "stdout"
        },
        {
          "output_type": "display_data",
          "data": {
            "application/vnd.jupyter.widget-view+json": {
              "model_id": "5e0527bb257041029e6d4b72bd5387ef",
              "version_minor": 0,
              "version_major": 2
            },
            "text/plain": [
              "HBox(children=(IntProgress(value=0, max=2973), HTML(value='')))"
            ]
          },
          "metadata": {
            "tags": []
          }
        },
        {
          "output_type": "stream",
          "text": [
            "Epoch[1] Iteration[500/2973] Loss: 1.0391\n",
            "Epoch[1] Iteration[1000/2973] Loss: 0.9825\n",
            "Epoch[1] Iteration[1500/2973] Loss: 0.8110\n",
            "Epoch[1] Iteration[2000/2973] Loss: 0.8232\n",
            "Epoch[1] Iteration[2500/2973] Loss: 0.7043\n",
            "Compute train metrics...\n",
            "Training Results - Epoch: 1  Average Loss: 0.6680 | Accuracy: 0.7642 | Precision: 0.7449 | Recall: 0.7461  | F1: 0.7442\n",
            "Compute validation metrics...\n",
            "Validation Results - Epoch: 1  Average Loss: 0.6711 | Accuracy: 0.7637 | Precision: 0.7458 | Recall: 0.7480 | F1: 0.7456\n",
            "Learning rate: 0.001\n"
          ],
          "name": "stdout"
        },
        {
          "output_type": "display_data",
          "data": {
            "application/vnd.jupyter.widget-view+json": {
              "model_id": "0dd072bb300048edb1ff0c8047ef7f8e",
              "version_minor": 0,
              "version_major": 2
            },
            "text/plain": [
              "HBox(children=(IntProgress(value=0, max=2973), HTML(value='')))"
            ]
          },
          "metadata": {
            "tags": []
          }
        },
        {
          "output_type": "stream",
          "text": [
            "Epoch[2] Iteration[500/2973] Loss: 0.6979\n",
            "Epoch[2] Iteration[1000/2973] Loss: 0.7408\n",
            "Epoch[2] Iteration[1500/2973] Loss: 0.4768\n",
            "Epoch[2] Iteration[2000/2973] Loss: 0.6863\n",
            "Epoch[2] Iteration[2500/2973] Loss: 0.4649\n",
            "Compute train metrics...\n",
            "Training Results - Epoch: 2  Average Loss: 0.5163 | Accuracy: 0.8190 | Precision: 0.8147 | Recall: 0.8156  | F1: 0.8145\n",
            "Compute validation metrics...\n",
            "Validation Results - Epoch: 2  Average Loss: 0.5217 | Accuracy: 0.8157 | Precision: 0.8112 | Recall: 0.8136 | F1: 0.8117\n",
            "Learning rate: 0.0005\n"
          ],
          "name": "stdout"
        },
        {
          "output_type": "display_data",
          "data": {
            "application/vnd.jupyter.widget-view+json": {
              "model_id": "258bf66bd4764142b9655dd82634a33c",
              "version_minor": 0,
              "version_major": 2
            },
            "text/plain": [
              "HBox(children=(IntProgress(value=0, max=2973), HTML(value='')))"
            ]
          },
          "metadata": {
            "tags": []
          }
        },
        {
          "output_type": "stream",
          "text": [
            "Epoch[3] Iteration[500/2973] Loss: 0.6225\n",
            "Epoch[3] Iteration[1000/2973] Loss: 0.5737\n",
            "Epoch[3] Iteration[1500/2973] Loss: 0.4324\n",
            "Epoch[3] Iteration[2000/2973] Loss: 0.6863\n",
            "Epoch[3] Iteration[2500/2973] Loss: 0.6124\n",
            "Compute train metrics...\n",
            "Training Results - Epoch: 3  Average Loss: 0.4885 | Accuracy: 0.8257 | Precision: 0.8225 | Recall: 0.8242  | F1: 0.8232\n",
            "Compute validation metrics...\n",
            "Validation Results - Epoch: 3  Average Loss: 0.4952 | Accuracy: 0.8228 | Precision: 0.8196 | Recall: 0.8216 | F1: 0.8205\n",
            "Learning rate: 0.001\n"
          ],
          "name": "stdout"
        },
        {
          "output_type": "display_data",
          "data": {
            "application/vnd.jupyter.widget-view+json": {
              "model_id": "ac353d76ae3644ac8fdfae7c321736ea",
              "version_minor": 0,
              "version_major": 2
            },
            "text/plain": [
              "HBox(children=(IntProgress(value=0, max=2973), HTML(value='')))"
            ]
          },
          "metadata": {
            "tags": []
          }
        },
        {
          "output_type": "stream",
          "text": [
            "Epoch[4] Iteration[500/2973] Loss: 0.5543\n",
            "Epoch[4] Iteration[1000/2973] Loss: 0.5202\n",
            "Epoch[4] Iteration[1500/2973] Loss: 0.4314\n",
            "Epoch[4] Iteration[2000/2973] Loss: 0.6264\n",
            "Epoch[4] Iteration[2500/2973] Loss: 0.5022\n",
            "Compute train metrics...\n",
            "Training Results - Epoch: 4  Average Loss: 0.4865 | Accuracy: 0.8263 | Precision: 0.8190 | Recall: 0.8296  | F1: 0.8236\n",
            "Compute validation metrics...\n",
            "Validation Results - Epoch: 4  Average Loss: 0.4950 | Accuracy: 0.8215 | Precision: 0.8141 | Recall: 0.8248 | F1: 0.8187\n",
            "Learning rate: 0.0005\n"
          ],
          "name": "stdout"
        },
        {
          "output_type": "display_data",
          "data": {
            "application/vnd.jupyter.widget-view+json": {
              "model_id": "c73d7958b7204a8995bdc3dfb4f4f696",
              "version_minor": 0,
              "version_major": 2
            },
            "text/plain": [
              "HBox(children=(IntProgress(value=0, max=2973), HTML(value='')))"
            ]
          },
          "metadata": {
            "tags": []
          }
        },
        {
          "output_type": "stream",
          "text": [
            "Epoch[5] Iteration[500/2973] Loss: 0.5685\n",
            "Epoch[5] Iteration[1000/2973] Loss: 0.5803\n",
            "Epoch[5] Iteration[1500/2973] Loss: 0.4023\n",
            "Epoch[5] Iteration[2000/2973] Loss: 0.7074\n",
            "Epoch[5] Iteration[2500/2973] Loss: 0.3872\n",
            "Compute train metrics...\n",
            "Training Results - Epoch: 5  Average Loss: 0.4651 | Accuracy: 0.8307 | Precision: 0.8271 | Recall: 0.8325  | F1: 0.8294\n",
            "Compute validation metrics...\n",
            "Validation Results - Epoch: 5  Average Loss: 0.4753 | Accuracy: 0.8257 | Precision: 0.8222 | Recall: 0.8276 | F1: 0.8244\n",
            "Learning rate: 0.001\n"
          ],
          "name": "stdout"
        },
        {
          "output_type": "display_data",
          "data": {
            "application/vnd.jupyter.widget-view+json": {
              "model_id": "a42b9a07ca9548af992208bf17878f95",
              "version_minor": 0,
              "version_major": 2
            },
            "text/plain": [
              "HBox(children=(IntProgress(value=0, max=2973), HTML(value='')))"
            ]
          },
          "metadata": {
            "tags": []
          }
        },
        {
          "output_type": "stream",
          "text": [
            "Epoch[6] Iteration[500/2973] Loss: 0.5299\n",
            "Epoch[6] Iteration[1000/2973] Loss: 0.6383\n",
            "Epoch[6] Iteration[1500/2973] Loss: 0.4151\n",
            "Epoch[6] Iteration[2000/2973] Loss: 0.7179\n",
            "Epoch[6] Iteration[2500/2973] Loss: 0.4174\n",
            "Compute train metrics...\n",
            "Training Results - Epoch: 6  Average Loss: 0.4562 | Accuracy: 0.8354 | Precision: 0.8359 | Recall: 0.8311  | F1: 0.8332\n",
            "Compute validation metrics...\n",
            "Validation Results - Epoch: 6  Average Loss: 0.4682 | Accuracy: 0.8309 | Precision: 0.8316 | Recall: 0.8267 | F1: 0.8289\n",
            "Learning rate: 0.0005\n"
          ],
          "name": "stdout"
        },
        {
          "output_type": "display_data",
          "data": {
            "application/vnd.jupyter.widget-view+json": {
              "model_id": "0f1cb6d1b3de4240bad3b8ecc3d520d6",
              "version_minor": 0,
              "version_major": 2
            },
            "text/plain": [
              "HBox(children=(IntProgress(value=0, max=2973), HTML(value='')))"
            ]
          },
          "metadata": {
            "tags": []
          }
        },
        {
          "output_type": "stream",
          "text": [
            "Epoch[7] Iteration[500/2973] Loss: 0.5552\n",
            "Epoch[7] Iteration[1000/2973] Loss: 0.5395\n",
            "Epoch[7] Iteration[1500/2973] Loss: 0.4066\n",
            "Epoch[7] Iteration[2000/2973] Loss: 0.6472\n",
            "Epoch[7] Iteration[2500/2973] Loss: 0.4454\n",
            "Compute train metrics...\n",
            "Training Results - Epoch: 7  Average Loss: 0.4448 | Accuracy: 0.8373 | Precision: 0.8328 | Recall: 0.8390  | F1: 0.8355\n",
            "Compute validation metrics...\n",
            "Validation Results - Epoch: 7  Average Loss: 0.4591 | Accuracy: 0.8329 | Precision: 0.8283 | Recall: 0.8349 | F1: 0.8312\n",
            "Learning rate: 0.001\n"
          ],
          "name": "stdout"
        },
        {
          "output_type": "display_data",
          "data": {
            "application/vnd.jupyter.widget-view+json": {
              "model_id": "5e94771224b24d47bf43d03f4f59b828",
              "version_minor": 0,
              "version_major": 2
            },
            "text/plain": [
              "HBox(children=(IntProgress(value=0, max=2973), HTML(value='')))"
            ]
          },
          "metadata": {
            "tags": []
          }
        },
        {
          "output_type": "stream",
          "text": [
            "Epoch[8] Iteration[500/2973] Loss: 0.5622\n",
            "Epoch[8] Iteration[1000/2973] Loss: 0.6518\n",
            "Epoch[8] Iteration[1500/2973] Loss: 0.3835\n",
            "Epoch[8] Iteration[2000/2973] Loss: 0.6319\n",
            "Epoch[8] Iteration[2500/2973] Loss: 0.4294\n",
            "Compute train metrics...\n",
            "Training Results - Epoch: 8  Average Loss: 0.4476 | Accuracy: 0.8380 | Precision: 0.8358 | Recall: 0.8396  | F1: 0.8373\n",
            "Compute validation metrics...\n",
            "Validation Results - Epoch: 8  Average Loss: 0.4644 | Accuracy: 0.8308 | Precision: 0.8284 | Recall: 0.8325 | F1: 0.8300\n",
            "Learning rate: 0.0005\n"
          ],
          "name": "stdout"
        },
        {
          "output_type": "display_data",
          "data": {
            "application/vnd.jupyter.widget-view+json": {
              "model_id": "f4905ab44a6d4f9aae1191e0e0ef8c4a",
              "version_minor": 0,
              "version_major": 2
            },
            "text/plain": [
              "HBox(children=(IntProgress(value=0, max=2973), HTML(value='')))"
            ]
          },
          "metadata": {
            "tags": []
          }
        },
        {
          "output_type": "stream",
          "text": [
            "Epoch[9] Iteration[500/2973] Loss: 0.5559\n",
            "Epoch[9] Iteration[1000/2973] Loss: 0.4648\n",
            "Epoch[9] Iteration[1500/2973] Loss: 0.3992\n",
            "Epoch[9] Iteration[2000/2973] Loss: 0.6380\n",
            "Epoch[9] Iteration[2500/2973] Loss: 0.3718\n",
            "Compute train metrics...\n",
            "Training Results - Epoch: 9  Average Loss: 0.4305 | Accuracy: 0.8416 | Precision: 0.8392 | Recall: 0.8420  | F1: 0.8402\n",
            "Compute validation metrics...\n",
            "Validation Results - Epoch: 9  Average Loss: 0.4475 | Accuracy: 0.8362 | Precision: 0.8337 | Recall: 0.8366 | F1: 0.8348\n",
            "Learning rate: 0.001\n"
          ],
          "name": "stdout"
        },
        {
          "output_type": "display_data",
          "data": {
            "application/vnd.jupyter.widget-view+json": {
              "model_id": "be27145f434c4b0bbc071e3d228b917e",
              "version_minor": 0,
              "version_major": 2
            },
            "text/plain": [
              "HBox(children=(IntProgress(value=0, max=2973), HTML(value='')))"
            ]
          },
          "metadata": {
            "tags": []
          }
        },
        {
          "output_type": "stream",
          "text": [
            "Epoch[10] Iteration[500/2973] Loss: 0.4483\n",
            "Epoch[10] Iteration[1000/2973] Loss: 0.5690\n",
            "Epoch[10] Iteration[1500/2973] Loss: 0.3741\n",
            "Epoch[10] Iteration[2000/2973] Loss: 0.6969\n",
            "Epoch[10] Iteration[2500/2973] Loss: 0.4370\n",
            "Compute train metrics...\n",
            "Training Results - Epoch: 10  Average Loss: 0.4304 | Accuracy: 0.8431 | Precision: 0.8415 | Recall: 0.8411  | F1: 0.8411\n",
            "Compute validation metrics...\n",
            "Validation Results - Epoch: 10  Average Loss: 0.4494 | Accuracy: 0.8359 | Precision: 0.8339 | Recall: 0.8342 | F1: 0.8339\n",
            "Learning rate: 0.0005\n"
          ],
          "name": "stdout"
        },
        {
          "output_type": "display_data",
          "data": {
            "application/vnd.jupyter.widget-view+json": {
              "model_id": "e23e2a10fde94cd3bcf17db4348b1285",
              "version_minor": 0,
              "version_major": 2
            },
            "text/plain": [
              "HBox(children=(IntProgress(value=0, max=2973), HTML(value='')))"
            ]
          },
          "metadata": {
            "tags": []
          }
        },
        {
          "output_type": "stream",
          "text": [
            "Epoch[11] Iteration[500/2973] Loss: 0.5285\n",
            "Epoch[11] Iteration[1000/2973] Loss: 0.5859\n",
            "Epoch[11] Iteration[1500/2973] Loss: 0.5018\n",
            "Epoch[11] Iteration[2000/2973] Loss: 0.6404\n",
            "Epoch[11] Iteration[2500/2973] Loss: 0.3594\n",
            "Compute train metrics...\n",
            "Training Results - Epoch: 11  Average Loss: 0.4166 | Accuracy: 0.8481 | Precision: 0.8467 | Recall: 0.8456  | F1: 0.8461\n",
            "Compute validation metrics...\n",
            "Validation Results - Epoch: 11  Average Loss: 0.4390 | Accuracy: 0.8413 | Precision: 0.8393 | Recall: 0.8395 | F1: 0.8394\n",
            "Learning rate: 0.001\n"
          ],
          "name": "stdout"
        },
        {
          "output_type": "display_data",
          "data": {
            "application/vnd.jupyter.widget-view+json": {
              "model_id": "801cfb699508443c98727e41482e51b7",
              "version_minor": 0,
              "version_major": 2
            },
            "text/plain": [
              "HBox(children=(IntProgress(value=0, max=2973), HTML(value='')))"
            ]
          },
          "metadata": {
            "tags": []
          }
        },
        {
          "output_type": "stream",
          "text": [
            "Epoch[12] Iteration[500/2973] Loss: 0.5156\n",
            "Epoch[12] Iteration[1000/2973] Loss: 0.5596\n",
            "Epoch[12] Iteration[1500/2973] Loss: 0.3497\n",
            "Epoch[12] Iteration[2000/2973] Loss: 0.6143\n",
            "Epoch[12] Iteration[2500/2973] Loss: 0.3352\n",
            "Compute train metrics...\n",
            "Training Results - Epoch: 12  Average Loss: 0.4190 | Accuracy: 0.8468 | Precision: 0.8469 | Recall: 0.8431  | F1: 0.8447\n",
            "Compute validation metrics...\n",
            "Validation Results - Epoch: 12  Average Loss: 0.4435 | Accuracy: 0.8391 | Precision: 0.8390 | Recall: 0.8358 | F1: 0.8371\n",
            "Learning rate: 0.0005\n"
          ],
          "name": "stdout"
        },
        {
          "output_type": "display_data",
          "data": {
            "application/vnd.jupyter.widget-view+json": {
              "model_id": "9ebec7074881491abe6b9612fcbb9f5e",
              "version_minor": 0,
              "version_major": 2
            },
            "text/plain": [
              "HBox(children=(IntProgress(value=0, max=2973), HTML(value='')))"
            ]
          },
          "metadata": {
            "tags": []
          }
        },
        {
          "output_type": "stream",
          "text": [
            "Epoch[13] Iteration[500/2973] Loss: 0.5891\n",
            "Epoch[13] Iteration[1000/2973] Loss: 0.4964\n",
            "Epoch[13] Iteration[1500/2973] Loss: 0.3884\n",
            "Epoch[13] Iteration[2000/2973] Loss: 0.6119\n",
            "Epoch[13] Iteration[2500/2973] Loss: 0.3599\n",
            "Compute train metrics...\n",
            "Training Results - Epoch: 13  Average Loss: 0.4085 | Accuracy: 0.8512 | Precision: 0.8456 | Recall: 0.8530  | F1: 0.8491\n",
            "Compute validation metrics...\n",
            "Validation Results - Epoch: 13  Average Loss: 0.4368 | Accuracy: 0.8413 | Precision: 0.8356 | Recall: 0.8440 | F1: 0.8395\n",
            "Learning rate: 0.001\n"
          ],
          "name": "stdout"
        },
        {
          "output_type": "display_data",
          "data": {
            "application/vnd.jupyter.widget-view+json": {
              "model_id": "406dab8c3b424773a12de079c57517b7",
              "version_minor": 0,
              "version_major": 2
            },
            "text/plain": [
              "HBox(children=(IntProgress(value=0, max=2973), HTML(value='')))"
            ]
          },
          "metadata": {
            "tags": []
          }
        },
        {
          "output_type": "stream",
          "text": [
            "Epoch[14] Iteration[500/2973] Loss: 0.5818\n",
            "Epoch[14] Iteration[1000/2973] Loss: 0.5153\n",
            "Epoch[14] Iteration[1500/2973] Loss: 0.3431\n",
            "Epoch[14] Iteration[2000/2973] Loss: 0.6300\n",
            "Epoch[14] Iteration[2500/2973] Loss: 0.4059\n",
            "Compute train metrics...\n",
            "Training Results - Epoch: 14  Average Loss: 0.4090 | Accuracy: 0.8511 | Precision: 0.8485 | Recall: 0.8504  | F1: 0.8494\n",
            "Compute validation metrics...\n",
            "Validation Results - Epoch: 14  Average Loss: 0.4382 | Accuracy: 0.8430 | Precision: 0.8406 | Recall: 0.8431 | F1: 0.8418\n",
            "Learning rate: 0.0005\n"
          ],
          "name": "stdout"
        },
        {
          "output_type": "display_data",
          "data": {
            "application/vnd.jupyter.widget-view+json": {
              "model_id": "b773127caed24058aa7503faeec3f0cb",
              "version_minor": 0,
              "version_major": 2
            },
            "text/plain": [
              "HBox(children=(IntProgress(value=0, max=2973), HTML(value='')))"
            ]
          },
          "metadata": {
            "tags": []
          }
        },
        {
          "output_type": "stream",
          "text": [
            "Epoch[15] Iteration[500/2973] Loss: 0.5799\n",
            "Epoch[15] Iteration[1000/2973] Loss: 0.5690\n",
            "Epoch[15] Iteration[1500/2973] Loss: 0.4157\n",
            "Epoch[15] Iteration[2000/2973] Loss: 0.5769\n",
            "Epoch[15] Iteration[2500/2973] Loss: 0.3422\n",
            "Compute train metrics...\n",
            "Training Results - Epoch: 15  Average Loss: 0.4013 | Accuracy: 0.8538 | Precision: 0.8517 | Recall: 0.8530  | F1: 0.8522\n",
            "Compute validation metrics...\n",
            "Validation Results - Epoch: 15  Average Loss: 0.4337 | Accuracy: 0.8434 | Precision: 0.8410 | Recall: 0.8433 | F1: 0.8420\n",
            "Learning rate: 0.001\n"
          ],
          "name": "stdout"
        },
        {
          "output_type": "display_data",
          "data": {
            "application/vnd.jupyter.widget-view+json": {
              "model_id": "fbcad9e0e4d5406cbd0b0b207e27473d",
              "version_minor": 0,
              "version_major": 2
            },
            "text/plain": [
              "HBox(children=(IntProgress(value=0, max=2973), HTML(value='')))"
            ]
          },
          "metadata": {
            "tags": []
          }
        },
        {
          "output_type": "stream",
          "text": [
            "Epoch[16] Iteration[500/2973] Loss: 0.6132\n",
            "Epoch[16] Iteration[1000/2973] Loss: 0.4976\n",
            "Epoch[16] Iteration[1500/2973] Loss: 0.3772\n",
            "Epoch[16] Iteration[2000/2973] Loss: 0.5443\n",
            "Epoch[16] Iteration[2500/2973] Loss: 0.4515\n",
            "Compute train metrics...\n",
            "Training Results - Epoch: 16  Average Loss: 0.4072 | Accuracy: 0.8526 | Precision: 0.8494 | Recall: 0.8515  | F1: 0.8503\n",
            "Compute validation metrics...\n",
            "Validation Results - Epoch: 16  Average Loss: 0.4398 | Accuracy: 0.8425 | Precision: 0.8390 | Recall: 0.8423 | F1: 0.8405\n",
            "Learning rate: 0.0005\n"
          ],
          "name": "stdout"
        },
        {
          "output_type": "display_data",
          "data": {
            "application/vnd.jupyter.widget-view+json": {
              "model_id": "a9152a7412e742749ad7b50a3ab1ac56",
              "version_minor": 0,
              "version_major": 2
            },
            "text/plain": [
              "HBox(children=(IntProgress(value=0, max=2973), HTML(value='')))"
            ]
          },
          "metadata": {
            "tags": []
          }
        },
        {
          "output_type": "stream",
          "text": [
            "Epoch[17] Iteration[500/2973] Loss: 0.5928\n",
            "Epoch[17] Iteration[1000/2973] Loss: 0.5082\n",
            "Epoch[17] Iteration[1500/2973] Loss: 0.3843\n",
            "Epoch[17] Iteration[2000/2973] Loss: 0.5086\n",
            "Epoch[17] Iteration[2500/2973] Loss: 0.3640\n",
            "Compute train metrics...\n",
            "Training Results - Epoch: 17  Average Loss: 0.3945 | Accuracy: 0.8559 | Precision: 0.8530 | Recall: 0.8557  | F1: 0.8542\n",
            "Compute validation metrics...\n",
            "Validation Results - Epoch: 17  Average Loss: 0.4317 | Accuracy: 0.8430 | Precision: 0.8400 | Recall: 0.8435 | F1: 0.8416\n",
            "Learning rate: 0.001\n"
          ],
          "name": "stdout"
        },
        {
          "output_type": "display_data",
          "data": {
            "application/vnd.jupyter.widget-view+json": {
              "model_id": "104e25902095487a9b178ea78bbbdf5e",
              "version_minor": 0,
              "version_major": 2
            },
            "text/plain": [
              "HBox(children=(IntProgress(value=0, max=2973), HTML(value='')))"
            ]
          },
          "metadata": {
            "tags": []
          }
        },
        {
          "output_type": "stream",
          "text": [
            "Epoch[18] Iteration[500/2973] Loss: 0.4783\n",
            "Epoch[18] Iteration[1000/2973] Loss: 0.5222\n",
            "Epoch[18] Iteration[1500/2973] Loss: 0.3637\n",
            "Epoch[18] Iteration[2000/2973] Loss: 0.6239\n",
            "Epoch[18] Iteration[2500/2973] Loss: 0.3484\n",
            "Compute train metrics...\n",
            "Training Results - Epoch: 18  Average Loss: 0.3990 | Accuracy: 0.8541 | Precision: 0.8495 | Recall: 0.8563  | F1: 0.8525\n",
            "Compute validation metrics...\n",
            "Validation Results - Epoch: 18  Average Loss: 0.4362 | Accuracy: 0.8428 | Precision: 0.8384 | Recall: 0.8455 | F1: 0.8414\n",
            "Learning rate: 0.0005\n"
          ],
          "name": "stdout"
        },
        {
          "output_type": "display_data",
          "data": {
            "application/vnd.jupyter.widget-view+json": {
              "model_id": "207789ebb98c42b89b0f82d7a1b8b932",
              "version_minor": 0,
              "version_major": 2
            },
            "text/plain": [
              "HBox(children=(IntProgress(value=0, max=2973), HTML(value='')))"
            ]
          },
          "metadata": {
            "tags": []
          }
        },
        {
          "output_type": "stream",
          "text": [
            "Epoch[19] Iteration[500/2973] Loss: 0.5101\n",
            "Epoch[19] Iteration[1000/2973] Loss: 0.5468\n",
            "Epoch[19] Iteration[1500/2973] Loss: 0.3023\n",
            "Epoch[19] Iteration[2000/2973] Loss: 0.6822\n",
            "Epoch[19] Iteration[2500/2973] Loss: 0.4026\n",
            "Compute train metrics...\n",
            "Training Results - Epoch: 19  Average Loss: 0.3852 | Accuracy: 0.8594 | Precision: 0.8555 | Recall: 0.8592  | F1: 0.8573\n",
            "Compute validation metrics...\n",
            "Validation Results - Epoch: 19  Average Loss: 0.4279 | Accuracy: 0.8460 | Precision: 0.8421 | Recall: 0.8466 | F1: 0.8442\n",
            "Learning rate: 0.001\n"
          ],
          "name": "stdout"
        },
        {
          "output_type": "display_data",
          "data": {
            "application/vnd.jupyter.widget-view+json": {
              "model_id": "0782c0e575b74a298d2ed324fe0786f5",
              "version_minor": 0,
              "version_major": 2
            },
            "text/plain": [
              "HBox(children=(IntProgress(value=0, max=2973), HTML(value='')))"
            ]
          },
          "metadata": {
            "tags": []
          }
        },
        {
          "output_type": "stream",
          "text": [
            "Epoch[20] Iteration[500/2973] Loss: 0.5247\n",
            "Epoch[20] Iteration[1000/2973] Loss: 0.4545\n",
            "Epoch[20] Iteration[1500/2973] Loss: 0.3795\n",
            "Epoch[20] Iteration[2000/2973] Loss: 0.6523\n",
            "Epoch[20] Iteration[2500/2973] Loss: 0.3408\n",
            "Compute train metrics...\n",
            "Training Results - Epoch: 20  Average Loss: 0.3860 | Accuracy: 0.8584 | Precision: 0.8535 | Recall: 0.8588  | F1: 0.8559\n",
            "Compute validation metrics...\n",
            "Validation Results - Epoch: 20  Average Loss: 0.4285 | Accuracy: 0.8461 | Precision: 0.8411 | Recall: 0.8471 | F1: 0.8438\n",
            "Learning rate: 0.0005\n"
          ],
          "name": "stdout"
        },
        {
          "output_type": "display_data",
          "data": {
            "application/vnd.jupyter.widget-view+json": {
              "model_id": "d6e10e0ba95c4a4a88475b4fbb1dfc46",
              "version_minor": 0,
              "version_major": 2
            },
            "text/plain": [
              "HBox(children=(IntProgress(value=0, max=2973), HTML(value='')))"
            ]
          },
          "metadata": {
            "tags": []
          }
        },
        {
          "output_type": "stream",
          "text": [
            "Epoch[21] Iteration[500/2973] Loss: 0.4941\n",
            "Epoch[21] Iteration[1000/2973] Loss: 0.5694\n",
            "Epoch[21] Iteration[1500/2973] Loss: 0.3391\n",
            "Epoch[21] Iteration[2000/2973] Loss: 0.4603\n",
            "Epoch[21] Iteration[2500/2973] Loss: 0.4412\n",
            "Compute train metrics...\n",
            "Training Results - Epoch: 21  Average Loss: 0.3802 | Accuracy: 0.8615 | Precision: 0.8579 | Recall: 0.8607  | F1: 0.8593\n",
            "Compute validation metrics...\n",
            "Validation Results - Epoch: 21  Average Loss: 0.4273 | Accuracy: 0.8467 | Precision: 0.8430 | Recall: 0.8467 | F1: 0.8447\n",
            "Learning rate: 0.001\n"
          ],
          "name": "stdout"
        },
        {
          "output_type": "display_data",
          "data": {
            "application/vnd.jupyter.widget-view+json": {
              "model_id": "1ba0e66bd8cb4e928249e8b343cea938",
              "version_minor": 0,
              "version_major": 2
            },
            "text/plain": [
              "HBox(children=(IntProgress(value=0, max=2973), HTML(value='')))"
            ]
          },
          "metadata": {
            "tags": []
          }
        },
        {
          "output_type": "stream",
          "text": [
            "Epoch[22] Iteration[500/2973] Loss: 0.5760\n",
            "Epoch[22] Iteration[1000/2973] Loss: 0.5629\n",
            "Epoch[22] Iteration[1500/2973] Loss: 0.3383\n",
            "Epoch[22] Iteration[2000/2973] Loss: 0.5342\n",
            "Epoch[22] Iteration[2500/2973] Loss: 0.4271\n",
            "Compute train metrics...\n",
            "Training Results - Epoch: 22  Average Loss: 0.3870 | Accuracy: 0.8588 | Precision: 0.8583 | Recall: 0.8572  | F1: 0.8574\n",
            "Compute validation metrics...\n",
            "Validation Results - Epoch: 22  Average Loss: 0.4365 | Accuracy: 0.8443 | Precision: 0.8433 | Recall: 0.8433 | F1: 0.8430\n",
            "Learning rate: 0.0005\n"
          ],
          "name": "stdout"
        },
        {
          "output_type": "display_data",
          "data": {
            "application/vnd.jupyter.widget-view+json": {
              "model_id": "6154e8fc42ca4c3da54dce76df4c9aaa",
              "version_minor": 0,
              "version_major": 2
            },
            "text/plain": [
              "HBox(children=(IntProgress(value=0, max=2973), HTML(value='')))"
            ]
          },
          "metadata": {
            "tags": []
          }
        },
        {
          "output_type": "stream",
          "text": [
            "Epoch[23] Iteration[500/2973] Loss: 0.5658\n",
            "Epoch[23] Iteration[1000/2973] Loss: 0.6031\n",
            "Epoch[23] Iteration[1500/2973] Loss: 0.3919\n",
            "Epoch[23] Iteration[2000/2973] Loss: 0.5866\n",
            "Epoch[23] Iteration[2500/2973] Loss: 0.3581\n",
            "Compute train metrics...\n",
            "Training Results - Epoch: 23  Average Loss: 0.3729 | Accuracy: 0.8647 | Precision: 0.8602 | Recall: 0.8637  | F1: 0.8617\n",
            "Compute validation metrics...\n",
            "Validation Results - Epoch: 23  Average Loss: 0.4252 | Accuracy: 0.8470 | Precision: 0.8425 | Recall: 0.8470 | F1: 0.8444\n",
            "Learning rate: 0.001\n"
          ],
          "name": "stdout"
        },
        {
          "output_type": "display_data",
          "data": {
            "application/vnd.jupyter.widget-view+json": {
              "model_id": "d85ebc37890f41989a16b1e32f206ab2",
              "version_minor": 0,
              "version_major": 2
            },
            "text/plain": [
              "HBox(children=(IntProgress(value=0, max=2973), HTML(value='')))"
            ]
          },
          "metadata": {
            "tags": []
          }
        },
        {
          "output_type": "stream",
          "text": [
            "Epoch[24] Iteration[500/2973] Loss: 0.5456\n",
            "Epoch[24] Iteration[1000/2973] Loss: 0.5587\n",
            "Epoch[24] Iteration[1500/2973] Loss: 0.3468\n",
            "Epoch[24] Iteration[2000/2973] Loss: 0.6564\n",
            "Epoch[24] Iteration[2500/2973] Loss: 0.4031\n",
            "Compute train metrics...\n",
            "Training Results - Epoch: 24  Average Loss: 0.3787 | Accuracy: 0.8617 | Precision: 0.8556 | Recall: 0.8634  | F1: 0.8592\n",
            "Compute validation metrics...\n",
            "Validation Results - Epoch: 24  Average Loss: 0.4313 | Accuracy: 0.8451 | Precision: 0.8387 | Recall: 0.8475 | F1: 0.8427\n",
            "Learning rate: 0.0005\n"
          ],
          "name": "stdout"
        },
        {
          "output_type": "display_data",
          "data": {
            "application/vnd.jupyter.widget-view+json": {
              "model_id": "c185fdb5a47648b4a24143adca8ee9e8",
              "version_minor": 0,
              "version_major": 2
            },
            "text/plain": [
              "HBox(children=(IntProgress(value=0, max=2973), HTML(value='')))"
            ]
          },
          "metadata": {
            "tags": []
          }
        },
        {
          "output_type": "stream",
          "text": [
            "Epoch[25] Iteration[500/2973] Loss: 0.5587\n",
            "Epoch[25] Iteration[1000/2973] Loss: 0.4509\n",
            "Epoch[25] Iteration[1500/2973] Loss: 0.3496\n",
            "Epoch[25] Iteration[2000/2973] Loss: 0.5357\n",
            "Epoch[25] Iteration[2500/2973] Loss: 0.3808\n",
            "Compute train metrics...\n",
            "Training Results - Epoch: 25  Average Loss: 0.3665 | Accuracy: 0.8665 | Precision: 0.8646 | Recall: 0.8633  | F1: 0.8639\n",
            "Compute validation metrics...\n",
            "Validation Results - Epoch: 25  Average Loss: 0.4242 | Accuracy: 0.8485 | Precision: 0.8465 | Recall: 0.8459 | F1: 0.8462\n",
            "Learning rate: 0.001\n"
          ],
          "name": "stdout"
        },
        {
          "output_type": "display_data",
          "data": {
            "application/vnd.jupyter.widget-view+json": {
              "model_id": "64feb45d04ab4fd69218cb3bec73458b",
              "version_minor": 0,
              "version_major": 2
            },
            "text/plain": [
              "HBox(children=(IntProgress(value=0, max=2973), HTML(value='')))"
            ]
          },
          "metadata": {
            "tags": []
          }
        },
        {
          "output_type": "stream",
          "text": [
            "Epoch[26] Iteration[500/2973] Loss: 0.4415\n",
            "Epoch[26] Iteration[1000/2973] Loss: 0.5074\n",
            "Epoch[26] Iteration[1500/2973] Loss: 0.3336\n",
            "Epoch[26] Iteration[2000/2973] Loss: 0.4940\n",
            "Epoch[26] Iteration[2500/2973] Loss: 0.3615\n",
            "Compute train metrics...\n",
            "Training Results - Epoch: 26  Average Loss: 0.3783 | Accuracy: 0.8642 | Precision: 0.8617 | Recall: 0.8634  | F1: 0.8625\n",
            "Compute validation metrics...\n",
            "Validation Results - Epoch: 26  Average Loss: 0.4328 | Accuracy: 0.8463 | Precision: 0.8436 | Recall: 0.8463 | F1: 0.8448\n",
            "Learning rate: 0.0005\n"
          ],
          "name": "stdout"
        },
        {
          "output_type": "display_data",
          "data": {
            "application/vnd.jupyter.widget-view+json": {
              "model_id": "3e3190a5c1c64d19b721328f10e2796d",
              "version_minor": 0,
              "version_major": 2
            },
            "text/plain": [
              "HBox(children=(IntProgress(value=0, max=2973), HTML(value='')))"
            ]
          },
          "metadata": {
            "tags": []
          }
        },
        {
          "output_type": "stream",
          "text": [
            "Epoch[27] Iteration[500/2973] Loss: 0.5356\n",
            "Epoch[27] Iteration[1000/2973] Loss: 0.5647\n",
            "Epoch[27] Iteration[1500/2973] Loss: 0.4564\n",
            "Epoch[27] Iteration[2000/2973] Loss: 0.6670\n",
            "Epoch[27] Iteration[2500/2973] Loss: 0.4513\n",
            "Compute train metrics...\n",
            "Training Results - Epoch: 27  Average Loss: 0.3652 | Accuracy: 0.8675 | Precision: 0.8643 | Recall: 0.8670  | F1: 0.8656\n",
            "Compute validation metrics...\n",
            "Validation Results - Epoch: 27  Average Loss: 0.4247 | Accuracy: 0.8471 | Precision: 0.8435 | Recall: 0.8477 | F1: 0.8455\n",
            "Learning rate: 0.001\n"
          ],
          "name": "stdout"
        },
        {
          "output_type": "display_data",
          "data": {
            "application/vnd.jupyter.widget-view+json": {
              "model_id": "bab27df8b1d84a498370fab4c4ea015c",
              "version_minor": 0,
              "version_major": 2
            },
            "text/plain": [
              "HBox(children=(IntProgress(value=0, max=2973), HTML(value='')))"
            ]
          },
          "metadata": {
            "tags": []
          }
        },
        {
          "output_type": "stream",
          "text": [
            "Epoch[28] Iteration[500/2973] Loss: 0.4486\n",
            "Epoch[28] Iteration[1000/2973] Loss: 0.5943\n",
            "Epoch[28] Iteration[1500/2973] Loss: 0.3447\n",
            "Epoch[28] Iteration[2000/2973] Loss: 0.6529\n",
            "Epoch[28] Iteration[2500/2973] Loss: 0.3478\n",
            "Compute train metrics...\n",
            "Training Results - Epoch: 28  Average Loss: 0.3717 | Accuracy: 0.8638 | Precision: 0.8626 | Recall: 0.8637  | F1: 0.8629\n",
            "Compute validation metrics...\n",
            "Validation Results - Epoch: 28  Average Loss: 0.4315 | Accuracy: 0.8442 | Precision: 0.8428 | Recall: 0.8448 | F1: 0.8435\n",
            "Learning rate: 0.0005\n"
          ],
          "name": "stdout"
        },
        {
          "output_type": "display_data",
          "data": {
            "application/vnd.jupyter.widget-view+json": {
              "model_id": "b6cb32c738bf4764a050f4fb100cc3ed",
              "version_minor": 0,
              "version_major": 2
            },
            "text/plain": [
              "HBox(children=(IntProgress(value=0, max=2973), HTML(value='')))"
            ]
          },
          "metadata": {
            "tags": []
          }
        },
        {
          "output_type": "stream",
          "text": [
            "Epoch[29] Iteration[500/2973] Loss: 0.4767\n",
            "Epoch[29] Iteration[1000/2973] Loss: 0.5229\n",
            "Epoch[29] Iteration[1500/2973] Loss: 0.3449\n",
            "Epoch[29] Iteration[2000/2973] Loss: 0.5596\n",
            "Epoch[29] Iteration[2500/2973] Loss: 0.3921\n",
            "Compute train metrics...\n",
            "Training Results - Epoch: 29  Average Loss: 0.3600 | Accuracy: 0.8692 | Precision: 0.8700 | Recall: 0.8642  | F1: 0.8668\n",
            "Compute validation metrics...\n",
            "Validation Results - Epoch: 29  Average Loss: 0.4245 | Accuracy: 0.8479 | Precision: 0.8483 | Recall: 0.8438 | F1: 0.8458\n",
            "Learning rate: 0.001\n"
          ],
          "name": "stdout"
        },
        {
          "output_type": "display_data",
          "data": {
            "application/vnd.jupyter.widget-view+json": {
              "model_id": "dafd374379644dc6bf76e74ba85cb0ad",
              "version_minor": 0,
              "version_major": 2
            },
            "text/plain": [
              "HBox(children=(IntProgress(value=0, max=2973), HTML(value='')))"
            ]
          },
          "metadata": {
            "tags": []
          }
        },
        {
          "output_type": "stream",
          "text": [
            "Epoch[30] Iteration[500/2973] Loss: 0.5445\n",
            "Epoch[30] Iteration[1000/2973] Loss: 0.5208\n",
            "Epoch[30] Iteration[1500/2973] Loss: 0.3726\n",
            "Epoch[30] Iteration[2000/2973] Loss: 0.5966\n",
            "Epoch[30] Iteration[2500/2973] Loss: 0.5012\n",
            "Compute train metrics...\n",
            "Training Results - Epoch: 30  Average Loss: 0.3622 | Accuracy: 0.8678 | Precision: 0.8664 | Recall: 0.8663  | F1: 0.8663\n",
            "Compute validation metrics...\n",
            "Validation Results - Epoch: 30  Average Loss: 0.4293 | Accuracy: 0.8469 | Precision: 0.8450 | Recall: 0.8457 | F1: 0.8453\n",
            "Learning rate: 0.0005\n"
          ],
          "name": "stdout"
        },
        {
          "output_type": "display_data",
          "data": {
            "application/vnd.jupyter.widget-view+json": {
              "model_id": "43d47bae82b44fcfaf0a648c3404c637",
              "version_minor": 0,
              "version_major": 2
            },
            "text/plain": [
              "HBox(children=(IntProgress(value=0, max=2973), HTML(value='')))"
            ]
          },
          "metadata": {
            "tags": []
          }
        },
        {
          "output_type": "stream",
          "text": [
            "Epoch[31] Iteration[500/2973] Loss: 0.4883\n",
            "Epoch[31] Iteration[1000/2973] Loss: 0.4222\n",
            "Epoch[31] Iteration[1500/2973] Loss: 0.3612\n",
            "Epoch[31] Iteration[2000/2973] Loss: 0.4889\n",
            "Epoch[31] Iteration[2500/2973] Loss: 0.3323\n",
            "Compute train metrics...\n",
            "Training Results - Epoch: 31  Average Loss: 0.3534 | Accuracy: 0.8706 | Precision: 0.8683 | Recall: 0.8704  | F1: 0.8692\n",
            "Compute validation metrics...\n",
            "Validation Results - Epoch: 31  Average Loss: 0.4227 | Accuracy: 0.8495 | Precision: 0.8469 | Recall: 0.8498 | F1: 0.8482\n",
            "Learning rate: 0.001\n"
          ],
          "name": "stdout"
        },
        {
          "output_type": "display_data",
          "data": {
            "application/vnd.jupyter.widget-view+json": {
              "model_id": "2949d6ffed59450bade60159d8471fb9",
              "version_minor": 0,
              "version_major": 2
            },
            "text/plain": [
              "HBox(children=(IntProgress(value=0, max=2973), HTML(value='')))"
            ]
          },
          "metadata": {
            "tags": []
          }
        },
        {
          "output_type": "stream",
          "text": [
            "Epoch[32] Iteration[500/2973] Loss: 0.5628\n",
            "Epoch[32] Iteration[1000/2973] Loss: 0.5307\n",
            "Epoch[32] Iteration[1500/2973] Loss: 0.3234\n",
            "Epoch[32] Iteration[2000/2973] Loss: 0.6756\n",
            "Epoch[32] Iteration[2500/2973] Loss: 0.3242\n",
            "Compute train metrics...\n",
            "Training Results - Epoch: 32  Average Loss: 0.3549 | Accuracy: 0.8705 | Precision: 0.8695 | Recall: 0.8676  | F1: 0.8685\n",
            "Compute validation metrics...\n",
            "Validation Results - Epoch: 32  Average Loss: 0.4270 | Accuracy: 0.8491 | Precision: 0.8476 | Recall: 0.8467 | F1: 0.8472\n",
            "Learning rate: 0.0005\n"
          ],
          "name": "stdout"
        },
        {
          "output_type": "display_data",
          "data": {
            "application/vnd.jupyter.widget-view+json": {
              "model_id": "7ef2e5f354364aa0864777f987a263dd",
              "version_minor": 0,
              "version_major": 2
            },
            "text/plain": [
              "HBox(children=(IntProgress(value=0, max=2973), HTML(value='')))"
            ]
          },
          "metadata": {
            "tags": []
          }
        },
        {
          "output_type": "stream",
          "text": [
            "Epoch[33] Iteration[500/2973] Loss: 0.4992\n",
            "Epoch[33] Iteration[1000/2973] Loss: 0.5236\n",
            "Epoch[33] Iteration[1500/2973] Loss: 0.3281\n",
            "Epoch[33] Iteration[2000/2973] Loss: 0.6747\n",
            "Epoch[33] Iteration[2500/2973] Loss: 0.3645\n",
            "Compute train metrics...\n",
            "Training Results - Epoch: 33  Average Loss: 0.3511 | Accuracy: 0.8725 | Precision: 0.8698 | Recall: 0.8709  | F1: 0.8703\n",
            "Compute validation metrics...\n",
            "Validation Results - Epoch: 33  Average Loss: 0.4275 | Accuracy: 0.8499 | Precision: 0.8469 | Recall: 0.8491 | F1: 0.8480\n",
            "Learning rate: 0.001\n"
          ],
          "name": "stdout"
        },
        {
          "output_type": "display_data",
          "data": {
            "application/vnd.jupyter.widget-view+json": {
              "model_id": "c0760e2ac5164048a15b1410fd1135bc",
              "version_minor": 0,
              "version_major": 2
            },
            "text/plain": [
              "HBox(children=(IntProgress(value=0, max=2973), HTML(value='')))"
            ]
          },
          "metadata": {
            "tags": []
          }
        },
        {
          "output_type": "stream",
          "text": [
            "Epoch[34] Iteration[500/2973] Loss: 0.4190\n",
            "Epoch[34] Iteration[1000/2973] Loss: 0.5036\n",
            "Epoch[34] Iteration[1500/2973] Loss: 0.2483\n",
            "Epoch[34] Iteration[2000/2973] Loss: 0.6533\n",
            "Epoch[34] Iteration[2500/2973] Loss: 0.3615\n",
            "Compute train metrics...\n",
            "Training Results - Epoch: 34  Average Loss: 0.3545 | Accuracy: 0.8711 | Precision: 0.8696 | Recall: 0.8677  | F1: 0.8685\n",
            "Compute validation metrics...\n",
            "Validation Results - Epoch: 34  Average Loss: 0.4306 | Accuracy: 0.8493 | Precision: 0.8474 | Recall: 0.8467 | F1: 0.8469\n",
            "Learning rate: 0.0005\n"
          ],
          "name": "stdout"
        },
        {
          "output_type": "display_data",
          "data": {
            "application/vnd.jupyter.widget-view+json": {
              "model_id": "f57577d5a1f44b98a927203d7ce3c4d2",
              "version_minor": 0,
              "version_major": 2
            },
            "text/plain": [
              "HBox(children=(IntProgress(value=0, max=2973), HTML(value='')))"
            ]
          },
          "metadata": {
            "tags": []
          }
        },
        {
          "output_type": "stream",
          "text": [
            "Epoch[35] Iteration[500/2973] Loss: 0.4697\n",
            "Epoch[35] Iteration[1000/2973] Loss: 0.5499\n",
            "Epoch[35] Iteration[1500/2973] Loss: 0.4150\n",
            "Epoch[35] Iteration[2000/2973] Loss: 0.7046\n",
            "Epoch[35] Iteration[2500/2973] Loss: 0.3273\n",
            "Compute train metrics...\n",
            "Training Results - Epoch: 35  Average Loss: 0.3430 | Accuracy: 0.8751 | Precision: 0.8721 | Recall: 0.8736  | F1: 0.8728\n",
            "Compute validation metrics...\n",
            "Validation Results - Epoch: 35  Average Loss: 0.4238 | Accuracy: 0.8508 | Precision: 0.8473 | Recall: 0.8500 | F1: 0.8486\n",
            "Learning rate: 0.001\n"
          ],
          "name": "stdout"
        },
        {
          "output_type": "display_data",
          "data": {
            "application/vnd.jupyter.widget-view+json": {
              "model_id": "7cc0f3482ad14d8581cba50336d9bc15",
              "version_minor": 0,
              "version_major": 2
            },
            "text/plain": [
              "HBox(children=(IntProgress(value=0, max=2973), HTML(value='')))"
            ]
          },
          "metadata": {
            "tags": []
          }
        },
        {
          "output_type": "stream",
          "text": [
            "Epoch[36] Iteration[500/2973] Loss: 0.5638\n",
            "Epoch[36] Iteration[1000/2973] Loss: 0.5194\n",
            "Epoch[36] Iteration[1500/2973] Loss: 0.3766\n",
            "Epoch[36] Iteration[2000/2973] Loss: 0.5553\n",
            "Epoch[36] Iteration[2500/2973] Loss: 0.3676\n",
            "Compute train metrics...\n",
            "Training Results - Epoch: 36  Average Loss: 0.3492 | Accuracy: 0.8730 | Precision: 0.8722 | Recall: 0.8707  | F1: 0.8714\n",
            "Compute validation metrics...\n",
            "Validation Results - Epoch: 36  Average Loss: 0.4273 | Accuracy: 0.8493 | Precision: 0.8483 | Recall: 0.8477 | F1: 0.8479\n",
            "Learning rate: 0.0005\n"
          ],
          "name": "stdout"
        },
        {
          "output_type": "display_data",
          "data": {
            "application/vnd.jupyter.widget-view+json": {
              "model_id": "e9a7c57f1cca4e529efba331bd26c583",
              "version_minor": 0,
              "version_major": 2
            },
            "text/plain": [
              "HBox(children=(IntProgress(value=0, max=2973), HTML(value='')))"
            ]
          },
          "metadata": {
            "tags": []
          }
        },
        {
          "output_type": "stream",
          "text": [
            "Epoch[37] Iteration[500/2973] Loss: 0.5942\n",
            "Epoch[37] Iteration[1000/2973] Loss: 0.4756\n",
            "Epoch[37] Iteration[1500/2973] Loss: 0.3156\n",
            "Epoch[37] Iteration[2000/2973] Loss: 0.5944\n",
            "Epoch[37] Iteration[2500/2973] Loss: 0.3873\n",
            "Compute train metrics...\n",
            "Training Results - Epoch: 37  Average Loss: 0.3414 | Accuracy: 0.8760 | Precision: 0.8758 | Recall: 0.8719  | F1: 0.8738\n",
            "Compute validation metrics...\n",
            "Validation Results - Epoch: 37  Average Loss: 0.4257 | Accuracy: 0.8499 | Precision: 0.8489 | Recall: 0.8468 | F1: 0.8478\n",
            "Learning rate: 0.001\n"
          ],
          "name": "stdout"
        },
        {
          "output_type": "display_data",
          "data": {
            "application/vnd.jupyter.widget-view+json": {
              "model_id": "cfb4ce54a9aa49b2a8909809cb6d9b4c",
              "version_minor": 0,
              "version_major": 2
            },
            "text/plain": [
              "HBox(children=(IntProgress(value=0, max=2973), HTML(value='')))"
            ]
          },
          "metadata": {
            "tags": []
          }
        },
        {
          "output_type": "stream",
          "text": [
            "Epoch[38] Iteration[500/2973] Loss: 0.4589\n",
            "Epoch[38] Iteration[1000/2973] Loss: 0.5015\n",
            "Epoch[38] Iteration[1500/2973] Loss: 0.3208\n",
            "Epoch[38] Iteration[2000/2973] Loss: 0.5433\n",
            "Epoch[38] Iteration[2500/2973] Loss: 0.3868\n",
            "Compute train metrics...\n",
            "Training Results - Epoch: 38  Average Loss: 0.3455 | Accuracy: 0.8744 | Precision: 0.8708 | Recall: 0.8747  | F1: 0.8727\n",
            "Compute validation metrics...\n",
            "Validation Results - Epoch: 38  Average Loss: 0.4248 | Accuracy: 0.8489 | Precision: 0.8446 | Recall: 0.8496 | F1: 0.8470\n",
            "Learning rate: 0.0005\n"
          ],
          "name": "stdout"
        },
        {
          "output_type": "display_data",
          "data": {
            "application/vnd.jupyter.widget-view+json": {
              "model_id": "c6e06df170a249b09abf6b01e992a379",
              "version_minor": 0,
              "version_major": 2
            },
            "text/plain": [
              "HBox(children=(IntProgress(value=0, max=2973), HTML(value='')))"
            ]
          },
          "metadata": {
            "tags": []
          }
        },
        {
          "output_type": "stream",
          "text": [
            "Epoch[39] Iteration[500/2973] Loss: 0.6259\n",
            "Epoch[39] Iteration[1000/2973] Loss: 0.4564\n",
            "Epoch[39] Iteration[1500/2973] Loss: 0.3173\n",
            "Epoch[39] Iteration[2000/2973] Loss: 0.4664\n",
            "Epoch[39] Iteration[2500/2973] Loss: 0.3535\n",
            "Compute train metrics...\n",
            "Training Results - Epoch: 39  Average Loss: 0.3355 | Accuracy: 0.8776 | Precision: 0.8758 | Recall: 0.8750  | F1: 0.8753\n",
            "Compute validation metrics...\n",
            "Validation Results - Epoch: 39  Average Loss: 0.4238 | Accuracy: 0.8493 | Precision: 0.8468 | Recall: 0.8472 | F1: 0.8469\n",
            "Learning rate: 0.001\n"
          ],
          "name": "stdout"
        },
        {
          "output_type": "display_data",
          "data": {
            "application/vnd.jupyter.widget-view+json": {
              "model_id": "08a57abf5e414b8c927d0484b95a2e4c",
              "version_minor": 0,
              "version_major": 2
            },
            "text/plain": [
              "HBox(children=(IntProgress(value=0, max=2973), HTML(value='')))"
            ]
          },
          "metadata": {
            "tags": []
          }
        },
        {
          "output_type": "stream",
          "text": [
            "Epoch[40] Iteration[500/2973] Loss: 0.5388\n",
            "Epoch[40] Iteration[1000/2973] Loss: 0.4892\n",
            "Epoch[40] Iteration[1500/2973] Loss: 0.3128\n",
            "Epoch[40] Iteration[2000/2973] Loss: 0.4752\n",
            "Epoch[40] Iteration[2500/2973] Loss: 0.3699\n",
            "Compute train metrics...\n",
            "Training Results - Epoch: 40  Average Loss: 0.3421 | Accuracy: 0.8746 | Precision: 0.8729 | Recall: 0.8735  | F1: 0.8731\n",
            "Compute validation metrics...\n",
            "Validation Results - Epoch: 40  Average Loss: 0.4286 | Accuracy: 0.8484 | Precision: 0.8464 | Recall: 0.8473 | F1: 0.8466\n",
            "Compute final results...\n",
            "Final F1 0.8466\n",
            "Learning process is completed.\n"
          ],
          "name": "stdout"
        },
        {
          "output_type": "display_data",
          "data": {
            "image/png": "[encoded data removed]",
            "text/plain": [
              "<Figure size 432x288 with 1 Axes>"
            ]
          },
          "metadata": {
            "tags": []
          }
        },
        {
          "output_type": "display_data",
          "data": {
            "image/png": "[encoded data removed]",
            "text/plain": [
              "<Figure size 432x288 with 1 Axes>"
            ]
          },
          "metadata": {
            "tags": []
          }
        },
        {
          "output_type": "display_data",
          "data": {
            "image/png": "[encoded data removed]",
            "text/plain": [
              "<Figure size 432x288 with 1 Axes>"
            ]
          },
          "metadata": {
            "tags": []
          }
        },
        {
          "output_type": "display_data",
          "data": {
            "image/png": "[encoded data removed]",
            "text/plain": [
              "<Figure size 720x720 with 2 Axes>"
            ]
          },
          "metadata": {
            "tags": []
          }
        }
      ]
    },
    {
      "cell_type": "code",
      "metadata": {
        "id": "JREKEi1cK63I",
        "colab_type": "code",
        "colab": {}
      },
      "source": [
        ""
      ],
      "execution_count": 0,
      "outputs": []
    },
    {
      "cell_type": "markdown",
      "metadata": {
        "id": "wR6D70MTLGhs",
        "colab_type": "text"
      },
      "source": [
        "**Эксперименты**\n",
        "\n",
        "Пробовал менять размер скрытого слоя, 64 показался наилучшим вариантом, меньше - хуже, а больше - к тому же и медленнее обрабатываются данные. Очень хороший прирост дал перенос на GPU.\n",
        "\n",
        "Прикручивание нелинейности на выходе ничего не дало. Не замерял, но субъективно очень пригодился дропаут.\n",
        "Непонятно с EarlyDropping, пробовал делать с разными параметрами, вроде падения лосса на паре эпох.\n",
        "Но с данным датасетом такая штука, что если ставить какие-то очевидные критерии для дропинга, вроде переобучения (падения F-меры на валидации при росте на трейне), то остановка происходит где-то после 10-й эпохи. Однако практика показала, что елси ставить более 15 эпох, то сеть бьёт 0.84.\n",
        "После создания текущей архитектуры сеть никак не хотела обучиться лучше 0.83. Чтобы что-то сделать я решил уменьшить энтропию данных, поэтому сделал обработку смайликов и убрал non-alphanumeric characters.\n",
        "\n",
        "\n",
        "Очень доволен Ignite'ом, гораздо проще кастомизация обучения. Правда, документация местами бедновата.\n",
        "\n",
        "Что-то странное с длинами при упаковке тензора для LSTM, похоже именно с ними связана ошибка\n",
        "*RuntimeError: CUDA error: device-side assert triggered*. К сожалению, эта информация об ошибке не особо полезна, мне так и не удалось найти причину.\n",
        "\n",
        "К тому же, после первого проявления эта ошибка начинает возникать на этапе загрузки модели, для чего нужно заново перезапускать среду выполнения, а это требует много времени."
      ]
    },
    {
      "cell_type": "code",
      "metadata": {
        "id": "WQPaRIJlzyFe",
        "colab_type": "code",
        "colab": {}
      },
      "source": [
        ""
      ],
      "execution_count": 0,
      "outputs": []
    }
  ]
}
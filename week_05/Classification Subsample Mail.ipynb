{
  "nbformat": 4,
  "nbformat_minor": 0,
  "metadata": {
    "accelerator": "GPU",
    "colab": {
      "name": "🐰 Classification.ipynb",
      "provenance": [],
      "collapsed_sections": []
    },
    "kernelspec": {
      "name": "python3",
      "display_name": "Python 3"
    },
    "language_info": {
      "codemirror_mode": {
        "name": "ipython",
        "version": 3
      },
      "file_extension": ".py",
      "mimetype": "text/x-python",
      "name": "python",
      "nbconvert_exporter": "python",
      "pygments_lexer": "ipython3",
      "version": "3.7.3"
    }
  },
  "cells": [
    {
      "cell_type": "code",
      "metadata": {
        "id": "3223NVDuVmGt",
        "colab_type": "code",
        "outputId": "42ba59d2-1a8d-4a8c-9614-b1381eae11d8",
        "colab": {
          "base_uri": "https://localhost:8080/",
          "height": 35
        }
      },
      "source": [
        "# import os\n",
        "# os.environ['CUDA_LAUNCH_BLOCKING'] = \"1\"\n",
        "print(\"start!\")\n",
        "HIDDEN_SIZE = 64\n",
        "BATCH_SIZE = 64 # 64\n",
        "LOG_ITERATIONS = 500\n",
        "EPOCHS_NUM = 25"
      ],
      "execution_count": 1,
      "outputs": [
        {
          "output_type": "stream",
          "text": [
            "start!\n"
          ],
          "name": "stdout"
        }
      ]
    },
    {
      "cell_type": "code",
      "metadata": {
        "id": "cXi5EPHlmmGh",
        "colab_type": "code",
        "colab": {}
      },
      "source": [
        "# from google.colab import files, drive\n",
        "# drive.mount('/content/gdrive')\n",
        "# torch.save(encoder1.state_dict(), \"gdrive/My Drive/CompLing/rusdeu10_beam_encoder1.dic\")\n",
        "# print(\"Hello stackoverflow!\", file=open(\"gdrive/My Drive/CompLing/output.txt\", \"a\"))"
      ],
      "execution_count": 0,
      "outputs": []
    },
    {
      "cell_type": "code",
      "metadata": {
        "id": "DBb630Twpq5S",
        "colab_type": "code",
        "colab": {}
      },
      "source": [
        "# f = open(\"gdrive/My Drive/CompLing/output.txt\", 'a+')\n",
        "# f.write(\"Appended line, lol\\r\\n\")\n",
        "# f.close()\n",
        "# with open(\"gdrive/My Drive/CompLing/output.txt\", 'a') as f:\n",
        "#   f.write(\"Appended line\\r\\n\")\n",
        "# f.write(\"Here\\r\\n\")"
      ],
      "execution_count": 0,
      "outputs": []
    },
    {
      "cell_type": "markdown",
      "metadata": {
        "id": "ORonekI2b2Uh",
        "colab_type": "text"
      },
      "source": [
        "## План\n",
        "1. Разбить датасет на трейн/тест или на трейн/валидация/тест, как вам больше нравится\n",
        "1. Сделать класс нейронки, вписать необходимые операции, базовая архитектура ниже\n",
        "1. Написать обучалку\n",
        "1. Добавить логирование\n",
        "    1. Сохранять лосс на каждой итерции обучения __0.25 балла__\n",
        "    1. Каждую эпоху сохранять лосс трейна и тест __0.25 балла__\n",
        "    1. Каждую эпоху рассчитывать метрики __0.25 балла__\n",
        "    1. Добавить прогресс бар, в котором показывается усредненный лосс последних 500-та итераций __0.25 балла__\n",
        "1. Добавить early stopping __0.5 балла__\n",
        "1. Отрисовать графики лосса, метрик, конфьюжин матрицу __0.5 балла__\n",
        "1. Улучшить результат. Например, можно добавить BatchNorm, Dropout, Residual, etc __1 балл__\n",
        "1. Сделать макро f1 больше 0.8 __1 балл__\n",
        "1. Написать какие действия к чему приводили (почему вы их делали и оправдались ли ожидания)\n",
        "\n",
        "## Базовая архитектура\n",
        "1. Предобученные эмбеддинги. Почитайте [здесь](https://pytorch.org/docs/stable/nn.html#embedding) (from_pretrained) как вставить свои эмбеддинги, выше мы читали матрицу эмбеддингов. __1 балл__\n",
        "1. Bidirectional LSTM. __1 балл__\n",
        "2. Несколько параллельных CNN с разными размерами окна и пулингами к ним. __2 балла__\n",
        "3. Конкатенация результатов CNN. __0 баллов__ (идет вместе с предыдущим пунктом)\n",
        "4. Предикт в количество классов. __0 баллов__ (ну все-таки предсказать классы нужно обязательно)\n",
        "\n",
        "__Дополнительные баллы:__\n",
        "- Написать GRU с нуля самому __1 балл__\n",
        "- Побить макро f1 0.84 __1 балл__\n",
        "- Переобучиться и снизить переобучение за счет трюков. Пояснение: показываете, что вот такая архитектура переобучается, а вот я добавил/а это и это, изменил/а это и это и переобучение ушло __1 балл__\n",
        "- Добавить селф аттеншин (написанный своими руками) __3 балла__\n",
        "- За мультихед селф аттеншин еще __1 балл__\n",
        "- Добавить [torch.nn.utils.rnn.pack_padded_sequence()](https://pytorch.org/docs/stable/nn.html#torch.nn.utils.rnn.pack_padded_sequence) и [torch.nn.utils.rnn.pack_sequence()](https://pytorch.org/docs/stable/nn.html#torch.nn.utils.rnn.pack_sequence) для LSTM. Инфа [здесь](#Еще-важный-момент-про-LSTM) __2 балла__\n",
        "- Добавить дропаут для входа LSTM (не просто стандартный пункт при инициализации LSTM) __1 балл__\n",
        "- Добавить шедуллеры __1 балл__\n",
        "- your madness\n",
        "\n",
        "### TIPs:\n",
        "- Если будете брать ```train_test_split```, не забудьте сделать ```reset_index```, чтобы по индексу корректно доставались таргеты из ```y_data```  \n",
        "- Необязательно делить датасет именно на 70 % и 30 %  \n",
        "- Пулинг можно делать без торчового слоя\n",
        "\n",
        "# РАЗМЕР ТЕСТА НЕ МЕНЬШЕ 10% ДАТАСЕТА\n",
        "# 10 БАЛЛОВ МАКСИМУМ"
      ]
    },
    {
      "cell_type": "code",
      "metadata": {
        "colab_type": "code",
        "id": "Y0fOWhqwW-AT",
        "outputId": "1ad98531-e3cb-4942-8f2a-701a7e81b716",
        "colab": {
          "base_uri": "https://localhost:8080/",
          "height": 680
        }
      },
      "source": [
        "!pip install pandas\n",
        "!pip install torch\n",
        "!pip install nltk\n",
        "!pip install tqdm\n",
        "!pip install seaborn\n",
        "!pip install numpy\n",
        "!pip install sklearn\n",
        "!pip install pytorch-ignite\n"
      ],
      "execution_count": 4,
      "outputs": [
        {
          "output_type": "stream",
          "text": [
            "Requirement already satisfied: pandas in /usr/local/lib/python3.6/dist-packages (0.25.2)\n",
            "Requirement already satisfied: numpy>=1.13.3 in /usr/local/lib/python3.6/dist-packages (from pandas) (1.17.3)\n",
            "Requirement already satisfied: python-dateutil>=2.6.1 in /usr/local/lib/python3.6/dist-packages (from pandas) (2.6.1)\n",
            "Requirement already satisfied: pytz>=2017.2 in /usr/local/lib/python3.6/dist-packages (from pandas) (2018.9)\n",
            "Requirement already satisfied: six>=1.5 in /usr/local/lib/python3.6/dist-packages (from python-dateutil>=2.6.1->pandas) (1.12.0)\n",
            "Requirement already satisfied: torch in /usr/local/lib/python3.6/dist-packages (1.3.0+cu100)\n",
            "Requirement already satisfied: numpy in /usr/local/lib/python3.6/dist-packages (from torch) (1.17.3)\n",
            "Requirement already satisfied: nltk in /usr/local/lib/python3.6/dist-packages (3.2.5)\n",
            "Requirement already satisfied: six in /usr/local/lib/python3.6/dist-packages (from nltk) (1.12.0)\n",
            "Requirement already satisfied: tqdm in /usr/local/lib/python3.6/dist-packages (4.28.1)\n",
            "Requirement already satisfied: seaborn in /usr/local/lib/python3.6/dist-packages (0.9.0)\n",
            "Requirement already satisfied: numpy>=1.9.3 in /usr/local/lib/python3.6/dist-packages (from seaborn) (1.17.3)\n",
            "Requirement already satisfied: scipy>=0.14.0 in /usr/local/lib/python3.6/dist-packages (from seaborn) (1.3.1)\n",
            "Requirement already satisfied: matplotlib>=1.4.3 in /usr/local/lib/python3.6/dist-packages (from seaborn) (3.1.1)\n",
            "Requirement already satisfied: pandas>=0.15.2 in /usr/local/lib/python3.6/dist-packages (from seaborn) (0.25.2)\n",
            "Requirement already satisfied: cycler>=0.10 in /usr/local/lib/python3.6/dist-packages (from matplotlib>=1.4.3->seaborn) (0.10.0)\n",
            "Requirement already satisfied: pyparsing!=2.0.4,!=2.1.2,!=2.1.6,>=2.0.1 in /usr/local/lib/python3.6/dist-packages (from matplotlib>=1.4.3->seaborn) (2.4.2)\n",
            "Requirement already satisfied: python-dateutil>=2.1 in /usr/local/lib/python3.6/dist-packages (from matplotlib>=1.4.3->seaborn) (2.6.1)\n",
            "Requirement already satisfied: kiwisolver>=1.0.1 in /usr/local/lib/python3.6/dist-packages (from matplotlib>=1.4.3->seaborn) (1.1.0)\n",
            "Requirement already satisfied: pytz>=2017.2 in /usr/local/lib/python3.6/dist-packages (from pandas>=0.15.2->seaborn) (2018.9)\n",
            "Requirement already satisfied: six in /usr/local/lib/python3.6/dist-packages (from cycler>=0.10->matplotlib>=1.4.3->seaborn) (1.12.0)\n",
            "Requirement already satisfied: setuptools in /usr/local/lib/python3.6/dist-packages (from kiwisolver>=1.0.1->matplotlib>=1.4.3->seaborn) (41.4.0)\n",
            "Requirement already satisfied: numpy in /usr/local/lib/python3.6/dist-packages (1.17.3)\n",
            "Requirement already satisfied: sklearn in /usr/local/lib/python3.6/dist-packages (0.0)\n",
            "Requirement already satisfied: scikit-learn in /usr/local/lib/python3.6/dist-packages (from sklearn) (0.21.3)\n",
            "Requirement already satisfied: joblib>=0.11 in /usr/local/lib/python3.6/dist-packages (from scikit-learn->sklearn) (0.14.0)\n",
            "Requirement already satisfied: scipy>=0.17.0 in /usr/local/lib/python3.6/dist-packages (from scikit-learn->sklearn) (1.3.1)\n",
            "Requirement already satisfied: numpy>=1.11.0 in /usr/local/lib/python3.6/dist-packages (from scikit-learn->sklearn) (1.17.3)\n",
            "Collecting pytorch-ignite\n",
            "\u001b[?25l  Downloading https://files.pythonhosted.org/packages/8f/31/efcc2b587419b1f54c5c6ef51996f91bb5d8f760537d17de674c89e06048/pytorch_ignite-0.2.1-py2.py3-none-any.whl (84kB)\n",
            "\u001b[K     |████████████████████████████████| 92kB 2.9MB/s \n",
            "\u001b[?25hRequirement already satisfied: torch in /usr/local/lib/python3.6/dist-packages (from pytorch-ignite) (1.3.0+cu100)\n",
            "Requirement already satisfied: numpy in /usr/local/lib/python3.6/dist-packages (from torch->pytorch-ignite) (1.17.3)\n",
            "Installing collected packages: pytorch-ignite\n",
            "Successfully installed pytorch-ignite-0.2.1\n"
          ],
          "name": "stdout"
        }
      ]
    },
    {
      "cell_type": "code",
      "metadata": {
        "colab_type": "code",
        "id": "u3wugeOHW-AV",
        "outputId": "c6828ee6-0531-4b59-cc23-b5944ab845d8",
        "colab": {
          "base_uri": "https://localhost:8080/",
          "height": 72
        }
      },
      "source": [
        "import nltk\n",
        "nltk.download('punkt')"
      ],
      "execution_count": 5,
      "outputs": [
        {
          "output_type": "stream",
          "text": [
            "[nltk_data] Downloading package punkt to /root/nltk_data...\n",
            "[nltk_data]   Unzipping tokenizers/punkt.zip.\n"
          ],
          "name": "stdout"
        },
        {
          "output_type": "execute_result",
          "data": {
            "text/plain": [
              "True"
            ]
          },
          "metadata": {
            "tags": []
          },
          "execution_count": 5
        }
      ]
    },
    {
      "cell_type": "markdown",
      "metadata": {
        "colab_type": "text",
        "id": "m9XIrxSmW-AX"
      },
      "source": [
        "# Скачиваем данные"
      ]
    },
    {
      "cell_type": "code",
      "metadata": {
        "colab_type": "code",
        "id": "ep1FB3IBW-AY",
        "outputId": "dc6416ca-a836-46a4-f207-ae2d2b71844b",
        "colab": {
          "base_uri": "https://localhost:8080/",
          "height": 404
        }
      },
      "source": [
        "!wget https://github.com/BobaZooba/HSE-Deep-Learning-in-NLP-Course/blob/master/week_05/data/answers_subsample.csv?raw=true -O data.csv"
      ],
      "execution_count": 6,
      "outputs": [
        {
          "output_type": "stream",
          "text": [
            "--2019-10-28 13:47:41--  https://github.com/BobaZooba/HSE-Deep-Learning-in-NLP-Course/blob/master/week_05/data/answers_subsample.csv?raw=true\n",
            "Resolving github.com (github.com)... 192.30.253.112\n",
            "Connecting to github.com (github.com)|192.30.253.112|:443... connected.\n",
            "HTTP request sent, awaiting response... 302 Found\n",
            "Location: https://github.com/BobaZooba/HSE-Deep-Learning-in-NLP-Course/raw/master/week_05/data/answers_subsample.csv [following]\n",
            "--2019-10-28 13:47:42--  https://github.com/BobaZooba/HSE-Deep-Learning-in-NLP-Course/raw/master/week_05/data/answers_subsample.csv\n",
            "Reusing existing connection to github.com:443.\n",
            "HTTP request sent, awaiting response... 302 Found\n",
            "Location: https://raw.githubusercontent.com/BobaZooba/HSE-Deep-Learning-in-NLP-Course/master/week_05/data/answers_subsample.csv [following]\n",
            "--2019-10-28 13:47:42--  https://raw.githubusercontent.com/BobaZooba/HSE-Deep-Learning-in-NLP-Course/master/week_05/data/answers_subsample.csv\n",
            "Resolving raw.githubusercontent.com (raw.githubusercontent.com)... 151.101.0.133, 151.101.64.133, 151.101.128.133, ...\n",
            "Connecting to raw.githubusercontent.com (raw.githubusercontent.com)|151.101.0.133|:443... connected.\n",
            "HTTP request sent, awaiting response... 200 OK\n",
            "Length: 28717126 (27M) [text/plain]\n",
            "Saving to: ‘data.csv’\n",
            "\n",
            "data.csv            100%[===================>]  27.39M   122MB/s    in 0.2s    \n",
            "\n",
            "2019-10-28 13:47:45 (122 MB/s) - ‘data.csv’ saved [28717126/28717126]\n",
            "\n"
          ],
          "name": "stdout"
        }
      ]
    },
    {
      "cell_type": "code",
      "metadata": {
        "colab_type": "code",
        "id": "BWA7IClKW-Aa",
        "colab": {}
      },
      "source": [
        "# если ругается на то, что нет wget\n",
        "# !apt-get install wget"
      ],
      "execution_count": 0,
      "outputs": []
    },
    {
      "cell_type": "code",
      "metadata": {
        "colab_type": "code",
        "id": "qJpFTPpsW-Ac",
        "outputId": "d8a9a18e-95e0-4dc5-86cc-24493826e6a2",
        "colab": {
          "base_uri": "https://localhost:8080/",
          "height": 72
        }
      },
      "source": [
        "!ls -l"
      ],
      "execution_count": 8,
      "outputs": [
        {
          "output_type": "stream",
          "text": [
            "total 28052\n",
            "-rw-r--r-- 1 root root 28717126 Oct 28 13:47 data.csv\n",
            "drwxr-xr-x 1 root root     4096 Oct 22 15:18 sample_data\n"
          ],
          "name": "stdout"
        }
      ]
    },
    {
      "cell_type": "code",
      "metadata": {
        "colab_type": "code",
        "id": "qmzaEwy9W-Ae",
        "colab": {}
      },
      "source": [
        "import pandas as pd"
      ],
      "execution_count": 0,
      "outputs": []
    },
    {
      "cell_type": "code",
      "metadata": {
        "colab_type": "code",
        "id": "BbDKxq4EW-Ag",
        "colab": {}
      },
      "source": [
        "data = pd.read_csv('data.csv').reset_index()"
      ],
      "execution_count": 0,
      "outputs": []
    },
    {
      "cell_type": "code",
      "metadata": {
        "colab_type": "code",
        "id": "hcAdsbS7W-Ai",
        "colab": {}
      },
      "source": [
        "# data"
      ],
      "execution_count": 0,
      "outputs": []
    },
    {
      "cell_type": "code",
      "metadata": {
        "id": "ehiZkvgsDqCy",
        "colab_type": "code",
        "colab": {}
      },
      "source": [
        "import re\n",
        "puncts  = str.maketrans('','',\":,?;\\\"!.«»()\\'\\*\\+\\\\\\/\\>\\<\\=\")\n",
        "def smileproc(b):\n",
        "  b = re.sub(r\"(?<=[А-ЯЁа-яё\\d])(?=\\))\", \" \", b)    \n",
        "\n",
        "  eyes, noses, mouths = r\":;8BX=\", r\"-~'^\", r\")(/\\|DP\"\n",
        "  patsmileys = \"[%s][%s]?[%s]\" % tuple(map(re.escape, [eyes, noses, mouths]))\n",
        "  j = re.findall(patsmileys, b)\n",
        "  patsmile = r\"\\s\\)+\"\n",
        "  h = re.findall(patsmile, b)\n",
        "  b = re.sub(r\"\\?\", \" СПРАШИВАЮ \", b)\n",
        "  b = re.sub(r\"\\!\", \" ВАЖНО \", b)\n",
        "  if j:\n",
        "    b = re.sub(patsmileys, \" УЛЫБАЮСЬ \", b)\n",
        "    # print (j, b)\n",
        "  if h and b.count('(') == 0:\n",
        "    b = re.sub(patsmile, \" УЛЫБАЮСЬ \", b)\n",
        "    b = re.sub(r\"о_о\", \" УЛЫБАЮСЬ \", b)\n",
        "    \n",
        "    # print (h, b)\n",
        "  b = b.lower().translate(puncts).strip()      \n",
        "  b = re.sub(r'(?<=\\\\d)(?=\\\\w)|(?<=\\\\w)(?=\\\\d)', ' ', b)\n",
        "  return b"
      ],
      "execution_count": 0,
      "outputs": []
    },
    {
      "cell_type": "code",
      "metadata": {
        "id": "RQHzudlC7uRn",
        "colab_type": "code",
        "outputId": "23a089d1-3f03-47ed-b8f9-d1cc38b4e2b3",
        "colab": {
          "base_uri": "https://localhost:8080/",
          "height": 54
        }
      },
      "source": [
        "%%time\n",
        "DATA_TEXTS = data.text.tolist()\n",
        "# for a, row in data.iterrows():  \n",
        "for a, b in enumerate(DATA_TEXTS):\n",
        "  # s = row[\"text\"]\n",
        "  s = b\n",
        "  # if a > 5000: break\n",
        "  # if a % 1000 == 0:\n",
        "  #   print(a)\n",
        "  res = smileproc(s)\n",
        "  # data.loc[a, \"text\"] = res\n",
        "  DATA_TEXTS[a] = res\n",
        "  # print(res)\n"
      ],
      "execution_count": 13,
      "outputs": [
        {
          "output_type": "stream",
          "text": [
            "CPU times: user 6.32 s, sys: 43.5 ms, total: 6.36 s\n",
            "Wall time: 6.38 s\n"
          ],
          "name": "stdout"
        }
      ]
    },
    {
      "cell_type": "code",
      "metadata": {
        "id": "Vm0lPTTy_zN_",
        "colab_type": "code",
        "colab": {}
      },
      "source": [
        "# for a, b in enumerate(data.text):\n",
        "#   if a > 500: break\n",
        "#   print(b)\n",
        "# for a, b in enumerate(tts):\n",
        "#   if a > 500: break\n",
        "#   print(b)"
      ],
      "execution_count": 0,
      "outputs": []
    },
    {
      "cell_type": "code",
      "metadata": {
        "colab_type": "code",
        "id": "90tXLjfsW-Aj",
        "outputId": "9e155af9-5635-401d-f77d-16ae0febf1b1",
        "colab": {
          "base_uri": "https://localhost:8080/",
          "height": 127
        }
      },
      "source": [
        "data.category.value_counts() * 100 / data.shape[0]"
      ],
      "execution_count": 15,
      "outputs": [
        {
          "output_type": "execute_result",
          "data": {
            "text/plain": [
              "law         29.793211\n",
              "relax       22.016242\n",
              "business    19.309527\n",
              "food        18.367055\n",
              "love        10.513965\n",
              "Name: category, dtype: float64"
            ]
          },
          "metadata": {
            "tags": []
          },
          "execution_count": 15
        }
      ]
    },
    {
      "cell_type": "markdown",
      "metadata": {
        "colab_type": "text",
        "id": "gfHbifWIW-Al"
      },
      "source": [
        "# Предобученные эмбеддинги\n",
        "[Источник](https://fasttext.cc/docs/en/crawl-vectors.html)  \n",
        "Вы можете взять любые word2vec подобные эмббединги. Если вы хотите использовать elmo, bert, etc сначала попробуйте с word2vec подобными эмббедингами, а потом можете перейти к более сложным моделям.  \n",
        "Ниже мы сначала скачиваем, а потом распоковываем эмбеддинги."
      ]
    },
    {
      "cell_type": "code",
      "metadata": {
        "colab_type": "code",
        "id": "PVhCzM3LW-Al",
        "outputId": "cfdabb1d-ed3d-4450-899b-95a73ce12cfd",
        "colab": {
          "base_uri": "https://localhost:8080/",
          "height": 219
        }
      },
      "source": [
        "!wget https://dl.fbaipublicfiles.com/fasttext/vectors-crawl/cc.ru.300.vec.gz\n",
        "!gzip -d cc.ru.300.vec.gz"
      ],
      "execution_count": 16,
      "outputs": [
        {
          "output_type": "stream",
          "text": [
            "--2019-10-28 13:47:57--  https://dl.fbaipublicfiles.com/fasttext/vectors-crawl/cc.ru.300.vec.gz\n",
            "Resolving dl.fbaipublicfiles.com (dl.fbaipublicfiles.com)... 104.20.22.166, 104.20.6.166, 2606:4700:10::6814:6a6, ...\n",
            "Connecting to dl.fbaipublicfiles.com (dl.fbaipublicfiles.com)|104.20.22.166|:443... connected.\n",
            "HTTP request sent, awaiting response... 200 OK\n",
            "Length: 1306357571 (1.2G) [binary/octet-stream]\n",
            "Saving to: ‘cc.ru.300.vec.gz’\n",
            "\n",
            "cc.ru.300.vec.gz    100%[===================>]   1.22G  11.1MB/s    in 1m 52s  \n",
            "\n",
            "2019-10-28 13:49:50 (11.1 MB/s) - ‘cc.ru.300.vec.gz’ saved [1306357571/1306357571]\n",
            "\n"
          ],
          "name": "stdout"
        }
      ]
    },
    {
      "cell_type": "code",
      "metadata": {
        "colab_type": "code",
        "id": "eJcT1qPZW-An",
        "outputId": "ced312b1-564c-4a91-d515-7f9f6968e78d",
        "colab": {
          "base_uri": "https://localhost:8080/",
          "height": 90
        }
      },
      "source": [
        "!ls -l"
      ],
      "execution_count": 17,
      "outputs": [
        {
          "output_type": "stream",
          "text": [
            "total 4458144\n",
            "-rw-r--r-- 1 root root 4536408847 Jan 18  2019 cc.ru.300.vec\n",
            "-rw-r--r-- 1 root root   28717126 Oct 28 13:47 data.csv\n",
            "drwxr-xr-x 1 root root       4096 Oct 22 15:18 sample_data\n"
          ],
          "name": "stdout"
        }
      ]
    },
    {
      "cell_type": "code",
      "metadata": {
        "colab_type": "code",
        "id": "M0lwyZUFW-Ap",
        "colab": {}
      },
      "source": [
        "from nltk.tokenize import word_tokenize, wordpunct_tokenize\n",
        "from tqdm import tqdm"
      ],
      "execution_count": 0,
      "outputs": []
    },
    {
      "cell_type": "code",
      "metadata": {
        "colab_type": "code",
        "id": "QQpX51Y4W-Aq",
        "colab": {}
      },
      "source": [
        "# потом можете добавить свою предобработку\n",
        "\n",
        "def process_text(text):    \n",
        "    words = wordpunct_tokenize(text.lower())\n",
        "    \n",
        "    return words"
      ],
      "execution_count": 0,
      "outputs": []
    },
    {
      "cell_type": "code",
      "metadata": {
        "colab_type": "code",
        "id": "HyI2erCDW-Ar",
        "outputId": "f74abe21-5b21-4bdb-da07-80a1aecae0ea",
        "colab": {
          "base_uri": "https://localhost:8080/",
          "height": 35
        }
      },
      "source": [
        "word2freq = {}\n",
        "lengths = []\n",
        "\n",
        "# for text in tqdm(data.text):\n",
        "for text in tqdm(DATA_TEXTS):\n",
        "    \n",
        "    words = process_text(text)\n",
        "    \n",
        "    lengths.append(len(words))\n",
        "    \n",
        "    for word in words:\n",
        "        \n",
        "        if word in word2freq:\n",
        "            word2freq[word] += 1\n",
        "        else:\n",
        "            word2freq[word] = 1"
      ],
      "execution_count": 20,
      "outputs": [
        {
          "output_type": "stream",
          "text": [
            "100%|██████████| 237779/237779 [00:02<00:00, 105718.67it/s]\n"
          ],
          "name": "stderr"
        }
      ]
    },
    {
      "cell_type": "code",
      "metadata": {
        "colab_type": "code",
        "id": "FGzDm0ptW-At",
        "colab": {}
      },
      "source": [
        "import seaborn as sns\n",
        "from matplotlib import pyplot as plt"
      ],
      "execution_count": 0,
      "outputs": []
    },
    {
      "cell_type": "code",
      "metadata": {
        "colab_type": "code",
        "id": "iZBR-aYDW-Av",
        "outputId": "e421d7d1-43e4-458e-cd08-1997b6ae0710",
        "colab": {
          "base_uri": "https://localhost:8080/",
          "height": 640
        }
      },
      "source": [
        "plt.figure(figsize=(16, 10))\n",
        "plt.title('Распределение длин слов в текстах')\n",
        "plt.xlabel('Длина предложения')\n",
        "plt.ylabel('Доля')\n",
        "sns.distplot(lengths)"
      ],
      "execution_count": 22,
      "outputs": [
        {
          "output_type": "execute_result",
          "data": {
            "text/plain": [
              "<matplotlib.axes._subplots.AxesSubplot at 0x7f6cf14508d0>"
            ]
          },
          "metadata": {
            "tags": []
          },
          "execution_count": 22
        },
        {
          "output_type": "display_data",
          "data": {
            "image/png": "[encoded data removed]",
            "text/plain": [
              "<Figure size 1152x720 with 1 Axes>"
            ]
          },
          "metadata": {
            "tags": []
          }
        }
      ]
    },
    {
      "cell_type": "code",
      "metadata": {
        "colab_type": "code",
        "id": "OBzmPqXIW-Aw",
        "outputId": "c6c37819-8dd5-40a2-caea-8712e7fdab27",
        "colab": {
          "base_uri": "https://localhost:8080/",
          "height": 35
        }
      },
      "source": [
        "upper_threshold = 32\n",
        "lower_threshold = 3\n",
        "\n",
        "correct_percent = len([sent_len for sent_len in lengths \n",
        "                       if sent_len <= upper_threshold and sent_len >= lower_threshold]) * 100 / len(lengths)\n",
        "\n",
        "'{:.2f} % наших текстов входят в промежуток от {} до {} слов'.format(correct_percent, lower_threshold, upper_threshold)"
      ],
      "execution_count": 23,
      "outputs": [
        {
          "output_type": "execute_result",
          "data": {
            "text/plain": [
              "'99.63 % наших текстов входят в промежуток от 3 до 32 слов'"
            ]
          },
          "metadata": {
            "tags": []
          },
          "execution_count": 23
        }
      ]
    },
    {
      "cell_type": "code",
      "metadata": {
        "colab_type": "code",
        "id": "GbSer_0bW-Ay",
        "outputId": "3a9c28bc-1c44-45bb-d9db-37e37ce3ed33",
        "colab": {
          "base_uri": "https://localhost:8080/",
          "height": 35
        }
      },
      "source": [
        "len(word2freq)"
      ],
      "execution_count": 24,
      "outputs": [
        {
          "output_type": "execute_result",
          "data": {
            "text/plain": [
              "155101"
            ]
          },
          "metadata": {
            "tags": []
          },
          "execution_count": 24
        }
      ]
    },
    {
      "cell_type": "code",
      "metadata": {
        "colab_type": "code",
        "id": "szg6XD3EW-Az",
        "outputId": "005306bb-7ee0-40d0-ee55-58b54f64f80f",
        "colab": {
          "base_uri": "https://localhost:8080/",
          "height": 35
        }
      },
      "source": [
        "'{} слов, которые встречались 3 и менее раз'.format(len([word for word in word2freq if word2freq[word] <= 3]))"
      ],
      "execution_count": 25,
      "outputs": [
        {
          "output_type": "execute_result",
          "data": {
            "text/plain": [
              "'117640 слов, которые встречались 3 и менее раз'"
            ]
          },
          "metadata": {
            "tags": []
          },
          "execution_count": 25
        }
      ]
    },
    {
      "cell_type": "markdown",
      "metadata": {
        "colab_type": "text",
        "id": "bZbOg0FqW-A1"
      },
      "source": [
        "# Читаем файл с эмбеддингами\n",
        "### Этот файл с 300 числами для 2 000 000 слов и он может не влезть в память\n",
        "Поэтому прочитаем только те слова, которые мы знаем"
      ]
    },
    {
      "cell_type": "code",
      "metadata": {
        "colab_type": "code",
        "id": "T1Yx_qr-W-A2",
        "colab": {}
      },
      "source": [
        "import numpy as np"
      ],
      "execution_count": 0,
      "outputs": []
    },
    {
      "cell_type": "code",
      "metadata": {
        "colab_type": "code",
        "id": "BLEgfnaWW-A4",
        "outputId": "1aeb7d73-212d-4f20-f87b-1ae25fa26c83",
        "colab": {
          "base_uri": "https://localhost:8080/",
          "height": 35
        }
      },
      "source": [
        "word2index = {'PAD': 0}\n",
        "vectors = []\n",
        "    \n",
        "word2vec_file = open('cc.ru.300.vec')\n",
        "    \n",
        "n_words, embedding_dim = word2vec_file.readline().split()\n",
        "n_words, embedding_dim = int(n_words), int(embedding_dim)\n",
        "\n",
        "# Zero vector for PAD\n",
        "vectors.append(np.zeros((1, embedding_dim)))\n",
        "\n",
        "progress_bar = tqdm(desc='Read word2vec', total=n_words)\n",
        "\n",
        "while True:\n",
        "\n",
        "    line = word2vec_file.readline().strip()\n",
        "\n",
        "    if not line:\n",
        "        break\n",
        "        \n",
        "    current_parts = line.split()\n",
        "\n",
        "    current_word = ' '.join(current_parts[:-embedding_dim])\n",
        "\n",
        "    if current_word in word2freq:\n",
        "\n",
        "        word2index[current_word] = len(word2index)\n",
        "\n",
        "        current_vectors = current_parts[-embedding_dim:]\n",
        "        current_vectors = np.array(list(map(float, current_vectors)))\n",
        "        current_vectors = np.expand_dims(current_vectors, 0)\n",
        "\n",
        "        vectors.append(current_vectors)\n",
        "\n",
        "    progress_bar.update(1)\n",
        "\n",
        "progress_bar.close()\n",
        "\n",
        "word2vec_file.close()\n",
        "\n",
        "vectors = np.concatenate(vectors)"
      ],
      "execution_count": 27,
      "outputs": [
        {
          "output_type": "stream",
          "text": [
            "Read word2vec: 100%|██████████| 2000000/2000000 [01:07<00:00, 29679.18it/s]\n"
          ],
          "name": "stderr"
        }
      ]
    },
    {
      "cell_type": "code",
      "metadata": {
        "colab_type": "code",
        "id": "AYJMzgpnW-A7",
        "outputId": "7a5d6277-6655-4735-f67d-d1c0baab4ddb",
        "colab": {
          "base_uri": "https://localhost:8080/",
          "height": 35
        }
      },
      "source": [
        "len(word2index)"
      ],
      "execution_count": 28,
      "outputs": [
        {
          "output_type": "execute_result",
          "data": {
            "text/plain": [
              "117572"
            ]
          },
          "metadata": {
            "tags": []
          },
          "execution_count": 28
        }
      ]
    },
    {
      "cell_type": "code",
      "metadata": {
        "colab_type": "code",
        "id": "KE06fafiW-A8",
        "outputId": "05d619c6-aaa3-43ad-e54b-8143e68d1df3",
        "colab": {
          "base_uri": "https://localhost:8080/",
          "height": 1000
        }
      },
      "source": [
        "unk_words = [word for word in word2freq if word not in word2index]\n",
        "unk_counts = [word2freq[word] for word in unk_words]\n",
        "n_unk = sum(unk_counts) * 100 / sum(list(word2freq.values()))\n",
        "\n",
        "sub_sample_unk_words = {word: word2freq[word] for word in unk_words}\n",
        "sorted_unk_words = list(sorted(sub_sample_unk_words, key=lambda x: sub_sample_unk_words[x], reverse=True))\n",
        "\n",
        "print('Мы не знаем {:.2f} % слов в датасете'.format(n_unk))\n",
        "print('Количество неизвестных слов {} из {}, то есть {:.2f} % уникальных слов в словаре'.format(\n",
        "    len(unk_words), len(word2freq), len(unk_words) * 100 / len(word2freq)))\n",
        "print('В среднем каждое встречается {:.2f} раз'.format(np.mean(unk_counts)))\n",
        "print()\n",
        "print('Топ 5 невошедших слов:')\n",
        "\n",
        "for i in range(50):\n",
        "    print(sorted_unk_words[i], 'с количеством вхождениий -', word2freq[sorted_unk_words[i]])"
      ],
      "execution_count": 29,
      "outputs": [
        {
          "output_type": "stream",
          "text": [
            "Мы не знаем 1.71 % слов в датасете\n",
            "Количество неизвестных слов 37530 из 155101, то есть 24.20 % уникальных слов в словаре\n",
            "В среднем каждое встречается 1.16 раз\n",
            "\n",
            "Топ 5 невошедших слов:\n",
            "дошик с количеством вхождениий - 43\n",
            "егрн с количеством вхождениий - 40\n",
            "слайм с количеством вхождениий - 39\n",
            "внп с количеством вхождениий - 37\n",
            "девчин с количеством вхождениий - 36\n",
            "♪♫ с количеством вхождениий - 31\n",
            "wwwyoutubecomwatch с количеством вхождениий - 25\n",
            "hatsan с количеством вхождениий - 25\n",
            "%- с количеством вхождениий - 23\n",
            "сзв с количеством вхождениий - 19\n",
            "комиссация с количеством вхождениий - 18\n",
            "кафересторан с количеством вхождениий - 18\n",
            "кдн с количеством вхождениий - 17\n",
            "boozled с количеством вхождениий - 17\n",
            "фкз с количеством вхождениий - 16\n",
            "помогитее с количеством вхождениий - 15\n",
            "быстроденьги с количеством вхождениий - 15\n",
            "```` с количеством вхождениий - 15\n",
            "бсо с количеством вхождениий - 15\n",
            "алиекспресс с количеством вхождениий - 15\n",
            "` с количеством вхождениий - 14\n",
            "слаймов с количеством вхождениий - 14\n",
            "пятёрочке с количеством вхождениий - 14\n",
            "иис с количеством вхождениий - 14\n",
            "фомс с количеством вхождениий - 14\n",
            "моголь с количеством вхождениий - 14\n",
            "боруто с количеством вхождениий - 13\n",
            "памагити с количеством вхождениий - 13\n",
            "тинькоф с количеством вхождениий - 13\n",
            "снилса с количеством вхождениий - 12\n",
            "ролтона с количеством вхождениий - 12\n",
            "стальфонд с количеством вхождениий - 12\n",
            "плез с количеством вхождениий - 12\n",
            "консервируете с количеством вхождениий - 12\n",
            "укрф с количеством вхождениий - 12\n",
            "ивановы с количеством вхождениий - 12\n",
            "зозпп с количеством вхождениий - 12\n",
            "мираторг с количеством вхождениий - 12\n",
            "͡° с количеством вхождениий - 12\n",
            "слайма с количеством вхождениий - 11\n",
            "алике с количеством вхождениий - 11\n",
            "бузлд с количеством вхождениий - 11\n",
            "о_о с количеством вхождениий - 10\n",
            "подскадите с количеством вхождениий - 10\n",
            "военкоме с количеством вхождениий - 10\n",
            "crosman с количеством вхождениий - 10\n",
            "элджей с количеством вхождениий - 10\n",
            "rmc с количеством вхождениий - 10\n",
            "рсп с количеством вхождениий - 10\n",
            "^^ с количеством вхождениий - 10\n"
          ],
          "name": "stdout"
        }
      ]
    },
    {
      "cell_type": "markdown",
      "metadata": {
        "colab_type": "text",
        "id": "GFPNApUjW-A9"
      },
      "source": [
        "# Потеря 2.5 % слов в датасете\n",
        "Эта ситуация не то, чтобы сильно плохая, в учебных целях нормально, к тому же в среднем они редко встречаются. Вы можете поиграть с предобработкой, но советую не заигрываться. Оценивается другое."
      ]
    },
    {
      "cell_type": "code",
      "metadata": {
        "colab_type": "code",
        "id": "_fo1fB6JW-A-",
        "colab": {}
      },
      "source": [
        "import torch"
      ],
      "execution_count": 0,
      "outputs": []
    },
    {
      "cell_type": "markdown",
      "metadata": {
        "colab_type": "text",
        "id": "stBQ3yhqW-Bi"
      },
      "source": [
        "# Подготовим данные в DataLoader"
      ]
    },
    {
      "cell_type": "code",
      "metadata": {
        "colab_type": "code",
        "id": "vPX_m5M4W-Bi",
        "colab": {}
      },
      "source": [
        "from torch.utils.data import Dataset, DataLoader"
      ],
      "execution_count": 0,
      "outputs": []
    },
    {
      "cell_type": "code",
      "metadata": {
        "colab_type": "code",
        "id": "hV76BdN0W-Bj",
        "outputId": "06c4788d-c2ee-4226-bbbe-06d4dedc728c",
        "colab": {
          "base_uri": "https://localhost:8080/",
          "height": 35
        }
      },
      "source": [
        "'UNK' in word2index"
      ],
      "execution_count": 32,
      "outputs": [
        {
          "output_type": "execute_result",
          "data": {
            "text/plain": [
              "False"
            ]
          },
          "metadata": {
            "tags": []
          },
          "execution_count": 32
        }
      ]
    },
    {
      "cell_type": "markdown",
      "metadata": {
        "colab_type": "text",
        "id": "1qv1mKAeW-Bl"
      },
      "source": [
        "# Замапим категории в индексы"
      ]
    },
    {
      "cell_type": "code",
      "metadata": {
        "colab_type": "code",
        "id": "iHeFzZe1W-Bl",
        "colab": {}
      },
      "source": [
        "cat_mapper = {cat: n for n, cat in enumerate(data.category.unique())}\n",
        "inv_cat_mapper =  {v: k for k, v in cat_mapper.items()}"
      ],
      "execution_count": 0,
      "outputs": []
    },
    {
      "cell_type": "code",
      "metadata": {
        "id": "fVolLkgo0Fpo",
        "colab_type": "code",
        "outputId": "48e79c10-b03d-419a-b70d-9c2a34324a15",
        "colab": {
          "base_uri": "https://localhost:8080/",
          "height": 35
        }
      },
      "source": [
        "inv_cat_mapper.keys()"
      ],
      "execution_count": 34,
      "outputs": [
        {
          "output_type": "execute_result",
          "data": {
            "text/plain": [
              "dict_keys([0, 1, 2, 3, 4])"
            ]
          },
          "metadata": {
            "tags": []
          },
          "execution_count": 34
        }
      ]
    },
    {
      "cell_type": "code",
      "metadata": {
        "colab_type": "code",
        "id": "X3x9QhXYW-Bn",
        "outputId": "72c93013-039c-45cd-85c0-86183f275554",
        "colab": {
          "base_uri": "https://localhost:8080/",
          "height": 35
        }
      },
      "source": [
        "cat_mapper"
      ],
      "execution_count": 35,
      "outputs": [
        {
          "output_type": "execute_result",
          "data": {
            "text/plain": [
              "{'business': 0, 'food': 4, 'law': 1, 'love': 2, 'relax': 3}"
            ]
          },
          "metadata": {
            "tags": []
          },
          "execution_count": 35
        }
      ]
    },
    {
      "cell_type": "code",
      "metadata": {
        "id": "iHpovIpDYBLd",
        "colab_type": "code",
        "outputId": "0e279bf9-da40-459e-d64a-ebf7ddc2dd8d",
        "colab": {
          "base_uri": "https://localhost:8080/",
          "height": 35
        }
      },
      "source": [
        "len(cat_mapper)"
      ],
      "execution_count": 36,
      "outputs": [
        {
          "output_type": "execute_result",
          "data": {
            "text/plain": [
              "5"
            ]
          },
          "metadata": {
            "tags": []
          },
          "execution_count": 36
        }
      ]
    },
    {
      "cell_type": "code",
      "metadata": {
        "colab_type": "code",
        "id": "ef--8SWbW-Bo",
        "colab": {}
      },
      "source": [
        "data_cats = data.category.map(cat_mapper)"
      ],
      "execution_count": 0,
      "outputs": []
    },
    {
      "cell_type": "code",
      "metadata": {
        "id": "XohXsnJxajd6",
        "colab_type": "code",
        "colab": {}
      },
      "source": [
        "from sklearn.model_selection import train_test_split\n",
        "x_train, x_test, y_train, y_test = train_test_split(DATA_TEXTS, data_cats.tolist(), test_size=0.2)"
      ],
      "execution_count": 0,
      "outputs": []
    },
    {
      "cell_type": "code",
      "metadata": {
        "id": "K2p2drn3oFpq",
        "colab_type": "code",
        "outputId": "ac31854e-86c3-453d-d649-505d181215cb",
        "colab": {
          "base_uri": "https://localhost:8080/",
          "height": 221
        }
      },
      "source": [
        "x_train[:10]"
      ],
      "execution_count": 39,
      "outputs": [
        {
          "output_type": "execute_result",
          "data": {
            "text/plain": [
              "['монгольская молочная водка вкусная спрашиваю  спрашиваю',\n",
              " 'можно ли есть томаты при аллергии спрашиваю  интерес',\n",
              " 'можно ли глотать семечки от дыни спрашиваю  есть ли в этом польза спрашиваю',\n",
              " 'как вам нравится качество сервиса спрашиваю  смотри внутри',\n",
              " 'как приготовить суп без кипяенной воды спрашиваю',\n",
              " 'ваше мнение важно  в каком из двух банков вы бы выбрали для вклада спрашиваю  и почему спрашиваю  желательно плюсы и минусы',\n",
              " 'как пройти тестирование на workle спрашиваю',\n",
              " 'виски - множественное число',\n",
              " 'вам не надоела одна и та же рожа на нг  спрашиваю',\n",
              " 'помогите выбрать посоветуйте катушку под ультра лайт favorite blue bird 1-7g']"
            ]
          },
          "metadata": {
            "tags": []
          },
          "execution_count": 39
        }
      ]
    },
    {
      "cell_type": "code",
      "metadata": {
        "id": "1NogOH2Pn_7D",
        "colab_type": "code",
        "outputId": "5e92703d-66cf-4ee3-831f-8c5b259f1700",
        "colab": {
          "base_uri": "https://localhost:8080/",
          "height": 35
        }
      },
      "source": [
        "y_train[:10]\n"
      ],
      "execution_count": 40,
      "outputs": [
        {
          "output_type": "execute_result",
          "data": {
            "text/plain": [
              "[4, 4, 4, 3, 4, 0, 0, 4, 3, 3]"
            ]
          },
          "metadata": {
            "tags": []
          },
          "execution_count": 40
        }
      ]
    },
    {
      "cell_type": "markdown",
      "metadata": {
        "colab_type": "text",
        "id": "vc48ALg_W-Bp"
      },
      "source": [
        "# Читалка данных"
      ]
    },
    {
      "cell_type": "markdown",
      "metadata": {
        "id": "4UGDCLOHuAoP",
        "colab_type": "text"
      },
      "source": [
        "## Что происходит ниже\n",
        "1. Мы задаем x_data, y_data (таргеты), word2index (маппер из слова в индекс слова), sequence_length (максимальная длина последовательности, если больше, ограничить ею), pad_token (токен паддинга и задаем его индекс pad_index).\n",
        "1. Загружаем данные:\n",
        "    1. Проходимся по датасету\n",
        "    1. Предобрабатываем каждый текст в датасете\n",
        "    1. Индексируем его\n",
        "1. Когда нам нужно достать пример из датасета мы берем индексированный ```x``` и соответствующий этому индексу ```y```, наш ```x``` также паддим (или ограничиваем длину) и переводим в ```torch.Tensor(x).long()```. Для ```y``` этого делать не потребуется, в dataloader'е таргеты преобразуются в тензор сами.\n",
        "    \n",
        "## Что нужно сделать здесь\n",
        "1. Дописать индексатор текста\n",
        "1. Дописать паддинг текста\n",
        "1. __*Опционально:*__ добавить что-то в предобработку"
      ]
    },
    {
      "cell_type": "code",
      "metadata": {
        "id": "_G76uU8qHEUW",
        "colab_type": "code",
        "colab": {}
      },
      "source": [
        "from itertools import repeat"
      ],
      "execution_count": 0,
      "outputs": []
    },
    {
      "cell_type": "code",
      "metadata": {
        "colab_type": "code",
        "id": "ZkX8SC_sW-Bp",
        "colab": {}
      },
      "source": [
        "class WordData(Dataset):\n",
        "    \n",
        "    def __init__(self, x_data, y_data, word2index, sequence_length=32, pad_token='PAD', verbose=True):\n",
        "        \n",
        "        super().__init__()\n",
        "        \n",
        "        self.x_data = []\n",
        "        self.y_data = []\n",
        "        \n",
        "        self.word2index = word2index\n",
        "        self.sequence_length = sequence_length\n",
        "        \n",
        "        self.pad_token = pad_token\n",
        "        self.pad_index = self.word2index[self.pad_token]\n",
        "        \n",
        "        self.load(x_data, y_data, verbose=verbose)\n",
        "        \n",
        "    @staticmethod\n",
        "    def process_text(text):\n",
        "        \n",
        "        # Место для вашей предобработки        \n",
        "        # aftertext = text.lower().translate(puncts).strip()        \n",
        "        # words = wordpunct_tokenize(digisep(aftertext))\n",
        "\n",
        "        words = wordpunct_tokenize(text)\n",
        "\n",
        "        return words\n",
        "        \n",
        "    def load(self, data, data2, verbose=True):\n",
        "        \n",
        "        data_iterator = tqdm(range(len(data)), desc='Loading data', disable=not verbose, position=0)\n",
        "        \n",
        "        for i in data_iterator:\n",
        "            \n",
        "            words = self.process_text(data[i])\n",
        "            \n",
        "            indexed_words = self.indexing(words)\n",
        "            if indexed_words:\n",
        "              self.x_data.append(indexed_words)\n",
        "              self.y_data.append(data2[i])\n",
        "              # print(\"O_o\")\n",
        "            \n",
        "            \n",
        "    \n",
        "    def indexing(self, tokenized_text):\n",
        "\n",
        "        # здесь мы не используем токен UNK, потому что мы мы его специально не учили\n",
        "        # становится непонятно какой же эмбеддинг присвоить неизвестному слову,\n",
        "        # поэтому просто выбрасываем наши неизветсные слова        \n",
        "        ### CODE ###\n",
        "        return [self.word2index[token] for token in tokenized_text if token in self.word2index]\n",
        "        \n",
        "            \n",
        "    def padding(self, sequence):\n",
        "        \n",
        "        # Ограничить длину self.sequence_length\n",
        "        # если длина меньше максимально - западить\n",
        "        ### CODE ###        \n",
        "        delta = self.sequence_length - len(sequence)\n",
        "        return sequence + list(repeat(self.pad_index, delta)) \\\n",
        "        if delta > 0 else sequence[:self.sequence_length]\n",
        "\n",
        "    def __len__(self):\n",
        "        \n",
        "        return len(self.x_data)\n",
        "    \n",
        "    def __getitem__(self, idx):\n",
        "        \n",
        "        x = self.x_data[idx]\n",
        "        x = self.padding(x)\n",
        "        x = torch.Tensor(x).long()\n",
        "        \n",
        "        y = self.y_data[idx]\n",
        "        \n",
        "        return x, y"
      ],
      "execution_count": 0,
      "outputs": []
    },
    {
      "cell_type": "code",
      "metadata": {
        "colab_type": "code",
        "id": "AbKaEWUWW-Bq",
        "outputId": "d400cefa-fb39-4184-eb4d-116f895e5d57",
        "colab": {
          "base_uri": "https://localhost:8080/",
          "height": 54
        }
      },
      "source": [
        "dataset = WordData(x_train, y_train, word2index)\n",
        "datasettest = WordData(x_test, y_test, word2index)\n",
        "# dataset = WordData(data.text, data.category, word2index)\n"
      ],
      "execution_count": 43,
      "outputs": [
        {
          "output_type": "stream",
          "text": [
            "Loading data: 100%|██████████| 190223/190223 [00:02<00:00, 81831.41it/s]\n",
            "Loading data: 100%|██████████| 47556/47556 [00:00<00:00, 101183.59it/s]\n"
          ],
          "name": "stderr"
        }
      ]
    },
    {
      "cell_type": "code",
      "metadata": {
        "colab_type": "code",
        "id": "Lnc2nD8gW-Br",
        "colab": {}
      },
      "source": [
        "train_loader = DataLoader(dataset, batch_size=BATCH_SIZE, pin_memory=True)\n",
        "test_loader = DataLoader(datasettest, batch_size=BATCH_SIZE, pin_memory=True)"
      ],
      "execution_count": 0,
      "outputs": []
    },
    {
      "cell_type": "code",
      "metadata": {
        "id": "Jl8nIqvzvuao",
        "colab_type": "code",
        "colab": {}
      },
      "source": [
        "import warnings\n",
        "warnings.filterwarnings('ignore')\n",
        "# warnings break progress bar"
      ],
      "execution_count": 0,
      "outputs": []
    },
    {
      "cell_type": "code",
      "metadata": {
        "id": "w1hA1_48uAoz",
        "colab_type": "code",
        "outputId": "f5849095-5243-44cc-8285-8e0bcbf7f588",
        "colab": {
          "base_uri": "https://localhost:8080/",
          "height": 35
        }
      },
      "source": [
        "import torch.nn as nn\n",
        "import torch.nn.functional as F\n",
        "from torch.nn.utils.rnn import pack_padded_sequence, pad_packed_sequence\n",
        "torch.set_printoptions(profile=\"full\")\n",
        "\n",
        "def nsort(y):\n",
        "  ll, ii = (y > 0).sum(1).sort(descending=True)\n",
        "  return y[ii], ll\n",
        "\n",
        "def tsort(ts):\n",
        "  z = torch.tensor([len(torch.nonzero(ts[i])) for i in range(ts.shape[0])]).sort(descending=True)\n",
        "  return ts[z[1]], z[0], np.argsort(z[1]).to(device)\n",
        "\n",
        "class CoolNet(nn.Module):\n",
        "  \"\"\"\n",
        "  |￣￣￣￣￣￣￣￣￣￣￣|\n",
        "    I don't know\n",
        "    what I am doing,\n",
        "    but it is my neural\n",
        "    network\n",
        "  |＿＿＿＿＿＿＿＿＿＿＿|\n",
        "  (\\__/) ||\n",
        "  (•ㅅ•) ||\n",
        "  / 　 づ\n",
        "  \"\"\"\n",
        " \n",
        "  def __init__(self, vocab_size, hidden_dim, classes_quantity, emb_weights, seqlen = 32, debug_file=None):\n",
        "    super().__init__()\n",
        "    self.embeddings = nn.Embedding.from_pretrained(torch.FloatTensor(emb_weights))\n",
        "    self.drop = nn.Dropout2d(0.25)    \n",
        "    embedding_length  = emb_weights.shape[1]\n",
        "    self.lstm = nn.LSTM(input_size=embedding_length,\\\n",
        "                        hidden_size=hidden_dim,\\\n",
        "                        bidirectional=True, batch_first=True)\n",
        "    self.linear = nn.Linear(hidden_dim*2, classes_quantity)    \n",
        "\n",
        "    kerns = [2,4,6,8]\n",
        "    # con_size = embedding_length\n",
        "    con_size = hidden_dim * 2\n",
        "\n",
        "    self.conv1 = nn.Conv1d(in_channels=con_size, out_channels= hidden_dim, kernel_size=kerns[0])\n",
        "    self.conv2 = nn.Conv1d(in_channels=con_size, out_channels= hidden_dim, kernel_size=kerns[1])\n",
        "    self.conv3 = nn.Conv1d(in_channels=con_size, out_channels= hidden_dim, kernel_size=kerns[2])\n",
        "    self.conv4 = nn.Conv1d(in_channels=con_size, out_channels= hidden_dim, kernel_size=kerns[3])\n",
        "\n",
        "    self.mp1 = nn.MaxPool1d(kernel_size=(seqlen-kerns[0]+1))\n",
        "    self.mp2 = nn.MaxPool1d(kernel_size=(seqlen-kerns[1]+1))\n",
        "    self.mp3 = nn.MaxPool1d(kernel_size=(seqlen-kerns[2]+1))\n",
        "    self.mp4 = nn.MaxPool1d(kernel_size=(seqlen-kerns[3]+1))\n",
        "    self.relu = nn.ReLU()\n",
        "    \n",
        "    self.f  = debug_file\n",
        "    pass\n",
        "\n",
        "\n",
        "\n",
        "  def forward(self, x):    \n",
        "    x_sorted, lens, unindex = tsort(x)\n",
        "    # print(\"orig\", x.shape, len(lens))\n",
        "    x = self.embeddings(x_sorted)\n",
        "    # x = self.embeddings(x)\n",
        "    x = self.drop(x)   \n",
        "    # print(\"emb\", x.shape)\n",
        "    z = pack_padded_sequence(x, lens, batch_first=True)\n",
        "    x, _ =  self.lstm(z)\n",
        "        # x, _ =  self.lstm(x)\n",
        "        # x = x[:, -1, :]\n",
        "    x, _ = pad_packed_sequence(x, batch_first=True)\n",
        "    # print(\"lstm out\", x.shape)\n",
        "    x = x.index_select(0, unindex)\n",
        "        # print(\"lstm2\", x.shape)\n",
        "    x = x.transpose(0, 1)\n",
        "\n",
        "        # print(\"lstm3\", x.shape)\n",
        "\n",
        "\n",
        "\n",
        "    # x_transposed = x.transpose(1, 2) \n",
        "    \n",
        "        # print(\"conv in\", x_transposed.shape)\n",
        "\n",
        "    # x1 = F.relu(self.conv1(x_transposed))\n",
        "    # x2 = F.relu(self.conv2(x_transposed))\n",
        "    # x3 = F.relu(self.conv3(x_transposed))\n",
        "    # x4 = F.relu(self.conv4(x_transposed))\n",
        "\n",
        "          # print(\"x1\", x1.shape)\n",
        "          # print(\"x2\", x2.shape)\n",
        "          # print(\"x3\", x3.shape)\n",
        "          # print(\"x4\", x4.shape)\n",
        "\n",
        "    # x1 = x1.transpose(0,2)\n",
        "    # x2 = x2.transpose(0,2)\n",
        "    # x3 = x3.transpose(0,2)\n",
        "    # x4 = x4.transpose(0,2)\n",
        "    \n",
        "    # mp1x = self.mp1(x1)\n",
        "    # mp2x = self.mp2(x2)\n",
        "    # mp3x = self.mp3(x3)\n",
        "    # mp4x = self.mp4(x4)\n",
        "\n",
        "          # print(\"mp out\", mp1x.shape)\n",
        "\n",
        "    # x_cat = torch.cat((mp1x, mp2x, mp3x, mp4x), 0)\n",
        "        # print(\"after cnn\",x_cat.shape)\n",
        "        # x = x_cat.transpose(1, 2)\n",
        "        # print(\"cnn trans\",x.shape)\n",
        "    \n",
        "    x = x[0]\n",
        "\n",
        "    # x = x[:, -1, :]\n",
        "\n",
        "    x = self.drop(x)\n",
        "    x = self.linear(x)\n",
        "    return x\n",
        "\n",
        "\n",
        "\n",
        "# f = open(\"gdrive/My Drive/CompLing/output.txt\", 'a+')\n",
        "f = None\n",
        "\n",
        "\n",
        "\n",
        "model = CoolNet(vocab_size=len(word2index), hidden_dim = HIDDEN_SIZE,\\\n",
        "                classes_quantity = len(cat_mapper),\\\n",
        "                emb_weights = vectors, debug_file=f)\n",
        "\n",
        "device = torch.device('cuda') if torch.cuda.is_available() else torch.device('cpu')\n",
        "# torch.cuda.empty_cache()\n",
        "print(\"CUDA RAM usage\", torch.cuda.max_memory_allocated(device))\n",
        "model.to(device)\n",
        "optimizer = torch.optim.Adam(params=model.parameters())\n",
        "# aka loss function\n",
        "criterion = torch.nn.CrossEntropyLoss()"
      ],
      "execution_count": 49,
      "outputs": [
        {
          "output_type": "stream",
          "text": [
            "CUDA RAM usage 287344128\n"
          ],
          "name": "stdout"
        }
      ]
    },
    {
      "cell_type": "code",
      "metadata": {
        "id": "AWMwFRiUdQOt",
        "colab_type": "code",
        "outputId": "a07e4a49-0742-46d7-9416-d3009e19266a",
        "colab": {
          "base_uri": "https://localhost:8080/",
          "height": 1000
        }
      },
      "source": [
        "from ignite.engine import Engine, _prepare_batch, Events, create_supervised_evaluator\n",
        "from ignite.metrics import Loss, Accuracy, Precision, Recall, Loss, ConfusionMatrix, IoU, MetricsLambda\n",
        "from ignite.contrib.handlers import ProgressBar\n",
        "from ignite.handlers import EarlyStopping\n",
        "from torch.optim.lr_scheduler import ExponentialLR, CosineAnnealingWarmRestarts\n",
        "\n",
        "\n",
        "\n",
        "# lr_scheduler = ExponentialLR(optimizer, gamma=0.8)\n",
        "lr_scheduler = CosineAnnealingWarmRestarts(optimizer, T_0 = 2)\n",
        "\n",
        "def f1(precision, recall):  \n",
        "  #  + 1e-20\n",
        "  # res = precision * recall * 2 / (precision + recall)\n",
        "  # res = MetricsLambda(lambda t: torch.mean(t).item(), res)\n",
        "  res = (precision * recall * 2 / (precision + recall)).mean()\n",
        "  return res\n",
        "\n",
        "log_interval = LOG_ITERATIONS\n",
        "epochs = EPOCHS_NUM\n",
        "\n",
        "metrics = {\n",
        "    'avg_loss': Loss(criterion),\n",
        "    'avg_accuracy': Accuracy(),\n",
        "    'avg_precision': Precision(average=True),\n",
        "    'avg_recall': Recall(average=True),\n",
        "    'prec': Precision(average=False),\n",
        "    'rec': Recall(average=False),\n",
        "    'nll': Loss(criterion),\n",
        "    'cm': ConfusionMatrix(num_classes=len(cat_mapper))\n",
        "}\n",
        "\n",
        "def process_function(engine, batch):\n",
        "    model.train()\n",
        "    optimizer.zero_grad()\n",
        "    x, y = _prepare_batch(batch, device=device)\n",
        "    y_pred = model(x)\n",
        "    loss = criterion(y_pred, y)\n",
        "    loss.backward()\n",
        "    optimizer.step()\n",
        "    return loss.item()\n",
        "\n",
        "def create_supervised_evaluator(model, metrics={}, device=None):\n",
        "    if device:\n",
        "        model.to(device)\n",
        "\n",
        "    def _inference(engine, batch):\n",
        "        model.eval()\n",
        "        with torch.no_grad():\n",
        "            x, y = _prepare_batch(batch, device=device)\n",
        "            y_pred = model(x)\n",
        "            return y_pred, y\n",
        "\n",
        "    engine = Engine(_inference)\n",
        "\n",
        "    for name, metric in metrics.items():\n",
        "        metric.attach(engine, name)\n",
        "\n",
        "    return engine    \n",
        "################################################################################\n",
        "print(\"Current device\", device)\n",
        "\n",
        "train_evaluator = create_supervised_evaluator(model, metrics=metrics, device=device)\n",
        "val_evaluator = create_supervised_evaluator(model, metrics=metrics, device=device)\n",
        "\n",
        "# trainer = Engine(process_function)\n",
        "\n",
        "from ignite.engine import create_supervised_trainer\n",
        "\n",
        "trainer = create_supervised_trainer(model, optimizer, criterion, device)\n",
        "\n",
        "training_history = {'accuracy':[],'loss':[], 'f1':[]}\n",
        "validation_history = {'accuracy':[],'loss':[], 'f1':[]}\n",
        "loss_history = []\n",
        "\n",
        "def score_function(engine):\n",
        "    # loss growth monitoring\n",
        "    # val_loss = engine.state.metrics['nll']\n",
        "    # return -val_loss\n",
        "    # f1\n",
        "    return f1(engine.state.metrics['prec'], engine.state.metrics['rec'])\n",
        "\n",
        "early_stopping = EarlyStopping(patience=10, score_function=score_function, trainer=trainer)\n",
        "\n",
        "val_evaluator.add_event_handler(Events.EPOCH_COMPLETED, early_stopping)\n",
        "\n",
        "pbar = ProgressBar()\n",
        "pbar.attach(trainer, output_transform=lambda x: {'loss': x})\n",
        "\n",
        "# cm = ConfusionMatrix(num_classes=5)\n",
        "# IoU(cm, ignore_index=0).attach(train_evaluator, 'IoU')\n",
        "\n",
        "@trainer.on(Events.EPOCH_STARTED)\n",
        "def update_lr_scheduler(engine):\n",
        "    lr_scheduler.step()\n",
        "    # Display learning rate:\n",
        "    if len(optimizer.param_groups) == 1:\n",
        "        lr = float(optimizer.param_groups[0]['lr'])\n",
        "        print(\"Learning rate: {}\".format(lr))\n",
        "    else:\n",
        "        for i, param_group in enumerate(optimizer.param_groups):\n",
        "            lr = float(param_group['lr'])\n",
        "            print(\"Learning rate (group {}): {}\".format(i, lr))\n",
        "\n",
        "\n",
        "@trainer.on(Events.ITERATION_COMPLETED)\n",
        "def log_training_loss(engine):\n",
        "    # f.close()\n",
        "    iteration = (engine.state.iteration - 1) % len(train_loader) + 1\n",
        "    loss_history.append(engine.state.output)\n",
        "    if iteration % log_interval == 0:\n",
        "        print(\"Epoch[{}] Iteration[{}/{}] Loss: {:.4f}\"\n",
        "              .format(engine.state.epoch, \n",
        "                         iteration, \n",
        "                         len(train_loader), \n",
        "                         engine.state.output))\n",
        "\n",
        "\n",
        "@trainer.on(Events.EPOCH_COMPLETED)\n",
        "def compute_and_display_offline_train_metrics(engine):\n",
        "    epoch = engine.state.epoch\n",
        "    print(\"Compute train metrics...\")\n",
        "    metrics = train_evaluator.run(train_loader).metrics\n",
        "    f1val = f1(metrics['prec'], metrics['rec'])\n",
        "    accuracy = metrics['avg_accuracy']\n",
        "    training_history['accuracy'].append(accuracy)\n",
        "    avgloss  = metrics['avg_loss']\n",
        "    training_history['loss'].append(avgloss)\n",
        "    training_history['f1'].append(f1)\n",
        "\n",
        "  \n",
        "    print(\"Training Results - Epoch: {}  Average Loss: {:.4f} | Accuracy: {:.4f} | Precision: {:.4f} | Recall: {:.4f}  | F1: {:.4f}\"\n",
        "          .format(engine.state.epoch, \n",
        "                      avgloss, \n",
        "                      metrics['avg_accuracy'], \n",
        "                      metrics['avg_precision'], \n",
        "                      metrics['avg_recall'],\n",
        "                      f1val\n",
        "                  ))\n",
        "\n",
        "@trainer.on(Events.EPOCH_COMPLETED)\n",
        "def compute_and_display_val_metrics(engine):\n",
        "    epoch = engine.state.epoch\n",
        "    print(\"Compute validation metrics...\")\n",
        "    metrics = val_evaluator.run(test_loader).metrics\n",
        "    f1val = f1(metrics['prec'], metrics['rec'])\n",
        "    \n",
        "    accuracy = metrics['avg_accuracy']\n",
        "    validation_history['accuracy'].append(accuracy)    \n",
        "    avgloss  = metrics['avg_loss']\n",
        "    validation_history['loss'].append(avgloss)\n",
        "    validation_history['f1'].append(f1)    \n",
        "    # print(\"prec\", metrics['prec'])\n",
        "    # print(\"recall\", metrics['rec'])\n",
        "    # macrof1 = 0\n",
        "    # for i in range(len(cat_mapper)):\n",
        "    #   class_f1 = 2 * metrics['prec'][i] * metrics['rec'][i] / (metrics['prec'][i] + metrics['rec'][i])\n",
        "    #   class_f1 = class_f1.item()\n",
        "    #   macrof1 += class_f1\n",
        "    #   print(\"cls \"+str(i)+\" f1\", str(class_f1))\n",
        "    # print(\"MACRO f1 \" + str(macrof1/len(cat_mapper)))\n",
        "    print(\"Validation Results - Epoch: {}  Average Loss: {:.4f} | Accuracy: {:.4f} | Precision: {:.4f} | Recall: {:.4f} | F1: {:.4f}\"\n",
        "          .format(engine.state.epoch, \n",
        "                      metrics['avg_loss'], \n",
        "                      accuracy, \n",
        "                      metrics['avg_precision'], \n",
        "                      metrics['avg_recall'],\n",
        "                     f1val\n",
        "                  ))\n",
        "\n",
        "@trainer.on(Events.COMPLETED)\n",
        "def display_farewell(engine):\n",
        "  print(\"Compute final results...\")  \n",
        "  metrics = val_evaluator.run(test_loader).metrics   \n",
        "  print(\"Final F1 {0:.4f}\".format(f1(metrics['prec'], metrics['rec'])))\n",
        "  print(\"Learning process is completed.\")\n",
        "  \n",
        "  # metrics = train_evaluator.run(test_loader).metrics   \n",
        "  # print(metrics['IoU'])\n",
        "\n",
        "@trainer.on(Events.COMPLETED)\n",
        "def log_confusion_matrix(trainer):\n",
        "    # print(loss_history)\n",
        "\n",
        "\n",
        "    plt.plot(loss_history,label=\"Training Loss\")    \n",
        "    plt.xlabel('No. of Iterations')\n",
        "    plt.ylabel('Loss')\n",
        "    plt.legend(frameon=False)\n",
        "    # plt.set_ylim(ymin=0)\n",
        "    plt.show()\n",
        "\n",
        "    plt.plot(training_history['loss'],label=\"Training Loss\")\n",
        "    plt.plot(validation_history['loss'],label=\"Validation Loss\")\n",
        "    plt.xlabel('No. of Epochs')\n",
        "    plt.ylabel('Loss')\n",
        "    plt.legend(frameon=False)\n",
        "    # plt.set_ylim(ymin=0)\n",
        "    plt.show()\n",
        "\n",
        "  \n",
        "\n",
        "    plt.plot(training_history['accuracy'],label=\"Training Accuracy\")\n",
        "    plt.plot(validation_history['accuracy'],label=\"Validation Accuracy\")\n",
        "    plt.xlabel('No. of Epochs')\n",
        "    plt.ylabel('Accuracy')\n",
        "    plt.legend(frameon=False)\n",
        "    plt.show()\n",
        "\n",
        "    val_evaluator.run(test_loader)\n",
        "    metrics_state = val_evaluator.state.metrics\n",
        "    cm = metrics_state['cm']\n",
        "\n",
        "    cm = cm.numpy()\n",
        "    cm = cm.astype(int)    \n",
        "    classes = list(inv_cat_mapper.values())    \n",
        "    fig, ax = plt.subplots(figsize=(10,10))  \n",
        "    ax= plt.subplot()\n",
        "    sns.heatmap(cm, annot=True, ax = ax,fmt=\"d\")\n",
        "    # labels, title and ticks\n",
        "    ax.set_xlabel('Predicted labels')\n",
        "    ax.set_ylabel('True labels') \n",
        "    ax.set_title('Confusion Matrix') \n",
        "    ax.xaxis.set_ticklabels(classes,rotation=90)\n",
        "    ax.yaxis.set_ticklabels(classes,rotation=0)  \n",
        "\n",
        "try:\n",
        "  output = trainer.run(train_loader, max_epochs=epochs)\n",
        "except KeyboardInterrupt:\n",
        "  print(\"Interrupted, exit.\")\n",
        "\n",
        "\n"
      ],
      "execution_count": 50,
      "outputs": [
        {
          "output_type": "stream",
          "text": [
            "Current device cuda\n",
            "Learning rate: 0.0005\n"
          ],
          "name": "stdout"
        },
        {
          "output_type": "display_data",
          "data": {
            "application/vnd.jupyter.widget-view+json": {
              "model_id": "c14d7eff53e74ec2a752eef1941da907",
              "version_minor": 0,
              "version_major": 2
            },
            "text/plain": [
              "HBox(children=(IntProgress(value=0, max=2972), HTML(value='')))"
            ]
          },
          "metadata": {
            "tags": []
          }
        },
        {
          "output_type": "stream",
          "text": [
            "Epoch[1] Iteration[500/2972] Loss: 0.8640\n",
            "Epoch[1] Iteration[1000/2972] Loss: 0.7283\n",
            "Epoch[1] Iteration[1500/2972] Loss: 0.9343\n",
            "Epoch[1] Iteration[2000/2972] Loss: 0.5734\n",
            "Epoch[1] Iteration[2500/2972] Loss: 0.6954\n",
            "Compute train metrics...\n",
            "Training Results - Epoch: 1  Average Loss: 0.5400 | Accuracy: 0.8072 | Precision: 0.8027 | Recall: 0.8074  | F1: 0.8048\n",
            "Compute validation metrics...\n",
            "Validation Results - Epoch: 1  Average Loss: 0.5503 | Accuracy: 0.8038 | Precision: 0.7999 | Recall: 0.8042 | F1: 0.8018\n",
            "Learning rate: 0.001\n"
          ],
          "name": "stdout"
        },
        {
          "output_type": "display_data",
          "data": {
            "application/vnd.jupyter.widget-view+json": {
              "model_id": "49329580962142ef933cccb2f8572448",
              "version_minor": 0,
              "version_major": 2
            },
            "text/plain": [
              "HBox(children=(IntProgress(value=0, max=2972), HTML(value='')))"
            ]
          },
          "metadata": {
            "tags": []
          }
        },
        {
          "output_type": "stream",
          "text": [
            "Epoch[2] Iteration[500/2972] Loss: 0.5750\n",
            "Epoch[2] Iteration[1000/2972] Loss: 0.8073\n",
            "Epoch[2] Iteration[1500/2972] Loss: 0.7498\n",
            "Epoch[2] Iteration[2000/2972] Loss: 0.4404\n",
            "Epoch[2] Iteration[2500/2972] Loss: 0.7179\n",
            "Compute train metrics...\n",
            "Training Results - Epoch: 2  Average Loss: 0.4954 | Accuracy: 0.8205 | Precision: 0.8178 | Recall: 0.8184  | F1: 0.8176\n",
            "Compute validation metrics...\n",
            "Validation Results - Epoch: 2  Average Loss: 0.5084 | Accuracy: 0.8161 | Precision: 0.8141 | Recall: 0.8138 | F1: 0.8132\n",
            "Learning rate: 0.0005\n"
          ],
          "name": "stdout"
        },
        {
          "output_type": "display_data",
          "data": {
            "application/vnd.jupyter.widget-view+json": {
              "model_id": "9735833fc8c64d93be0f3224583c9262",
              "version_minor": 0,
              "version_major": 2
            },
            "text/plain": [
              "HBox(children=(IntProgress(value=0, max=2972), HTML(value='')))"
            ]
          },
          "metadata": {
            "tags": []
          }
        },
        {
          "output_type": "stream",
          "text": [
            "Epoch[3] Iteration[500/2972] Loss: 0.4611\n",
            "Epoch[3] Iteration[1000/2972] Loss: 0.6742\n",
            "Epoch[3] Iteration[1500/2972] Loss: 0.6146\n",
            "Epoch[3] Iteration[2000/2972] Loss: 0.4550\n",
            "Epoch[3] Iteration[2500/2972] Loss: 0.6033\n",
            "Compute train metrics...\n",
            "Training Results - Epoch: 3  Average Loss: 0.4735 | Accuracy: 0.8288 | Precision: 0.8261 | Recall: 0.8265  | F1: 0.8261\n",
            "Compute validation metrics...\n",
            "Validation Results - Epoch: 3  Average Loss: 0.4876 | Accuracy: 0.8238 | Precision: 0.8216 | Recall: 0.8214 | F1: 0.8213\n",
            "Learning rate: 0.001\n"
          ],
          "name": "stdout"
        },
        {
          "output_type": "display_data",
          "data": {
            "application/vnd.jupyter.widget-view+json": {
              "model_id": "bbccfa6de8b44e608326b88cd0cda84f",
              "version_minor": 0,
              "version_major": 2
            },
            "text/plain": [
              "HBox(children=(IntProgress(value=0, max=2972), HTML(value='')))"
            ]
          },
          "metadata": {
            "tags": []
          }
        },
        {
          "output_type": "stream",
          "text": [
            "Epoch[4] Iteration[500/2972] Loss: 0.5039\n",
            "Epoch[4] Iteration[1000/2972] Loss: 0.6939\n",
            "Epoch[4] Iteration[1500/2972] Loss: 0.5560\n",
            "Epoch[4] Iteration[2000/2972] Loss: 0.5569\n",
            "Epoch[4] Iteration[2500/2972] Loss: 0.5945\n",
            "Compute train metrics...\n",
            "Training Results - Epoch: 4  Average Loss: 0.4573 | Accuracy: 0.8345 | Precision: 0.8319 | Recall: 0.8323  | F1: 0.8320\n",
            "Compute validation metrics...\n",
            "Validation Results - Epoch: 4  Average Loss: 0.4735 | Accuracy: 0.8278 | Precision: 0.8252 | Recall: 0.8253 | F1: 0.8251\n",
            "Learning rate: 0.0005\n"
          ],
          "name": "stdout"
        },
        {
          "output_type": "display_data",
          "data": {
            "application/vnd.jupyter.widget-view+json": {
              "model_id": "69b39e94eff140dfaae1a1cb5695179f",
              "version_minor": 0,
              "version_major": 2
            },
            "text/plain": [
              "HBox(children=(IntProgress(value=0, max=2972), HTML(value='')))"
            ]
          },
          "metadata": {
            "tags": []
          }
        },
        {
          "output_type": "stream",
          "text": [
            "Epoch[5] Iteration[500/2972] Loss: 0.5055\n",
            "Epoch[5] Iteration[1000/2972] Loss: 0.5144\n",
            "Epoch[5] Iteration[1500/2972] Loss: 0.5183\n",
            "Epoch[5] Iteration[2000/2972] Loss: 0.5362\n",
            "Epoch[5] Iteration[2500/2972] Loss: 0.5350\n",
            "Compute train metrics...\n",
            "Training Results - Epoch: 5  Average Loss: 0.4468 | Accuracy: 0.8373 | Precision: 0.8353 | Recall: 0.8353  | F1: 0.8352\n",
            "Compute validation metrics...\n",
            "Validation Results - Epoch: 5  Average Loss: 0.4651 | Accuracy: 0.8311 | Precision: 0.8297 | Recall: 0.8290 | F1: 0.8292\n",
            "Learning rate: 0.001\n"
          ],
          "name": "stdout"
        },
        {
          "output_type": "display_data",
          "data": {
            "application/vnd.jupyter.widget-view+json": {
              "model_id": "2b621cae4f0347e5bccaa2ef99b7d846",
              "version_minor": 0,
              "version_major": 2
            },
            "text/plain": [
              "HBox(children=(IntProgress(value=0, max=2972), HTML(value='')))"
            ]
          },
          "metadata": {
            "tags": []
          }
        },
        {
          "output_type": "stream",
          "text": [
            "Epoch[6] Iteration[500/2972] Loss: 0.4430\n",
            "Epoch[6] Iteration[1000/2972] Loss: 0.5485\n",
            "Epoch[6] Iteration[1500/2972] Loss: 0.5042\n",
            "Epoch[6] Iteration[2000/2972] Loss: 0.4404\n",
            "Epoch[6] Iteration[2500/2972] Loss: 0.5941\n",
            "Compute train metrics...\n",
            "Training Results - Epoch: 6  Average Loss: 0.4398 | Accuracy: 0.8401 | Precision: 0.8372 | Recall: 0.8386  | F1: 0.8376\n",
            "Compute validation metrics...\n",
            "Validation Results - Epoch: 6  Average Loss: 0.4607 | Accuracy: 0.8324 | Precision: 0.8301 | Recall: 0.8304 | F1: 0.8298\n",
            "Learning rate: 0.0005\n"
          ],
          "name": "stdout"
        },
        {
          "output_type": "display_data",
          "data": {
            "application/vnd.jupyter.widget-view+json": {
              "model_id": "3750e460d4564927842624fe71bb7056",
              "version_minor": 0,
              "version_major": 2
            },
            "text/plain": [
              "HBox(children=(IntProgress(value=0, max=2972), HTML(value='')))"
            ]
          },
          "metadata": {
            "tags": []
          }
        },
        {
          "output_type": "stream",
          "text": [
            "Epoch[7] Iteration[500/2972] Loss: 0.5566\n",
            "Epoch[7] Iteration[1000/2972] Loss: 0.5788\n",
            "Epoch[7] Iteration[1500/2972] Loss: 0.6322\n",
            "Epoch[7] Iteration[2000/2972] Loss: 0.5469\n",
            "Epoch[7] Iteration[2500/2972] Loss: 0.6045\n",
            "Compute train metrics...\n",
            "Training Results - Epoch: 7  Average Loss: 0.4306 | Accuracy: 0.8427 | Precision: 0.8382 | Recall: 0.8437  | F1: 0.8407\n",
            "Compute validation metrics...\n",
            "Validation Results - Epoch: 7  Average Loss: 0.4536 | Accuracy: 0.8344 | Precision: 0.8306 | Recall: 0.8348 | F1: 0.8325\n",
            "Learning rate: 0.001\n"
          ],
          "name": "stdout"
        },
        {
          "output_type": "display_data",
          "data": {
            "application/vnd.jupyter.widget-view+json": {
              "model_id": "0078def7b18c4f41a4f37a3dc3d078a2",
              "version_minor": 0,
              "version_major": 2
            },
            "text/plain": [
              "HBox(children=(IntProgress(value=0, max=2972), HTML(value='')))"
            ]
          },
          "metadata": {
            "tags": []
          }
        },
        {
          "output_type": "stream",
          "text": [
            "Epoch[8] Iteration[500/2972] Loss: 0.5750\n",
            "Epoch[8] Iteration[1000/2972] Loss: 0.5566\n",
            "Epoch[8] Iteration[1500/2972] Loss: 0.5202\n",
            "Epoch[8] Iteration[2000/2972] Loss: 0.4968\n",
            "Epoch[8] Iteration[2500/2972] Loss: 0.5628\n",
            "Compute train metrics...\n",
            "Training Results - Epoch: 8  Average Loss: 0.4236 | Accuracy: 0.8450 | Precision: 0.8447 | Recall: 0.8418  | F1: 0.8432\n",
            "Compute validation metrics...\n",
            "Validation Results - Epoch: 8  Average Loss: 0.4498 | Accuracy: 0.8354 | Precision: 0.8359 | Recall: 0.8314 | F1: 0.8335\n",
            "Learning rate: 0.0005\n"
          ],
          "name": "stdout"
        },
        {
          "output_type": "display_data",
          "data": {
            "application/vnd.jupyter.widget-view+json": {
              "model_id": "a8a77a3712ba45da852746702f87dcd4",
              "version_minor": 0,
              "version_major": 2
            },
            "text/plain": [
              "HBox(children=(IntProgress(value=0, max=2972), HTML(value='')))"
            ]
          },
          "metadata": {
            "tags": []
          }
        },
        {
          "output_type": "stream",
          "text": [
            "Epoch[9] Iteration[500/2972] Loss: 0.4522\n",
            "Epoch[9] Iteration[1000/2972] Loss: 0.6428\n",
            "Epoch[9] Iteration[1500/2972] Loss: 0.4860\n",
            "Epoch[9] Iteration[2000/2972] Loss: 0.4384\n",
            "Epoch[9] Iteration[2500/2972] Loss: 0.6514\n",
            "Compute train metrics...\n",
            "Training Results - Epoch: 9  Average Loss: 0.4145 | Accuracy: 0.8486 | Precision: 0.8460 | Recall: 0.8474  | F1: 0.8466\n",
            "Compute validation metrics...\n",
            "Validation Results - Epoch: 9  Average Loss: 0.4435 | Accuracy: 0.8382 | Precision: 0.8365 | Recall: 0.8366 | F1: 0.8364\n",
            "Learning rate: 0.001\n"
          ],
          "name": "stdout"
        },
        {
          "output_type": "display_data",
          "data": {
            "application/vnd.jupyter.widget-view+json": {
              "model_id": "b6d9956de098446fbd031bd8cf5f9ef1",
              "version_minor": 0,
              "version_major": 2
            },
            "text/plain": [
              "HBox(children=(IntProgress(value=0, max=2972), HTML(value='')))"
            ]
          },
          "metadata": {
            "tags": []
          }
        },
        {
          "output_type": "stream",
          "text": [
            "Epoch[10] Iteration[500/2972] Loss: 0.5365\n",
            "Epoch[10] Iteration[1000/2972] Loss: 0.5468\n",
            "Epoch[10] Iteration[1500/2972] Loss: 0.5030\n",
            "Epoch[10] Iteration[2000/2972] Loss: 0.3488\n",
            "Epoch[10] Iteration[2500/2972] Loss: 0.5321\n",
            "Compute train metrics...\n",
            "Training Results - Epoch: 10  Average Loss: 0.4144 | Accuracy: 0.8483 | Precision: 0.8468 | Recall: 0.8473  | F1: 0.8469\n",
            "Compute validation metrics...\n",
            "Validation Results - Epoch: 10  Average Loss: 0.4449 | Accuracy: 0.8377 | Precision: 0.8369 | Recall: 0.8360 | F1: 0.8363\n",
            "Learning rate: 0.0005\n"
          ],
          "name": "stdout"
        },
        {
          "output_type": "display_data",
          "data": {
            "application/vnd.jupyter.widget-view+json": {
              "model_id": "2df09c0d25564d7fb4145f9e8244bcc8",
              "version_minor": 0,
              "version_major": 2
            },
            "text/plain": [
              "HBox(children=(IntProgress(value=0, max=2972), HTML(value='')))"
            ]
          },
          "metadata": {
            "tags": []
          }
        },
        {
          "output_type": "stream",
          "text": [
            "Epoch[11] Iteration[500/2972] Loss: 0.4884\n",
            "Epoch[11] Iteration[1000/2972] Loss: 0.5185\n",
            "Epoch[11] Iteration[1500/2972] Loss: 0.4993\n",
            "Epoch[11] Iteration[2000/2972] Loss: 0.4008\n",
            "Epoch[11] Iteration[2500/2972] Loss: 0.5027\n",
            "Compute train metrics...\n",
            "Training Results - Epoch: 11  Average Loss: 0.4052 | Accuracy: 0.8523 | Precision: 0.8487 | Recall: 0.8523  | F1: 0.8505\n",
            "Compute validation metrics...\n",
            "Validation Results - Epoch: 11  Average Loss: 0.4396 | Accuracy: 0.8394 | Precision: 0.8367 | Recall: 0.8394 | F1: 0.8380\n",
            "Learning rate: 0.001\n"
          ],
          "name": "stdout"
        },
        {
          "output_type": "display_data",
          "data": {
            "application/vnd.jupyter.widget-view+json": {
              "model_id": "28da647473e24838a52b221b3aa0a5cf",
              "version_minor": 0,
              "version_major": 2
            },
            "text/plain": [
              "HBox(children=(IntProgress(value=0, max=2972), HTML(value='')))"
            ]
          },
          "metadata": {
            "tags": []
          }
        },
        {
          "output_type": "stream",
          "text": [
            "Epoch[12] Iteration[500/2972] Loss: 0.4568\n",
            "Epoch[12] Iteration[1000/2972] Loss: 0.5512\n",
            "Epoch[12] Iteration[1500/2972] Loss: 0.3361\n",
            "Epoch[12] Iteration[2000/2972] Loss: 0.4572\n",
            "Epoch[12] Iteration[2500/2972] Loss: 0.5784\n",
            "Compute train metrics...\n",
            "Training Results - Epoch: 12  Average Loss: 0.4064 | Accuracy: 0.8513 | Precision: 0.8508 | Recall: 0.8494  | F1: 0.8500\n",
            "Compute validation metrics...\n",
            "Validation Results - Epoch: 12  Average Loss: 0.4413 | Accuracy: 0.8390 | Precision: 0.8392 | Recall: 0.8367 | F1: 0.8379\n",
            "Learning rate: 0.0005\n"
          ],
          "name": "stdout"
        },
        {
          "output_type": "display_data",
          "data": {
            "application/vnd.jupyter.widget-view+json": {
              "model_id": "7c615c976c6b49e6a18457f4357d5b54",
              "version_minor": 0,
              "version_major": 2
            },
            "text/plain": [
              "HBox(children=(IntProgress(value=0, max=2972), HTML(value='')))"
            ]
          },
          "metadata": {
            "tags": []
          }
        },
        {
          "output_type": "stream",
          "text": [
            "Epoch[13] Iteration[500/2972] Loss: 0.4754\n",
            "Epoch[13] Iteration[1000/2972] Loss: 0.6268\n",
            "Epoch[13] Iteration[1500/2972] Loss: 0.4385\n",
            "Epoch[13] Iteration[2000/2972] Loss: 0.4961\n",
            "Epoch[13] Iteration[2500/2972] Loss: 0.5752\n",
            "Compute train metrics...\n",
            "Training Results - Epoch: 13  Average Loss: 0.3952 | Accuracy: 0.8552 | Precision: 0.8535 | Recall: 0.8533  | F1: 0.8533\n",
            "Compute validation metrics...\n",
            "Validation Results - Epoch: 13  Average Loss: 0.4349 | Accuracy: 0.8423 | Precision: 0.8416 | Recall: 0.8402 | F1: 0.8408\n",
            "Learning rate: 0.001\n"
          ],
          "name": "stdout"
        },
        {
          "output_type": "display_data",
          "data": {
            "application/vnd.jupyter.widget-view+json": {
              "model_id": "6e53bf4bea84423a88b342ac518da929",
              "version_minor": 0,
              "version_major": 2
            },
            "text/plain": [
              "HBox(children=(IntProgress(value=0, max=2972), HTML(value='')))"
            ]
          },
          "metadata": {
            "tags": []
          }
        },
        {
          "output_type": "stream",
          "text": [
            "Epoch[14] Iteration[500/2972] Loss: 0.4468\n",
            "Epoch[14] Iteration[1000/2972] Loss: 0.4839\n",
            "Epoch[14] Iteration[1500/2972] Loss: 0.5581\n",
            "Epoch[14] Iteration[2000/2972] Loss: 0.4124\n",
            "Epoch[14] Iteration[2500/2972] Loss: 0.5130\n",
            "Compute train metrics...\n",
            "Training Results - Epoch: 14  Average Loss: 0.3969 | Accuracy: 0.8538 | Precision: 0.8506 | Recall: 0.8544  | F1: 0.8523\n",
            "Compute validation metrics...\n",
            "Validation Results - Epoch: 14  Average Loss: 0.4380 | Accuracy: 0.8398 | Precision: 0.8373 | Recall: 0.8400 | F1: 0.8385\n",
            "Learning rate: 0.0005\n"
          ],
          "name": "stdout"
        },
        {
          "output_type": "display_data",
          "data": {
            "application/vnd.jupyter.widget-view+json": {
              "model_id": "dfd0d92eeb2d4d9b98a2c4743cafe43f",
              "version_minor": 0,
              "version_major": 2
            },
            "text/plain": [
              "HBox(children=(IntProgress(value=0, max=2972), HTML(value='')))"
            ]
          },
          "metadata": {
            "tags": []
          }
        },
        {
          "output_type": "stream",
          "text": [
            "Epoch[15] Iteration[500/2972] Loss: 0.4466\n",
            "Epoch[15] Iteration[1000/2972] Loss: 0.5279\n",
            "Epoch[15] Iteration[1500/2972] Loss: 0.3323\n",
            "Epoch[15] Iteration[2000/2972] Loss: 0.5007\n",
            "Epoch[15] Iteration[2500/2972] Loss: 0.5267\n",
            "Compute train metrics...\n",
            "Training Results - Epoch: 15  Average Loss: 0.3861 | Accuracy: 0.8580 | Precision: 0.8550 | Recall: 0.8566  | F1: 0.8556\n",
            "Compute validation metrics...\n",
            "Validation Results - Epoch: 15  Average Loss: 0.4316 | Accuracy: 0.8426 | Precision: 0.8405 | Recall: 0.8411 | F1: 0.8405\n",
            "Learning rate: 0.001\n"
          ],
          "name": "stdout"
        },
        {
          "output_type": "display_data",
          "data": {
            "application/vnd.jupyter.widget-view+json": {
              "model_id": "db448d4c07344864bf370ecd307bd0ea",
              "version_minor": 0,
              "version_major": 2
            },
            "text/plain": [
              "HBox(children=(IntProgress(value=0, max=2972), HTML(value='')))"
            ]
          },
          "metadata": {
            "tags": []
          }
        },
        {
          "output_type": "stream",
          "text": [
            "Epoch[16] Iteration[500/2972] Loss: 0.4819\n",
            "Epoch[16] Iteration[1000/2972] Loss: 0.5012\n",
            "Epoch[16] Iteration[1500/2972] Loss: 0.5676\n",
            "Epoch[16] Iteration[2000/2972] Loss: 0.5120\n",
            "Epoch[16] Iteration[2500/2972] Loss: 0.4647\n",
            "Compute train metrics...\n",
            "Training Results - Epoch: 16  Average Loss: 0.3870 | Accuracy: 0.8583 | Precision: 0.8567 | Recall: 0.8566  | F1: 0.8567\n",
            "Compute validation metrics...\n",
            "Validation Results - Epoch: 16  Average Loss: 0.4343 | Accuracy: 0.8426 | Precision: 0.8416 | Recall: 0.8410 | F1: 0.8413\n",
            "Learning rate: 0.0005\n"
          ],
          "name": "stdout"
        },
        {
          "output_type": "display_data",
          "data": {
            "application/vnd.jupyter.widget-view+json": {
              "model_id": "9c6617d5ebca4471971c12e6db66b355",
              "version_minor": 0,
              "version_major": 2
            },
            "text/plain": [
              "HBox(children=(IntProgress(value=0, max=2972), HTML(value='')))"
            ]
          },
          "metadata": {
            "tags": []
          }
        },
        {
          "output_type": "stream",
          "text": [
            "Epoch[17] Iteration[500/2972] Loss: 0.3987\n",
            "Epoch[17] Iteration[1000/2972] Loss: 0.5571\n",
            "Epoch[17] Iteration[1500/2972] Loss: 0.3671\n",
            "Epoch[17] Iteration[2000/2972] Loss: 0.4324\n",
            "Epoch[17] Iteration[2500/2972] Loss: 0.4477\n",
            "Compute train metrics...\n",
            "Training Results - Epoch: 17  Average Loss: 0.3806 | Accuracy: 0.8599 | Precision: 0.8578 | Recall: 0.8588  | F1: 0.8581\n",
            "Compute validation metrics...\n",
            "Validation Results - Epoch: 17  Average Loss: 0.4318 | Accuracy: 0.8420 | Precision: 0.8409 | Recall: 0.8405 | F1: 0.8405\n",
            "Learning rate: 0.001\n"
          ],
          "name": "stdout"
        },
        {
          "output_type": "display_data",
          "data": {
            "application/vnd.jupyter.widget-view+json": {
              "model_id": "ee5f0fcdb80f4fdfb5243df40ed12bd4",
              "version_minor": 0,
              "version_major": 2
            },
            "text/plain": [
              "HBox(children=(IntProgress(value=0, max=2972), HTML(value='')))"
            ]
          },
          "metadata": {
            "tags": []
          }
        },
        {
          "output_type": "stream",
          "text": [
            "Epoch[18] Iteration[500/2972] Loss: 0.4450\n",
            "Epoch[18] Iteration[1000/2972] Loss: 0.4724\n",
            "Epoch[18] Iteration[1500/2972] Loss: 0.5090\n",
            "Epoch[18] Iteration[2000/2972] Loss: 0.4440\n",
            "Epoch[18] Iteration[2500/2972] Loss: 0.4256\n",
            "Compute train metrics...\n",
            "Training Results - Epoch: 18  Average Loss: 0.3830 | Accuracy: 0.8598 | Precision: 0.8588 | Recall: 0.8581  | F1: 0.8583\n",
            "Compute validation metrics...\n",
            "Validation Results - Epoch: 18  Average Loss: 0.4347 | Accuracy: 0.8421 | Precision: 0.8417 | Recall: 0.8397 | F1: 0.8406\n",
            "Learning rate: 0.0005\n"
          ],
          "name": "stdout"
        },
        {
          "output_type": "display_data",
          "data": {
            "application/vnd.jupyter.widget-view+json": {
              "model_id": "2e14e155d892436db6ab56bc95976648",
              "version_minor": 0,
              "version_major": 2
            },
            "text/plain": [
              "HBox(children=(IntProgress(value=0, max=2972), HTML(value='')))"
            ]
          },
          "metadata": {
            "tags": []
          }
        },
        {
          "output_type": "stream",
          "text": [
            "Epoch[19] Iteration[500/2972] Loss: 0.4687\n",
            "Epoch[19] Iteration[1000/2972] Loss: 0.5048\n",
            "Epoch[19] Iteration[1500/2972] Loss: 0.3807\n",
            "Epoch[19] Iteration[2000/2972] Loss: 0.3461\n",
            "Epoch[19] Iteration[2500/2972] Loss: 0.5278\n",
            "Compute train metrics...\n",
            "Training Results - Epoch: 19  Average Loss: 0.3728 | Accuracy: 0.8630 | Precision: 0.8598 | Recall: 0.8616  | F1: 0.8604\n",
            "Compute validation metrics...\n",
            "Validation Results - Epoch: 19  Average Loss: 0.4284 | Accuracy: 0.8439 | Precision: 0.8414 | Recall: 0.8422 | F1: 0.8413\n",
            "Learning rate: 0.001\n"
          ],
          "name": "stdout"
        },
        {
          "output_type": "display_data",
          "data": {
            "application/vnd.jupyter.widget-view+json": {
              "model_id": "1ab2a472c2ab4293aa83ee78ff1457e8",
              "version_minor": 0,
              "version_major": 2
            },
            "text/plain": [
              "HBox(children=(IntProgress(value=0, max=2972), HTML(value='')))"
            ]
          },
          "metadata": {
            "tags": []
          }
        },
        {
          "output_type": "stream",
          "text": [
            "Epoch[20] Iteration[500/2972] Loss: 0.3612\n",
            "Epoch[20] Iteration[1000/2972] Loss: 0.4814\n",
            "Epoch[20] Iteration[1500/2972] Loss: 0.3914\n",
            "Epoch[20] Iteration[2000/2972] Loss: 0.4431\n",
            "Epoch[20] Iteration[2500/2972] Loss: 0.5945\n",
            "Compute train metrics...\n",
            "Training Results - Epoch: 20  Average Loss: 0.3723 | Accuracy: 0.8630 | Precision: 0.8612 | Recall: 0.8608  | F1: 0.8608\n",
            "Compute validation metrics...\n",
            "Validation Results - Epoch: 20  Average Loss: 0.4298 | Accuracy: 0.8441 | Precision: 0.8428 | Recall: 0.8414 | F1: 0.8418\n",
            "Learning rate: 0.0005\n"
          ],
          "name": "stdout"
        },
        {
          "output_type": "display_data",
          "data": {
            "application/vnd.jupyter.widget-view+json": {
              "model_id": "d393cf8c35a24271979575493ab52522",
              "version_minor": 0,
              "version_major": 2
            },
            "text/plain": [
              "HBox(children=(IntProgress(value=0, max=2972), HTML(value='')))"
            ]
          },
          "metadata": {
            "tags": []
          }
        },
        {
          "output_type": "stream",
          "text": [
            "Epoch[21] Iteration[500/2972] Loss: 0.4985\n",
            "Epoch[21] Iteration[1000/2972] Loss: 0.5960\n",
            "Epoch[21] Iteration[1500/2972] Loss: 0.4253\n",
            "Epoch[21] Iteration[2000/2972] Loss: 0.4375\n",
            "Epoch[21] Iteration[2500/2972] Loss: 0.3908\n",
            "Compute train metrics...\n",
            "Training Results - Epoch: 21  Average Loss: 0.3672 | Accuracy: 0.8649 | Precision: 0.8610 | Recall: 0.8650  | F1: 0.8628\n",
            "Compute validation metrics...\n",
            "Validation Results - Epoch: 21  Average Loss: 0.4286 | Accuracy: 0.8437 | Precision: 0.8404 | Recall: 0.8435 | F1: 0.8417\n",
            "Learning rate: 0.001\n"
          ],
          "name": "stdout"
        },
        {
          "output_type": "display_data",
          "data": {
            "application/vnd.jupyter.widget-view+json": {
              "model_id": "d18bef78b70c46c1ad8b5b50f8d32827",
              "version_minor": 0,
              "version_major": 2
            },
            "text/plain": [
              "HBox(children=(IntProgress(value=0, max=2972), HTML(value='')))"
            ]
          },
          "metadata": {
            "tags": []
          }
        },
        {
          "output_type": "stream",
          "text": [
            "Epoch[22] Iteration[500/2972] Loss: 0.4735\n",
            "Epoch[22] Iteration[1000/2972] Loss: 0.5759\n",
            "Epoch[22] Iteration[1500/2972] Loss: 0.3949\n",
            "Epoch[22] Iteration[2000/2972] Loss: 0.5427\n",
            "Epoch[22] Iteration[2500/2972] Loss: 0.4311\n",
            "Compute train metrics...\n",
            "Training Results - Epoch: 22  Average Loss: 0.3668 | Accuracy: 0.8653 | Precision: 0.8633 | Recall: 0.8637  | F1: 0.8635\n",
            "Compute validation metrics...\n",
            "Validation Results - Epoch: 22  Average Loss: 0.4298 | Accuracy: 0.8435 | Precision: 0.8418 | Recall: 0.8417 | F1: 0.8417\n",
            "Learning rate: 0.0005\n"
          ],
          "name": "stdout"
        },
        {
          "output_type": "display_data",
          "data": {
            "application/vnd.jupyter.widget-view+json": {
              "model_id": "ff0ca8e0c28e472f91a2bb67c91e6631",
              "version_minor": 0,
              "version_major": 2
            },
            "text/plain": [
              "HBox(children=(IntProgress(value=0, max=2972), HTML(value='')))"
            ]
          },
          "metadata": {
            "tags": []
          }
        },
        {
          "output_type": "stream",
          "text": [
            "Epoch[23] Iteration[500/2972] Loss: 0.4168\n",
            "Epoch[23] Iteration[1000/2972] Loss: 0.4867\n",
            "Epoch[23] Iteration[1500/2972] Loss: 0.3959\n",
            "Epoch[23] Iteration[2000/2972] Loss: 0.4534\n",
            "Epoch[23] Iteration[2500/2972] Loss: 0.4936\n",
            "Compute train metrics...\n",
            "Training Results - Epoch: 23  Average Loss: 0.3608 | Accuracy: 0.8673 | Precision: 0.8628 | Recall: 0.8671  | F1: 0.8647\n",
            "Compute validation metrics...\n",
            "Validation Results - Epoch: 23  Average Loss: 0.4283 | Accuracy: 0.8449 | Precision: 0.8412 | Recall: 0.8442 | F1: 0.8423\n",
            "Learning rate: 0.001\n"
          ],
          "name": "stdout"
        },
        {
          "output_type": "display_data",
          "data": {
            "application/vnd.jupyter.widget-view+json": {
              "model_id": "0518d7b3068147ac8911784d5337f57c",
              "version_minor": 0,
              "version_major": 2
            },
            "text/plain": [
              "HBox(children=(IntProgress(value=0, max=2972), HTML(value='')))"
            ]
          },
          "metadata": {
            "tags": []
          }
        },
        {
          "output_type": "stream",
          "text": [
            "Epoch[24] Iteration[500/2972] Loss: 0.3564\n",
            "Epoch[24] Iteration[1000/2972] Loss: 0.5617\n",
            "Epoch[24] Iteration[1500/2972] Loss: 0.3338\n",
            "Epoch[24] Iteration[2000/2972] Loss: 0.4216\n",
            "Epoch[24] Iteration[2500/2972] Loss: 0.5554\n",
            "Compute train metrics...\n",
            "Training Results - Epoch: 24  Average Loss: 0.3608 | Accuracy: 0.8682 | Precision: 0.8670 | Recall: 0.8661  | F1: 0.8664\n",
            "Compute validation metrics...\n",
            "Validation Results - Epoch: 24  Average Loss: 0.4286 | Accuracy: 0.8446 | Precision: 0.8438 | Recall: 0.8419 | F1: 0.8427\n",
            "Learning rate: 0.0005\n"
          ],
          "name": "stdout"
        },
        {
          "output_type": "display_data",
          "data": {
            "application/vnd.jupyter.widget-view+json": {
              "model_id": "4bc1854362b74bc997b5d0c7a9d84609",
              "version_minor": 0,
              "version_major": 2
            },
            "text/plain": [
              "HBox(children=(IntProgress(value=0, max=2972), HTML(value='')))"
            ]
          },
          "metadata": {
            "tags": []
          }
        },
        {
          "output_type": "stream",
          "text": [
            "Epoch[25] Iteration[500/2972] Loss: 0.4296\n",
            "Epoch[25] Iteration[1000/2972] Loss: 0.4635\n",
            "Epoch[25] Iteration[1500/2972] Loss: 0.3972\n",
            "Epoch[25] Iteration[2000/2972] Loss: 0.4655\n",
            "Epoch[25] Iteration[2500/2972] Loss: 0.4504\n",
            "Compute train metrics...\n",
            "Training Results - Epoch: 25  Average Loss: 0.3537 | Accuracy: 0.8694 | Precision: 0.8666 | Recall: 0.8687  | F1: 0.8675\n",
            "Compute validation metrics...\n",
            "Validation Results - Epoch: 25  Average Loss: 0.4270 | Accuracy: 0.8449 | Precision: 0.8426 | Recall: 0.8434 | F1: 0.8429\n",
            "Compute final results...\n",
            "Final F1 0.8429\n",
            "Learning process is completed.\n"
          ],
          "name": "stdout"
        },
        {
          "output_type": "display_data",
          "data": {
            "image/png": "[encoded data removed]",
            "text/plain": [
              "<Figure size 432x288 with 1 Axes>"
            ]
          },
          "metadata": {
            "tags": []
          }
        },
        {
          "output_type": "display_data",
          "data": {
            "image/png": "[encoded data removed]",
            "text/plain": [
              "<Figure size 432x288 with 1 Axes>"
            ]
          },
          "metadata": {
            "tags": []
          }
        },
        {
          "output_type": "display_data",
          "data": {
            "image/png": "[encoded data removed]",
            "text/plain": [
              "<Figure size 432x288 with 1 Axes>"
            ]
          },
          "metadata": {
            "tags": []
          }
        },
        {
          "output_type": "display_data",
          "data": {
            "image/png": "[encoded data removed]",
            "text/plain": [
              "<Figure size 720x720 with 2 Axes>"
            ]
          },
          "metadata": {
            "tags": []
          }
        }
      ]
    },
    {
      "cell_type": "markdown",
      "metadata": {
        "id": "wR6D70MTLGhs",
        "colab_type": "text"
      },
      "source": [
        "**Эксперименты**\n",
        "\n",
        "Пробовал менять размер скрытого слоя, 64 показался наилучшим вариантом, меньше - хуже, а больше - к тому же и медленнее обрабатываются данные. Очень хороший прирост дал перенос на GPU.\n",
        "\n",
        "Прикручивание нелинейности на выходе ничего не дало. Не замерял, но субъективно очень пригодился дропаут.\n",
        "Непонятно с **EarlyDropping**, пробовал делать с разными параметрами, вроде падения лосса на паре эпох.\n",
        "Но с данным датасетом такая штука, что если ставить какие-то очевидные критерии для дропинга, вроде переобучения (падения F-меры на валидации при росте на трейне), то остановка происходит где-то после 10-й эпохи. Однако практика показала, что если ставить более 15 эпох, то сеть бьёт 0.84.\n",
        "После создания текущей архитектуры сеть никак не хотела обучиться лучше 0.83. Чтобы что-то сделать я решил уменьшить энтропию данных, поэтому сделал обработку смайликов и убрал non-alphanumeric characters. В процессе нашел любопытную проблему: поскольку мы в батче оставляем только слова, которые имеют эмбеддинги, то несколько раз у нас в батч приходили пустые последовательности. Модифицировал обработчик датасета, чтобы пустых элементов не было.\n",
        "\n",
        "**Sequence packing**: 0.8 на первой итерации! Впрочем, существенно поднять F1-macro это не помогло. Сейчас запускал с шедулером ExponentialLR, неудачно, лосс не падает, а шедулер при этом ставит очень маленький LR. Из-за него не может пройти отметку в 0.84, которая достигалась после 10 эпох на другом шедулере и без упаковки последовательностей.\n",
        "\n",
        "Очень доволен Ignite'ом, гораздо проще кастомизация обучения. Правда, документация местами бедновата."
      ]
    },
    {
      "cell_type": "code",
      "metadata": {
        "id": "r1qlMqmWipRP",
        "colab_type": "code",
        "colab": {}
      },
      "source": [
        ""
      ],
      "execution_count": 0,
      "outputs": []
    },
    {
      "cell_type": "code",
      "metadata": {
        "id": "WQPaRIJlzyFe",
        "colab_type": "code",
        "colab": {}
      },
      "source": [
        ""
      ],
      "execution_count": 0,
      "outputs": []
    }
  ]
}